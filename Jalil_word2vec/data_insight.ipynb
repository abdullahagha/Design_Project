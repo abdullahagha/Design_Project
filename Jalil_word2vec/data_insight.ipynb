{
 "cells": [
  {
   "cell_type": "code",
   "execution_count": 1,
   "metadata": {},
   "outputs": [],
   "source": [
    "import os\n",
    "from shutil import copy\n",
    "import pickle\n",
    "import pandas as pd\n",
    "import numpy as np\n",
    "import matplotlib.pyplot as plt\n",
    "from nltk.corpus import words\n",
    "import data_analysis.preprocessor_end as pre_process"
   ]
  },
  {
   "cell_type": "heading",
   "metadata": {},
   "level": 1,
   "source": [
    "Functions Defintions"
   ]
  },
  {
   "cell_type": "code",
   "execution_count": 2,
   "metadata": {},
   "outputs": [],
   "source": [
    "# 0_label: suitable for children\n",
    "# 1_label: not suitable for children \n",
    "\n",
    "def get_percentage_of_labeled_data(labeled_0_words_count, labeled_1_words_count):\n",
    "    \"\"\"\n",
    "    Function to get the percentage of a labeled dataset out of the total corpus\n",
    "    :param labeled_0_words_count: count of words in label_0 docs\n",
    "    :param labeled_1_words_count: count of words in label_1 docs\n",
    "    :return: percentage_labeled_0, percentage_labeled_1\n",
    "    \"\"\"\n",
    "    total = labeled_0_words_count + labeled_1_words_count\n",
    "    return float(\"%.3f\" % (labeled_0_words_count / total)), \\\n",
    "           float(\"%.3f\" % (labeled_1_words_count / total))\n",
    "\n",
    "\n",
    "def get_average_docs_length(docs_info_lst):\n",
    "    \"\"\"\n",
    "    Function to get the average length of 0, 1 labeled docs in terms of words\n",
    "    :param docs_info_lst: lst of tuples of the form [(words_count, movie_id, rating), ..]\n",
    "    :return: average_docs_length \n",
    "    \"\"\"\n",
    "    total = 0\n",
    "    for file in docs_info_lst:\n",
    "        total += file[0]\n",
    "    return int(total / len(docs_info_lst))\n",
    "\n",
    "\n",
    "def get_dict_of_words_totalCount_docsCount(data_dictionary, label):\n",
    "    \"\"\" \n",
    "    Function to make a dict that represents words in each labeled data\n",
    "    :param data_dictionary: dict of the form {\"label_#: {\"movie_id\": [\"w_0\", \"w_1\", ...]}, .. }\n",
    "           label: string, 0_label or 1_label\n",
    "    :return: words_dict: a dict of the form: \n",
    "                        {word_0: [number_of_total_occurrence_in_a_labeled_data, \n",
    "                                 {movie_0: [number_of_occurrence_in_movie_0, \n",
    "                                  ... }\n",
    "                                ]\n",
    "                         ...\n",
    "                         }         \n",
    "    \"\"\"\n",
    "    words_dict = {}\n",
    "    # For each movie\n",
    "    for movie_name in data_dictionary[label]:\n",
    "        # For each word in this movie\n",
    "        for word in data_dictionary[label][movie_name]:\n",
    "            # If word is already exists in the dict\n",
    "            if word in words_dict:\n",
    "                # Increase the count of this word in teh total count among all docs\n",
    "                words_dict[word][0] += 1\n",
    "\n",
    "                # Increasing the count of this word in each doc, \"{movie_0: [doc_1_count, ..], ..}\"\n",
    "                if movie_name in words_dict[word][1]:\n",
    "                    #\n",
    "                    (words_dict[word][1])[movie_name] += 1\n",
    "                else:\n",
    "                    # Initialize\n",
    "                    (words_dict[word][1])[movie_name] = 1\n",
    "            # If word is not found in the dict before, initialize\n",
    "            else:\n",
    "                words_dict[word] = [1, {movie_name: 1}]\n",
    "    return words_dict\n",
    "\n",
    "def out_pickle(pickle_path, pick_name, variable_name):\n",
    "    \"\"\"\n",
    "    Function that pickles out a variable\n",
    "    :param pickle_path: in pickle's path\n",
    "    :param pick_name: in pickle's name 'without .pkl extension'\n",
    "    :param variable_name: the variable to be pickled out\n",
    "    :return: nothing\n",
    "    \"\"\"\n",
    "    with open(pickle_path + pick_name + \".pkl\", \"wb\") as pkl:\n",
    "        pickle.dump(variable_name, pkl)\n",
    "\n",
    "def in_pickle(pickle_path, pick_name):\n",
    "    \"\"\"\n",
    "    Function that pickles in a variable\n",
    "    :param pickle_path: in pickle's path\n",
    "    :param pick_name: in pickle's name 'without .pkl extension'\n",
    "    :return: the variable that contains pickled in data\n",
    "    \"\"\"\n",
    "    with open(pickle_path + pick_name + \".pkl\", \"rb\") as pkl:\n",
    "        return pickle.load(pkl)\n",
    "    \n",
    "#plots\n",
    "def plot_bar_char_and_save_it(list_of_slice_values, list_of_slice_names, file_path_name, figure_title, x_axis_label, y_axis_label):\n",
    "    plt.figure(figsize=(10,10))\n",
    "    index = np.arange(len(list_of_slice_names))\n",
    "    plt.bar(index, list_of_slice_values) # y axis\n",
    "    plt.xticks(index, list_of_slice_names, fontsize=10, rotation=30)\n",
    "    plt.title(figure_title)\n",
    "    plt.xlabel(x_axis_label, fontsize=15)\n",
    "    plt.ylabel(y_axis_label, fontsize=15)\n",
    "    plt.savefig(file_path_name)\n",
    "    plt.show()\n",
    "\n",
    "\n",
    "#used for the pie chart \n",
    "# returns the highest n values from the given list as two lists if passed high = true\n",
    "# returns the lowest n value if high = false\n",
    "# first: slice_values_of_chart\n",
    "# second: slice_names_of_chart\n",
    "def get_highest_or_lowest_n_value_from_list(list_, n, high):\n",
    "    slice_values_of_chart = []\n",
    "    slice_names_of_chart = []\n",
    "    if high:\n",
    "        for x,y in list_[-n:]:\n",
    "            slice_values_of_chart.append(x)\n",
    "            slice_names_of_chart.append(y)\n",
    "    else:\n",
    "        for x,y in list_[:n]:\n",
    "            slice_values_of_chart.append(x)\n",
    "            slice_names_of_chart.append(y)\n",
    "            \n",
    "    return slice_values_of_chart, slice_names_of_chart\n",
    "\n"
   ]
  },
  {
   "cell_type": "code",
   "execution_count": 3,
   "metadata": {
    "collapsed": true
   },
   "outputs": [
    {
     "name": "stdout",
     "output_type": "stream",
     "text": [
      "Wall time: 8.01 s\n"
     ]
    }
   ],
   "source": [
    "%%time\n",
    "# {\"label_#: {\"movie_id\": [\"w_0\", \"w_1\", ...]}, .. }\n",
    "data_dictionary = in_pickle('C:/Users/Abdo/Project/pickle_files/after_removing_non_english_words/', \n",
    "                            'data_dictionary')"
   ]
  },
  {
   "cell_type": "heading",
   "metadata": {},
   "level": 2,
   "source": [
    "remove movies with 25% and higher rate of non-english words from the data_dictionary"
   ]
  },
  {
   "cell_type": "code",
   "execution_count": 4,
   "metadata": {},
   "outputs": [],
   "source": [
    "# load the list\n",
    "list_of_movies_with_non_english_words_over_25 = in_pickle('C:/Users/Abdo/Project/pickle_files/', \n",
    "                            'list_of_movies_with_non_english_words_over_25')"
   ]
  },
  {
   "cell_type": "code",
   "execution_count": 12,
   "metadata": {
    "collapsed": true
   },
   "outputs": [
    {
     "ename": "KeyError",
     "evalue": "'G_766'",
     "traceback": [
      "\u001b[0;31m---------------------------------------------------------------------------\u001b[0m",
      "\u001b[0;31mKeyError\u001b[0m                                  Traceback (most recent call last)",
      "\u001b[0;32m<ipython-input-12-18bd47d72611>\u001b[0m in \u001b[0;36m<module>\u001b[0;34m()\u001b[0m\n\u001b[1;32m      1\u001b[0m \u001b[0;31m# remove the movies from the data_dictionary\u001b[0m\u001b[0;34m\u001b[0m\u001b[0;34m\u001b[0m\u001b[0m\n\u001b[1;32m      2\u001b[0m \u001b[0;32mfor\u001b[0m \u001b[0mmovie_info\u001b[0m \u001b[0;32min\u001b[0m \u001b[0mlist_of_movies_with_non_english_words_over_25\u001b[0m\u001b[0;34m:\u001b[0m\u001b[0;34m\u001b[0m\u001b[0m\n\u001b[0;32m----> 3\u001b[0;31m     \u001b[0mdata_dictionary\u001b[0m\u001b[0;34m[\u001b[0m\u001b[0mmovie_info\u001b[0m\u001b[0;34m[\u001b[0m\u001b[0;36m1\u001b[0m\u001b[0;34m]\u001b[0m\u001b[0;34m]\u001b[0m\u001b[0;34m.\u001b[0m\u001b[0mpop\u001b[0m\u001b[0;34m(\u001b[0m\u001b[0mmovie_info\u001b[0m\u001b[0;34m[\u001b[0m\u001b[0;36m2\u001b[0m\u001b[0;34m]\u001b[0m\u001b[0;34m)\u001b[0m\u001b[0;34m\u001b[0m\u001b[0m\n\u001b[0m",
      "\u001b[0;31mKeyError\u001b[0m: 'G_766'"
     ],
     "output_type": "error"
    }
   ],
   "source": [
    "# remove the movies from the data_dictionary\n",
    "for movie_info in list_of_movies_with_non_english_words_over_25:\n",
    "    data_dictionary[movie_info[1]].pop(movie_info[2])"
   ]
  },
  {
   "cell_type": "heading",
   "metadata": {},
   "level": 2,
   "source": [
    "delete_empty_file\n",
    "    "
   ]
  },
  {
   "cell_type": "code",
   "execution_count": 13,
   "metadata": {},
   "outputs": [],
   "source": [
    "# [ (label, movie) ]\n",
    "list_of_empty_docs = []\n",
    "for label in data_dictionary:\n",
    "    for movie in data_dictionary[label]:\n",
    "        if len(data_dictionary[label][movie]) == 0:\n",
    "            list_of_empty_docs.append( (label, movie) )"
   ]
  },
  {
   "cell_type": "code",
   "execution_count": 59,
   "metadata": {},
   "outputs": [],
   "source": [
    "for label,movie in list_of_empty_docs:\n",
    "    data_dictionary[label].pop(movie)"
   ]
  },
  {
   "cell_type": "code",
   "execution_count": 60,
   "metadata": {},
   "outputs": [],
   "source": [
    "for label,movie in list_of_empty_docs:\n",
    "    os.remove(\"C:/Users/Abdo/Project/data/subtitles/\"+label+\"/\"+movie)"
   ]
  },
  {
   "cell_type": "heading",
   "metadata": {},
   "level": 2,
   "source": [
    "load the dict of words"
   ]
  },
  {
   "cell_type": "code",
   "execution_count": 65,
   "metadata": {},
   "outputs": [],
   "source": [
    "'''{word_0: [number_of_total_occurrence_in_a_labeled_data, \n",
    "                                 {movie_0: [number_of_occurrence_in_movie_0, \n",
    "                                  ... }\n",
    "                                ]\n",
    "                         ...\n",
    "                         }'''\n",
    "dict_of_0_label_words = get_dict_of_words_totalCount_docsCount(data_dictionary, \"0_label\")\n",
    "dict_of_1_label_words = get_dict_of_words_totalCount_docsCount(data_dictionary, \"1_label\")"
   ]
  },
  {
   "cell_type": "code",
   "execution_count": 66,
   "metadata": {
    "collapsed": true
   },
   "outputs": [],
   "source": [
    "pandas_dict = {}\n",
    "\n",
    "pandas_dict[\"rating\"] = []\n",
    "pandas_dict [\"movie_id\"] = []\n",
    "pandas_dict [\"movie_words\"] = []"
   ]
  },
  {
   "cell_type": "code",
   "execution_count": 67,
   "metadata": {},
   "outputs": [
    {
     "name": "stdout",
     "output_type": "stream",
     "text": [
      "Wall time: 31.2 ms\n"
     ]
    }
   ],
   "source": [
    "%%time\n",
    "for label in list(data_dictionary.keys())[:2]:\n",
    "    for movie_name in data_dictionary[label]:\n",
    "        pandas_dict[\"rating\"].append(label)\n",
    "        pandas_dict[\"movie_words\"].append(data_dictionary[label][movie_name])\n",
    "        pandas_dict[\"movie_id\"].append(movie_name)"
   ]
  },
  {
   "cell_type": "code",
   "execution_count": 68,
   "metadata": {},
   "outputs": [],
   "source": [
    "# row: index\n",
    "# columns : rating, movie_id, [word_1, word_2, ...]\n",
    "data_frames = pd.DataFrame(data=pandas_dict,\n",
    "                           columns=[\"rating\", \"movie_id\", \"movie_words\"])"
   ]
  },
  {
   "cell_type": "heading",
   "metadata": {},
   "level": 1,
   "source": [
    "Pickling out dict_of_0_label_words, dict_of_1_label_words, data_frames"
   ]
  },
  {
   "cell_type": "code",
   "execution_count": 69,
   "metadata": {},
   "outputs": [
    {
     "name": "stdout",
     "output_type": "stream",
     "text": [
      "Wall time: 13 s\n"
     ]
    }
   ],
   "source": [
    "%%time\n",
    "out_pickle('C:/Users/Abdo/Project/pickle_files/after_removing_non_english_words/', 'dict_of_0_label_words', dict_of_0_label_words)\n",
    "out_pickle('C:/Users/Abdo/Project/pickle_files/after_removing_non_english_words/', 'dict_of_1_label_words', dict_of_1_label_words)\n",
    "out_pickle('C:/Users/Abdo/Project/pickle_files/after_removing_non_english_words/', 'pandas_data_frame', data_frames)"
   ]
  },
  {
   "cell_type": "heading",
   "metadata": {},
   "level": 1,
   "source": [
    "Loading the pandas_data_frame,dict_of_1_label_words, dict_of_0_label_words  pickle object"
   ]
  },
  {
   "cell_type": "code",
   "execution_count": 15,
   "metadata": {},
   "outputs": [],
   "source": [
    "data_frames = in_pickle('C:/Users/Abdo/Project/pickle_files/after_removing_non_english_words/', 'pandas_data_frame')\n",
    "dict_of_0_label_words = in_pickle('C:/Users/Abdo/Project/pickle_files/after_removing_non_english_words/', 'dict_of_0_label_words')\n",
    "dict_of_1_label_words = in_pickle('C:/Users/Abdo/Project/pickle_files/after_removing_non_english_words/', 'dict_of_1_label_words')"
   ]
  },
  {
   "cell_type": "heading",
   "metadata": {},
   "level": 1,
   "source": [
    "Extracting the information from data_frame into a list of tuples"
   ]
  },
  {
   "cell_type": "code",
   "execution_count": 5,
   "metadata": {},
   "outputs": [],
   "source": [
    "# wCount_movieId_rating_lst: list of tuples: [ (words_count, movie_id, rating), ..... ] of the corpus \"both labels\"\n",
    "wordCount_movieId_rating_lst = []\n",
    "\n",
    "for index, row in data_frames.iterrows():\n",
    "    movie_id = row[\"movie_id\"]\n",
    "    rating = row[\"rating\"]\n",
    "    length = len(row[\"movie_words\"])\n",
    "    wordCount_movieId_rating_lst.append((length, movie_id, rating))\n",
    "    wordCount_movieId_rating_lst.sort()"
   ]
  },
  {
   "cell_type": "heading",
   "metadata": {
    "collapsed": false
   },
   "level": 1,
   "source": [
    "Data Statistics"
   ]
  },
  {
   "cell_type": "code",
   "execution_count": 71,
   "metadata": {},
   "outputs": [
    {
     "name": "stdout",
     "output_type": "stream",
     "text": [
      "number_of_0_label_docs  1573\nnumber_of_1_label_docs  4721\npercentage_0_labeled_docs  0.25\npercentage_1_labeled_docs  0.75\naverage_docs_length  3164\nmin_number_of_words  (53, 'PG_54', '0_label')\nmax_number_of_words  (13381, 'PG-13_5058', '1_label')\n"
     ]
    }
   ],
   "source": [
    "# Number of 0 & 1 labeled docs\n",
    "number_of_0_label_docs = len(data_dictionary[\"0_label\"])\n",
    "number_of_1_label_docs = len(data_dictionary[\"1_label\"])\n",
    "\n",
    "# percentage of 0, 1 labeled docs among the whole corpus\n",
    "percentage_0_labeled_docs, percentage_1_labeled_docs = \\\n",
    "    get_percentage_of_labeled_data(number_of_0_label_docs, number_of_1_label_docs)\n",
    "\n",
    "# find the max, and min number of words among all documents\n",
    "min_number_of_words = wordCount_movieId_rating_lst[0]\n",
    "max_number_of_words = wordCount_movieId_rating_lst[-1]\n",
    "\n",
    "# average docs length in terms of words \n",
    "average_docs_length = get_average_docs_length(wordCount_movieId_rating_lst)\n",
    "\n",
    "print(\"number_of_0_label_docs \",number_of_0_label_docs)\n",
    "print(\"number_of_1_label_docs \",number_of_1_label_docs)\n",
    "print(\"percentage_0_labeled_docs \",percentage_0_labeled_docs)\n",
    "print(\"percentage_1_labeled_docs \",percentage_1_labeled_docs)\n",
    "print(\"average_docs_length \",average_docs_length)\n",
    "print(\"min_number_of_words \", min_number_of_words)\n",
    "print(\"max_number_of_words \", max_number_of_words)\n"
   ]
  },
  {
   "cell_type": "code",
   "execution_count": 72,
   "metadata": {},
   "outputs": [],
   "source": [
    "label_0_keys = list(dict_of_0_label_words.keys())\n",
    "label_1_keys = list(dict_of_1_label_words.keys())"
   ]
  },
  {
   "cell_type": "code",
   "execution_count": 73,
   "metadata": {
    "collapsed": false
   },
   "outputs": [
    {
     "data": {
      "text/plain": [
       "(49692, 69630)"
      ]
     },
     "execution_count": 73,
     "metadata": {},
     "output_type": "execute_result"
    }
   ],
   "source": [
    "(len(label_0_keys), len(label_1_keys))"
   ]
  },
  {
   "cell_type": "code",
   "execution_count": 74,
   "metadata": {},
   "outputs": [],
   "source": [
    "inappropriate_words = []\n",
    "# key : inappropriate_word\n",
    "#value : [total_occurences, {movie_id: occurenes_in_movie,movie_id: occurenes_in_movie,.....}]\n",
    "inappropriate_words_in_0_label_movies = {}"
   ]
  },
  {
   "cell_type": "heading",
   "metadata": {},
   "level": 2,
   "source": [
    "load the inappropriate_words from a text file "
   ]
  },
  {
   "cell_type": "code",
   "execution_count": 75,
   "metadata": {},
   "outputs": [],
   "source": [
    "file = open(\"C:/Users/Abdo/Project/Notes/inappropriate_words.txt\",\"r\")\n",
    "for word in file.readlines():\n",
    "    inappropriate_words.append(word.replace(\"\\n\",\"\"))"
   ]
  },
  {
   "cell_type": "code",
   "execution_count": 76,
   "metadata": {},
   "outputs": [],
   "source": [
    "#fill the values \n",
    "for inappropriate_word in inappropriate_words:\n",
    "    # if word exist in dict\n",
    "    if inappropriate_word in dict_of_0_label_words:\n",
    "        # [0,[]] = [total_occurrence_of_word, {movie_name:occurrences_of_word_in_it, ...}]\n",
    "        inappropriate_words_in_0_label_movies[inappropriate_word] = dict_of_0_label_words[inappropriate_word]\n",
    "    else:\n",
    "        #initialize the value \n",
    "        inappropriate_words_in_0_label_movies[inappropriate_word] = [0,[]]"
   ]
  },
  {
   "cell_type": "heading",
   "metadata": {},
   "level": 2,
   "source": [
    "pickle out the inappropriate_words_in_0_label_movies dictionary"
   ]
  },
  {
   "cell_type": "code",
   "execution_count": 77,
   "metadata": {},
   "outputs": [],
   "source": [
    "\n",
    "out_pickle('C:/Users/Abdo/Project/pickle_files/after_removing_non_english_words/', 'inappropriate_words_in_0_label_movies', inappropriate_words_in_0_label_movies)"
   ]
  },
  {
   "cell_type": "heading",
   "metadata": {},
   "level": 2,
   "source": [
    "read the inappropriate_words_in_0_label_movies pickle"
   ]
  },
  {
   "cell_type": "code",
   "execution_count": 14,
   "metadata": {},
   "outputs": [],
   "source": [
    "inappropriate_words_in_0_label_movies = in_pickle('C:/Users/Abdo/Project/pickle_files/after_removing_non_english_words/', 'inappropriate_words_in_0_label_movies')"
   ]
  },
  {
   "cell_type": "code",
   "execution_count": 78,
   "metadata": {},
   "outputs": [],
   "source": [
    "#total_words_in_all_movies\n",
    "all_text_words = set(dict_of_1_label_words.keys())\n",
    "all_text_words.update(set(dict_of_0_label_words.keys()))"
   ]
  },
  {
   "cell_type": "code",
   "execution_count": 79,
   "metadata": {},
   "outputs": [],
   "source": [
    "common_words = set(dict_of_1_label_words.keys()).intersection(set(dict_of_0_label_words.keys()))"
   ]
  },
  {
   "cell_type": "code",
   "execution_count": 80,
   "metadata": {},
   "outputs": [],
   "source": [
    "percentage_of_common_words = len(common_words)/len(all_text_words)"
   ]
  },
  {
   "cell_type": "code",
   "execution_count": 82,
   "metadata": {},
   "outputs": [
    {
     "name": "stdout",
     "output_type": "stream",
     "text": [
      "74638\n44684\n0.5986762774993971\n"
     ]
    }
   ],
   "source": [
    "print(len(all_text_words))\n",
    "print(len(common_words))\n",
    "print(percentage_of_common_words)"
   ]
  },
  {
   "cell_type": "code",
   "execution_count": 83,
   "metadata": {},
   "outputs": [],
   "source": [
    "unique_words_in_0_label = set(dict_of_0_label_words.keys()).difference(common_words)\n",
    "unique_words_in_1_label = set(dict_of_1_label_words.keys()).difference(common_words)"
   ]
  },
  {
   "cell_type": "code",
   "execution_count": 119,
   "metadata": {},
   "outputs": [
    {
     "name": "stdout",
     "output_type": "stream",
     "text": [
      "49692\n69630\n"
     ]
    }
   ],
   "source": [
    "print(len(dict_of_0_label_words))\n",
    "print(len(dict_of_1_label_words))"
   ]
  },
  {
   "cell_type": "code",
   "execution_count": 116,
   "metadata": {},
   "outputs": [
    {
     "name": "stdout",
     "output_type": "stream",
     "text": [
      "5008\n24946\n"
     ]
    }
   ],
   "source": [
    "print(len(unique_words_in_0_label))\n",
    "print(len(unique_words_in_1_label))"
   ]
  },
  {
   "cell_type": "code",
   "execution_count": 84,
   "metadata": {},
   "outputs": [],
   "source": [
    "# key : word\n",
    "# value : [ [total frequency, {movie_name: frequency_of_word_in_movie},..] , .... ] \n",
    "frequency_of_unique_words_in_0_label = {}\n",
    "frequency_of_unique_words_in_1_label = {}"
   ]
  },
  {
   "cell_type": "code",
   "execution_count": 85,
   "metadata": {},
   "outputs": [],
   "source": [
    "# takes the label name and a dictionary of the shape, to fill:\n",
    "# key : word\n",
    "# value : [ [total frequency, {movie_name: frequency_of_word_in_movie},..] , .... ] \n",
    "def get_frequency_of_uinque_words_in_labeled_documents(label_name, unique_words_of_label,frequency_of_unique_words_of_label):\n",
    "    for movie_name in data_dictionary[label_name]:\n",
    "        for word in data_dictionary[label_name][movie_name]:\n",
    "            # if this word is a unique of word of this label, else continue to next iteration\n",
    "            if word in unique_words_of_label:\n",
    "                # if it already exist, update its value\n",
    "                if word in frequency_of_unique_words_of_label:\n",
    "                    # increase the total frequency by one\n",
    "                    frequency_of_unique_words_of_label[word][0] += 1\n",
    "                    # if the movie_name exist in the frequency_of_unique_words_of_label[1] dict\n",
    "                    if movie_name in frequency_of_unique_words_of_label[word][1]:\n",
    "                        frequency_of_unique_words_of_label[word][1][movie_name] +=1\n",
    "                    # if not, initialize it to 1\n",
    "                    else:\n",
    "                        frequency_of_unique_words_of_label[word][1][movie_name] = 1\n",
    "                # add the word to dict if it doesn't exist\n",
    "                else:\n",
    "                    frequency_of_unique_words_of_label[word] = [1, {movie_name:1}]"
   ]
  },
  {
   "cell_type": "code",
   "execution_count": 86,
   "metadata": {},
   "outputs": [],
   "source": [
    "get_frequency_of_uinque_words_in_labeled_documents(\"0_label\", unique_words_in_0_label, frequency_of_unique_words_in_0_label)\n",
    "get_frequency_of_uinque_words_in_labeled_documents(\"1_label\", unique_words_in_1_label, frequency_of_unique_words_in_1_label)"
   ]
  },
  {
   "cell_type": "heading",
   "metadata": {},
   "level": 2,
   "source": [
    "pickle out frequency_of_unique_words_in_0_label,frequency_of_unique_words_in_1_label"
   ]
  },
  {
   "cell_type": "code",
   "execution_count": 87,
   "metadata": {},
   "outputs": [],
   "source": [
    "out_pickle('C:/Users/Abdo/Project/pickle_files/after_removing_non_english_words/', 'frequency_of_unique_words_in_0_label', frequency_of_unique_words_in_0_label)\n",
    "out_pickle('C:/Users/Abdo/Project/pickle_files/after_removing_non_english_words/', 'frequency_of_unique_words_in_1_label', frequency_of_unique_words_in_1_label)"
   ]
  },
  {
   "cell_type": "heading",
   "metadata": {},
   "level": 2,
   "source": [
    "read in the frequency_of_unique_words_in_0_label, frequency_of_unique_words_in_1_label"
   ]
  },
  {
   "cell_type": "code",
   "execution_count": 74,
   "metadata": {},
   "outputs": [],
   "source": [
    "frequency_of_unique_words_in_0_label = in_pickle('C:/Users/Abdo/Project/pickle_files/after_removing_non_english_words/', 'frequency_of_unique_words_in_0_label')\n",
    "frequency_of_unique_words_in_1_label = in_pickle('C:/Users/Abdo/Project/pickle_files/after_removing_non_english_words/', 'frequency_of_unique_words_in_1_label')"
   ]
  },
  {
   "cell_type": "heading",
   "metadata": {},
   "level": 2,
   "source": [
    "turn the dictionary into list to be able to sort them"
   ]
  },
  {
   "cell_type": "code",
   "execution_count": 88,
   "metadata": {},
   "outputs": [],
   "source": [
    "# [(frequency, word), ....]\n",
    "list_of_uinque_0_label_words_and_frequencies = []\n",
    "list_of_uinque_1_label_words_and_frequencies = []"
   ]
  },
  {
   "cell_type": "code",
   "execution_count": 89,
   "metadata": {},
   "outputs": [],
   "source": [
    "for word in frequency_of_unique_words_in_0_label:\n",
    "    list_of_uinque_0_label_words_and_frequencies.append( (frequency_of_unique_words_in_0_label[word][0], word) )\n",
    "    \n",
    "for word in frequency_of_unique_words_in_1_label:\n",
    "    list_of_uinque_1_label_words_and_frequencies.append( (frequency_of_unique_words_in_1_label[word][0], word) )"
   ]
  },
  {
   "cell_type": "code",
   "execution_count": 90,
   "metadata": {},
   "outputs": [],
   "source": [
    "list_of_uinque_0_label_words_and_frequencies.sort()\n",
    "list_of_uinque_1_label_words_and_frequencies.sort()"
   ]
  },
  {
   "cell_type": "heading",
   "metadata": {},
   "level": 2,
   "source": [
    "pickle out the list_of_uinque_0_label_words_and_frequencies, list_of_uinque_1_label_words_and_frequencies"
   ]
  },
  {
   "cell_type": "code",
   "execution_count": 91,
   "metadata": {},
   "outputs": [],
   "source": [
    "out_pickle('C:/Users/Abdo/Project/pickle_files/after_removing_non_english_words/', 'list_of_uinque_0_label_words_and_frequencies', list_of_uinque_0_label_words_and_frequencies)\n",
    "out_pickle('C:/Users/Abdo/Project/pickle_files/after_removing_non_english_words/', 'list_of_uinque_1_label_words_and_frequencies', list_of_uinque_1_label_words_and_frequencies)"
   ]
  },
  {
   "cell_type": "heading",
   "metadata": {},
   "level": 2,
   "source": [
    "read in the list_of_uinque_0_label_words_and_frequencies, list_of_uinque_1_label_words_and_frequencies"
   ]
  },
  {
   "cell_type": "code",
   "execution_count": null,
   "metadata": {},
   "outputs": [],
   "source": [
    "list_of_uinque_0_label_words_and_frequencies = in_pickle('C:/Users/Abdo/Project/pickle_files/', 'list_of_uinque_0_label_words_and_frequencies')\n",
    "list_of_uinque_1_label_words_and_frequencies = in_pickle('C:/Users/Abdo/Project/pickle_files/', 'list_of_uinque_1_label_words_and_frequencies')"
   ]
  },
  {
   "cell_type": "code",
   "execution_count": 92,
   "metadata": {},
   "outputs": [],
   "source": [
    "# the percentage of bad words in every 0_labeled movie\n",
    "# key : movie_id\n",
    "# value : percentage_of_bad_words\n",
    "percentage_of_bad_words_in_0_labeld_movies = {}"
   ]
  },
  {
   "cell_type": "code",
   "execution_count": 93,
   "metadata": {},
   "outputs": [],
   "source": [
    "# find the number of bad words in each 0_label movie\n",
    "for movie_name in data_dictionary[\"0_label\"]:\n",
    "    movie_words_count = len(data_dictionary[\"0_label\"][movie_name])\n",
    "    number_of_bad_words = 0\n",
    "    for bad_word in inappropriate_words_in_0_label_movies:\n",
    "        # if the movie has this bad word\n",
    "        if movie_name in inappropriate_words_in_0_label_movies[bad_word][1]:\n",
    "            # increase the movie total number of bad words by how many time this bad word occurred in this movie\n",
    "            number_of_bad_words += inappropriate_words_in_0_label_movies[bad_word][1][movie_name]\n",
    "    if movie_words_count != 0:\n",
    "        percentage_of_bad_words_in_0_labeld_movies[movie_name] = number_of_bad_words/movie_words_count"
   ]
  },
  {
   "cell_type": "heading",
   "metadata": {},
   "level": 2,
   "source": [
    "pickle out the percentage_of_bad_words_in_0_labeld_movies"
   ]
  },
  {
   "cell_type": "code",
   "execution_count": 94,
   "metadata": {},
   "outputs": [],
   "source": [
    "out_pickle('C:/Users/Abdo/Project/pickle_files/after_removing_non_english_words/', 'percentage_of_bad_words_in_0_labeld_movies', percentage_of_bad_words_in_0_labeld_movies)"
   ]
  },
  {
   "cell_type": "code",
   "execution_count": 4,
   "metadata": {},
   "outputs": [],
   "source": [
    "percentage_of_bad_words_in_0_labeld_movies = in_pickle('C:/Users/Abdo/Project/pickle_files/after_removing_non_english_words/', 'percentage_of_bad_words_in_0_labeld_movies')"
   ]
  },
  {
   "cell_type": "code",
   "execution_count": 5,
   "metadata": {},
   "outputs": [],
   "source": [
    "# turn the dictionary into list to sort it\n",
    "# [ (percentage_of_bad_words_in_movie, movie_name) ]\n",
    "percentage_of_bad_words_in_0_labeld_movies_list = []\n",
    "for movie_name in percentage_of_bad_words_in_0_labeld_movies:\n",
    "    percentage_of_bad_words_in_0_labeld_movies_list.append\\\n",
    "        ( (percentage_of_bad_words_in_0_labeld_movies[movie_name], movie_name) )"
   ]
  },
  {
   "cell_type": "code",
   "execution_count": 6,
   "metadata": {},
   "outputs": [],
   "source": [
    "percentage_of_bad_words_in_0_labeld_movies_list.sort()"
   ]
  },
  {
   "cell_type": "code",
   "execution_count": 17,
   "metadata": {},
   "outputs": [],
   "source": [
    "number_of_0_labeled_movies_having_bad_words = 0\n",
    "\n",
    "# [ (percentage_of_bad_words_in_movie, movie_name), .... ] a list for movies with bad words in them\n",
    "list_of_0_labeled_movies_with_bad_words = []\n",
    "\n",
    "# for every tuple in the list, if its first element (percentage of bad words) is not zero\n",
    "# increase the number_of_0_labeled_movies_having_bad_words by one\n",
    "for percentage_of_bad_words_in_0_labeled_movie in percentage_of_bad_words_in_0_labeld_movies_list:\n",
    "    if percentage_of_bad_words_in_0_labeled_movie[0] > 0:\n",
    "        number_of_0_labeled_movies_having_bad_words += 1\n",
    "        list_of_0_labeled_movies_with_bad_words.append(percentage_of_bad_words_in_0_labeled_movie)"
   ]
  },
  {
   "cell_type": "heading",
   "metadata": {},
   "level": 2,
   "source": [
    "how many of the 0_labeled G rated movies have bad words"
   ]
  },
  {
   "cell_type": "code",
   "execution_count": 19,
   "metadata": {},
   "outputs": [],
   "source": [
    "number_of_G_rated_movies_with_bad_words = 0\n",
    "list_of_G_rated_movies_with_bad_words = []\n",
    "for movie in list_of_0_labeled_movies_with_bad_words:\n",
    "    movie_name = movie[1]\n",
    "    if (movie_name.split(\"_\")[0]) == \"G\":\n",
    "        number_of_G_rated_movies_with_bad_words += 1\n",
    "        list_of_G_rated_movies_with_bad_words.append(movie_name)"
   ]
  },
  {
   "cell_type": "code",
   "execution_count": 20,
   "metadata": {
    "collapsed": true
   },
   "outputs": [
    {
     "name": "stdout",
     "output_type": "stream",
     "text": [
      "350\n['G_207', 'G_2604', 'G_1092', 'G_5841', 'G_1150', 'G_3957', 'G_32', 'G_2179', 'G_5197', 'G_3651', 'G_4452', 'G_4494', 'G_3548', 'G_1543', 'G_The Middle - 9x23-24 - A Heck Of A Ride (1).HDTV.SVA.en.srt', 'G_4445', 'G_68', 'G_S03e15_Significant Others .srt', 'G_31', 'G_280', 'G_S03e04_Deal With It .srt', 'G_S03e02_Going-Going-Gone .srt', 'G_S03e17_Misery Loves Company .srt', 'G_4336', 'G_S03e08_Not So Fast .srt', 'G_S03e13_Christmas .srt', 'G_S03e03_Short Cuts .srt', 'G_S03e24_A Little Faith .srt', 'G_Party.of.Five.S02E15.DVDRip.XviD-TOPAZ.srt', 'G_1662', 'G_Party.of.Five.S02E06.DVDRip.XviD-TOPAZ.srt', 'G_Party.of.Five.S02E05.DVDRip.XviD-TOPAZ.srt', 'G_Party.of.Five.S02E17.DVDRip.XviD-TOPAZ.srt', 'G_Party.Of.Five.S01E18.DVDRip.XviD-MEDiEVAL.srt', 'G_Party.Of.Five.S01E01.DVDRip.XviD-MEDiEVAL.srt', 'G_1319', 'G_Party.of.Five.S02E19.DVDRip.XviD-TOPAZ.srt', 'G_1122', 'G_5422', 'G_471', 'G_6378', 'G_1953', 'G_4854', 'G_1025', 'G_6141', 'G_5590', 'G_1178', 'G_4976', 'G_4773', 'G_The Middle - 8x10 - Escape Orson.HDTV.LOL.en.srt', \"G_The Middle - 8x07 - Look Who's Not Talking.LOL.en.srt\", 'G_The Middle - 4x03 - The Second Act.HDTV.x264-LOL.en.srt', 'G_The Middle - 5x05 - Halloween IV  The Ghost Story.720p HDTV.x264-DIMENSION.en.srt', 'G_The Middle - 7x05 - Land of the Lost.HDTV.x264-LOL.en.srt', 'G_The Middle - 7x24 - The Show Must Go On.HDTV.x264-LOL.en.srt', 'G_537', 'G_The Middle - 8x01 - The Core Group.HDTV.x264-LOL.en.srt', 'G_The Middle - 7x20 - Survey SaysGÇª.HDTV.x264-LOL.en.srt', 'G_29', \"G_The Middle - 9x11 - New Year's Revelations.HDTV.KILLERS.en.srt\", 'G_4485', 'G_The Middle - 7x21 - The Lanai.HDTV.x264-LOL.en.srt', 'G_The Middle - 9x22 - Split Decision.HDTV.KILLERS.en.srt', \"G_The Middle - 9x02 - Please Don't Feed the Hecks.HDTV.LOL.en.srt\", 'G_The Middle - 8x04 - True Grit.HDTV.x264-DIMENSION.en.srt', 'G_1708', 'G_The Middle - 3x02 - Forced Family Fun  Part 2 of 2.HDTV.POW4.en.srt', 'G_The Middle - 8x15 - Dental Hijinks.HDTV.LOL.en.srt', 'G_The Middle - 6x02 - The Loneliest Locker.HDTV.LOL.en.srt', 'G_The Middle - 5x06 - The Jump.720p HDTV.x264-DIMENSION.en.srt', 'G_4454', 'G_The Middle - 4x20 - Dollar Days.HDTV.x264-LOL.en.srt', 'G_The Middle - 7x07 - Homecoming II  The Tailgate.HDTV.x264-LOL.en.srt', 'G_The Middle - 6x15 - Steaming Pile of Guilt.HDTV.LOL.en.srt', 'G_The Middle - 3x19 - The Paper Route.HDTV.x264-DIMENSION.en.srt', 'G_The Middle - 8x22 - The Final Final.HDTV.SVA.en.srt', 'G_1623', 'G_The Middle - 6x21 - Two of a Kind.HDTV.x264-LOL.en.srt', 'G_The Middle - 7x16 - The Man Hunt.HDTV.x264-LOL.en.srt', 'G_The Middle - 3x05 - The Test.HDTV.ASAP.en.srt', 'G_The Middle - 4x05 - The Hose.HDTV.x264-LOL.en.srt', 'G_The Middle - 5x15 - Vacation Days.720p HDTV.x264-DIMENSION.en.srt', 'G_72', 'G_The Middle - 3x12 - Year of the Hecks.HDTV.IMMERSE.en.srt', 'G_The Middle - 2x04 - The Quarry.HDTV.FQM.en.srt', 'G_The Middle - 6x07 - Thanksgiving VI.HDTV.x264-LOL.en.srt', 'G_Fuller.House.S01E13.WEBRip.x264-SKGTV.srt', 'G_The Middle - 3x03 - Hecking Order.HDTV.P0W4.en.srt', \"G_The Middle - 7x01 - Not Your Brother's Drop Off.HDTV.LOL.en.srt\", 'G_6445', 'G_The Middle - 7x04 - Risky Business.HDTV.x264-LOL.en.srt', 'G_The Middle - 9x10 - The Christmas Miracle.HDTV.SVA.en.srt', 'G_The Middle - 1x10 - Christmas.HDTV.2HD.en.srt', 'G_The Middle - 6x17 - The Waiting Game.HDTV.x264-LOL.en.srt', 'G_1509', 'G_The Middle - 5x17 - The Walk.720p HDTV.x264-DIMENSION.en.srt', 'G_The Middle - 4x10 - Twenty Years.HDTV.x264-LOL.en.srt', \"G_The Middle - 1x22 - Mother's Day.HDTV.FQM.en.srt\", 'G_Fuller.House.S02E10.720p.WEBRip.eSc.en.srt', 'G_The Middle - 7x02 - Cutting the Cord.720p HDTV.x264-DIMENSION.en.srt', 'G_The Middle - 2x20 - Royal Wedding.HDTV.PROPER FEVER.en.srt', 'G_The Middle - 8x11 - Hoosier Maid.HDTV.LOL.en.srt', 'G_The Middle - 1x21 - Worry Duty.HDTV.FQM.en.srt', 'G_The Middle - 1x01 - Pilot.720p HDTV.DIMENSION.en.srt', 'G_The Middle - 3x10 - Thanksgiving III.HDTV.FQM.en.srt', 'G_The Middle - 5x04 - The 100th.720p HDTV.x264-DIMENSION.en.srt', 'G_The Middle - 1x13 - The Interview.HDTV.2HD.en.srt', 'G_Fuller.House.S03E17.WEBRip.x264-RARBG-2_Eng.srt', 'G_The Middle - 2x05 - Foreign Exchange.720p HDTV.immerse.en.srt', 'G_459', 'G_The Suite Life Of Zack And Cody - 3x11 - Of Clocks and Contracts.720p.BluRay.en.srt', \"G_The Suite Life Of Zack And Cody - 2x22 - A Midsummer's Nightmare.720p.BluRay.en.srt\", 'G_The Middle - 2x05 - Foreign Exchange.HDTV.FQM.en.srt', 'G_Fuller.House.S03E13.WEBRip.x264-RARBG-2_Eng.srt', 'G_Fuller.House.S01E02.WEBRip.x264-SKGTV.srt', 'G_The Middle - 2x19 - The Legacy.HDTV.ASAP.en.srt', 'G_1368', 'G_iCarly - 1x02 - iWant More Viewers.DVDRip.LaR.en.srt', 'G_The Middle - 2x15 - Friends  Lies And Videotape.HDTV.FQM.en.srt', 'G_The Middle - 9x17 - Hecks vs. Glossners  The Final Battle.HDTV.SVA.en.srt', 'G_Fuller.House.S03E06.WEB.x264-STRiFE.srt', 'G_The Middle - 1x11 - The Jeans.HDTV.en.srt', 'G_iCarly - 1x11 - iRue the Day.DVDRip.LaR.en.srt', 'G_The Middle - 1x16 - The Bee.HDTV.en.srt', 'G_4835', 'G_The Middle - 1x06 - The Front Door.720p HDTV.CTU.en.srt', 'G_The Middle - 1x06 - The Front Door.HDTV.FEVER.en.srt', 'G_1968', 'G_539', 'G_The Middle - 1x04 - The Trip.HDTV.2HD.en.srt', 'G_The Middle - 1x08 - Thanksgiving.HDTV.FQM.en.srt', 'G_Fuller.House.S03E07.WEB.x264-STRiFE.srt', 'G_Fuller.House.S03E15.WEBRip.x264-RARBG-2_Eng.srt', 'G_Fuller.House.S01E11.WEBRip.x264-SKGTV.srt', 'G_4348', 'G_4510', 'G_The Suite Life Of Zack And Cody - 1x15 - Rumors.Sonic.en.srt', 'G_Party.of.Five.S02E03.DVDRip.XviD-TOPAZ.srt', 'G_iCarly - 1x12 - iPromise Not to Tell.DVDRip.LaR.en.srt', 'G_1438', 'G_Fuller.House.S03E02.WEB.x264-STRiFE.srt', 'G_The Suite Life Of Zack And Cody - 3x18 - Romancing The Phone.720p.BluRay.en.srt', 'G_Fuller.House.S02E04.WEBRip.eSc.en.srt', 'G_iCarly - 4x04 - iSell Penny-Tees.720p.WEB-DL.SURFER.en.srt', 'G_S03e19_Point of No Return .srt', \"G_The Cosby Show - 2x14 - Vanessa's Bad Grade.DVDRip.en.srt\", 'G_iCarly - 1x04 - iLike Jake.DVDRip.LaR.en.srt', 'G_Fuller.House.S01E04.WEBRip.x264-SKGTV.srt', 'G_The Cosby Show - 2x15 - Theo and Cockroach.DVDRip.en.srt', 'G_Party.Of.Five.S01E03.DVDRip.XviD-MEDiEVAL.srt', 'G_The Middle - 1x01 - Pilot.HDTV.2HD.en.srt', 'G_The Suite Life Of Zack And Cody - 1x08 - A Prom Story.720p.BluRay.en.srt', 'G_4616', 'G_120', 'G_Party.of.Five.S02E22.DVDRip.XviD-TOPAZ.srt', 'G_Fuller.House.S03E16.WEBRip.x264-RARBG-2_Eng.srt', 'G_1127', 'G_Party.of.Five.S02E21.DVDRip.XviD-TOPAZ.srt', 'G_Party.Of.Five.S01E08.DVDRip.XviD-MEDiEVAL.srt', \"G_The Suite Life Of Zack And Cody - 1x12 - It's a Mad  Mad  Mad Hotel.720p.BluRay.en.srt\", 'G_2616', 'G_33', 'G_Party.of.Five.S02E01.DVDRip.XviD-TOPAZ.srt', 'G_Party.Of.Five.S01E06.DVDRip.XviD-MEDiEVAL.srt', 'G_The Suite Life Of Zack And Cody - 1x22 - Kisses & Basketball.en.srt', 'G_3868', 'G_S03e25_You Win Some- You Lose Some .srt', 'G_3859', 'G_5980', 'G_695', 'G_Party.of.Five.S02E20.DVDRip.XviD-TOPAZ.srt', 'G_4192', 'G_The Suite Life Of Zack And Cody - 1x05 - Grounded on the 23rd Floor.720p.BluRay.en.srt', 'G_1634', 'G_2564', 'G_1164', 'G_5100', 'G_Party.of.Five.S02E02.DVDRip.XviD-TOPAZ.srt', 'G_417', 'G_Party.of.Five.S02E08.DVDRip.XviD-TOPAZ.srt', 'G_Fuller.House.S01E01.WEBRip.x264-SKGTV.srt', 'G_S03e09_Gimme Shelter .srt', \"G_The Middle - 6x23 - Mother's Day Reservations.HDTV.x264-LOL.en.srt\", 'G_499', 'G_5870', 'G_720', 'G_The Middle - 8x19 - The Confirmation.HDTV.LOL.en.srt', 'G_6169', 'G_The Middle - 6x06 - The Sinkhole.HDTV.LOL.en.srt', 'G_The Middle - 9x19 - Bat Out of Heck.HDTV.SVA.en.srt', 'G_The Middle - 4x07 - The Safe.HDTV.REPACK 2HD.en.srt', 'G_5321', 'G_5560', 'G_Party.Of.Five.S01E02.DVDRip.XviD-MEDiEVAL.srt', 'G_S03e23_Promises-Promises .srt', 'G_The Middle - 5x23 - Orlando.HDTV.AFG.en.srt', 'G_3444', 'G_S03e01_Summer Fun - Summer Not .srt', 'G_Fuller.House.S02E09.WEBRip.eSc.en.srt', 'G_The Middle - 4x21 - From Orson with Love.HDTV.x264-LOL.en.srt', 'G_The Middle - 2x11 - Taking Back the House.HDTV.2HD.en.srt', 'G_The Middle - 5x07 - Thanksgiving V.720p HDTV.x264-DIMENSION.en.srt', 'G_The Middle - 4x09 - Christmas Help.480p HDTV.SM.en.srt', 'G_The Middle - 2x12 - The Big Chill.HDTV.2HD.en.srt', 'G_25', 'G_Party.Of.Five.S01E11.DVDRip.XviD-MEDiEVAL.srt', 'G_3729', 'G_Party.of.Five.S02E07.DVDRip.XviD-TOPAZ.srt', 'G_The Middle - 3x01-02 - Forced Family Fun  Part 1 of 2.HDTV.2HD.en.srt', 'G_The Middle - 3x02 - Forced Family Fun  Part 2 of 2.HDTV.2HD.en.srt', 'G_S03e21_Hitting Bottom.srt', 'G_Party.Of.Five.S01E19.DVDRip.XviD-MEDiEVAL.srt', 'G_The Middle - 6x18 - Operation Infiltration.HDTV.LOL.en.srt', 'G_The Middle - 7x08 - Thanksgiving VII.HDTV.x264-DIMENSION.en.srt', 'G_The Middle - 8x03 - Halloween VIII  The Heckoning.HDTV.x264-DIMENSION.en.srt', 'G_2142', 'G_S03e20_Intervention .srt', 'G_The Middle - 2x09 - Thanksgiving II.HDTV.2HD.en.srt', 'G_S03e18_MYOB .srt', 'G_The Middle - 3x06 - Bad Choices.HDTV.2HD.en.srt', 'G_The Middle - 4x01 - Last Whiff of Summer Part 1.HDTV.x264-LOL.en.srt', 'G_The Middle - 4x02 - Last Whiff of Summer Part 2.HDTV.x264-LOL.en.srt', 'G_6306', 'G_The Middle - 3x20 - Get Your Business Done.HDTV.x264-2HD.en.srt', 'G_The Middle - 6x16 - Flirting with Disaster.HDTV.LOL.en.srt', 'G_The Middle - 2x10 - A Simple Christmas.HDTV.2HD.en.srt', 'G_The Middle - 4x24 - The Graduation.HDTV.x264-LOL.en.srt', 'G_Party.Of.Five.S01E14.DVDRip.XviD-MEDiEVAL.srt', 'G_96', 'G_2602', 'G_The Middle - 2x06 - Halloween.HDTV.FQM.en.srt', 'G_The Middle - 7x06 - Halloween VI  Tick Tock Death.HDTV.x264-LOL.en.srt', 'G_The Suite Life Of Zack And Cody - 2x36 - The Suite Life Goes Hollywood (1).720p.BluRay.en.srt', 'G_282', 'G_Fuller.House.S02E12.WEBRip.x264-eSc_1_English.srt', 'G_176', 'G_2395', 'G_The Middle - 3x07 - Halloween II.HDTV.2HD.en.srt', 'G_Party.Of.Five.S01E05.DVDRip.XviD-MEDiEVAL.srt', 'G_The Middle - 2x03 - The Diaper Incident.HDTV.P0W4.en.srt', 'G_Fuller.House.S03E01.WEB.x264-STRiFE.srt', 'G_Party.of.Five.S02E09.DVDRip.XviD-TOPAZ.srt', 'G_5835', 'G_The Middle - 1x17 - The Break Up.HDTV.FQM.en.srt', 'G_S03e12_Desperate Measures .srt', 'G_2931', 'G_5658', 'G_3179', 'G_13', 'G_The Middle - 9x05 - Role of a Lifetime.HDTV.LOL.en.srt', 'G_Party.of.Five.S02E18.DVDRip.XviD-TOPAZ.srt', 'G_2577', 'G_Party.Of.Five.S01E17.DVDRip.XviD-MEDiEVAL.srt', 'G_2692', 'G_Fuller.House.S03E04.WEBRip.x264-RARBG-2_Eng.srt', 'G_553', 'G_Party.Of.Five.S01E20.DVDRip.XviD-MEDiEVAL.srt', 'G_6042', 'G_Fuller.House.S02E05.720p.WEBRip.eSc.en.srt', 'G_S03e22_Leap of Faith .srt', 'G_The Suite Life Of Zack And Cody - 1x07 - Footloser.720p.BluRay.en.srt', 'G_The Middle - 8x23 - Fight or Flight.HDTV.SVA.en.srt', 'G_iCarly - 4x03 - iGet Pranky.720p.WEB-DL.SURFER.en.srt', 'G_6144', 'G_2881', \"G_S03e14_Life's Too Short .srt\", 'G_Party.Of.Five.S01E16.DVDRip.XviD-MEDiEVAL.srt', 'G_935', 'G_Party.Of.Five.S01E12.DVDRip.XviD-MEDiEVAL.srt', 'G_Party.Of.Five.S01E10.DVDRip.XviD-MEDiEVAL.srt', 'G_The Middle - 7x23 - Find My Hecks.HDTV.x264-LOL.en.srt', 'G_6276', 'G_SpongeBobSquarePants 1-25.srt', 'G_1151', 'G_The Middle - 8x09 - A Very Marry Christmas.HDTV.LOL.en.srt', 'G_SpongeBobSquarePants 1-21.srt', 'G_iCarly - 1x07 - iScream on Halloween.DVDRip.LaR.en.srt', 'G_The Middle - 5x19 - The Wind Chimes.720p HDTV.x264-DIMENSION.en.srt', 'G_The Middle - 1x07 - The Scratch.HDTV.P0W4.en.srt', 'G_S03e07_Personal Demons .srt', 'G_The Middle - 9x15 - Toasted.HDTV.SVA.en.srt', 'G_The Middle - 5x16 - Stormy Moon.720p HDTV.x264-DIMENSION.en.srt', 'G_590', 'G_The Middle - 6x11 - A Quarry Story.HDTV.x264-LOL.en.srt', \"G_The Middle - 9x14 - Guess Who's Coming to Frozen Dinner.HDTV.KILLERS.en.srt\", 'G_The Middle - 6x20 - Food Courting.HDTV.x264-ASAP.en.srt', 'G_S03e16_I Declare .srt', 'G_The Cosby Show - 2x07 - Rudy Suits Up.DVDRip.en.srt', 'G_386', 'G_536', 'G_2575', 'G_The Middle - 9x12 - The Other Man.HDTV.KILLERS.en.srt', 'G_3202', 'G_The Middle - 1x12 - The Neighbor.HDTV.en.srt', 'G_The Middle - 7x17 - The Wisdom Teeth.HDTV.x264-LOL.en.srt', 'G_299', 'G_S03e05_Mixed Signals .srt', 'G_The Middle - 3x17 - The Sit Down.HDTV.LOL.en.srt', 'G_Party.Of.Five.S01E07.DVDRip.XviD-MEDiEVAL.srt', 'G_The Middle - 6x14 - The Answer.HDTV.x264-LOL.en.srt', 'G_fuller.house.s03e05.web.x264-strife-eng.srt', 'G_346', 'G_Party.of.Five.S02E10.DVDRip.XviD-TOPAZ.srt', 'G_Party.Of.Five.S01E15.DVDRip.XviD-MEDiEVAL.srt', 'G_4741', 'G_6663', 'G_5890', 'G_3747', 'G_The Middle - 4x13 - The Friend.HDTV.x264-LOL.en.srt', 'G_5167', 'G_2782', \"G_The Middle - 3x08 - Heck's Best Thing.HDTV.ASAP.en.srt\", 'G_934', 'G_2386', 'G_Party.of.Five.S02E14.DVDRip.XviD-TOPAZ.srt', 'G_4183', 'G_430', 'G_191', 'G_The Middle - 3x23 - The Telling.HDTV.x264-LOL.en.srt', 'G_S03e10_Close to You .srt', 'G_997', 'G_2932', 'G_Party.Of.Five.S01E22.DVDRip.XviD-MEDiEVAL.srt', 'G_571', 'G_4506', 'G_58', 'G_501', 'G_The Middle - 6x12 - Hecks on a Train.HDTV.LOL.en.srt', 'G_3338', 'G_490', 'G_Party.Of.Five.S01E13.DVDRip.XviD-MEDiEVAL.srt', 'G_3352', 'G_Party.Of.Five.S01E04.DVDRip.XviD-MEDiEVAL.srt', 'G_Fuller.House.S01E03.WEBRip.x264-SKGTV.srt', 'G_6278', 'G_The Middle - 9x18 - Thank You for Not Kissing.HDTV.SVA.en.srt', 'G_3326', \"G_The Cosby Show - 1x01 - Theo's Economic Lesson.DVDRip.en.srt\", 'G_Party.Of.Five.S01E21.DVDRip.XviD-MEDiEVAL.srt', 'G_859', 'G_136', 'G_2402', 'G_Party.Of.Five.S01E09.DVDRip.XviD-MEDiEVAL.srt', 'G_2289', 'G_The Middle - 9x04 - Halloween VIII  Orson Murder Mystery.HDTV.LOL.en.srt', 'G_4508', 'G_Fuller.House.S03E10.WEBRip.x264-RARBG-3_Eng.srt', 'G_Party.of.Five.S02E04.DVDRip.XviD-TOPAZ.srt', 'G_2029', 'G_Cousins.srt']\n"
     ]
    }
   ],
   "source": [
    "print(number_of_G_rated_movies_with_bad_words)\n",
    "print(list_of_G_rated_movies_with_bad_words)"
   ]
  },
  {
   "cell_type": "code",
   "execution_count": 13,
   "metadata": {
    "collapsed": true
   },
   "outputs": [
    {
     "name": "stdout",
     "output_type": "stream",
     "text": [
      "1127\n"
     ]
    },
    {
     "ename": "NameError",
     "evalue": "name 'number_of_0_label_docs' is not defined",
     "traceback": [
      "\u001b[0;31m---------------------------------------------------------------------------\u001b[0m",
      "\u001b[0;31mNameError\u001b[0m                                 Traceback (most recent call last)",
      "\u001b[0;32m<ipython-input-13-b03ca3b4493b>\u001b[0m in \u001b[0;36m<module>\u001b[0;34m()\u001b[0m\n\u001b[1;32m      1\u001b[0m \u001b[0mprint\u001b[0m\u001b[0;34m(\u001b[0m\u001b[0mnumber_of_0_labeled_movies_having_bad_words\u001b[0m\u001b[0;34m)\u001b[0m\u001b[0;34m\u001b[0m\u001b[0m\n\u001b[0;32m----> 2\u001b[0;31m \u001b[0mprint\u001b[0m\u001b[0;34m(\u001b[0m\u001b[0mnumber_of_0_labeled_movies_having_bad_words\u001b[0m \u001b[0;34m/\u001b[0m \u001b[0mnumber_of_0_label_docs\u001b[0m\u001b[0;34m)\u001b[0m\u001b[0;34m\u001b[0m\u001b[0m\n\u001b[0m",
      "\u001b[0;31mNameError\u001b[0m: name 'number_of_0_label_docs' is not defined"
     ],
     "output_type": "error"
    }
   ],
   "source": [
    "print(number_of_0_labeled_movies_having_bad_words)\n",
    "print(number_of_0_labeled_movies_having_bad_words / number_of_0_label_docs)"
   ]
  },
  {
   "cell_type": "code",
   "execution_count": 97,
   "metadata": {},
   "outputs": [],
   "source": [
    "model = in_pickle('C:/Users/Abdo/Documents/word2vec models/', 'word2vecModel_glove_6b_200d')"
   ]
  },
  {
   "cell_type": "code",
   "execution_count": 98,
   "metadata": {},
   "outputs": [
    {
     "name": "stderr",
     "output_type": "stream",
     "text": [
      "C:\\Users\\Abdo\\PycharmProjects\\final_project_1\\venv\\lib\\site-packages\\ipykernel_launcher.py:1: DeprecationWarning: Call to deprecated `wv` (Attribute will be removed in 4.0.0, use self instead).\n  \"\"\"Entry point for launching an IPython kernel.\n"
     ]
    }
   ],
   "source": [
    "vocabulary = set(model.wv.vocab)"
   ]
  },
  {
   "cell_type": "code",
   "execution_count": 99,
   "metadata": {},
   "outputs": [],
   "source": [
    "non_english_words = all_text_words.difference(vocabulary)"
   ]
  },
  {
   "cell_type": "code",
   "execution_count": 118,
   "metadata": {},
   "outputs": [
    {
     "name": "stdout",
     "output_type": "stream",
     "text": [
      "5008\n24946\n"
     ]
    }
   ],
   "source": [
    "print(len(unique_words_in_0_label))\n",
    "print(len(unique_words_in_1_label))"
   ]
  },
  {
   "cell_type": "code",
   "execution_count": 121,
   "metadata": {},
   "outputs": [],
   "source": [
    "total_words_count = 0\n",
    "for label in data_dictionary:\n",
    "    for movie in data_dictionary[label]:\n",
    "        total_words_count += len(data_dictionary[label][movie])"
   ]
  },
  {
   "cell_type": "code",
   "execution_count": 123,
   "metadata": {},
   "outputs": [
    {
     "name": "stdout",
     "output_type": "stream",
     "text": [
      "7572\n0.00035336729585676844\n"
     ]
    }
   ],
   "source": [
    "print(len(non_english_words))\n",
    "print(len(non_english_words)/total_words_count)"
   ]
  },
  {
   "cell_type": "code",
   "execution_count": 100,
   "metadata": {},
   "outputs": [],
   "source": [
    "# key : label\n",
    "# value : {movie_id : percentage_of_non_english_words, ..} \n",
    "percentage_of_non_english_words_in_movies = {\"0_label\":{}, \"1_label\":{}}"
   ]
  },
  {
   "cell_type": "code",
   "execution_count": 101,
   "metadata": {},
   "outputs": [],
   "source": [
    "#initlize all keys' values to zero\n",
    "for movie_name in data_dictionary[\"0_label\"]:\n",
    "    percentage_of_non_english_words_in_movies[\"0_label\"][movie_name] = 0\n",
    "\n",
    "for movie_name in data_dictionary[\"1_label\"]:\n",
    "    percentage_of_non_english_words_in_movies[\"1_label\"][movie_name] = 0"
   ]
  },
  {
   "cell_type": "code",
   "execution_count": 102,
   "metadata": {},
   "outputs": [],
   "source": [
    "# takes the label as input\n",
    "# fills dict_of_label_words with movie_id : percentage_of_non_english_words in it\n",
    "def count_non_english_words_in_label(label, dict_of_label_words):\n",
    "    # for every word in the label's dictionary\n",
    "    for word in dict_of_label_words:\n",
    "        if word in non_english_words:\n",
    "            # for each movie in this label that has this word\n",
    "            for movie_name in (dict_of_label_words[word][1]).keys():\n",
    "                percentage_of_non_english_words_in_movies[label][movie_name] += dict_of_label_words[word][1][movie_name]\n",
    "    \n",
    "    #divide the count of non-english words on the total number of words in the movie\n",
    "    for movie_name in data_dictionary[label]:\n",
    "        percentage_of_non_english_words_in_movies[label][movie_name] /= (len(data_dictionary[label][movie_name]))"
   ]
  },
  {
   "cell_type": "code",
   "execution_count": 105,
   "metadata": {},
   "outputs": [],
   "source": [
    "count_non_english_words_in_label(\"0_label\", dict_of_0_label_words)\n",
    "count_non_english_words_in_label(\"1_label\", dict_of_1_label_words)"
   ]
  },
  {
   "cell_type": "code",
   "execution_count": 106,
   "metadata": {},
   "outputs": [],
   "source": [
    "# [ (percentage_of_non_english_words, label, movie_name), ......]\n",
    "percentage_of_non_english_words_list = []"
   ]
  },
  {
   "cell_type": "code",
   "execution_count": 107,
   "metadata": {},
   "outputs": [],
   "source": [
    "# turn the percentage_of_non_english_words_in_movies dictionary to a list to be able to sort it\n",
    "for label in percentage_of_non_english_words_in_movies.keys():\n",
    "    for movie_name in percentage_of_non_english_words_in_movies[label]:\n",
    "        percentage_of_non_english_words_list.append( \n",
    "            (percentage_of_non_english_words_in_movies[label][movie_name],\n",
    "            label, movie_name)\n",
    "        )"
   ]
  },
  {
   "cell_type": "code",
   "execution_count": 108,
   "metadata": {},
   "outputs": [],
   "source": [
    "percentage_of_non_english_words_list.sort()"
   ]
  },
  {
   "cell_type": "heading",
   "metadata": {},
   "level": 2,
   "source": [
    "pickle out the percentage_of_non_english_words_list"
   ]
  },
  {
   "cell_type": "code",
   "execution_count": 109,
   "metadata": {},
   "outputs": [],
   "source": [
    "out_pickle('C:/Users/Abdo/Project/pickle_files/', 'percentage_of_non_english_words_list', percentage_of_non_english_words_list)"
   ]
  },
  {
   "cell_type": "heading",
   "metadata": {},
   "level": 2,
   "source": [
    "read in the percentage_of_non_english_words_list pickle"
   ]
  },
  {
   "cell_type": "code",
   "execution_count": null,
   "metadata": {},
   "outputs": [],
   "source": [
    "percentage_of_non_english_words_list = in_pickle('C:/Users/Abdo/Project/pickle_files/', 'percentage_of_non_english_words_list')"
   ]
  },
  {
   "cell_type": "heading",
   "metadata": {},
   "level": 2,
   "source": [
    "plots"
   ]
  },
  {
   "cell_type": "heading",
   "metadata": {},
   "level": 2,
   "source": [
    "pie chart"
   ]
  },
  {
   "cell_type": "heading",
   "metadata": {},
   "level": 2,
   "source": [
    "most_frequent_15_words_in_1_label_after_removing_common_words"
   ]
  },
  {
   "cell_type": "code",
   "execution_count": 110,
   "metadata": {
    "collapsed": true
   },
   "outputs": [
    {
     "data": {
      "image/png": "[encoded data removed]",
      "text/plain": [
       "<Figure size 720x720 with 1 Axes>"
      ]
     },
     "metadata": {},
     "output_type": "display_data"
    }
   ],
   "source": [
    "slice_values_of_chart, slice_names_of_chart= get_highest_or_lowest_n_value_from_list(list_of_uinque_1_label_words_and_frequencies, 15, True)\n",
    "plot_bar_char_and_save_it(slice_values_of_chart,\n",
    "                          slice_names_of_chart,\n",
    "                           \"C:/Users/Abdo/Project/figures/after_removing_non_english_words/most_frequent_15_words_in_1_label_after_removing_common_words.png\"\n",
    "                          ,\"most_frequent_15_words_in_1_label_after_removing_common_words\",\n",
    "                          \"word\", \"frequency_of_word\")"
   ]
  },
  {
   "cell_type": "heading",
   "metadata": {},
   "level": 2,
   "source": [
    "most_frequent_15_words_in_0_label_after_removing_common_words"
   ]
  },
  {
   "cell_type": "code",
   "execution_count": 111,
   "metadata": {
    "collapsed": true
   },
   "outputs": [
    {
     "data": {
      "image/png": "[encoded data removed]",
      "text/plain": [
       "<Figure size 720x720 with 1 Axes>"
      ]
     },
     "metadata": {},
     "output_type": "display_data"
    }
   ],
   "source": [
    "slice_values_of_chart, slice_names_of_chart= get_highest_or_lowest_n_value_from_list(list_of_uinque_0_label_words_and_frequencies, 15, True)\n",
    "plot_bar_char_and_save_it(slice_values_of_chart,\n",
    "                          slice_names_of_chart,\n",
    "                           \"C:/Users/Abdo/Project/figures/after_removing_non_english_words/most_frequent_15_words_in_0_label_after_removing_common_words.png\"\n",
    "                          ,\"most_frequent_15_words_in_0_label_after_removing_common_words\",\n",
    "                          \"word\", \"frequency_of_word\")"
   ]
  },
  {
   "cell_type": "heading",
   "metadata": {},
   "level": 2,
   "source": [
    "least_frequent_15_words_in_0_label_after_removing_common_words"
   ]
  },
  {
   "cell_type": "code",
   "execution_count": 112,
   "metadata": {
    "collapsed": true
   },
   "outputs": [
    {
     "data": {
      "image/png": "[encoded data removed]",
      "text/plain": [
       "<Figure size 720x720 with 1 Axes>"
      ]
     },
     "metadata": {},
     "output_type": "display_data"
    }
   ],
   "source": [
    "slice_values_of_chart, slice_names_of_chart= get_highest_or_lowest_n_value_from_list(list_of_uinque_0_label_words_and_frequencies, 15, False)\n",
    "plot_bar_char_and_save_it(slice_values_of_chart,\n",
    "                          slice_names_of_chart,\n",
    "                           \"C:/Users/Abdo/Project/figures/after_removing_non_english_words/least_frequent_15_words_in_0_label_after_removing_common_words.png\"\n",
    "                          ,\"least_frequent_15_words_in_0_label_after_removing_common_words\",\n",
    "                          \"word\", \"frequency_of_word\")"
   ]
  },
  {
   "cell_type": "heading",
   "metadata": {},
   "level": 2,
   "source": [
    "least_frequent_15_words_in_1_label_after_removing_common_words"
   ]
  },
  {
   "cell_type": "code",
   "execution_count": 113,
   "metadata": {
    "collapsed": true
   },
   "outputs": [
    {
     "data": {
      "image/png": "[encoded data removed]",
      "text/plain": [
       "<Figure size 720x720 with 1 Axes>"
      ]
     },
     "metadata": {},
     "output_type": "display_data"
    }
   ],
   "source": [
    "slice_values_of_chart, slice_names_of_chart= get_highest_or_lowest_n_value_from_list(list_of_uinque_1_label_words_and_frequencies, 15, False)\n",
    "plot_bar_char_and_save_it(slice_values_of_chart,\n",
    "                          slice_names_of_chart,\n",
    "                           \"C:/Users/Abdo/Project/figures/after_removing_non_english_words/least_frequent_15_words_in_1_label_after_removing_common_words.png\"\n",
    "                          ,\"least_frequent_15_words_in_1_label_after_removing_common_words\",\n",
    "                          \"word\", \"frequency_of_word\")"
   ]
  },
  {
   "cell_type": "heading",
   "metadata": {},
   "level": 2,
   "source": [
    "highest_15_movies_with_bad_words"
   ]
  },
  {
   "cell_type": "code",
   "execution_count": 114,
   "metadata": {
    "collapsed": true
   },
   "outputs": [
    {
     "data": {
      "image/png": "[encoded data removed]",
      "text/plain": [
       "<Figure size 720x720 with 1 Axes>"
      ]
     },
     "metadata": {},
     "output_type": "display_data"
    }
   ],
   "source": [
    "slice_values_of_chart, slice_names_of_chart= get_highest_or_lowest_n_value_from_list(percentage_of_bad_words_in_0_labeld_movies_list, 15, True)\n",
    "plot_bar_char_and_save_it(slice_values_of_chart,\n",
    "                          slice_names_of_chart,\n",
    "                           \"C:/Users/Abdo/Project/figures/after_removing_non_english_words/highest_15_movies_with_bad_words.png\"\n",
    "                          ,\"highest_15_movies_with_bad_words\",\n",
    "                          \"movie_id\", \"percentage_of_bad_words\")"
   ]
  },
  {
   "cell_type": "code",
   "execution_count": 115,
   "metadata": {
    "collapsed": true
   },
   "outputs": [
    {
     "data": {
      "image/png": "[encoded data removed]",
      "text/plain": [
       "<Figure size 720x720 with 1 Axes>"
      ]
     },
     "metadata": {},
     "output_type": "display_data"
    }
   ],
   "source": [
    "# here we create a modified list to fit the sturcture of the get_highest_or_lowest_n_value_from_list function\n",
    "# turn this [(percentage_of_non_english_words, label, movie_name), ......] into -> [ (percentage_of_non_english_words, label + movie_name ),...]\n",
    "modified_list = []\n",
    "for x in percentage_of_non_english_words_list[-15:]:\n",
    "    modified_list.append( (x[0], x[1]+\" \"+x[2]) )\n",
    "\n",
    "slice_values_of_chart, slice_names_of_chart= get_highest_or_lowest_n_value_from_list(modified_list, 15, True)\n",
    "plot_bar_char_and_save_it(slice_values_of_chart,\n",
    "                          slice_names_of_chart,\n",
    "                           \"C:/Users/Abdo/Project/figures/after_removing_non_english_words/highest_15_movies_with_non_english_words.png\"\n",
    "                          ,\"highest_15_movies_with_non_english_words\",\n",
    "                          \"movie_id\", \"percentage_of_non_english_words\")"
   ]
  },
  {
   "cell_type": "code",
   "execution_count": 15,
   "metadata": {
    "collapsed": true
   },
   "outputs": [
    {
     "data": {
      "image/png": "[encoded data removed]",
      "text/plain": [
       "<Figure size 720x720 with 1 Axes>"
      ]
     },
     "metadata": {},
     "output_type": "display_data"
    }
   ],
   "source": [
    "slice_values_of_chart, slice_names_of_chart = get_highest_or_lowest_n_value_from_list(percentage_of_bad_words_in_0_labeld_movies_list, 15, True)\n",
    "plot_bar_char_and_save_it(slice_values_of_chart,\n",
    "                          slice_names_of_chart,\n",
    "                           \"C:/Users/Abdo/Project/figures/after_removing_non_english_words/highest_15_0_labeled_movies_with_bad_words.png\"\n",
    "                          ,\"highest_15_0_labeled_movies_with_bad_words\",\n",
    "                          \"movie_name\", \"frequency_of_bad_words\")\n",
    "\n"
   ]
  },
  {
   "cell_type": "code",
   "execution_count": null,
   "metadata": {},
   "outputs": [],
   "source": []
  }
 ],
 "metadata": {
  "kernelspec": {
   "display_name": "Python 3",
   "language": "python",
   "name": "python3"
  },
  "language_info": {
   "codemirror_mode": {
    "name": "ipython",
    "version": 3
   },
   "file_extension": ".py",
   "mimetype": "text/x-python",
   "name": "python",
   "nbconvert_exporter": "python",
   "pygments_lexer": "ipython3",
   "version": "3.6.5"
  }
 },
 "nbformat": 4,
 "nbformat_minor": 2
}
