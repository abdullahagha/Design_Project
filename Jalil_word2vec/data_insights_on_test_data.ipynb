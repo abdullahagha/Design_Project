{
 "cells": [
  {
   "cell_type": "code",
   "execution_count": 77,
   "metadata": {
    "collapsed": true
   },
   "outputs": [
    {
     "name": "stderr",
     "output_type": "stream",
     "text": [
      "C:\\Users\\Abdo\\PycharmProjects\\final_project_1\\venv\\lib\\site-packages\\gensim\\utils.py:1212: UserWarning: detected Windows; aliasing chunkize to chunkize_serial\n  warnings.warn(\"detected Windows; aliasing chunkize to chunkize_serial\")\n"
     ]
    }
   ],
   "source": [
    "import pickle\n",
    "import pandas as pd\n",
    "import numpy as np\n",
    "import matplotlib.pyplot as plt\n",
    "from nltk.corpus import words as nltk_words\n",
    "import os\n",
    "import data_analysis.preprocessor_end as pre\n",
    "import classifier"
   ]
  },
  {
   "cell_type": "heading",
   "metadata": {},
   "level": 2,
   "source": [
    "for the test data with known labels"
   ]
  },
  {
   "cell_type": "code",
   "execution_count": 31,
   "metadata": {},
   "outputs": [],
   "source": [
    "# key : label_movie/book (the not labeled dict is for the books we don't have a clear label about)\n",
    "# value its corresponding dict\n",
    "#        key: word\n",
    "#        value: number of occurencies \n",
    "dict_of_dicts = {\n",
    "    \"1_movies\" : {},\n",
    "    \"0_movies\" : {},\n",
    "    \"1_books\" : {},\n",
    "    \"0_books\" : {},\n",
    "    \"not_labeled_1_books\" : {},\n",
    "    \"not_labeled_0_books\" : {}\n",
    "}"
   ]
  },
  {
   "cell_type": "code",
   "execution_count": 86,
   "metadata": {},
   "outputs": [],
   "source": [
    "# takes a key (a word) and adds one to its number of occurences if it exist, or initialize it to 1 \n",
    "def add_value_to_dict(words_dict, key):\n",
    "    if key in words_dict:\n",
    "        words_dict[key] += 1\n",
    "    else:\n",
    "        words_dict[key] = 1\n",
    "# returns a [ (frequency_of_word, word), (), ...  ]\n",
    "def get_most_frequent_n_words(dict_of_words, unique_words, n):\n",
    "    unique_words_occurncy = []\n",
    "    for unique_word in unique_words:\n",
    "        unique_words_occurncy.append((dict_of_words[unique_word], unique_word))\n",
    "    unique_words_occurncy.sort(reverse=True)\n",
    "    return [unique_words_occurncy[:n]]\n",
    "\n",
    "#plots\n",
    "def plot_bar_char_and_save_it(value_name_tuples_list, file_path_name, figure_title, x_axis_label, y_axis_label):\n",
    "    list_of_slice_names = []\n",
    "    list_of_slice_values = []\n",
    "    for value_name_tuple in value_name_tuples_list:\n",
    "        list_of_slice_names.append(value_name_tuple[1])\n",
    "        list_of_slice_values.append(value_name_tuple[0])\n",
    "        \n",
    "    plt.figure(figsize=(10,10))\n",
    "    index = np.arange(len(list_of_slice_names))\n",
    "    plt.bar(index, list_of_slice_values) # y axis\n",
    "    plt.xticks(index, list_of_slice_names, fontsize=10, rotation=30)\n",
    "    plt.title(figure_title)\n",
    "    plt.xlabel(x_axis_label, fontsize=15)\n",
    "    plt.ylabel(y_axis_label, fontsize=15)\n",
    "    plt.savefig(file_path_name)\n",
    "    plt.show()"
   ]
  },
  {
   "cell_type": "heading",
   "metadata": {},
   "level": 2,
   "source": [
    "for the test data with no known labels"
   ]
  },
  {
   "cell_type": "code",
   "execution_count": 71,
   "metadata": {},
   "outputs": [],
   "source": [
    "directory_path = \"C:/Users/Abdo/Project/test_data/books_txt/\""
   ]
  },
  {
   "cell_type": "code",
   "execution_count": 72,
   "metadata": {},
   "outputs": [],
   "source": [
    "folders = os.listdir(directory_path)"
   ]
  },
  {
   "cell_type": "code",
   "execution_count": 73,
   "metadata": {
    "collapsed": true
   },
   "outputs": [
    {
     "name": "stdout",
     "output_type": "stream",
     "text": [
      "5042 Voodoo In Haiti by Aubrey Wilder.txt\n"
     ]
    },
    {
     "name": "stdout",
     "output_type": "stream",
     "text": [
      "A Night To Remember by Argus.txt\nA Night To Remember by Argus.txt\nAB-1609 House of Dark Pleasure by Gloria Day.txt\n"
     ]
    },
    {
     "name": "stdout",
     "output_type": "stream",
     "text": [
      "AB-1676 Beasts Are Better by Richard Long.txt\n"
     ]
    },
    {
     "name": "stdout",
     "output_type": "stream",
     "text": [
      "AB-1680 The Dog Ballers by Don Russell.txt\n"
     ]
    },
    {
     "name": "stdout",
     "output_type": "stream",
     "text": [
      "AB-5247 Incest Wifeby M J Jacobs.txt\n"
     ]
    },
    {
     "name": "stdout",
     "output_type": "stream",
     "text": [
      "AB-5341 Mother With The Hots by Kathy Andrews.txt\n"
     ]
    },
    {
     "name": "stdout",
     "output_type": "stream",
     "text": [
      "AB-5353 Harder! Mom Said by Kathy Andrews.txt\n"
     ]
    },
    {
     "name": "stdout",
     "output_type": "stream",
     "text": [
      "AB-5356 What A Sucking Mother! by Kathy Andrews.txt\n"
     ]
    },
    {
     "name": "stdout",
     "output_type": "stream",
     "text": [
      "AB-5389 Daddy's Naughty Daughters by Bob Wallace.txt\n"
     ]
    },
    {
     "name": "stdout",
     "output_type": "stream",
     "text": [
      "AB-5475 Family Peepers by David Crane.txt\n"
     ]
    },
    {
     "name": "stdout",
     "output_type": "stream",
     "text": [
      "AB-5480 Billy's Hot Mom by Kathy Andrews.txt\nAB-5480 Billy's Hot Mom by Kathy Andrews.txt\n"
     ]
    },
    {
     "name": "stdout",
     "output_type": "stream",
     "text": [
      "AB-5491 Three Sucking Daughters by Dan Reagan.txt\n"
     ]
    },
    {
     "name": "stdout",
     "output_type": "stream",
     "text": [
      "AB-5548 A Wild Family Party by Hank Borden.txt\n"
     ]
    },
    {
     "name": "stdout",
     "output_type": "stream",
     "text": [
      "AB-5557 Pay For Play Cheerleaders by Victoria Parker.txt\n"
     ]
    },
    {
     "name": "stdout",
     "output_type": "stream",
     "text": [
      "AB-5574 Twin Farmgirl Cousins by Ron Taylor.txt\n"
     ]
    },
    {
     "name": "stdout",
     "output_type": "stream",
     "text": [
      "AB-5592 First Time In The Behind by Ron Taylor.txt\n"
     ]
    },
    {
     "name": "stdout",
     "output_type": "stream",
     "text": [
      "AB-5602 When Mom And Dad Are Away by Author Unknown.txt\n"
     ]
    },
    {
     "name": "stdout",
     "output_type": "stream",
     "text": [
      "AB-5617 Brothers Ball Best by Ray Mills.txt\n"
     ]
    },
    {
     "name": "stdout",
     "output_type": "stream",
     "text": [
      "AB-5618 Incest Schoolgirls by Victoria Parker.txt\n"
     ]
    },
    {
     "name": "stdout",
     "output_type": "stream",
     "text": [
      "ACDC-182 Swap Night.txt\n"
     ]
    },
    {
     "name": "stdout",
     "output_type": "stream",
     "text": [
      "All_in_the_Family.txt\n"
     ]
    },
    {
     "name": "stdout",
     "output_type": "stream",
     "text": [
      "ASP-2021 Driven Into Swapping.txt\nASP-2021 Driven Into Swapping.txt\n"
     ]
    },
    {
     "name": "stdout",
     "output_type": "stream",
     "text": [
      "AudioBook The Gunslinger Chapter - English (auto-generated).txt\n"
     ]
    },
    {
     "name": "stdout",
     "output_type": "stream",
     "text": [
      "AW-103.TXT\nAW-103.TXT\n"
     ]
    },
    {
     "name": "stdout",
     "output_type": "stream",
     "text": [
      "A_Mother-Daughter_Twosome.txt\n"
     ]
    },
    {
     "name": "stdout",
     "output_type": "stream",
     "text": [
      "A_Wild_Family_Party.txt\n"
     ]
    },
    {
     "name": "stdout",
     "output_type": "stream",
     "text": [
      "BB-6565 Deep Crotch Mother.txt\n"
     ]
    },
    {
     "name": "stdout",
     "output_type": "stream",
     "text": [
      "BDB-1023 Step-Daughter Initiation.txt\n"
     ]
    },
    {
     "name": "stdout",
     "output_type": "stream",
     "text": [
      "Beast Humping by Ron Bywood.txt\n"
     ]
    },
    {
     "name": "stdout",
     "output_type": "stream",
     "text": [
      "Billy's_Hot_Mom.txt\nBilly's_Hot_Mom.txt\n"
     ]
    },
    {
     "name": "stdout",
     "output_type": "stream",
     "text": [
      "BL-5341 Emily_s Lips By Arthur Alexander.txt\n"
     ]
    },
    {
     "name": "stdout",
     "output_type": "stream",
     "text": [
      "Blackmailed.txt\nBlackmailed.txt\n"
     ]
    },
    {
     "name": "stdout",
     "output_type": "stream",
     "text": [
      "Brothers_Ball_Best.txt\n"
     ]
    },
    {
     "name": "stdout",
     "output_type": "stream",
     "text": [
      "Carve the Mark Chapter 1 - English (auto-generated).txt\nCarve The Mark Chapter 2 - English (auto-generated) (1).txt\nCarve The Mark Chapter 2 - English (auto-generated).txt\n"
     ]
    },
    {
     "name": "stdout",
     "output_type": "stream",
     "text": [
      "Carve the Mark Chapter 4 - English (auto-generated).txt\nCarve The Mark Chapter 5 - English (auto-generated).txt\nCC-241 The Family Haven BOOK ONE by Author Unknown.txt\nCC-241 The Family Haven BOOK ONE by Author Unknown.txt\n"
     ]
    },
    {
     "name": "stdout",
     "output_type": "stream",
     "text": [
      "Charles_Wykes.Brothers_and_Sisters.FAM-119.TXT\nCharles_Wykes.Brothers_and_Sisters.FAM-119.TXT\n"
     ]
    },
    {
     "name": "stdout",
     "output_type": "stream",
     "text": [
      "Cheryl's Cumuppance - Ex-Wives III.txt\nCheryl's Cumuppance - Ex-Wives III.txt\n"
     ]
    },
    {
     "name": "stdout",
     "output_type": "stream",
     "text": [
      "CHINA TEEN PHOTO SLAVES by Loren Ryder.txt\nCHINA TEEN PHOTO SLAVES by Loren Ryder.txt\n"
     ]
    },
    {
     "name": "stdout",
     "output_type": "stream",
     "text": [
      "Daddy's_Naughty_Daughters.txt\n"
     ]
    },
    {
     "name": "stdout",
     "output_type": "stream",
     "text": [
      "Daughters_In_Heat.txt\n"
     ]
    },
    {
     "name": "stdout",
     "output_type": "stream",
     "text": [
      "Desert Slave by Argus.txt\nDesert Slave by Argus.txt\nDog Lover's Diary by Horst Kepple.txt\n"
     ]
    },
    {
     "name": "stdout",
     "output_type": "stream",
     "text": [
      "Doggie Farm by John Reskin.txt\n"
     ]
    },
    {
     "name": "stdout",
     "output_type": "stream",
     "text": [
      "Eager_Horny_Cousin.txt\n"
     ]
    },
    {
     "name": "stdout",
     "output_type": "stream",
     "text": [
      "EC-1120 Bestiality and a Young Girl by Kathleen Hennessy.txt\n"
     ]
    },
    {
     "name": "stdout",
     "output_type": "stream",
     "text": [
      "EX-WIVES - PART IV DESTINY.txt\nEX-WIVES - PART IV DESTINY.txt\n"
     ]
    },
    {
     "name": "stdout",
     "output_type": "stream",
     "text": [
      "EX-WIVES INHERITANCE - PART 1 - JULIA DAWSON.txt\nEX-WIVES INHERITANCE - PART 1 - JULIA DAWSON.txt\n"
     ]
    },
    {
     "name": "stdout",
     "output_type": "stream",
     "text": [
      "EX-WIVES INHERITANCE - PART 2 - DOMINIQUE'S TAMING.txt\nEX-WIVES INHERITANCE - PART 2 - DOMINIQUE'S TAMING.txt\n"
     ]
    },
    {
     "name": "stdout",
     "output_type": "stream",
     "text": [
      "FAM-119 Brothers And Sisters by Charles Wykes.txt\nFAM-119 Brothers And Sisters by Charles Wykes.txt\n"
     ]
    },
    {
     "name": "stdout",
     "output_type": "stream",
     "text": [
      "Family_Peepers.txt\n"
     ]
    },
    {
     "name": "stdout",
     "output_type": "stream",
     "text": [
      "First_Time_In_The_Behind.txt\n"
     ]
    },
    {
     "name": "stdout",
     "output_type": "stream",
     "text": [
      "FLP-135 Girl's Camp Counselor by Paul Sutherland.txt\n"
     ]
    },
    {
     "name": "stdout",
     "output_type": "stream",
     "text": [
      "GE-2033 Spouse In Torment by Jason Cannon.txt\n"
     ]
    },
    {
     "name": "stdout",
     "output_type": "stream",
     "text": [
      "GGE-101 Teaching Swapping by Author Unknown.txt\n"
     ]
    },
    {
     "name": "stdout",
     "output_type": "stream",
     "text": [
      "GK-550 The Soldier's Wife by Alex Ayers.txt\n"
     ]
    },
    {
     "name": "stdout",
     "output_type": "stream",
     "text": [
      "gs-59.txt\n"
     ]
    },
    {
     "name": "stdout",
     "output_type": "stream",
     "text": [
      "gsv-133.txt\n"
     ]
    },
    {
     "name": "stdout",
     "output_type": "stream",
     "text": [
      "Hard to tell by Arianne.txt\nHard to tell by Arianne.txt\nherbarkingstud.txt\n"
     ]
    },
    {
     "name": "stdout",
     "output_type": "stream",
     "text": [
      "Her_Husband's_Boss.txt\n"
     ]
    },
    {
     "name": "stdout",
     "output_type": "stream",
     "text": [
      "House_Of_Evil.txt\n"
     ]
    },
    {
     "name": "stdout",
     "output_type": "stream",
     "text": [
      "Impossible-Standards.txt\n"
     ]
    },
    {
     "name": "stdout",
     "output_type": "stream",
     "text": [
      "Incest Schoolgirls.txt\n"
     ]
    },
    {
     "name": "stdout",
     "output_type": "stream",
     "text": [
      "Incest_Wife.txt\n"
     ]
    },
    {
     "name": "stdout",
     "output_type": "stream",
     "text": [
      "In_Bondage_Schoolgirl.txt\n"
     ]
    },
    {
     "name": "stdout",
     "output_type": "stream",
     "text": [
      "j-3.txt\n"
     ]
    },
    {
     "name": "stdout",
     "output_type": "stream",
     "text": [
      "kc-126.txt\n"
     ]
    },
    {
     "name": "stdout",
     "output_type": "stream",
     "text": [
      "LB1348 The Family Sucks A Lot .txt\n"
     ]
    },
    {
     "name": "stdout",
     "output_type": "stream",
     "text": [
      "lcs-70003.txt\n"
     ]
    },
    {
     "name": "stdout",
     "output_type": "stream",
     "text": [
      "Legal Briefs by Argus.txt\nLittle Monsters by Kara Thomas, read by Phoebe Strole _ Brittany Pressley - Audiobook Excerpt - English (auto-generated).txt\nLL-0229 Shack-Ups! by Fran Furnivall.txt\n"
     ]
    },
    {
     "name": "stdout",
     "output_type": "stream",
     "text": [
      "LL-0251 Auntie’s Naughty Boys by Hank Faber.txt\n"
     ]
    },
    {
     "name": "stdout",
     "output_type": "stream",
     "text": [
      "LL-0344 His Sexpot Sis by Robert G. Haill.txt\n"
     ]
    },
    {
     "name": "stdout",
     "output_type": "stream",
     "text": [
      "LLP0101 The Abducted Bride.txt\n"
     ]
    },
    {
     "name": "stdout",
     "output_type": "stream",
     "text": [
      "LLP0102 The Blackmailed Wife.txt\n"
     ]
    },
    {
     "name": "stdout",
     "output_type": "stream",
     "text": [
      "LLP0103 A Neighborhood Party.txt\n"
     ]
    },
    {
     "name": "stdout",
     "output_type": "stream",
     "text": [
      "LLP0171 Honeymoon Hotel.txt\n"
     ]
    },
    {
     "name": "stdout",
     "output_type": "stream",
     "text": [
      "LLP0348 The Motorcyclist_s Wife.txt\n"
     ]
    },
    {
     "name": "stdout",
     "output_type": "stream",
     "text": [
      "LLP0874 A Sister_s Lust by Audrey Gait.txt\n"
     ]
    },
    {
     "name": "stdout",
     "output_type": "stream",
     "text": [
      "m-4006.txt\n"
     ]
    },
    {
     "name": "stdout",
     "output_type": "stream",
     "text": [
      "m-60212.txt\n"
     ]
    },
    {
     "name": "stdout",
     "output_type": "stream",
     "text": [
      "mastlilg.txt\n"
     ]
    },
    {
     "name": "stdout",
     "output_type": "stream",
     "text": [
      "mlp-146.txt\n"
     ]
    },
    {
     "name": "stdout",
     "output_type": "stream",
     "text": [
      "nakedwithherdog.txt\n"
     ]
    },
    {
     "name": "stdout",
     "output_type": "stream",
     "text": [
      "Naked_Wet_Daughter.txt\n"
     ]
    },
    {
     "name": "stdout",
     "output_type": "stream",
     "text": [
      "Naughty Schooling by David Shaw.txt\nNaughty_Wild_Cousin.txt\n"
     ]
    },
    {
     "name": "stdout",
     "output_type": "stream",
     "text": [
      "nd-141.txt\n"
     ]
    },
    {
     "name": "stdout",
     "output_type": "stream",
     "text": [
      "ns-451.txt\n"
     ]
    },
    {
     "name": "stdout",
     "output_type": "stream",
     "text": [
      "oa-117.txt\n"
     ]
    },
    {
     "name": "stdout",
     "output_type": "stream",
     "text": [
      "OES-117 Maggie_s Moist Mouth.txt\n"
     ]
    },
    {
     "name": "stdout",
     "output_type": "stream",
     "text": [
      "OES-138 The Mouth Seducers by Fred Tracy.txt\n"
     ]
    },
    {
     "name": "stdout",
     "output_type": "stream",
     "text": [
      "oph-217.txt\n"
     ]
    },
    {
     "name": "stdout",
     "output_type": "stream",
     "text": [
      "ORL-149 Oral Zone by Otto Gerbert.txt\n"
     ]
    },
    {
     "name": "stdout",
     "output_type": "stream",
     "text": [
      "ORL-155 Oral Nieces by Jim Stacey.txt\n"
     ]
    },
    {
     "name": "stdout",
     "output_type": "stream",
     "text": [
      "p-2064.txt\n"
     ]
    },
    {
     "name": "stdout",
     "output_type": "stream",
     "text": [
      "Passionate_Sister.txt\nPassionate_Sister.txt\n"
     ]
    },
    {
     "name": "stdout",
     "output_type": "stream",
     "text": [
      "Paul_Sutherland.Girls_Camp_Counselor.FLP-135.txt\n"
     ]
    },
    {
     "name": "stdout",
     "output_type": "stream",
     "text": [
      "Peeper by Argus.txt\nPirates' Sex Toys by Argus.txt\n"
     ]
    },
    {
     "name": "stdout",
     "output_type": "stream",
     "text": [
      "Pirates' Sex Toys by Argus.txt\npp-11.txt\n"
     ]
    },
    {
     "name": "stdout",
     "output_type": "stream",
     "text": [
      "pp-13.txt\n"
     ]
    },
    {
     "name": "stdout",
     "output_type": "stream",
     "text": [
      "pp-7001.txt\n"
     ]
    },
    {
     "name": "stdout",
     "output_type": "stream",
     "text": [
      "pp-7002.txt\n"
     ]
    },
    {
     "name": "stdout",
     "output_type": "stream",
     "text": [
      "pp-7012.txt\n"
     ]
    },
    {
     "name": "stdout",
     "output_type": "stream",
     "text": [
      "pp-7027.txt\n"
     ]
    },
    {
     "name": "stdout",
     "output_type": "stream",
     "text": [
      "pp-7042.txt\n"
     ]
    },
    {
     "name": "stdout",
     "output_type": "stream",
     "text": [
      "pp-7046.txt\n"
     ]
    },
    {
     "name": "stdout",
     "output_type": "stream",
     "text": [
      "pp-7093.txt\n"
     ]
    },
    {
     "name": "stdout",
     "output_type": "stream",
     "text": [
      "pp-7205.txt\n"
     ]
    },
    {
     "name": "stdout",
     "output_type": "stream",
     "text": [
      "pp-7206.txt\n"
     ]
    },
    {
     "name": "stdout",
     "output_type": "stream",
     "text": [
      "pp-7208.txt\n"
     ]
    },
    {
     "name": "stdout",
     "output_type": "stream",
     "text": [
      "pp-7285.txt\n"
     ]
    },
    {
     "name": "stdout",
     "output_type": "stream",
     "text": [
      "pp-7304.txt\n"
     ]
    },
    {
     "name": "stdout",
     "output_type": "stream",
     "text": [
      "pp-7339.txt\n"
     ]
    },
    {
     "name": "stdout",
     "output_type": "stream",
     "text": [
      "pp-7375.txt\n"
     ]
    },
    {
     "name": "stdout",
     "output_type": "stream",
     "text": [
      "pp-7388.txt\n"
     ]
    },
    {
     "name": "stdout",
     "output_type": "stream",
     "text": [
      "pp-7397.txt\n"
     ]
    },
    {
     "name": "stdout",
     "output_type": "stream",
     "text": [
      "pp-7524.txt\n"
     ]
    },
    {
     "name": "stdout",
     "output_type": "stream",
     "text": [
      "pp-7541.txt\n"
     ]
    },
    {
     "name": "stdout",
     "output_type": "stream",
     "text": [
      "pp-8001.txt\n"
     ]
    },
    {
     "name": "stdout",
     "output_type": "stream",
     "text": [
      "pp-8016.txt\n"
     ]
    },
    {
     "name": "stdout",
     "output_type": "stream",
     "text": [
      "pp-8049.txt\n"
     ]
    },
    {
     "name": "stdout",
     "output_type": "stream",
     "text": [
      "pp-8051.txt\n"
     ]
    },
    {
     "name": "stdout",
     "output_type": "stream",
     "text": [
      "pp-8060.txt\n"
     ]
    },
    {
     "name": "stdout",
     "output_type": "stream",
     "text": [
      "Punching Bag by Argus.txt\nPunching Bag by Argus.txt\nras-1405.txt\nras-1405.txt\n"
     ]
    },
    {
     "name": "stdout",
     "output_type": "stream",
     "text": [
      "rcl-216.txt\nrcl-216.txt\n"
     ]
    },
    {
     "name": "stdout",
     "output_type": "stream",
     "text": [
      "RCL-228 Little Boys And Laura.txt\n"
     ]
    },
    {
     "name": "stdout",
     "output_type": "stream",
     "text": [
      "sb-206.txt\n"
     ]
    },
    {
     "name": "stdout",
     "output_type": "stream",
     "text": [
      "sc-173.txt\n"
     ]
    },
    {
     "name": "stdout",
     "output_type": "stream",
     "text": [
      "Schoolgirl_Bondage.txt\n"
     ]
    },
    {
     "name": "stdout",
     "output_type": "stream",
     "text": [
      "Seduced_Young_Wife.txt\n"
     ]
    },
    {
     "name": "stdout",
     "output_type": "stream",
     "text": [
      "Servile Sluts by Jay Merson.txt\n"
     ]
    },
    {
     "name": "stdout",
     "output_type": "stream",
     "text": [
      "Sexy Sailors by Frances La Gatta.txt\nSexy Sailors by Frances La Gatta.txt\n"
     ]
    },
    {
     "name": "stdout",
     "output_type": "stream",
     "text": [
      "Sister's_Husband.txt\n"
     ]
    },
    {
     "name": "stdout",
     "output_type": "stream",
     "text": [
      "Sister's_Wet_Panties.txt\n"
     ]
    },
    {
     "name": "stdout",
     "output_type": "stream",
     "text": [
      "Sister_Sucks_Best.txt\n"
     ]
    },
    {
     "name": "stdout",
     "output_type": "stream",
     "text": [
      "Slave_Trader's_Captive.txt\n"
     ]
    },
    {
     "name": "stdout",
     "output_type": "stream",
     "text": [
      "Slut by Argus.txt\nSlut by Argus.txt\n"
     ]
    },
    {
     "name": "stdout",
     "output_type": "stream",
     "text": [
      "Summer Lovers by Argus.txt\nSummer Lovers by Argus.txt\n"
     ]
    },
    {
     "name": "stdout",
     "output_type": "stream",
     "text": [
      "Taken By Force by Jay Merson.txt\nTaken By Force by Jay Merson.txt\n"
     ]
    },
    {
     "name": "stdout",
     "output_type": "stream",
     "text": [
      "THE CAPTIVE by Amber Jameson.txt\n"
     ]
    },
    {
     "name": "stdout",
     "output_type": "stream",
     "text": [
      "THE CONTRACT by Sarah Fisher.txt\n"
     ]
    },
    {
     "name": "stdout",
     "output_type": "stream",
     "text": [
      "THE DRIVERS by Henry Morgan.txt\nTHE DRIVERS by Henry Morgan.txt\n"
     ]
    },
    {
     "name": "stdout",
     "output_type": "stream",
     "text": [
      "The Secret Fantasies of a Suburban Girl by Laura Jenkins.txt\nThe Secret Fantasies of a Suburban Girl by Laura Jenkins.txt\n"
     ]
    },
    {
     "name": "stdout",
     "output_type": "stream",
     "text": [
      "The_Orgiastic_Cult.txt\n"
     ]
    },
    {
     "name": "stdout",
     "output_type": "stream",
     "text": [
      "The_Rancher's_Wife.txt\n"
     ]
    },
    {
     "name": "stdout",
     "output_type": "stream",
     "text": [
      "The_Seductive_Sister-In-Law.txt\n"
     ]
    },
    {
     "name": "stdout",
     "output_type": "stream",
     "text": [
      "The_Tempted_Tourist.txt\n"
     ]
    },
    {
     "name": "stdout",
     "output_type": "stream",
     "text": [
      "The_Unfaithful_Girlfriend.txt\n"
     ]
    },
    {
     "name": "stdout",
     "output_type": "stream",
     "text": [
      "The_Weekend_Captive.txt\n"
     ]
    },
    {
     "name": "stdout",
     "output_type": "stream",
     "text": [
      "Three-Way_Weekend.txt\n"
     ]
    },
    {
     "name": "stdout",
     "output_type": "stream",
     "text": [
      "Three_Sucking_Daughters.txt\n"
     ]
    },
    {
     "name": "stdout",
     "output_type": "stream",
     "text": [
      "Trio.txt\nTween_Sister's_Hot_Thighs.txt\n"
     ]
    },
    {
     "name": "stdout",
     "output_type": "stream",
     "text": [
      "Twin_Farmgirl_Cousins.txt\n"
     ]
    },
    {
     "name": "stdout",
     "output_type": "stream",
     "text": [
      "Wanting_Everyone.txt\n"
     ]
    },
    {
     "name": "stdout",
     "output_type": "stream",
     "text": [
      "What_A_Sucking_Mother.txt\n"
     ]
    },
    {
     "name": "stdout",
     "output_type": "stream",
     "text": [
      "When_Mom_And_Dad_Are_Away.txt\n"
     ]
    },
    {
     "name": "stdout",
     "output_type": "stream",
     "text": [
      "White Girls In Africa by Argus.txt\nWhite Girls In Africa by Argus.txt\n"
     ]
    },
    {
     "name": "stdout",
     "output_type": "stream",
     "text": [
      "WOMEN ON THE CHAIN GANG by Jay Merson.txt\n"
     ]
    },
    {
     "name": "stdout",
     "output_type": "stream",
     "text": [
      "YW-118 Ecstasy-Between Young _ Old by Lorna Miller.txt\n"
     ]
    },
    {
     "name": "stdout",
     "output_type": "stream",
     "text": [
      "YW-119 Sex Teaching Teacher.txt\n"
     ]
    },
    {
     "name": "stdout",
     "output_type": "stream",
     "text": [
      "0_11 TRUE SCARY STORIES From Reddit [MEGA COLLABORATION #3] - English (auto-generated).txt\n0_A novel by - Jeffrey Carver ( PDFDrive.com ).txt\n"
     ]
    },
    {
     "name": "stdout",
     "output_type": "stream",
     "text": [
      "0_Audiobook_ Miss Philura's Wedding Gown by Florence Morse Kingsley _ AudioBooks Classic - English (auto-generated).txt\n"
     ]
    },
    {
     "name": "stdout",
     "output_type": "stream",
     "text": [
      "0_Crime-and-Punishment.txt\n"
     ]
    },
    {
     "name": "stdout",
     "output_type": "stream",
     "text": [
      "0_Dead Man's Planet [SF Audiobook] - English (auto-generated).txt\n0_elif-safak-esq-kko-eng.txt\n"
     ]
    },
    {
     "name": "stdout",
     "output_type": "stream",
     "text": [
      "0_Gone Girl by Gillian Flynn ( PDFDrive.com ).txt\n"
     ]
    },
    {
     "name": "stdout",
     "output_type": "stream",
     "text": [
      "0_Good+Morning+Holy+Spirit.txt\n"
     ]
    },
    {
     "name": "stdout",
     "output_type": "stream",
     "text": [
      "0_HOLY BIBLE - Book of MARK - Word English Bible (WEB) - FULL AudioBook _ GreatestAudioBooks - English (auto-generated).txt\n"
     ]
    },
    {
     "name": "stdout",
     "output_type": "stream",
     "text": [
      "0_Learn English with Audio Story - Jane Eyre - English (auto-generated).txt\n0_Learn English with Audio Story - The Adventures of Tom Sawyers - English (auto-generated).txt\n"
     ]
    },
    {
     "name": "stdout",
     "output_type": "stream",
     "text": [
      "0_Learn English With Story White Death subtitled level 1 - English (auto-generated).txt\n0_Loves-Fool.txt\n"
     ]
    },
    {
     "name": "stdout",
     "output_type": "stream",
     "text": [
      "0_Sanctuary Full Audiobook by Edith WHARTON by General Fiction Audiobook - English (auto-generated).txt\n"
     ]
    },
    {
     "name": "stdout",
     "output_type": "stream",
     "text": [
      "0_The Comedy of Errors (Improved Reading) (FULL Audiobook) - English (auto-generated).txt\n"
     ]
    },
    {
     "name": "stdout",
     "output_type": "stream",
     "text": [
      "0_The Fault in Our Stars ( PDFDrive.com ).txt\n"
     ]
    },
    {
     "name": "stdout",
     "output_type": "stream",
     "text": [
      "0_The Gifts of Imperfection_ Embrace Who You Are ( PDFDrive.com ).txt\n"
     ]
    },
    {
     "name": "stdout",
     "output_type": "stream",
     "text": [
      "0_The Monk Who Sold His Ferrari ( PDFDrive.com ).txt\n"
     ]
    },
    {
     "name": "stdout",
     "output_type": "stream",
     "text": [
      "0_THE VAMPYRE by John William Polidori - FULL AudioBook _ Greatest AudioBooks - English (auto-generated)(1).txt\n0_THE VAMPYRE by John William Polidori - FULL AudioBook _ Greatest AudioBooks - English (auto-generated).txt\n"
     ]
    },
    {
     "name": "stdout",
     "output_type": "stream",
     "text": [
      "0_The-Brothers-Karamazov.txt\n"
     ]
    },
    {
     "name": "stdout",
     "output_type": "stream",
     "text": [
      "0_The-House-of-the-Dead.txt\n"
     ]
    },
    {
     "name": "stdout",
     "output_type": "stream",
     "text": [
      "1_11 TRUE SCARY STORIES From Reddit [MEGA COLLABORATION #4] - English (auto-generated).txt\n1_14 Horror Stories Animated (Compilation of 2015) - English (auto-generated).txt\n"
     ]
    },
    {
     "name": "stdout",
     "output_type": "stream",
     "text": [
      "1_14 More Horror Stories Animated (Compilation of 2016) - English (auto-generated).txt\n1_16 True Scary Stories [Compilation Vol.14] - English (auto-generated).txt\n"
     ]
    },
    {
     "name": "stdout",
     "output_type": "stream",
     "text": [
      "1_5 Horror Stories Animated (Compilation of Dec. 2018) - English (auto-generated).txt\n1_A Sherlock Holmes Novel_ The Sign of the Four Audiobook - English (United Kingdom).txt\n"
     ]
    },
    {
     "name": "stdout",
     "output_type": "stream",
     "text": [
      "1_A TALE OF TWO CITIES by Charles Dickens - FULL AudioBook _ Greatest AudioBooks (Book 1 of 3) V2 - English (auto-generated).txt\n"
     ]
    },
    {
     "name": "stdout",
     "output_type": "stream",
     "text": [
      "1_Audiobooks - The Little Prince - Antoine de Saint-Exupéry - English (auto-generated).txt\n"
     ]
    },
    {
     "name": "stdout",
     "output_type": "stream",
     "text": [
      "1_aufg.txt\n"
     ]
    },
    {
     "name": "stdout",
     "output_type": "stream",
     "text": [
      "1_CELEBRATED CRIMES_ THE MAN IN THE IRON MASK - FULL AudioBook _ GreatestAudioBooks - English (auto-generated).txt\n"
     ]
    },
    {
     "name": "stdout",
     "output_type": "stream",
     "text": [
      "1_Chapter 1 - The Boy Who Lived (Harry Potter and the Sorcerer's Stone) - English (auto-generated).txt\n1_CUSTER BATTLEFIELD_ A History And Guide To The Battle Of The Little Bighorn _ Greatest AudioBooks - English (auto-generated).txt\n"
     ]
    },
    {
     "name": "stdout",
     "output_type": "stream",
     "text": [
      "1_Dead Men Tell No Tales audiobook (FULL Audiobook) - part (1 of 3) - English (auto-generated).txt\n"
     ]
    },
    {
     "name": "stdout",
     "output_type": "stream",
     "text": [
      "1_EMMA Audiobook by Jane Austen _ Full Audio book with Subtitles _ Part 1 of 2 - English.txt\n"
     ]
    },
    {
     "name": "stdout",
     "output_type": "stream",
     "text": [
      "1_Encyclopedia of Comic Books and Graphic Novels ( PDFDrive.com ).txt\n"
     ]
    },
    {
     "name": "stdout",
     "output_type": "stream",
     "text": [
      "1_English Learning Audio Book, through picture, story English subtitle 20 - English (auto-generated).txt\n1_IMPROVE LISTENING SKILLS VIA GREAT NOVELS - The Adventures of HuckleBerry Finn [Part I] - English (auto-generated).txt\n"
     ]
    },
    {
     "name": "stdout",
     "output_type": "stream",
     "text": [
      "1_Learn English Through Story - Jane Eyre- Practice Listening English - English (auto-generated).txt\n"
     ]
    },
    {
     "name": "stdout",
     "output_type": "stream",
     "text": [
      "1_Learn English Through Story - The House On The Hill by Elizabeth Laird - English (auto-generated).txt\n1_Learn English Through Story - The Stranger by Norman Whitney - English (auto-generated).txt\n"
     ]
    },
    {
     "name": "stdout",
     "output_type": "stream",
     "text": [
      "1_Learn English Through Story - The Woman Who Disappeared (Elementary) Audiobook with Subtitles - English (auto-generated).txt\n"
     ]
    },
    {
     "name": "stdout",
     "output_type": "stream",
     "text": [
      "1_Learn English Through Story -The Willing Ghost- Practice Listening English - English (auto-generated).txt\n1_Learn English With Story Love or Money level 1 - English (auto-generated).txt\n"
     ]
    },
    {
     "name": "stdout",
     "output_type": "stream",
     "text": [
      "1_Muhammad_ His Life Based on the Earliest Sources ( PDFDrive.com ).txt\n"
     ]
    },
    {
     "name": "stdout",
     "output_type": "stream",
     "text": [
      "1_pride-and-prejudice.txt\n"
     ]
    },
    {
     "name": "stdout",
     "output_type": "stream",
     "text": [
      "1_Rose O' The River Full Audiobook by Kate Douglas WIGGIN by General Fiction - English (auto-generated).txt\n"
     ]
    },
    {
     "name": "stdout",
     "output_type": "stream",
     "text": [
      "1_THE FALL OF THE HOUSE OF USHER by Edgar Allan Poe - FULL AudioBook _ GreatestAudioBooks V1TA - English (auto-generated).txt\n1_THE MAN FROM SNOWY RIVER by Banjo Paterson - FULL AudioBook _ GreatestAudioBooks - English (auto-generated)(1).txt\n"
     ]
    },
    {
     "name": "stdout",
     "output_type": "stream",
     "text": [
      "1_THE MAN FROM SNOWY RIVER by Banjo Paterson - FULL AudioBook _ GreatestAudioBooks - English (auto-generated).txt\n"
     ]
    },
    {
     "name": "stdout",
     "output_type": "stream",
     "text": [
      "1_The Metamorphosis by Franz Kafka (Free Audio Book in English Language) - English.txt\n"
     ]
    },
    {
     "name": "stdout",
     "output_type": "stream",
     "text": [
      "1_The Secret of Dreams - FULL Audio Book - by Yacki Raizizun _ GreatestAudioBooks - English (auto-generated).txt\n"
     ]
    },
    {
     "name": "stdout",
     "output_type": "stream",
     "text": [
      "1_THE STORY OF ATLANTIS - FULL AudioBook _ Greatest Audio Books - English (auto-generated).txt\n"
     ]
    },
    {
     "name": "stdout",
     "output_type": "stream",
     "text": [
      "1_The Watsons by Jane Austen (FULL Audio Book) - English (auto-generated).txt\n"
     ]
    },
    {
     "name": "stdout",
     "output_type": "stream",
     "text": [
      "1_The Woman Who Tried to be Good Edna Ferber audiobook Short Story - English (auto-generated).txt\n1_the-forgotten-room-a-novel-lincoln-child.txt\n"
     ]
    },
    {
     "name": "stdout",
     "output_type": "stream",
     "text": [
      "1_the-great-gatsby.txt\n"
     ]
    },
    {
     "name": "stdout",
     "output_type": "stream",
     "text": [
      "1_The-Idiot.txt\n"
     ]
    },
    {
     "name": "stdout",
     "output_type": "stream",
     "text": [
      "1_The-Peasant-Marey.txt\n1_To Build a Fire by Jack London a Free Audio Book - English (auto-generated).txt\n1_[Fantasy Tale from the Author of Dracula] The Castle of the King (Bram Stoker Audiobook) - English (auto-generated).txt\n"
     ]
    }
   ],
   "source": [
    "total_length = 0\n",
    "for folder in folders:\n",
    "    if folder != \"1\":\n",
    "        files = os.listdir(directory_path+folder+\"/\")\n",
    "        for file in files:\n",
    "            try:\n",
    "                doc = pre.preprocess_file(directory_path+folder+\"/\", file, True)\n",
    "            except:\n",
    "                doc = pre.preprocess_file(directory_path+folder+\"/\", file, False)\n",
    "            total_length += len(doc)"
   ]
  },
  {
   "cell_type": "code",
   "execution_count": 75,
   "metadata": {},
   "outputs": [
    {
     "name": "stdout",
     "output_type": "stream",
     "text": [
      "20375.495689655174\n"
     ]
    }
   ],
   "source": [
    "print(total_length/232)"
   ]
  },
  {
   "cell_type": "code",
   "execution_count": 29,
   "metadata": {},
   "outputs": [],
   "source": [
    "# {\"label_#: {\"movie_id\": [\"w_0\", \"w_1\", ...]}, .. }\n",
    "data_dictionary = pre.in_pickle('C:/Users/Abdo/Project/pickle_files/', 'data_dictionary')"
   ]
  },
  {
   "cell_type": "code",
   "execution_count": 52,
   "metadata": {},
   "outputs": [],
   "source": [
    "set_of_training_movies_words = set()\n",
    "set_of_testing_movies_words = set()\n",
    "set_of_testing_books_words = set()"
   ]
  },
  {
   "cell_type": "code",
   "execution_count": 53,
   "metadata": {
    "collapsed": true
   },
   "outputs": [],
   "source": [
    "# set_of_training_movies_words\n",
    "for label in data_dictionary:\n",
    "    if label != \"no_label\":\n",
    "        movies = data_dictionary[label]\n",
    "        for movie in movies:\n",
    "            movie_words = set((data_dictionary[label])[movie])\n",
    "            set_of_training_movies_words = set_of_training_movies_words.union(movie_words)"
   ]
  },
  {
   "cell_type": "code",
   "execution_count": 55,
   "metadata": {
    "collapsed": true
   },
   "outputs": [
    {
     "name": "stdout",
     "output_type": "stream",
     "text": [
      "american crime history0.txt\n"
     ]
    },
    {
     "name": "stdout",
     "output_type": "stream",
     "text": [
      "american crime history1.txt\n"
     ]
    },
    {
     "name": "stdout",
     "output_type": "stream",
     "text": [
      "american crime history10.txt\n"
     ]
    },
    {
     "name": "stdout",
     "output_type": "stream",
     "text": [
      "american crime history11.txt\n"
     ]
    },
    {
     "name": "stdout",
     "output_type": "stream",
     "text": [
      "american crime history12.txt\n"
     ]
    },
    {
     "name": "stdout",
     "output_type": "stream",
     "text": [
      "american crime history13.txt\namerican crime history14.txt\n"
     ]
    },
    {
     "name": "stdout",
     "output_type": "stream",
     "text": [
      "american crime history15.txt\n"
     ]
    },
    {
     "name": "stdout",
     "output_type": "stream",
     "text": [
      "american crime history17.txt\n"
     ]
    },
    {
     "name": "stdout",
     "output_type": "stream",
     "text": [
      "american crime history18.txt\n"
     ]
    },
    {
     "name": "stdout",
     "output_type": "stream",
     "text": [
      "american crime history19.txt\namerican crime history2.txt\n"
     ]
    },
    {
     "name": "stdout",
     "output_type": "stream",
     "text": [
      "american crime history3.txt\namerican crime history4.txt\n"
     ]
    },
    {
     "name": "stdout",
     "output_type": "stream",
     "text": [
      "american crime history5.txt\namerican crime history6.txt\n"
     ]
    },
    {
     "name": "stdout",
     "output_type": "stream",
     "text": [
      "american crime history7.txt\namerican crime history7.txt\namerican crime history8.txt\n"
     ]
    },
    {
     "name": "stdout",
     "output_type": "stream",
     "text": [
      "american crime history9.txt\nblack sails0.txt\nblack sails0.txt\n"
     ]
    },
    {
     "name": "stdout",
     "output_type": "stream",
     "text": [
      "black sails1.txt\n"
     ]
    },
    {
     "name": "stdout",
     "output_type": "stream",
     "text": [
      "black sails11.txt\n"
     ]
    },
    {
     "name": "stdout",
     "output_type": "stream",
     "text": [
      "black sails12.txt\nblack sails13.txt\n"
     ]
    },
    {
     "name": "stdout",
     "output_type": "stream",
     "text": [
      "black sails14.txt\n"
     ]
    },
    {
     "name": "stdout",
     "output_type": "stream",
     "text": [
      "black sails15.txt\nblack sails16.txt\n"
     ]
    },
    {
     "name": "stdout",
     "output_type": "stream",
     "text": [
      "black sails16.txt\nblack sails17.txt\n"
     ]
    },
    {
     "name": "stdout",
     "output_type": "stream",
     "text": [
      "black sails18.txt\n"
     ]
    },
    {
     "name": "stdout",
     "output_type": "stream",
     "text": [
      "black sails19.txt\nblack sails19.txt\nblack sails2.txt\n"
     ]
    },
    {
     "name": "stdout",
     "output_type": "stream",
     "text": [
      "black sails20.txt\nblack sails20.txt\n"
     ]
    },
    {
     "name": "stdout",
     "output_type": "stream",
     "text": [
      "black sails3.txt\nblack sails4.txt\n"
     ]
    },
    {
     "name": "stdout",
     "output_type": "stream",
     "text": [
      "black sails5.txt\nblack sails6.txt\n"
     ]
    },
    {
     "name": "stdout",
     "output_type": "stream",
     "text": [
      "black sails7.txt\nblack sails8.txt\nblack sails8.txt\n"
     ]
    },
    {
     "name": "stdout",
     "output_type": "stream",
     "text": [
      "black sails9.txt\nbreakingbad0.txt\n"
     ]
    },
    {
     "name": "stdout",
     "output_type": "stream",
     "text": [
      "breakingbad1.txt\nbreakingbad1.txt\nbreakingbad10.txt\n"
     ]
    },
    {
     "name": "stdout",
     "output_type": "stream",
     "text": [
      "breakingbad12.txt\n"
     ]
    },
    {
     "name": "stdout",
     "output_type": "stream",
     "text": [
      "breakingbad13.txt\nbreakingbad14.txt\n"
     ]
    },
    {
     "name": "stdout",
     "output_type": "stream",
     "text": [
      "breakingbad15.txt\nbreakingbad16.txt\n"
     ]
    },
    {
     "name": "stdout",
     "output_type": "stream",
     "text": [
      "breakingbad17.txt\n"
     ]
    },
    {
     "name": "stdout",
     "output_type": "stream",
     "text": [
      "breakingbad18.txt\nbreakingbad19.txt\n"
     ]
    },
    {
     "name": "stdout",
     "output_type": "stream",
     "text": [
      "breakingbad2.txt\nbreakingbad20.txt\n"
     ]
    },
    {
     "name": "stdout",
     "output_type": "stream",
     "text": [
      "breakingbad21.txt\nbreakingbad22.txt\n"
     ]
    },
    {
     "name": "stdout",
     "output_type": "stream",
     "text": [
      "breakingbad23.txt\nbreakingbad24.txt\n"
     ]
    },
    {
     "name": "stdout",
     "output_type": "stream",
     "text": [
      "breakingbad25.txt\n"
     ]
    },
    {
     "name": "stdout",
     "output_type": "stream",
     "text": [
      "breakingbad26.txt\nbreakingbad27.txt\n"
     ]
    },
    {
     "name": "stdout",
     "output_type": "stream",
     "text": [
      "breakingbad28.txt\nbreakingbad29.txt\n"
     ]
    },
    {
     "name": "stdout",
     "output_type": "stream",
     "text": [
      "breakingbad3.txt\nbreakingbad3.txt\nbreakingbad30.txt\nbreakingbad30.txt\n"
     ]
    },
    {
     "name": "stdout",
     "output_type": "stream",
     "text": [
      "breakingbad4.txt\nbreakingbad5.txt\n"
     ]
    },
    {
     "name": "stdout",
     "output_type": "stream",
     "text": [
      "breakingbad6.txt\n"
     ]
    },
    {
     "name": "stdout",
     "output_type": "stream",
     "text": [
      "breakingbad7.txt\nbreakingbad8.txt\n"
     ]
    },
    {
     "name": "stdout",
     "output_type": "stream",
     "text": [
      "breakingbad9.txt\ncalifornication - Copy (2).txt\ncalifornication - Copy (2).txt\n"
     ]
    },
    {
     "name": "stdout",
     "output_type": "stream",
     "text": [
      "californication - Copy (3).txt\ncalifornication - Copy (4).txt\n"
     ]
    },
    {
     "name": "stdout",
     "output_type": "stream",
     "text": [
      "californication - Copy.txt\ncalifornication.txt\ncalifornication.txt\nfargo0.txt\n"
     ]
    },
    {
     "name": "stdout",
     "output_type": "stream",
     "text": [
      "fargo1.txt\nfargo11.txt\n"
     ]
    },
    {
     "name": "stdout",
     "output_type": "stream",
     "text": [
      "fargo12.txt\n"
     ]
    },
    {
     "name": "stdout",
     "output_type": "stream",
     "text": [
      "fargo13.txt\nfargo14.txt\n"
     ]
    },
    {
     "name": "stdout",
     "output_type": "stream",
     "text": [
      "fargo15.txt\nfargo16.txt\n"
     ]
    },
    {
     "name": "stdout",
     "output_type": "stream",
     "text": [
      "fargo17.txt\nfargo18.txt\n"
     ]
    },
    {
     "name": "stdout",
     "output_type": "stream",
     "text": [
      "fargo19.txt\nfargo2.txt\n"
     ]
    },
    {
     "name": "stdout",
     "output_type": "stream",
     "text": [
      "fargo20.txt\nfargo3.txt\n"
     ]
    },
    {
     "name": "stdout",
     "output_type": "stream",
     "text": [
      "fargo4.txt\nfargo5.txt\n"
     ]
    },
    {
     "name": "stdout",
     "output_type": "stream",
     "text": [
      "fargo6.txt\nfargo7.txt\n"
     ]
    },
    {
     "name": "stdout",
     "output_type": "stream",
     "text": [
      "fargo8.txt\nfargo9.txt\n"
     ]
    },
    {
     "name": "stdout",
     "output_type": "stream",
     "text": [
      "ozark0.txt\n"
     ]
    },
    {
     "name": "stdout",
     "output_type": "stream",
     "text": [
      "ozark11.txt\nozark11.txt\n"
     ]
    },
    {
     "name": "stdout",
     "output_type": "stream",
     "text": [
      "ozark12.txt\nozark13.txt\n"
     ]
    },
    {
     "name": "stdout",
     "output_type": "stream",
     "text": [
      "ozark14.txt\nozark14.txt\n"
     ]
    },
    {
     "name": "stdout",
     "output_type": "stream",
     "text": [
      "ozark15.txt\nozark16.txt\n"
     ]
    },
    {
     "name": "stdout",
     "output_type": "stream",
     "text": [
      "ozark17.txt\n"
     ]
    },
    {
     "name": "stdout",
     "output_type": "stream",
     "text": [
      "ozark18.txt\nozark19.txt\nozark19.txt\n"
     ]
    },
    {
     "name": "stdout",
     "output_type": "stream",
     "text": [
      "ozark2.txt\nozark2.txt\nozark20.txt\nozark20.txt\n"
     ]
    },
    {
     "name": "stdout",
     "output_type": "stream",
     "text": [
      "ozark3.txt\nozark3.txt\nozark4.txt\n"
     ]
    },
    {
     "name": "stdout",
     "output_type": "stream",
     "text": [
      "ozark4.txt\nozark5.txt\n"
     ]
    },
    {
     "name": "stdout",
     "output_type": "stream",
     "text": [
      "ozark6.txt\nozark6.txt\n"
     ]
    },
    {
     "name": "stdout",
     "output_type": "stream",
     "text": [
      "ozark7.txt\nozark7.txt\nozark8.txt\nozark8.txt\n"
     ]
    },
    {
     "name": "stdout",
     "output_type": "stream",
     "text": [
      "ozark9.txt\npeaky - Copy (10).txt\n"
     ]
    },
    {
     "name": "stdout",
     "output_type": "stream",
     "text": [
      "peaky - Copy (11).txt\npeaky - Copy (12).txt\n"
     ]
    },
    {
     "name": "stdout",
     "output_type": "stream",
     "text": [
      "peaky - Copy (13).txt\npeaky - Copy (14).txt\n"
     ]
    },
    {
     "name": "stdout",
     "output_type": "stream",
     "text": [
      "peaky - Copy (15).txt\npeaky - Copy (16).txt\n"
     ]
    },
    {
     "name": "stdout",
     "output_type": "stream",
     "text": [
      "peaky - Copy (17).txt\npeaky - Copy (18).txt\n"
     ]
    },
    {
     "name": "stdout",
     "output_type": "stream",
     "text": [
      "peaky - Copy (19).txt\npeaky - Copy (2).txt\npeaky - Copy (2).txt\n"
     ]
    },
    {
     "name": "stdout",
     "output_type": "stream",
     "text": [
      "peaky - Copy (20).txt\npeaky - Copy (21).txt\n"
     ]
    },
    {
     "name": "stdout",
     "output_type": "stream",
     "text": [
      "peaky - Copy (22).txt\npeaky - Copy (23).txt\n"
     ]
    },
    {
     "name": "stdout",
     "output_type": "stream",
     "text": [
      "peaky - Copy (3).txt\npeaky - Copy (3).txt\npeaky - Copy (4).txt\n"
     ]
    },
    {
     "name": "stdout",
     "output_type": "stream",
     "text": [
      "peaky - Copy (5).txt\npeaky - Copy (6).txt\n"
     ]
    },
    {
     "name": "stdout",
     "output_type": "stream",
     "text": [
      "peaky - Copy (7).txt\npeaky - Copy (8).txt\n"
     ]
    },
    {
     "name": "stdout",
     "output_type": "stream",
     "text": [
      "peaky - Copy (9).txt\npeaky - Copy.txt\npeaky - Copy.txt\n"
     ]
    },
    {
     "name": "stdout",
     "output_type": "stream",
     "text": [
      "peaky.txt\nsuits0.txt\n"
     ]
    },
    {
     "name": "stdout",
     "output_type": "stream",
     "text": [
      "suits1.txt\nsuits11.txt\n"
     ]
    },
    {
     "name": "stdout",
     "output_type": "stream",
     "text": [
      "suits12.txt\nsuits13.txt\n"
     ]
    },
    {
     "name": "stdout",
     "output_type": "stream",
     "text": [
      "suits14.txt\n"
     ]
    },
    {
     "name": "stdout",
     "output_type": "stream",
     "text": [
      "suits15.txt\nsuits15.txt\nsuits16.txt\n"
     ]
    },
    {
     "name": "stdout",
     "output_type": "stream",
     "text": [
      "suits17.txt\nsuits18.txt\n"
     ]
    },
    {
     "name": "stdout",
     "output_type": "stream",
     "text": [
      "suits19.txt\nsuits2.txt\n"
     ]
    },
    {
     "name": "stdout",
     "output_type": "stream",
     "text": [
      "suits20.txt\nsuits3.txt\n"
     ]
    },
    {
     "name": "stdout",
     "output_type": "stream",
     "text": [
      "suits4.txt\nsuits5.txt\n"
     ]
    },
    {
     "name": "stdout",
     "output_type": "stream",
     "text": [
      "suits6.txt\nsuits7.txt\n"
     ]
    },
    {
     "name": "stdout",
     "output_type": "stream",
     "text": [
      "suits8.txt\nsuits9.txt\n"
     ]
    },
    {
     "name": "stdout",
     "output_type": "stream",
     "text": [
      "vikings - Copy (2).txt\nvikings - Copy (3).txt\nvikings - Copy (4).txt\n"
     ]
    },
    {
     "name": "stdout",
     "output_type": "stream",
     "text": [
      "vikings - Copy (5).txt\nvikings - Copy (6).txt\nvikings - Copy (7).txt\n"
     ]
    },
    {
     "name": "stdout",
     "output_type": "stream",
     "text": [
      "vikings - Copy.txt\nvikings.txt\n"
     ]
    },
    {
     "name": "stdout",
     "output_type": "stream",
     "text": [
      "full house0.txt\nfull house0.txt\nfull house1.txt\nfull house10.txt\n"
     ]
    },
    {
     "name": "stdout",
     "output_type": "stream",
     "text": [
      "full house11.txt\nfull house11.txt\nfull house13.txt\nfull house14.txt\n"
     ]
    },
    {
     "name": "stdout",
     "output_type": "stream",
     "text": [
      "full house14.txt\nfull house15.txt\nfull house16.txt\nfull house17.txt\n"
     ]
    },
    {
     "name": "stdout",
     "output_type": "stream",
     "text": [
      "full house18.txt\nfull house19.txt\nfull house2.txt\n"
     ]
    },
    {
     "name": "stdout",
     "output_type": "stream",
     "text": [
      "full house20.txt\nfull house3.txt\nfull house4.txt\n"
     ]
    },
    {
     "name": "stdout",
     "output_type": "stream",
     "text": [
      "full house5.txt\nfull house6.txt\nfull house7.txt\n"
     ]
    },
    {
     "name": "stdout",
     "output_type": "stream",
     "text": [
      "full house8.txt\nfull house9.txt\nfuller house0.txt\n"
     ]
    },
    {
     "name": "stdout",
     "output_type": "stream",
     "text": [
      "fuller house1.txt\nfuller house11.txt\n"
     ]
    },
    {
     "name": "stdout",
     "output_type": "stream",
     "text": [
      "fuller house12.txt\nfuller house13.txt\nfuller house14.txt\n"
     ]
    },
    {
     "name": "stdout",
     "output_type": "stream",
     "text": [
      "fuller house15.txt\nfuller house16.txt\nfuller house17.txt\n"
     ]
    },
    {
     "name": "stdout",
     "output_type": "stream",
     "text": [
      "fuller house18.txt\nfuller house19.txt\nfuller house2.txt\n"
     ]
    },
    {
     "name": "stdout",
     "output_type": "stream",
     "text": [
      "fuller house3.txt\nfuller house4.txt\nfuller house5.txt\n"
     ]
    },
    {
     "name": "stdout",
     "output_type": "stream",
     "text": [
      "fuller house6.txt\nfuller house7.txt\nfuller house8.txt\n"
     ]
    },
    {
     "name": "stdout",
     "output_type": "stream",
     "text": [
      "fuller house9.txt\nSabrina The Teenage Witch0.txt\n"
     ]
    },
    {
     "name": "stdout",
     "output_type": "stream",
     "text": [
      "Sabrina The Teenage Witch1.txt\nSabrina The Teenage Witch11.txt\nSabrina The Teenage Witch12.txt\n"
     ]
    },
    {
     "name": "stdout",
     "output_type": "stream",
     "text": [
      "Sabrina The Teenage Witch13.txt\nSabrina The Teenage Witch14.txt\nSabrina The Teenage Witch15.txt\n"
     ]
    },
    {
     "name": "stdout",
     "output_type": "stream",
     "text": [
      "Sabrina The Teenage Witch16.txt\nSabrina The Teenage Witch17.txt\nSabrina The Teenage Witch17.txt\nSabrina The Teenage Witch18.txt\n"
     ]
    },
    {
     "name": "stdout",
     "output_type": "stream",
     "text": [
      "Sabrina The Teenage Witch19.txt\nSabrina The Teenage Witch2.txt\nSabrina The Teenage Witch20.txt\n"
     ]
    },
    {
     "name": "stdout",
     "output_type": "stream",
     "text": [
      "Sabrina The Teenage Witch3.txt\nSabrina The Teenage Witch4.txt\n"
     ]
    },
    {
     "name": "stdout",
     "output_type": "stream",
     "text": [
      "Sabrina The Teenage Witch5.txt\nSabrina The Teenage Witch6.txt\nSabrina The Teenage Witch7.txt\n"
     ]
    },
    {
     "name": "stdout",
     "output_type": "stream",
     "text": [
      "Sabrina The Teenage Witch8.txt\nSabrina The Teenage Witch9.txt\nsimpsons0.txt\n"
     ]
    },
    {
     "name": "stdout",
     "output_type": "stream",
     "text": [
      "simpsons1.txt\nsimpsons10.txt\nsimpsons11.txt\n"
     ]
    },
    {
     "name": "stdout",
     "output_type": "stream",
     "text": [
      "simpsons12.txt\nsimpsons13.txt\nsimpsons14.txt\nsimpsons15.txt\n"
     ]
    },
    {
     "name": "stdout",
     "output_type": "stream",
     "text": [
      "simpsons16.txt\nsimpsons17.txt\nsimpsons18.txt\n"
     ]
    },
    {
     "name": "stdout",
     "output_type": "stream",
     "text": [
      "simpsons19.txt\nsimpsons2.txt\nsimpsons2.txt\n"
     ]
    },
    {
     "name": "stdout",
     "output_type": "stream",
     "text": [
      "simpsons20.txt\nsimpsons21.txt\n"
     ]
    },
    {
     "name": "stdout",
     "output_type": "stream",
     "text": [
      "simpsons22.txt\nsimpsons23.txt\nsimpsons24.txt\n"
     ]
    },
    {
     "name": "stdout",
     "output_type": "stream",
     "text": [
      "simpsons25.txt\nsimpsons26.txt\nsimpsons27.txt\n"
     ]
    },
    {
     "name": "stdout",
     "output_type": "stream",
     "text": [
      "simpsons28.txt\nsimpsons29.txt\nsimpsons3.txt\n"
     ]
    },
    {
     "name": "stdout",
     "output_type": "stream",
     "text": [
      "simpsons30.txt\nsimpsons31.txt\nsimpsons32.txt\n"
     ]
    },
    {
     "name": "stdout",
     "output_type": "stream",
     "text": [
      "simpsons33.txt\nsimpsons34.txt\nsimpsons35.txt\n"
     ]
    },
    {
     "name": "stdout",
     "output_type": "stream",
     "text": [
      "simpsons36.txt\nsimpsons37.txt\nsimpsons38.txt\n"
     ]
    },
    {
     "name": "stdout",
     "output_type": "stream",
     "text": [
      "simpsons39.txt\nsimpsons4.txt\nsimpsons40.txt\n"
     ]
    },
    {
     "name": "stdout",
     "output_type": "stream",
     "text": [
      "simpsons5.txt\nsimpsons6.txt\nsimpsons7.txt\n"
     ]
    },
    {
     "name": "stdout",
     "output_type": "stream",
     "text": [
      "simpsons8.txt\nsimpsons9.txt\nsimsons - Copy.txt\n"
     ]
    },
    {
     "name": "stdout",
     "output_type": "stream",
     "text": [
      "simsons.txt\nsteven_universe_ep_1.txt\nsteven_universe_ep_10.txt\nsteven_universe_ep_11.txt\n"
     ]
    },
    {
     "name": "stdout",
     "output_type": "stream",
     "text": [
      "steven_universe_ep_12.txt\nsteven_universe_ep_13.txt\nsteven_universe_ep_14.txt\nsteven_universe_ep_15.txt\n"
     ]
    },
    {
     "name": "stdout",
     "output_type": "stream",
     "text": [
      "steven_universe_ep_16.txt\nsteven_universe_ep_17.txt\nsteven_universe_ep_18.txt\nsteven_universe_ep_19.txt\n"
     ]
    },
    {
     "name": "stdout",
     "output_type": "stream",
     "text": [
      "steven_universe_ep_2.txt\nsteven_universe_ep_20.txt\nsteven_universe_ep_21.txt\nsteven_universe_ep_22.txt\n"
     ]
    },
    {
     "name": "stdout",
     "output_type": "stream",
     "text": [
      "steven_universe_ep_23.txt\nsteven_universe_ep_24.txt\nsteven_universe_ep_25.txt\nsteven_universe_ep_26.txt\n"
     ]
    },
    {
     "name": "stdout",
     "output_type": "stream",
     "text": [
      "steven_universe_ep_27.txt\nsteven_universe_ep_28.txt\nsteven_universe_ep_29.txt\nsteven_universe_ep_3.txt\n"
     ]
    },
    {
     "name": "stdout",
     "output_type": "stream",
     "text": [
      "steven_universe_ep_30.txt\nsteven_universe_ep_31.txt\nsteven_universe_ep_32.txt\nsteven_universe_ep_33.txt\nsteven_universe_ep_34.txt\n"
     ]
    },
    {
     "name": "stdout",
     "output_type": "stream",
     "text": [
      "steven_universe_ep_35.txt\nsteven_universe_ep_4.txt\nsteven_universe_ep_41.txt\nsteven_universe_ep_42.txt\nsteven_universe_ep_43.txt\n"
     ]
    },
    {
     "name": "stdout",
     "output_type": "stream",
     "text": [
      "steven_universe_ep_44.txt\nsteven_universe_ep_45.txt\nsteven_universe_ep_46.txt\nsteven_universe_ep_47.txt\n"
     ]
    },
    {
     "name": "stdout",
     "output_type": "stream",
     "text": [
      "steven_universe_ep_48.txt\nsteven_universe_ep_49.txt\nsteven_universe_ep_5.txt\nsteven_universe_ep_6.txt\n"
     ]
    },
    {
     "name": "stdout",
     "output_type": "stream",
     "text": [
      "steven_universe_ep_7.txt\nsteven_universe_ep_8.txt\nsteven_universe_ep_9.txt\nsteven_universe_op_36.txt\n"
     ]
    },
    {
     "name": "stdout",
     "output_type": "stream",
     "text": [
      "steven_universe_op_37.txt\nsteven_universe_op_38.txt\nsteven_universe_op_39.txt\nsteven_universe_op_40.txt\n"
     ]
    },
    {
     "name": "stdout",
     "output_type": "stream",
     "text": [
      "the simpsons - Copy (10).txt\nthe simpsons - Copy (11).txt\nthe simpsons - Copy (12).txt\n"
     ]
    },
    {
     "name": "stdout",
     "output_type": "stream",
     "text": [
      "the simpsons - Copy (2).txt\nthe simpsons - Copy (3).txt\nthe simpsons - Copy (4).txt\n"
     ]
    },
    {
     "name": "stdout",
     "output_type": "stream",
     "text": [
      "the simpsons - Copy (5).txt\nthe simpsons - Copy (6).txt\nthe simpsons - Copy (7).txt\n"
     ]
    },
    {
     "name": "stdout",
     "output_type": "stream",
     "text": [
      "the simpsons - Copy (8).txt\nthe simpsons - Copy (9).txt\nthe simpsons - Copy1.txt\n"
     ]
    },
    {
     "name": "stdout",
     "output_type": "stream",
     "text": [
      "the simpsons1.txt\nthomas the engine and friends0.txt\nthomas the engine and friends1.txt\n"
     ]
    },
    {
     "name": "stdout",
     "output_type": "stream",
     "text": [
      "thomas the engine and friends11.txt\nthomas the engine and friends12.txt\nthomas the engine and friends13.txt\nthomas the engine and friends14.txt\nthomas the engine and friends15.txt\nthomas the engine and friends16.txt\nthomas the engine and friends17.txt\nthomas the engine and friends18.txt\nthomas the engine and friends19.txt\n"
     ]
    },
    {
     "name": "stdout",
     "output_type": "stream",
     "text": [
      "thomas the engine and friends2.txt\nthomas the engine and friends20.txt\nthomas the engine and friends3.txt\nthomas the engine and friends4.txt\nthomas the engine and friends5.txt\nthomas the engine and friends6.txt\nthomas the engine and friends7.txt\nthomas the engine and friends8.txt\n"
     ]
    },
    {
     "name": "stdout",
     "output_type": "stream",
     "text": [
      "thomas the engine and friends9.txt\n"
     ]
    }
   ],
   "source": [
    "#set_of_testing_movies_words\n",
    "testing_movies_directory_path = \"C:/Users/Abdo/Project/test_data/movies_txt/\"\n",
    "folders = os.listdir(testing_movies_directory_path)\n",
    "\n",
    "for folder in folders:\n",
    "    movies = os.listdir(testing_movies_directory_path+folder+\"/\")\n",
    "    for movie in movies:\n",
    "        try:\n",
    "            words = pre.preprocess_file(testing_movies_directory_path+folder+\"/\", movie, True)\n",
    "        except:\n",
    "            words = pre.preprocess_file(testing_movies_directory_path+folder+\"/\", movie, False)\n",
    "        words_set = set(words)\n",
    "        set_of_testing_movies_words = set_of_testing_movies_words.union(words_set)\n"
   ]
  },
  {
   "cell_type": "code",
   "execution_count": 58,
   "metadata": {
    "collapsed": true
   },
   "outputs": [
    {
     "name": "stdout",
     "output_type": "stream",
     "text": [
      "5042 Voodoo In Haiti by Aubrey Wilder.txt\n"
     ]
    },
    {
     "name": "stdout",
     "output_type": "stream",
     "text": [
      "A Night To Remember by Argus.txt\nA Night To Remember by Argus.txt\n"
     ]
    },
    {
     "name": "stdout",
     "output_type": "stream",
     "text": [
      "AB-1609 House of Dark Pleasure by Gloria Day.txt\n"
     ]
    },
    {
     "name": "stdout",
     "output_type": "stream",
     "text": [
      "AB-1676 Beasts Are Better by Richard Long.txt\n"
     ]
    },
    {
     "name": "stdout",
     "output_type": "stream",
     "text": [
      "AB-1680 The Dog Ballers by Don Russell.txt\n"
     ]
    },
    {
     "name": "stdout",
     "output_type": "stream",
     "text": [
      "AB-5247 Incest Wifeby M J Jacobs.txt\n"
     ]
    },
    {
     "name": "stdout",
     "output_type": "stream",
     "text": [
      "AB-5341 Mother With The Hots by Kathy Andrews.txt\n"
     ]
    },
    {
     "name": "stdout",
     "output_type": "stream",
     "text": [
      "AB-5353 Harder! Mom Said by Kathy Andrews.txt\n"
     ]
    },
    {
     "name": "stdout",
     "output_type": "stream",
     "text": [
      "AB-5356 What A Sucking Mother! by Kathy Andrews.txt\n"
     ]
    },
    {
     "name": "stdout",
     "output_type": "stream",
     "text": [
      "AB-5389 Daddy's Naughty Daughters by Bob Wallace.txt\n"
     ]
    },
    {
     "name": "stdout",
     "output_type": "stream",
     "text": [
      "AB-5475 Family Peepers by David Crane.txt\n"
     ]
    },
    {
     "name": "stdout",
     "output_type": "stream",
     "text": [
      "AB-5480 Billy's Hot Mom by Kathy Andrews.txt\nAB-5480 Billy's Hot Mom by Kathy Andrews.txt\n"
     ]
    },
    {
     "name": "stdout",
     "output_type": "stream",
     "text": [
      "AB-5491 Three Sucking Daughters by Dan Reagan.txt\n"
     ]
    },
    {
     "name": "stdout",
     "output_type": "stream",
     "text": [
      "AB-5548 A Wild Family Party by Hank Borden.txt\n"
     ]
    },
    {
     "name": "stdout",
     "output_type": "stream",
     "text": [
      "AB-5557 Pay For Play Cheerleaders by Victoria Parker.txt\n"
     ]
    },
    {
     "name": "stdout",
     "output_type": "stream",
     "text": [
      "AB-5574 Twin Farmgirl Cousins by Ron Taylor.txt\n"
     ]
    },
    {
     "name": "stdout",
     "output_type": "stream",
     "text": [
      "AB-5592 First Time In The Behind by Ron Taylor.txt\n"
     ]
    },
    {
     "name": "stdout",
     "output_type": "stream",
     "text": [
      "AB-5602 When Mom And Dad Are Away by Author Unknown.txt\n"
     ]
    },
    {
     "name": "stdout",
     "output_type": "stream",
     "text": [
      "AB-5617 Brothers Ball Best by Ray Mills.txt\n"
     ]
    },
    {
     "name": "stdout",
     "output_type": "stream",
     "text": [
      "AB-5618 Incest Schoolgirls by Victoria Parker.txt\n"
     ]
    },
    {
     "name": "stdout",
     "output_type": "stream",
     "text": [
      "ACDC-182 Swap Night.txt\n"
     ]
    },
    {
     "name": "stdout",
     "output_type": "stream",
     "text": [
      "All_in_the_Family.txt\n"
     ]
    },
    {
     "name": "stdout",
     "output_type": "stream",
     "text": [
      "ASP-2021 Driven Into Swapping.txt\nASP-2021 Driven Into Swapping.txt\n"
     ]
    },
    {
     "name": "stdout",
     "output_type": "stream",
     "text": [
      "AudioBook The Gunslinger Chapter - English (auto-generated).txt\n"
     ]
    },
    {
     "name": "stdout",
     "output_type": "stream",
     "text": [
      "AW-103.TXT\nAW-103.TXT\n"
     ]
    },
    {
     "name": "stdout",
     "output_type": "stream",
     "text": [
      "A_Mother-Daughter_Twosome.txt\n"
     ]
    },
    {
     "name": "stdout",
     "output_type": "stream",
     "text": [
      "A_Wild_Family_Party.txt\n"
     ]
    },
    {
     "name": "stdout",
     "output_type": "stream",
     "text": [
      "BB-6565 Deep Crotch Mother.txt\n"
     ]
    },
    {
     "name": "stdout",
     "output_type": "stream",
     "text": [
      "BDB-1023 Step-Daughter Initiation.txt\n"
     ]
    },
    {
     "name": "stdout",
     "output_type": "stream",
     "text": [
      "Beast Humping by Ron Bywood.txt\n"
     ]
    },
    {
     "name": "stdout",
     "output_type": "stream",
     "text": [
      "Billy's_Hot_Mom.txt\nBilly's_Hot_Mom.txt\n"
     ]
    },
    {
     "name": "stdout",
     "output_type": "stream",
     "text": [
      "BL-5341 Emily_s Lips By Arthur Alexander.txt\n"
     ]
    },
    {
     "name": "stdout",
     "output_type": "stream",
     "text": [
      "Blackmailed.txt\nBlackmailed.txt\n"
     ]
    },
    {
     "name": "stdout",
     "output_type": "stream",
     "text": [
      "Brothers_Ball_Best.txt\n"
     ]
    },
    {
     "name": "stdout",
     "output_type": "stream",
     "text": [
      "Carve the Mark Chapter 1 - English (auto-generated).txt\nCarve The Mark Chapter 2 - English (auto-generated) (1).txt\n"
     ]
    },
    {
     "name": "stdout",
     "output_type": "stream",
     "text": [
      "Carve The Mark Chapter 2 - English (auto-generated).txt\nCarve the Mark Chapter 4 - English (auto-generated).txt\nCarve The Mark Chapter 5 - English (auto-generated).txt\n"
     ]
    },
    {
     "name": "stdout",
     "output_type": "stream",
     "text": [
      "CC-241 The Family Haven BOOK ONE by Author Unknown.txt\nCC-241 The Family Haven BOOK ONE by Author Unknown.txt\n"
     ]
    },
    {
     "name": "stdout",
     "output_type": "stream",
     "text": [
      "Charles_Wykes.Brothers_and_Sisters.FAM-119.TXT\nCharles_Wykes.Brothers_and_Sisters.FAM-119.TXT\n"
     ]
    },
    {
     "name": "stdout",
     "output_type": "stream",
     "text": [
      "Cheryl's Cumuppance - Ex-Wives III.txt\nCheryl's Cumuppance - Ex-Wives III.txt\n"
     ]
    },
    {
     "name": "stdout",
     "output_type": "stream",
     "text": [
      "CHINA TEEN PHOTO SLAVES by Loren Ryder.txt\nCHINA TEEN PHOTO SLAVES by Loren Ryder.txt\n"
     ]
    },
    {
     "name": "stdout",
     "output_type": "stream",
     "text": [
      "Daddy's_Naughty_Daughters.txt\n"
     ]
    },
    {
     "name": "stdout",
     "output_type": "stream",
     "text": [
      "Daughters_In_Heat.txt\n"
     ]
    },
    {
     "name": "stdout",
     "output_type": "stream",
     "text": [
      "Desert Slave by Argus.txt\nDesert Slave by Argus.txt\nDog Lover's Diary by Horst Kepple.txt\n"
     ]
    },
    {
     "name": "stdout",
     "output_type": "stream",
     "text": [
      "Doggie Farm by John Reskin.txt\n"
     ]
    },
    {
     "name": "stdout",
     "output_type": "stream",
     "text": [
      "Eager_Horny_Cousin.txt\n"
     ]
    },
    {
     "name": "stdout",
     "output_type": "stream",
     "text": [
      "EC-1120 Bestiality and a Young Girl by Kathleen Hennessy.txt\n"
     ]
    },
    {
     "name": "stdout",
     "output_type": "stream",
     "text": [
      "EX-WIVES - PART IV DESTINY.txt\nEX-WIVES - PART IV DESTINY.txt\n"
     ]
    },
    {
     "name": "stdout",
     "output_type": "stream",
     "text": [
      "EX-WIVES INHERITANCE - PART 1 - JULIA DAWSON.txt\nEX-WIVES INHERITANCE - PART 1 - JULIA DAWSON.txt\n"
     ]
    },
    {
     "name": "stdout",
     "output_type": "stream",
     "text": [
      "EX-WIVES INHERITANCE - PART 2 - DOMINIQUE'S TAMING.txt\nEX-WIVES INHERITANCE - PART 2 - DOMINIQUE'S TAMING.txt\n"
     ]
    },
    {
     "name": "stdout",
     "output_type": "stream",
     "text": [
      "FAM-119 Brothers And Sisters by Charles Wykes.txt\nFAM-119 Brothers And Sisters by Charles Wykes.txt\n"
     ]
    },
    {
     "name": "stdout",
     "output_type": "stream",
     "text": [
      "Family_Peepers.txt\n"
     ]
    },
    {
     "name": "stdout",
     "output_type": "stream",
     "text": [
      "First_Time_In_The_Behind.txt\n"
     ]
    },
    {
     "name": "stdout",
     "output_type": "stream",
     "text": [
      "FLP-135 Girl's Camp Counselor by Paul Sutherland.txt\n"
     ]
    },
    {
     "name": "stdout",
     "output_type": "stream",
     "text": [
      "GE-2033 Spouse In Torment by Jason Cannon.txt\n"
     ]
    },
    {
     "name": "stdout",
     "output_type": "stream",
     "text": [
      "GGE-101 Teaching Swapping by Author Unknown.txt\n"
     ]
    },
    {
     "name": "stdout",
     "output_type": "stream",
     "text": [
      "GK-550 The Soldier's Wife by Alex Ayers.txt\n"
     ]
    },
    {
     "name": "stdout",
     "output_type": "stream",
     "text": [
      "gs-59.txt\n"
     ]
    },
    {
     "name": "stdout",
     "output_type": "stream",
     "text": [
      "gsv-133.txt\n"
     ]
    },
    {
     "name": "stdout",
     "output_type": "stream",
     "text": [
      "Hard to tell by Arianne.txt\nHard to tell by Arianne.txt\n"
     ]
    },
    {
     "name": "stdout",
     "output_type": "stream",
     "text": [
      "herbarkingstud.txt\n"
     ]
    },
    {
     "name": "stdout",
     "output_type": "stream",
     "text": [
      "Her_Husband's_Boss.txt\n"
     ]
    },
    {
     "name": "stdout",
     "output_type": "stream",
     "text": [
      "House_Of_Evil.txt\n"
     ]
    },
    {
     "name": "stdout",
     "output_type": "stream",
     "text": [
      "Impossible-Standards.txt\n"
     ]
    },
    {
     "name": "stdout",
     "output_type": "stream",
     "text": [
      "Incest Schoolgirls.txt\n"
     ]
    },
    {
     "name": "stdout",
     "output_type": "stream",
     "text": [
      "Incest_Wife.txt\n"
     ]
    },
    {
     "name": "stdout",
     "output_type": "stream",
     "text": [
      "In_Bondage_Schoolgirl.txt\n"
     ]
    },
    {
     "name": "stdout",
     "output_type": "stream",
     "text": [
      "j-3.txt\n"
     ]
    },
    {
     "name": "stdout",
     "output_type": "stream",
     "text": [
      "kc-126.txt\n"
     ]
    },
    {
     "name": "stdout",
     "output_type": "stream",
     "text": [
      "LB1348 The Family Sucks A Lot .txt\n"
     ]
    },
    {
     "name": "stdout",
     "output_type": "stream",
     "text": [
      "lcs-70003.txt\n"
     ]
    },
    {
     "name": "stdout",
     "output_type": "stream",
     "text": [
      "Legal Briefs by Argus.txt\nLittle Monsters by Kara Thomas, read by Phoebe Strole _ Brittany Pressley - Audiobook Excerpt - English (auto-generated).txt\n"
     ]
    },
    {
     "name": "stdout",
     "output_type": "stream",
     "text": [
      "LL-0229 Shack-Ups! by Fran Furnivall.txt\n"
     ]
    },
    {
     "name": "stdout",
     "output_type": "stream",
     "text": [
      "LL-0251 Auntie’s Naughty Boys by Hank Faber.txt\n"
     ]
    },
    {
     "name": "stdout",
     "output_type": "stream",
     "text": [
      "LL-0344 His Sexpot Sis by Robert G. Haill.txt\n"
     ]
    },
    {
     "name": "stdout",
     "output_type": "stream",
     "text": [
      "LLP0101 The Abducted Bride.txt\n"
     ]
    },
    {
     "name": "stdout",
     "output_type": "stream",
     "text": [
      "LLP0102 The Blackmailed Wife.txt\n"
     ]
    },
    {
     "name": "stdout",
     "output_type": "stream",
     "text": [
      "LLP0103 A Neighborhood Party.txt\n"
     ]
    },
    {
     "name": "stdout",
     "output_type": "stream",
     "text": [
      "LLP0171 Honeymoon Hotel.txt\n"
     ]
    },
    {
     "name": "stdout",
     "output_type": "stream",
     "text": [
      "LLP0348 The Motorcyclist_s Wife.txt\n"
     ]
    },
    {
     "name": "stdout",
     "output_type": "stream",
     "text": [
      "LLP0874 A Sister_s Lust by Audrey Gait.txt\n"
     ]
    },
    {
     "name": "stdout",
     "output_type": "stream",
     "text": [
      "m-4006.txt\n"
     ]
    },
    {
     "name": "stdout",
     "output_type": "stream",
     "text": [
      "m-60212.txt\n"
     ]
    },
    {
     "name": "stdout",
     "output_type": "stream",
     "text": [
      "mastlilg.txt\n"
     ]
    },
    {
     "name": "stdout",
     "output_type": "stream",
     "text": [
      "mlp-146.txt\n"
     ]
    },
    {
     "name": "stdout",
     "output_type": "stream",
     "text": [
      "nakedwithherdog.txt\n"
     ]
    },
    {
     "name": "stdout",
     "output_type": "stream",
     "text": [
      "Naked_Wet_Daughter.txt\n"
     ]
    },
    {
     "name": "stdout",
     "output_type": "stream",
     "text": [
      "Naughty Schooling by David Shaw.txt\nNaughty_Wild_Cousin.txt\n"
     ]
    },
    {
     "name": "stdout",
     "output_type": "stream",
     "text": [
      "nd-141.txt\n"
     ]
    },
    {
     "name": "stdout",
     "output_type": "stream",
     "text": [
      "ns-451.txt\n"
     ]
    },
    {
     "name": "stdout",
     "output_type": "stream",
     "text": [
      "oa-117.txt\n"
     ]
    },
    {
     "name": "stdout",
     "output_type": "stream",
     "text": [
      "OES-117 Maggie_s Moist Mouth.txt\n"
     ]
    },
    {
     "name": "stdout",
     "output_type": "stream",
     "text": [
      "OES-138 The Mouth Seducers by Fred Tracy.txt\n"
     ]
    },
    {
     "name": "stdout",
     "output_type": "stream",
     "text": [
      "oph-217.txt\n"
     ]
    },
    {
     "name": "stdout",
     "output_type": "stream",
     "text": [
      "ORL-149 Oral Zone by Otto Gerbert.txt\n"
     ]
    },
    {
     "name": "stdout",
     "output_type": "stream",
     "text": [
      "ORL-155 Oral Nieces by Jim Stacey.txt\n"
     ]
    },
    {
     "name": "stdout",
     "output_type": "stream",
     "text": [
      "p-2064.txt\n"
     ]
    },
    {
     "name": "stdout",
     "output_type": "stream",
     "text": [
      "Passionate_Sister.txt\nPassionate_Sister.txt\n"
     ]
    },
    {
     "name": "stdout",
     "output_type": "stream",
     "text": [
      "Paul_Sutherland.Girls_Camp_Counselor.FLP-135.txt\n"
     ]
    },
    {
     "name": "stdout",
     "output_type": "stream",
     "text": [
      "Peeper by Argus.txt\n"
     ]
    },
    {
     "name": "stdout",
     "output_type": "stream",
     "text": [
      "Pirates' Sex Toys by Argus.txt\nPirates' Sex Toys by Argus.txt\npp-11.txt\n"
     ]
    },
    {
     "name": "stdout",
     "output_type": "stream",
     "text": [
      "pp-13.txt\n"
     ]
    },
    {
     "name": "stdout",
     "output_type": "stream",
     "text": [
      "pp-7001.txt\n"
     ]
    },
    {
     "name": "stdout",
     "output_type": "stream",
     "text": [
      "pp-7002.txt\n"
     ]
    },
    {
     "name": "stdout",
     "output_type": "stream",
     "text": [
      "pp-7012.txt\n"
     ]
    },
    {
     "name": "stdout",
     "output_type": "stream",
     "text": [
      "pp-7027.txt\n"
     ]
    },
    {
     "name": "stdout",
     "output_type": "stream",
     "text": [
      "pp-7042.txt\n"
     ]
    },
    {
     "name": "stdout",
     "output_type": "stream",
     "text": [
      "pp-7046.txt\n"
     ]
    },
    {
     "name": "stdout",
     "output_type": "stream",
     "text": [
      "pp-7093.txt\n"
     ]
    },
    {
     "name": "stdout",
     "output_type": "stream",
     "text": [
      "pp-7205.txt\n"
     ]
    },
    {
     "name": "stdout",
     "output_type": "stream",
     "text": [
      "pp-7206.txt\n"
     ]
    },
    {
     "name": "stdout",
     "output_type": "stream",
     "text": [
      "pp-7208.txt\n"
     ]
    },
    {
     "name": "stdout",
     "output_type": "stream",
     "text": [
      "pp-7285.txt\n"
     ]
    },
    {
     "name": "stdout",
     "output_type": "stream",
     "text": [
      "pp-7304.txt\n"
     ]
    },
    {
     "name": "stdout",
     "output_type": "stream",
     "text": [
      "pp-7339.txt\n"
     ]
    },
    {
     "name": "stdout",
     "output_type": "stream",
     "text": [
      "pp-7375.txt\n"
     ]
    },
    {
     "name": "stdout",
     "output_type": "stream",
     "text": [
      "pp-7388.txt\n"
     ]
    },
    {
     "name": "stdout",
     "output_type": "stream",
     "text": [
      "pp-7397.txt\n"
     ]
    },
    {
     "name": "stdout",
     "output_type": "stream",
     "text": [
      "pp-7524.txt\n"
     ]
    },
    {
     "name": "stdout",
     "output_type": "stream",
     "text": [
      "pp-7541.txt\n"
     ]
    },
    {
     "name": "stdout",
     "output_type": "stream",
     "text": [
      "pp-8001.txt\n"
     ]
    },
    {
     "name": "stdout",
     "output_type": "stream",
     "text": [
      "pp-8016.txt\n"
     ]
    },
    {
     "name": "stdout",
     "output_type": "stream",
     "text": [
      "pp-8049.txt\n"
     ]
    },
    {
     "name": "stdout",
     "output_type": "stream",
     "text": [
      "pp-8051.txt\n"
     ]
    },
    {
     "name": "stdout",
     "output_type": "stream",
     "text": [
      "pp-8060.txt\n"
     ]
    },
    {
     "name": "stdout",
     "output_type": "stream",
     "text": [
      "Punching Bag by Argus.txt\nPunching Bag by Argus.txt\nras-1405.txt\nras-1405.txt\n"
     ]
    },
    {
     "name": "stdout",
     "output_type": "stream",
     "text": [
      "rcl-216.txt\nrcl-216.txt\n"
     ]
    },
    {
     "name": "stdout",
     "output_type": "stream",
     "text": [
      "RCL-228 Little Boys And Laura.txt\n"
     ]
    },
    {
     "name": "stdout",
     "output_type": "stream",
     "text": [
      "sb-206.txt\n"
     ]
    },
    {
     "name": "stdout",
     "output_type": "stream",
     "text": [
      "sc-173.txt\n"
     ]
    },
    {
     "name": "stdout",
     "output_type": "stream",
     "text": [
      "Schoolgirl_Bondage.txt\n"
     ]
    },
    {
     "name": "stdout",
     "output_type": "stream",
     "text": [
      "Seduced_Young_Wife.txt\n"
     ]
    },
    {
     "name": "stdout",
     "output_type": "stream",
     "text": [
      "Servile Sluts by Jay Merson.txt\n"
     ]
    },
    {
     "name": "stdout",
     "output_type": "stream",
     "text": [
      "Sexy Sailors by Frances La Gatta.txt\nSexy Sailors by Frances La Gatta.txt\n"
     ]
    },
    {
     "name": "stdout",
     "output_type": "stream",
     "text": [
      "Sister's_Husband.txt\n"
     ]
    },
    {
     "name": "stdout",
     "output_type": "stream",
     "text": [
      "Sister's_Wet_Panties.txt\n"
     ]
    },
    {
     "name": "stdout",
     "output_type": "stream",
     "text": [
      "Sister_Sucks_Best.txt\n"
     ]
    },
    {
     "name": "stdout",
     "output_type": "stream",
     "text": [
      "Slave_Trader's_Captive.txt\n"
     ]
    },
    {
     "name": "stdout",
     "output_type": "stream",
     "text": [
      "Slut by Argus.txt\nSlut by Argus.txt\n"
     ]
    },
    {
     "name": "stdout",
     "output_type": "stream",
     "text": [
      "Summer Lovers by Argus.txt\nSummer Lovers by Argus.txt\n"
     ]
    },
    {
     "name": "stdout",
     "output_type": "stream",
     "text": [
      "Taken By Force by Jay Merson.txt\nTaken By Force by Jay Merson.txt\n"
     ]
    },
    {
     "name": "stdout",
     "output_type": "stream",
     "text": [
      "THE CAPTIVE by Amber Jameson.txt\n"
     ]
    },
    {
     "name": "stdout",
     "output_type": "stream",
     "text": [
      "THE CONTRACT by Sarah Fisher.txt\n"
     ]
    },
    {
     "name": "stdout",
     "output_type": "stream",
     "text": [
      "THE DRIVERS by Henry Morgan.txt\nTHE DRIVERS by Henry Morgan.txt\n"
     ]
    },
    {
     "name": "stdout",
     "output_type": "stream",
     "text": [
      "The Secret Fantasies of a Suburban Girl by Laura Jenkins.txt\nThe Secret Fantasies of a Suburban Girl by Laura Jenkins.txt\nThe_Orgiastic_Cult.txt\n"
     ]
    },
    {
     "name": "stdout",
     "output_type": "stream",
     "text": [
      "The_Rancher's_Wife.txt\n"
     ]
    },
    {
     "name": "stdout",
     "output_type": "stream",
     "text": [
      "The_Seductive_Sister-In-Law.txt\n"
     ]
    },
    {
     "name": "stdout",
     "output_type": "stream",
     "text": [
      "The_Tempted_Tourist.txt\n"
     ]
    },
    {
     "name": "stdout",
     "output_type": "stream",
     "text": [
      "The_Unfaithful_Girlfriend.txt\n"
     ]
    },
    {
     "name": "stdout",
     "output_type": "stream",
     "text": [
      "The_Weekend_Captive.txt\n"
     ]
    },
    {
     "name": "stdout",
     "output_type": "stream",
     "text": [
      "Three-Way_Weekend.txt\n"
     ]
    },
    {
     "name": "stdout",
     "output_type": "stream",
     "text": [
      "Three_Sucking_Daughters.txt\n"
     ]
    },
    {
     "name": "stdout",
     "output_type": "stream",
     "text": [
      "Trio.txt\nTween_Sister's_Hot_Thighs.txt\n"
     ]
    },
    {
     "name": "stdout",
     "output_type": "stream",
     "text": [
      "Twin_Farmgirl_Cousins.txt\n"
     ]
    },
    {
     "name": "stdout",
     "output_type": "stream",
     "text": [
      "Wanting_Everyone.txt\n"
     ]
    },
    {
     "name": "stdout",
     "output_type": "stream",
     "text": [
      "What_A_Sucking_Mother.txt\n"
     ]
    },
    {
     "name": "stdout",
     "output_type": "stream",
     "text": [
      "When_Mom_And_Dad_Are_Away.txt\n"
     ]
    },
    {
     "name": "stdout",
     "output_type": "stream",
     "text": [
      "White Girls In Africa by Argus.txt\nWhite Girls In Africa by Argus.txt\n"
     ]
    },
    {
     "name": "stdout",
     "output_type": "stream",
     "text": [
      "WOMEN ON THE CHAIN GANG by Jay Merson.txt\n"
     ]
    },
    {
     "name": "stdout",
     "output_type": "stream",
     "text": [
      "YW-118 Ecstasy-Between Young _ Old by Lorna Miller.txt\n"
     ]
    },
    {
     "name": "stdout",
     "output_type": "stream",
     "text": [
      "YW-119 Sex Teaching Teacher.txt\n"
     ]
    },
    {
     "name": "stdout",
     "output_type": "stream",
     "text": [
      "0_11 TRUE SCARY STORIES From Reddit [MEGA COLLABORATION #3] - English (auto-generated).txt\n"
     ]
    },
    {
     "name": "stdout",
     "output_type": "stream",
     "text": [
      "0_A novel by - Jeffrey Carver ( PDFDrive.com ).txt\n"
     ]
    },
    {
     "name": "stdout",
     "output_type": "stream",
     "text": [
      "0_Audiobook_ Miss Philura's Wedding Gown by Florence Morse Kingsley _ AudioBooks Classic - English (auto-generated).txt\n"
     ]
    },
    {
     "name": "stdout",
     "output_type": "stream",
     "text": [
      "0_Crime-and-Punishment.txt\n"
     ]
    },
    {
     "name": "stdout",
     "output_type": "stream",
     "text": [
      "0_Dead Man's Planet [SF Audiobook] - English (auto-generated).txt\n0_elif-safak-esq-kko-eng.txt\n"
     ]
    },
    {
     "name": "stdout",
     "output_type": "stream",
     "text": [
      "0_Gone Girl by Gillian Flynn ( PDFDrive.com ).txt\n"
     ]
    },
    {
     "name": "stdout",
     "output_type": "stream",
     "text": [
      "0_Good+Morning+Holy+Spirit.txt\n"
     ]
    },
    {
     "name": "stdout",
     "output_type": "stream",
     "text": [
      "0_HOLY BIBLE - Book of MARK - Word English Bible (WEB) - FULL AudioBook _ GreatestAudioBooks - English (auto-generated).txt\n"
     ]
    },
    {
     "name": "stdout",
     "output_type": "stream",
     "text": [
      "0_Learn English with Audio Story - Jane Eyre - English (auto-generated).txt\n"
     ]
    },
    {
     "name": "stdout",
     "output_type": "stream",
     "text": [
      "0_Learn English with Audio Story - The Adventures of Tom Sawyers - English (auto-generated).txt\n"
     ]
    },
    {
     "name": "stdout",
     "output_type": "stream",
     "text": [
      "0_Learn English With Story White Death subtitled level 1 - English (auto-generated).txt\n0_Loves-Fool.txt\n"
     ]
    },
    {
     "name": "stdout",
     "output_type": "stream",
     "text": [
      "0_Sanctuary Full Audiobook by Edith WHARTON by General Fiction Audiobook - English (auto-generated).txt\n"
     ]
    },
    {
     "name": "stdout",
     "output_type": "stream",
     "text": [
      "0_The Comedy of Errors (Improved Reading) (FULL Audiobook) - English (auto-generated).txt\n"
     ]
    },
    {
     "name": "stdout",
     "output_type": "stream",
     "text": [
      "0_The Fault in Our Stars ( PDFDrive.com ).txt\n"
     ]
    },
    {
     "name": "stdout",
     "output_type": "stream",
     "text": [
      "0_The Gifts of Imperfection_ Embrace Who You Are ( PDFDrive.com ).txt\n"
     ]
    },
    {
     "name": "stdout",
     "output_type": "stream",
     "text": [
      "0_The Monk Who Sold His Ferrari ( PDFDrive.com ).txt\n"
     ]
    },
    {
     "name": "stdout",
     "output_type": "stream",
     "text": [
      "0_THE VAMPYRE by John William Polidori - FULL AudioBook _ Greatest AudioBooks - English (auto-generated)(1).txt\n"
     ]
    },
    {
     "name": "stdout",
     "output_type": "stream",
     "text": [
      "0_THE VAMPYRE by John William Polidori - FULL AudioBook _ Greatest AudioBooks - English (auto-generated).txt\n"
     ]
    },
    {
     "name": "stdout",
     "output_type": "stream",
     "text": [
      "0_The-Brothers-Karamazov.txt\n"
     ]
    },
    {
     "name": "stdout",
     "output_type": "stream",
     "text": [
      "0_The-House-of-the-Dead.txt\n"
     ]
    },
    {
     "name": "stdout",
     "output_type": "stream",
     "text": [
      "1_11 TRUE SCARY STORIES From Reddit [MEGA COLLABORATION #4] - English (auto-generated).txt\n"
     ]
    },
    {
     "name": "stdout",
     "output_type": "stream",
     "text": [
      "1_14 Horror Stories Animated (Compilation of 2015) - English (auto-generated).txt\n"
     ]
    },
    {
     "name": "stdout",
     "output_type": "stream",
     "text": [
      "1_14 More Horror Stories Animated (Compilation of 2016) - English (auto-generated).txt\n"
     ]
    },
    {
     "name": "stdout",
     "output_type": "stream",
     "text": [
      "1_16 True Scary Stories [Compilation Vol.14] - English (auto-generated).txt\n"
     ]
    },
    {
     "name": "stdout",
     "output_type": "stream",
     "text": [
      "1_5 Horror Stories Animated (Compilation of Dec. 2018) - English (auto-generated).txt\n1_A Sherlock Holmes Novel_ The Sign of the Four Audiobook - English (United Kingdom).txt\n"
     ]
    },
    {
     "name": "stdout",
     "output_type": "stream",
     "text": [
      "1_A TALE OF TWO CITIES by Charles Dickens - FULL AudioBook _ Greatest AudioBooks (Book 1 of 3) V2 - English (auto-generated).txt\n"
     ]
    },
    {
     "name": "stdout",
     "output_type": "stream",
     "text": [
      "1_Audiobooks - The Little Prince - Antoine de Saint-Exupéry - English (auto-generated).txt\n"
     ]
    },
    {
     "name": "stdout",
     "output_type": "stream",
     "text": [
      "1_aufg.txt\n"
     ]
    },
    {
     "name": "stdout",
     "output_type": "stream",
     "text": [
      "1_CELEBRATED CRIMES_ THE MAN IN THE IRON MASK - FULL AudioBook _ GreatestAudioBooks - English (auto-generated).txt\n"
     ]
    },
    {
     "name": "stdout",
     "output_type": "stream",
     "text": [
      "1_Chapter 1 - The Boy Who Lived (Harry Potter and the Sorcerer's Stone) - English (auto-generated).txt\n1_CUSTER BATTLEFIELD_ A History And Guide To The Battle Of The Little Bighorn _ Greatest AudioBooks - English (auto-generated).txt\n"
     ]
    },
    {
     "name": "stdout",
     "output_type": "stream",
     "text": [
      "1_Dead Men Tell No Tales audiobook (FULL Audiobook) - part (1 of 3) - English (auto-generated).txt\n"
     ]
    },
    {
     "name": "stdout",
     "output_type": "stream",
     "text": [
      "1_EMMA Audiobook by Jane Austen _ Full Audio book with Subtitles _ Part 1 of 2 - English.txt\n"
     ]
    },
    {
     "name": "stdout",
     "output_type": "stream",
     "text": [
      "1_Encyclopedia of Comic Books and Graphic Novels ( PDFDrive.com ).txt\n"
     ]
    },
    {
     "name": "stdout",
     "output_type": "stream",
     "text": [
      "1_English Learning Audio Book, through picture, story English subtitle 20 - English (auto-generated).txt\n1_IMPROVE LISTENING SKILLS VIA GREAT NOVELS - The Adventures of HuckleBerry Finn [Part I] - English (auto-generated).txt\n"
     ]
    },
    {
     "name": "stdout",
     "output_type": "stream",
     "text": [
      "1_Learn English Through Story - Jane Eyre- Practice Listening English - English (auto-generated).txt\n"
     ]
    },
    {
     "name": "stdout",
     "output_type": "stream",
     "text": [
      "1_Learn English Through Story - The House On The Hill by Elizabeth Laird - English (auto-generated).txt\n1_Learn English Through Story - The Stranger by Norman Whitney - English (auto-generated).txt\n"
     ]
    },
    {
     "name": "stdout",
     "output_type": "stream",
     "text": [
      "1_Learn English Through Story - The Woman Who Disappeared (Elementary) Audiobook with Subtitles - English (auto-generated).txt\n"
     ]
    },
    {
     "name": "stdout",
     "output_type": "stream",
     "text": [
      "1_Learn English Through Story -The Willing Ghost- Practice Listening English - English (auto-generated).txt\n"
     ]
    },
    {
     "name": "stdout",
     "output_type": "stream",
     "text": [
      "1_Learn English With Story Love or Money level 1 - English (auto-generated).txt\n1_Muhammad_ His Life Based on the Earliest Sources ( PDFDrive.com ).txt\n"
     ]
    },
    {
     "name": "stdout",
     "output_type": "stream",
     "text": [
      "1_pride-and-prejudice.txt\n"
     ]
    },
    {
     "name": "stdout",
     "output_type": "stream",
     "text": [
      "1_Rose O' The River Full Audiobook by Kate Douglas WIGGIN by General Fiction - English (auto-generated).txt\n"
     ]
    },
    {
     "name": "stdout",
     "output_type": "stream",
     "text": [
      "1_THE FALL OF THE HOUSE OF USHER by Edgar Allan Poe - FULL AudioBook _ GreatestAudioBooks V1TA - English (auto-generated).txt\n"
     ]
    },
    {
     "name": "stdout",
     "output_type": "stream",
     "text": [
      "1_THE MAN FROM SNOWY RIVER by Banjo Paterson - FULL AudioBook _ GreatestAudioBooks - English (auto-generated)(1).txt\n"
     ]
    },
    {
     "name": "stdout",
     "output_type": "stream",
     "text": [
      "1_THE MAN FROM SNOWY RIVER by Banjo Paterson - FULL AudioBook _ GreatestAudioBooks - English (auto-generated).txt\n"
     ]
    },
    {
     "name": "stdout",
     "output_type": "stream",
     "text": [
      "1_The Metamorphosis by Franz Kafka (Free Audio Book in English Language) - English.txt\n"
     ]
    },
    {
     "name": "stdout",
     "output_type": "stream",
     "text": [
      "1_The Secret of Dreams - FULL Audio Book - by Yacki Raizizun _ GreatestAudioBooks - English (auto-generated).txt\n"
     ]
    },
    {
     "name": "stdout",
     "output_type": "stream",
     "text": [
      "1_THE STORY OF ATLANTIS - FULL AudioBook _ Greatest Audio Books - English (auto-generated).txt\n"
     ]
    },
    {
     "name": "stdout",
     "output_type": "stream",
     "text": [
      "1_The Watsons by Jane Austen (FULL Audio Book) - English (auto-generated).txt\n"
     ]
    },
    {
     "name": "stdout",
     "output_type": "stream",
     "text": [
      "1_The Woman Who Tried to be Good Edna Ferber audiobook Short Story - English (auto-generated).txt\n1_the-forgotten-room-a-novel-lincoln-child.txt\n"
     ]
    },
    {
     "name": "stdout",
     "output_type": "stream",
     "text": [
      "1_the-great-gatsby.txt\n"
     ]
    },
    {
     "name": "stdout",
     "output_type": "stream",
     "text": [
      "1_The-Idiot.txt\n"
     ]
    },
    {
     "name": "stdout",
     "output_type": "stream",
     "text": [
      "1_The-Peasant-Marey.txt\n1_To Build a Fire by Jack London a Free Audio Book - English (auto-generated).txt\n"
     ]
    },
    {
     "name": "stdout",
     "output_type": "stream",
     "text": [
      "1_[Fantasy Tale from the Author of Dracula] The Castle of the King (Bram Stoker Audiobook) - English (auto-generated).txt\n"
     ]
    }
   ],
   "source": [
    "#set_of_testing_books_words (except the children books)\n",
    "testing_books_directory_path = \"C:/Users/Abdo/Project/test_data/books_txt/\"\n",
    "folders = os.listdir(testing_books_directory_path)\n",
    "\n",
    "for folder in folders:\n",
    "    if folder != \"1\":\n",
    "        books = os.listdir(testing_books_directory_path+folder+\"/\")\n",
    "        for book in books:\n",
    "            try:\n",
    "                words = pre.preprocess_file(testing_books_directory_path+folder+\"/\", book, True)\n",
    "            except:\n",
    "                words = pre.preprocess_file(testing_books_directory_path+folder+\"/\", book, False)\n",
    "            words_set = set(words)\n",
    "            set_of_testing_books_words = set_of_testing_books_words.union(words_set)\n",
    "\n"
   ]
  },
  {
   "cell_type": "code",
   "execution_count": 64,
   "metadata": {},
   "outputs": [],
   "source": [
    "words_common_between_test_and_train_movies = set_of_training_movies_words.intersection(set_of_testing_movies_words)\n",
    "words_common_between_test_books_and_train_movies = set_of_training_movies_words.intersection(set_of_testing_books_words)"
   ]
  },
  {
   "cell_type": "code",
   "execution_count": 66,
   "metadata": {},
   "outputs": [],
   "source": [
    "words_in_books_not_in_training_movies = set_of_testing_books_words.difference(set_of_training_movies_words)\n",
    "words_in_testing_movies_not_in_training_movies = set_of_testing_movies_words.difference(set_of_training_movies_words)"
   ]
  },
  {
   "cell_type": "code",
   "execution_count": 67,
   "metadata": {},
   "outputs": [
    {
     "name": "stdout",
     "output_type": "stream",
     "text": [
      "5960\n437\n"
     ]
    }
   ],
   "source": [
    "print(len(words_in_books_not_in_training_movies))\n",
    "print(len(words_in_testing_movies_not_in_training_movies))"
   ]
  },
  {
   "cell_type": "code",
   "execution_count": 61,
   "metadata": {},
   "outputs": [],
   "source": [
    "list_of_words_sets = [set_of_training_movies_words, set_of_testing_movies_words ,set_of_testing_books_words ]"
   ]
  },
  {
   "cell_type": "code",
   "execution_count": 62,
   "metadata": {},
   "outputs": [],
   "source": [
    "pre.out_pickle(\"C:/Users/Abdo/Project/pickle_files/\",\"list_of_words_sets\", list_of_words_sets)"
   ]
  },
  {
   "cell_type": "code",
   "execution_count": 15,
   "metadata": {},
   "outputs": [],
   "source": [
    "# [ ([words], label ), ......  ]\n",
    "list_of_words_labels = []"
   ]
  },
  {
   "cell_type": "code",
   "execution_count": 16,
   "metadata": {
    "collapsed": true
   },
   "outputs": [
    {
     "name": "stdout",
     "output_type": "stream",
     "text": [
      "american crime history0.txt\n"
     ]
    },
    {
     "name": "stdout",
     "output_type": "stream",
     "text": [
      "american crime history1.txt\n"
     ]
    },
    {
     "name": "stdout",
     "output_type": "stream",
     "text": [
      "american crime history10.txt\n"
     ]
    },
    {
     "name": "stdout",
     "output_type": "stream",
     "text": [
      "american crime history11.txt\n"
     ]
    },
    {
     "name": "stdout",
     "output_type": "stream",
     "text": [
      "american crime history12.txt\n"
     ]
    },
    {
     "name": "stdout",
     "output_type": "stream",
     "text": [
      "american crime history13.txt\namerican crime history14.txt\n"
     ]
    },
    {
     "name": "stdout",
     "output_type": "stream",
     "text": [
      "american crime history15.txt\namerican crime history17.txt\n"
     ]
    },
    {
     "name": "stdout",
     "output_type": "stream",
     "text": [
      "american crime history18.txt\namerican crime history19.txt\n"
     ]
    },
    {
     "name": "stdout",
     "output_type": "stream",
     "text": [
      "american crime history2.txt\namerican crime history3.txt\n"
     ]
    },
    {
     "name": "stdout",
     "output_type": "stream",
     "text": [
      "american crime history4.txt\namerican crime history5.txt\namerican crime history6.txt\n"
     ]
    },
    {
     "name": "stdout",
     "output_type": "stream",
     "text": [
      "american crime history7.txt\namerican crime history7.txt\namerican crime history8.txt\n"
     ]
    },
    {
     "name": "stdout",
     "output_type": "stream",
     "text": [
      "american crime history9.txt\nblack sails0.txt\nblack sails0.txt\n"
     ]
    },
    {
     "name": "stdout",
     "output_type": "stream",
     "text": [
      "black sails1.txt\nblack sails11.txt\n"
     ]
    },
    {
     "name": "stdout",
     "output_type": "stream",
     "text": [
      "black sails12.txt\nblack sails13.txt\n"
     ]
    },
    {
     "name": "stdout",
     "output_type": "stream",
     "text": [
      "black sails14.txt\nblack sails15.txt\n"
     ]
    },
    {
     "name": "stdout",
     "output_type": "stream",
     "text": [
      "black sails16.txt\nblack sails16.txt\nblack sails17.txt\n"
     ]
    },
    {
     "name": "stdout",
     "output_type": "stream",
     "text": [
      "black sails18.txt\nblack sails19.txt\nblack sails19.txt\n"
     ]
    },
    {
     "name": "stdout",
     "output_type": "stream",
     "text": [
      "black sails2.txt\nblack sails20.txt\nblack sails20.txt\n"
     ]
    },
    {
     "name": "stdout",
     "output_type": "stream",
     "text": [
      "black sails3.txt\nblack sails4.txt\n"
     ]
    },
    {
     "name": "stdout",
     "output_type": "stream",
     "text": [
      "black sails5.txt\nblack sails6.txt\n"
     ]
    },
    {
     "name": "stdout",
     "output_type": "stream",
     "text": [
      "black sails7.txt\nblack sails8.txt\nblack sails8.txt"
     ]
    },
    {
     "name": "stdout",
     "output_type": "stream",
     "text": [
      "\nblack sails9.txt\n"
     ]
    },
    {
     "name": "stdout",
     "output_type": "stream",
     "text": [
      "breakingbad0.txt\nbreakingbad1.txt\nbreakingbad1.txt\n"
     ]
    },
    {
     "name": "stdout",
     "output_type": "stream",
     "text": [
      "breakingbad10.txt\nbreakingbad12.txt\n"
     ]
    },
    {
     "name": "stdout",
     "output_type": "stream",
     "text": [
      "breakingbad13.txt\nbreakingbad14.txt\n"
     ]
    },
    {
     "name": "stdout",
     "output_type": "stream",
     "text": [
      "breakingbad15.txt\nbreakingbad16.txt\n"
     ]
    },
    {
     "name": "stdout",
     "output_type": "stream",
     "text": [
      "breakingbad17.txt\nbreakingbad18.txt\n"
     ]
    },
    {
     "name": "stdout",
     "output_type": "stream",
     "text": [
      "breakingbad19.txt\nbreakingbad2.txt\n"
     ]
    },
    {
     "name": "stdout",
     "output_type": "stream",
     "text": [
      "breakingbad20.txt\nbreakingbad21.txt\n"
     ]
    },
    {
     "name": "stdout",
     "output_type": "stream",
     "text": [
      "breakingbad22.txt\nbreakingbad23.txt\n"
     ]
    },
    {
     "name": "stdout",
     "output_type": "stream",
     "text": [
      "breakingbad24.txt\nbreakingbad25.txt\n"
     ]
    },
    {
     "name": "stdout",
     "output_type": "stream",
     "text": [
      "breakingbad26.txt\nbreakingbad27.txt\n"
     ]
    },
    {
     "name": "stdout",
     "output_type": "stream",
     "text": [
      "breakingbad28.txt\nbreakingbad29.txt\n"
     ]
    },
    {
     "name": "stdout",
     "output_type": "stream",
     "text": [
      "breakingbad3.txt\nbreakingbad3.txt\nbreakingbad30.txt\nbreakingbad30.txt\n"
     ]
    },
    {
     "name": "stdout",
     "output_type": "stream",
     "text": [
      "breakingbad4.txt\nbreakingbad5.txt\n"
     ]
    },
    {
     "name": "stdout",
     "output_type": "stream",
     "text": [
      "breakingbad6.txt\nbreakingbad7.txt\n"
     ]
    },
    {
     "name": "stdout",
     "output_type": "stream",
     "text": [
      "breakingbad8.txt\nbreakingbad9.txt\n"
     ]
    },
    {
     "name": "stdout",
     "output_type": "stream",
     "text": [
      "californication - Copy (2).txt\ncalifornication - Copy (2).txt\ncalifornication - Copy (3).txt\ncalifornication - Copy (4).txt\n"
     ]
    },
    {
     "name": "stdout",
     "output_type": "stream",
     "text": [
      "californication - Copy.txt\ncalifornication.txt\ncalifornication.txt\n"
     ]
    },
    {
     "name": "stdout",
     "output_type": "stream",
     "text": [
      "fargo0.txt\nfargo1.txt\n"
     ]
    },
    {
     "name": "stdout",
     "output_type": "stream",
     "text": [
      "fargo11.txt\nfargo12.txt\n"
     ]
    },
    {
     "name": "stdout",
     "output_type": "stream",
     "text": [
      "fargo13.txt\nfargo14.txt\n"
     ]
    },
    {
     "name": "stdout",
     "output_type": "stream",
     "text": [
      "fargo15.txt\nfargo16.txt\nfargo17.txt\n"
     ]
    },
    {
     "name": "stdout",
     "output_type": "stream",
     "text": [
      "fargo18.txt\nfargo19.txt\n"
     ]
    },
    {
     "name": "stdout",
     "output_type": "stream",
     "text": [
      "fargo2.txt\nfargo20.txt\n"
     ]
    },
    {
     "name": "stdout",
     "output_type": "stream",
     "text": [
      "fargo3.txt\nfargo4.txt\nfargo5.txt\n"
     ]
    },
    {
     "name": "stdout",
     "output_type": "stream",
     "text": [
      "fargo6.txt\nfargo7.txt\n"
     ]
    },
    {
     "name": "stdout",
     "output_type": "stream",
     "text": [
      "fargo8.txt\nfargo9.txt\n"
     ]
    },
    {
     "name": "stdout",
     "output_type": "stream",
     "text": [
      "ozark0.txt\nozark11.txt\nozark11.txt\n"
     ]
    },
    {
     "name": "stdout",
     "output_type": "stream",
     "text": [
      "ozark12.txt\nozark13.txt\n"
     ]
    },
    {
     "name": "stdout",
     "output_type": "stream",
     "text": [
      "ozark14.txt\nozark14.txt\nozark15.txt\n"
     ]
    },
    {
     "name": "stdout",
     "output_type": "stream",
     "text": [
      "ozark16.txt\nozark17.txt\n"
     ]
    },
    {
     "name": "stdout",
     "output_type": "stream",
     "text": [
      "ozark18.txt\nozark19.txt\nozark19.txt\n"
     ]
    },
    {
     "name": "stdout",
     "output_type": "stream",
     "text": [
      "ozark2.txt\nozark2.txt\nozark20.txt\n"
     ]
    },
    {
     "name": "stdout",
     "output_type": "stream",
     "text": [
      "ozark20.txt\nozark3.txt\nozark3.txt\n"
     ]
    },
    {
     "name": "stdout",
     "output_type": "stream",
     "text": [
      "ozark4.txt\nozark4.txt\nozark5.txt\n"
     ]
    },
    {
     "name": "stdout",
     "output_type": "stream",
     "text": [
      "ozark6.txt\nozark6.txt\nozark7.txt\nozark7.txt\n"
     ]
    },
    {
     "name": "stdout",
     "output_type": "stream",
     "text": [
      "ozark8.txt\nozark8.txt\nozark9.txt\n"
     ]
    },
    {
     "name": "stdout",
     "output_type": "stream",
     "text": [
      "peaky - Copy (10).txt\npeaky - Copy (11).txt\n"
     ]
    },
    {
     "name": "stdout",
     "output_type": "stream",
     "text": [
      "peaky - Copy (12).txt\npeaky - Copy (13).txt\n"
     ]
    },
    {
     "name": "stdout",
     "output_type": "stream",
     "text": [
      "peaky - Copy (14).txt\npeaky - Copy (15).txt\n"
     ]
    },
    {
     "name": "stdout",
     "output_type": "stream",
     "text": [
      "peaky - Copy (16).txt\npeaky - Copy (17).txt\n"
     ]
    },
    {
     "name": "stdout",
     "output_type": "stream",
     "text": [
      "peaky - Copy (18).txt\npeaky - Copy (19).txt\n"
     ]
    },
    {
     "name": "stdout",
     "output_type": "stream",
     "text": [
      "peaky - Copy (2).txt\npeaky - Copy (2).txt\npeaky - Copy (20).txt\n"
     ]
    },
    {
     "name": "stdout",
     "output_type": "stream",
     "text": [
      "peaky - Copy (21).txt\npeaky - Copy (22).txt\npeaky - Copy (23).txt\n"
     ]
    },
    {
     "name": "stdout",
     "output_type": "stream",
     "text": [
      "peaky - Copy (3).txt\npeaky - Copy (3).txt\npeaky - Copy (4).txt\npeaky - Copy (5).txt\n"
     ]
    },
    {
     "name": "stdout",
     "output_type": "stream",
     "text": [
      "peaky - Copy (6).txt\npeaky - Copy (7).txt\npeaky - Copy (8).txt\n"
     ]
    },
    {
     "name": "stdout",
     "output_type": "stream",
     "text": [
      "peaky - Copy (9).txt\npeaky - Copy.txt\npeaky - Copy.txt\n"
     ]
    },
    {
     "name": "stdout",
     "output_type": "stream",
     "text": [
      "peaky.txt\nsuits0.txt\n"
     ]
    },
    {
     "name": "stdout",
     "output_type": "stream",
     "text": [
      "suits1.txt\nsuits11.txt\n"
     ]
    },
    {
     "name": "stdout",
     "output_type": "stream",
     "text": [
      "suits12.txt\nsuits13.txt\n"
     ]
    },
    {
     "name": "stdout",
     "output_type": "stream",
     "text": [
      "suits14.txt\nsuits15.txt\nsuits15.txt\n"
     ]
    },
    {
     "name": "stdout",
     "output_type": "stream",
     "text": [
      "suits16.txt\nsuits17.txt\n"
     ]
    },
    {
     "name": "stdout",
     "output_type": "stream",
     "text": [
      "suits18.txt\nsuits19.txt\n"
     ]
    },
    {
     "name": "stdout",
     "output_type": "stream",
     "text": [
      "suits2.txt\nsuits20.txt\n"
     ]
    },
    {
     "name": "stdout",
     "output_type": "stream",
     "text": [
      "suits3.txt\nsuits4.txt\n"
     ]
    },
    {
     "name": "stdout",
     "output_type": "stream",
     "text": [
      "suits5.txt\nsuits6.txt\n"
     ]
    },
    {
     "name": "stdout",
     "output_type": "stream",
     "text": [
      "suits7.txt\nsuits8.txt\n"
     ]
    },
    {
     "name": "stdout",
     "output_type": "stream",
     "text": [
      "suits9.txt\nvikings - Copy (2).txt\nvikings - Copy (3).txt\n"
     ]
    },
    {
     "name": "stdout",
     "output_type": "stream",
     "text": [
      "vikings - Copy (4).txt\nvikings - Copy (5).txt\nvikings - Copy (6).txt\nvikings - Copy (7).txt\n"
     ]
    },
    {
     "name": "stdout",
     "output_type": "stream",
     "text": [
      "vikings - Copy.txt\nvikings.txt\nfull house0.txt\nfull house0.txt\n"
     ]
    },
    {
     "name": "stdout",
     "output_type": "stream",
     "text": [
      "full house1.txt\nfull house10.txt\nfull house11.txt\nfull house11.txt\n"
     ]
    },
    {
     "name": "stdout",
     "output_type": "stream",
     "text": [
      "full house13.txt\nfull house14.txt\nfull house14.txt\nfull house15.txt\nfull house16.txt\n"
     ]
    },
    {
     "name": "stdout",
     "output_type": "stream",
     "text": [
      "full house17.txt\nfull house18.txt\nfull house19.txt\nfull house2.txt\n"
     ]
    },
    {
     "name": "stdout",
     "output_type": "stream",
     "text": [
      "full house20.txt\nfull house3.txt\nfull house4.txt\nfull house5.txt\n"
     ]
    },
    {
     "name": "stdout",
     "output_type": "stream",
     "text": [
      "full house6.txt\nfull house7.txt\nfull house8.txt\nfull house9.txt\n"
     ]
    },
    {
     "name": "stdout",
     "output_type": "stream",
     "text": [
      "fuller house0.txt\nfuller house1.txt\nfuller house11.txt\n"
     ]
    },
    {
     "name": "stdout",
     "output_type": "stream",
     "text": [
      "fuller house12.txt\nfuller house13.txt\nfuller house14.txt\nfuller house15.txt\n"
     ]
    },
    {
     "name": "stdout",
     "output_type": "stream",
     "text": [
      "fuller house16.txt\nfuller house17.txt\nfuller house18.txt\nfuller house19.txt\n"
     ]
    },
    {
     "name": "stdout",
     "output_type": "stream",
     "text": [
      "fuller house2.txt\nfuller house3.txt\nfuller house4.txt\n"
     ]
    },
    {
     "name": "stdout",
     "output_type": "stream",
     "text": [
      "fuller house5.txt\nfuller house6.txt\nfuller house7.txt\n"
     ]
    },
    {
     "name": "stdout",
     "output_type": "stream",
     "text": [
      "fuller house8.txt\nfuller house9.txt\nSabrina The Teenage Witch0.txt\n"
     ]
    },
    {
     "name": "stdout",
     "output_type": "stream",
     "text": [
      "Sabrina The Teenage Witch1.txt\nSabrina The Teenage Witch11.txt\nSabrina The Teenage Witch12.txt\n"
     ]
    },
    {
     "name": "stdout",
     "output_type": "stream",
     "text": [
      "Sabrina The Teenage Witch13.txt\nSabrina The Teenage Witch14.txt\nSabrina The Teenage Witch15.txt\n"
     ]
    },
    {
     "name": "stdout",
     "output_type": "stream",
     "text": [
      "Sabrina The Teenage Witch16.txt\nSabrina The Teenage Witch17.txt\nSabrina The Teenage Witch17.txt\nSabrina The Teenage Witch18.txt\n"
     ]
    },
    {
     "name": "stdout",
     "output_type": "stream",
     "text": [
      "Sabrina The Teenage Witch19.txt\nSabrina The Teenage Witch2.txt\nSabrina The Teenage Witch20.txt\n"
     ]
    },
    {
     "name": "stdout",
     "output_type": "stream",
     "text": [
      "Sabrina The Teenage Witch3.txt\nSabrina The Teenage Witch4.txt\nSabrina The Teenage Witch5.txt\n"
     ]
    },
    {
     "name": "stdout",
     "output_type": "stream",
     "text": [
      "Sabrina The Teenage Witch6.txt\nSabrina The Teenage Witch7.txt\nSabrina The Teenage Witch8.txt\n"
     ]
    },
    {
     "name": "stdout",
     "output_type": "stream",
     "text": [
      "Sabrina The Teenage Witch9.txt\nsimpsons0.txt\nsimpsons1.txt\nsimpsons10.txt\n"
     ]
    },
    {
     "name": "stdout",
     "output_type": "stream",
     "text": [
      "simpsons11.txt\nsimpsons12.txt\nsimpsons13.txt\nsimpsons14.txt\n"
     ]
    },
    {
     "name": "stdout",
     "output_type": "stream",
     "text": [
      "simpsons15.txt\nsimpsons16.txt\nsimpsons17.txt\nsimpsons18.txt\n"
     ]
    },
    {
     "name": "stdout",
     "output_type": "stream",
     "text": [
      "simpsons19.txt\nsimpsons2.txt\nsimpsons2.txt\nsimpsons20.txt\n"
     ]
    },
    {
     "name": "stdout",
     "output_type": "stream",
     "text": [
      "simpsons21.txt\nsimpsons22.txt\nsimpsons23.txt\n"
     ]
    },
    {
     "name": "stdout",
     "output_type": "stream",
     "text": [
      "simpsons24.txt\nsimpsons25.txt\nsimpsons26.txt\nsimpsons27.txt\n"
     ]
    },
    {
     "name": "stdout",
     "output_type": "stream",
     "text": [
      "simpsons28.txt\nsimpsons29.txt\nsimpsons3.txt\n"
     ]
    },
    {
     "name": "stdout",
     "output_type": "stream",
     "text": [
      "simpsons30.txt\nsimpsons31.txt\nsimpsons32.txt\nsimpsons33.txt\n"
     ]
    },
    {
     "name": "stdout",
     "output_type": "stream",
     "text": [
      "simpsons34.txt\nsimpsons35.txt\nsimpsons36.txt\nsimpsons37.txt\n"
     ]
    },
    {
     "name": "stdout",
     "output_type": "stream",
     "text": [
      "simpsons38.txt\nsimpsons39.txt\nsimpsons4.txt\n"
     ]
    },
    {
     "name": "stdout",
     "output_type": "stream",
     "text": [
      "simpsons40.txt\nsimpsons5.txt\nsimpsons6.txt\nsimpsons7.txt\n"
     ]
    },
    {
     "name": "stdout",
     "output_type": "stream",
     "text": [
      "simpsons8.txt\nsimpsons9.txt\nsimsons - Copy.txt\nsimsons.txt\n"
     ]
    },
    {
     "name": "stdout",
     "output_type": "stream",
     "text": [
      "steven_universe_ep_1.txt\nsteven_universe_ep_10.txt\nsteven_universe_ep_11.txt\nsteven_universe_ep_12.txt\nsteven_universe_ep_13.txt\n"
     ]
    },
    {
     "name": "stdout",
     "output_type": "stream",
     "text": [
      "steven_universe_ep_14.txt\nsteven_universe_ep_15.txt\nsteven_universe_ep_16.txt\nsteven_universe_ep_17.txt\nsteven_universe_ep_18.txt\nsteven_universe_ep_19.txt\n"
     ]
    },
    {
     "name": "stdout",
     "output_type": "stream",
     "text": [
      "steven_universe_ep_2.txt\nsteven_universe_ep_20.txt\nsteven_universe_ep_21.txt\nsteven_universe_ep_22.txt\nsteven_universe_ep_23.txt\nsteven_universe_ep_24.txt\n"
     ]
    },
    {
     "name": "stdout",
     "output_type": "stream",
     "text": [
      "steven_universe_ep_25.txt\nsteven_universe_ep_26.txt\nsteven_universe_ep_27.txt\nsteven_universe_ep_28.txt\n"
     ]
    },
    {
     "name": "stdout",
     "output_type": "stream",
     "text": [
      "steven_universe_ep_29.txt\nsteven_universe_ep_3.txt\nsteven_universe_ep_30.txt\nsteven_universe_ep_31.txt\nsteven_universe_ep_32.txt\n"
     ]
    },
    {
     "name": "stdout",
     "output_type": "stream",
     "text": [
      "steven_universe_ep_33.txt\nsteven_universe_ep_34.txt\nsteven_universe_ep_35.txt\nsteven_universe_ep_4.txt\nsteven_universe_ep_41.txt\nsteven_universe_ep_42.txt\nsteven_universe_ep_43.txt\n"
     ]
    },
    {
     "name": "stdout",
     "output_type": "stream",
     "text": [
      "steven_universe_ep_44.txt\nsteven_universe_ep_45.txt\nsteven_universe_ep_46.txt\nsteven_universe_ep_47.txt\nsteven_universe_ep_48.txt\n"
     ]
    },
    {
     "name": "stdout",
     "output_type": "stream",
     "text": [
      "steven_universe_ep_49.txt\nsteven_universe_ep_5.txt\nsteven_universe_ep_6.txt\nsteven_universe_ep_7.txt\nsteven_universe_ep_8.txt\nsteven_universe_ep_9.txt\nsteven_universe_op_36.txt\n"
     ]
    },
    {
     "name": "stdout",
     "output_type": "stream",
     "text": [
      "steven_universe_op_37.txt\nsteven_universe_op_38.txt\nsteven_universe_op_39.txt\nsteven_universe_op_40.txt\nthe simpsons - Copy (10).txt\nthe simpsons - Copy (11).txt\n"
     ]
    },
    {
     "name": "stdout",
     "output_type": "stream",
     "text": [
      "the simpsons - Copy (12).txt\nthe simpsons - Copy (2).txt\nthe simpsons - Copy (3).txt\n"
     ]
    },
    {
     "name": "stdout",
     "output_type": "stream",
     "text": [
      "the simpsons - Copy (4).txt\nthe simpsons - Copy (5).txt\nthe simpsons - Copy (6).txt\n"
     ]
    },
    {
     "name": "stdout",
     "output_type": "stream",
     "text": [
      "the simpsons - Copy (7).txt\nthe simpsons - Copy (8).txt\nthe simpsons - Copy (9).txt\n"
     ]
    },
    {
     "name": "stdout",
     "output_type": "stream",
     "text": [
      "the simpsons - Copy1.txt\nthe simpsons1.txt\nthomas the engine and friends0.txt\nthomas the engine and friends1.txt\nthomas the engine and friends11.txt\n"
     ]
    },
    {
     "name": "stdout",
     "output_type": "stream",
     "text": [
      "thomas the engine and friends12.txt\nthomas the engine and friends13.txt\nthomas the engine and friends14.txt\nthomas the engine and friends15.txt\nthomas the engine and friends16.txt\nthomas the engine and friends17.txt\nthomas the engine and friends18.txt\nthomas the engine and friends19.txt\nthomas the engine and friends2.txt\nthomas the engine and friends20.txt\nthomas the engine and friends3.txt\nthomas the engine and friends4.txt\n"
     ]
    },
    {
     "name": "stdout",
     "output_type": "stream",
     "text": [
      "thomas the engine and friends5.txt\nthomas the engine and friends6.txt\nthomas the engine and friends7.txt\nthomas the engine and friends8.txt\nthomas the engine and friends9.txt\n"
     ]
    }
   ],
   "source": [
    "# fill the first four dicts\n",
    "for folder in folders:\n",
    "    # books_txt, movies_txt\n",
    "    inside_folders = os.listdir(directory_path+folder+\"/\")\n",
    "    if folder == \"movies_txt\":\n",
    "        # 0, 1 , no_label\n",
    "        for inside_folder in inside_folders:\n",
    "            if inside_folder == \"0\" or inside_folder == \"1\":\n",
    "                files = os.listdir(directory_path+folder+\"/\"+inside_folder+\"/\")\n",
    "                #print(directory_path+folder+\"/\"+inside_folder+\"/\")\n",
    "                for file in files:\n",
    "                    try:\n",
    "                        words = pre.preprocess_file(directory_path+folder+\"/\"+inside_folder+\"/\",file, True)\n",
    "                    except:\n",
    "                        words = pre.preprocess_file(directory_path+folder+\"/\"+inside_folder+\"/\",file, False)\n",
    "                    # add the words of the document to the corresponding dict\n",
    "                    #for word in words:\n",
    "                        #add_value_to_dict(dict_of_dicts[inside_folder+\"_\"+folder.split(\"_\")[0]],word)\n",
    "                    list_of_words_labels.append( (words, inside_folder) )"
   ]
  },
  {
   "cell_type": "code",
   "execution_count": 17,
   "metadata": {},
   "outputs": [],
   "source": [
    "pre.out_pickle(\"C:/Users/Abdo/Project/pickle_files/\",\"list_of_words_labels_movies\", list_of_words_labels)"
   ]
  },
  {
   "cell_type": "code",
   "execution_count": 47,
   "metadata": {},
   "outputs": [],
   "source": [
    "label_0_books_unique_words = set(dict_of_dicts[\"0_books\"].keys()).difference(set(dict_of_dicts[\"1_books\"].keys()))\n",
    "label_1_books_unique_words = set(dict_of_dicts[\"1_books\"].keys()).difference(set(dict_of_dicts[\"0_books\"].keys()))"
   ]
  },
  {
   "cell_type": "code",
   "execution_count": 58,
   "metadata": {},
   "outputs": [],
   "source": [
    "label_0_movies_unique_words = set(dict_of_dicts[\"0_movies\"].keys()).difference(set(dict_of_dicts[\"1_movies\"].keys()))\n",
    "label_1_movies_unique_words = set(dict_of_dicts[\"1_movies\"].keys()).difference(set(dict_of_dicts[\"0_movies\"].keys()))"
   ]
  },
  {
   "cell_type": "code",
   "execution_count": 59,
   "metadata": {},
   "outputs": [],
   "source": [
    "predicted_label_0_movies_unique_words = set(dict_of_dicts[\"not_labeled_0_books\"].keys()).difference(set(dict_of_dicts[\"not_labeled_1_books\"].keys()))\n",
    "predicted_label_1_movies_unique_words = set(dict_of_dicts[\"not_labeled_1_books\"].keys()).difference(set(dict_of_dicts[\"not_labeled_0_books\"].keys()))"
   ]
  },
  {
   "cell_type": "heading",
   "metadata": {},
   "level": 2,
   "source": [
    "get most frequnet unique words in each case"
   ]
  },
  {
   "cell_type": "code",
   "execution_count": 76,
   "metadata": {},
   "outputs": [],
   "source": [
    "most_10_frequent_words_in_0_books = \\\n",
    "    get_most_frequent_n_words(dict_of_dicts[\"0_books\"], label_0_books_unique_words, 10)\n",
    "\n",
    "most_10_frequent_words_in_1_books = \\\n",
    "    get_most_frequent_n_words(dict_of_dicts[\"1_books\"], label_1_books_unique_words, 10)"
   ]
  },
  {
   "cell_type": "code",
   "execution_count": 77,
   "metadata": {},
   "outputs": [],
   "source": [
    "# this is for the books that we don't have a clear label for\n",
    "most_10_frequent_words_in_predicted_0_books = \\\n",
    "    get_most_frequent_n_words(dict_of_dicts[\"not_labeled_0_books\"], predicted_label_0_movies_unique_words, 10)\n",
    "\n",
    "most_10_frequent_words_in_predicted_1_books = \\\n",
    "    get_most_frequent_n_words(dict_of_dicts[\"not_labeled_1_books\"], predicted_label_1_movies_unique_words, 10)"
   ]
  },
  {
   "cell_type": "code",
   "execution_count": 78,
   "metadata": {},
   "outputs": [],
   "source": [
    "most_10_frequent_words_in_0_movies = \\\n",
    "    get_most_frequent_n_words(dict_of_dicts[\"0_movies\"], label_0_movies_unique_words, 10)\n",
    "\n",
    "most_10_frequent_words_in_1_movies = \\\n",
    "    get_most_frequent_n_words(dict_of_dicts[\"1_movies\"], label_1_movies_unique_words, 10)"
   ]
  },
  {
   "cell_type": "heading",
   "metadata": {},
   "level": 2,
   "source": [
    "plot the graphs"
   ]
  },
  {
   "cell_type": "code",
   "execution_count": 94,
   "metadata": {
    "collapsed": true
   },
   "outputs": [
    {
     "data": {
      "image/png": "[encoded data removed]",
      "text/plain": [
       "<Figure size 720x720 with 1 Axes>"
      ]
     },
     "metadata": {},
     "output_type": "display_data"
    }
   ],
   "source": [
    "plot_bar_char_and_save_it(most_10_frequent_words_in_0_books[0],\n",
    "                          \"C:/Users/Abdo/Project/figures/test_data/most_10_frequent_words_in_0_books.png\",\n",
    "                          \"most_10_frequent_words_in_0_books\",\"word\", \"frequency\")\n"
   ]
  },
  {
   "cell_type": "code",
   "execution_count": 95,
   "metadata": {
    "collapsed": true
   },
   "outputs": [
    {
     "data": {
      "image/png": "[encoded data removed]",
      "text/plain": [
       "<Figure size 720x720 with 1 Axes>"
      ]
     },
     "metadata": {},
     "output_type": "display_data"
    }
   ],
   "source": [
    "plot_bar_char_and_save_it(most_10_frequent_words_in_1_books[0],\n",
    "                          \"C:/Users/Abdo/Project/figures/test_data/most_10_frequent_words_in_1_books.png\",\n",
    "                          \"most_10_frequent_words_in_1_books\",\"word\", \"frequency\")"
   ]
  },
  {
   "cell_type": "code",
   "execution_count": 96,
   "metadata": {
    "collapsed": true
   },
   "outputs": [
    {
     "data": {
      "image/png": "[encoded data removed]",
      "text/plain": [
       "<Figure size 720x720 with 1 Axes>"
      ]
     },
     "metadata": {},
     "output_type": "display_data"
    }
   ],
   "source": [
    "plot_bar_char_and_save_it(most_10_frequent_words_in_predicted_1_books[0],\n",
    "                          \"C:/Users/Abdo/Project/figures/test_data/most_10_frequent_words_in_predicted_1_books.png\",\n",
    "                          \"most_10_frequent_words_in_predicted_1_books\",\"word\", \"frequency\")"
   ]
  },
  {
   "cell_type": "code",
   "execution_count": 97,
   "metadata": {
    "collapsed": true
   },
   "outputs": [
    {
     "data": {
      "image/png": "[encoded data removed]",
      "text/plain": [
       "<Figure size 720x720 with 1 Axes>"
      ]
     },
     "metadata": {},
     "output_type": "display_data"
    }
   ],
   "source": [
    "plot_bar_char_and_save_it(most_10_frequent_words_in_predicted_0_books[0],\n",
    "                          \"C:/Users/Abdo/Project/figures/test_data/most_10_frequent_words_in_predicted_0_books.png\",\n",
    "                          \"most_10_frequent_words_in_predicted_0_books\",\"word\", \"frequency\")"
   ]
  },
  {
   "cell_type": "code",
   "execution_count": 98,
   "metadata": {
    "collapsed": true
   },
   "outputs": [
    {
     "data": {
      "image/png": "[encoded data removed]",
      "text/plain": [
       "<Figure size 720x720 with 1 Axes>"
      ]
     },
     "metadata": {},
     "output_type": "display_data"
    }
   ],
   "source": [
    "plot_bar_char_and_save_it(most_10_frequent_words_in_0_movies[0],\n",
    "                          \"C:/Users/Abdo/Project/figures/test_data/most_10_frequent_words_in_0_movies.png\",\n",
    "                          \"most_10_frequent_words_in_0_movies\",\"word\", \"frequency\")"
   ]
  },
  {
   "cell_type": "code",
   "execution_count": 99,
   "metadata": {
    "collapsed": true
   },
   "outputs": [
    {
     "data": {
      "image/png": "[encoded data removed]",
      "text/plain": [
       "<Figure size 720x720 with 1 Axes>"
      ]
     },
     "metadata": {},
     "output_type": "display_data"
    }
   ],
   "source": [
    "plot_bar_char_and_save_it(most_10_frequent_words_in_1_movies[0],\n",
    "                          \"C:/Users/Abdo/Project/figures/test_data/most_10_frequent_words_in_1_movies.png\",\n",
    "                          \"most_10_frequent_words_in_1_movies\",\"word\", \"frequency\")"
   ]
  },
  {
   "cell_type": "heading",
   "metadata": {},
   "level": 2,
   "source": [
    "occurneces of bad words"
   ]
  },
  {
   "cell_type": "code",
   "execution_count": 100,
   "metadata": {},
   "outputs": [],
   "source": [
    "inappropriate_words = []\n",
    "file = open(\"C:/Users/Abdo/Project/Notes/inappropriate_words.txt\",\"r\")\n",
    "for word in file.readlines():\n",
    "    inappropriate_words.append(word.replace(\"\\n\",\"\"))"
   ]
  },
  {
   "cell_type": "code",
   "execution_count": 104,
   "metadata": {},
   "outputs": [],
   "source": [
    "# key: 0_books, 1_books, 0_movies, 1_movies, not_labeled_0_books, not_labeled_1_books\n",
    "# value: [ (inappropriate word, number of occurences), (..), .... ]\n",
    "inappropriate_words_dict = {}\n",
    "\n",
    "# initialize the values \n",
    "for key in dict_of_dicts:\n",
    "    inappropriate_words_dict[key] = []"
   ]
  },
  {
   "cell_type": "code",
   "execution_count": 105,
   "metadata": {},
   "outputs": [],
   "source": [
    "for key in dict_of_dicts:\n",
    "    for inappropriate_word in inappropriate_words:\n",
    "        if inappropriate_word in dict_of_dicts[key]:\n",
    "            inappropriate_words_dict[key].append( (dict_of_dicts[key][inappropriate_word], inappropriate_word) )\n",
    "        else:\n",
    "            # doesn't occur\n",
    "            inappropriate_words_dict[key].append( (0, inappropriate_word))"
   ]
  },
  {
   "cell_type": "heading",
   "metadata": {},
   "level": 2,
   "source": [
    "sort the values "
   ]
  },
  {
   "cell_type": "code",
   "execution_count": 113,
   "metadata": {},
   "outputs": [],
   "source": [
    "for key in inappropriate_words_dict:\n",
    "    inappropriate_words_dict[key].sort(reverse=True)"
   ]
  },
  {
   "cell_type": "heading",
   "metadata": {},
   "level": 2,
   "source": [
    "plot the graphs"
   ]
  },
  {
   "cell_type": "code",
   "execution_count": 114,
   "metadata": {
    "collapsed": true
   },
   "outputs": [
    {
     "data": {
      "image/png": "[encoded data removed]",
      "text/plain": [
       "<Figure size 720x720 with 1 Axes>"
      ]
     },
     "metadata": {},
     "output_type": "display_data"
    }
   ],
   "source": [
    "plot_bar_char_and_save_it(inappropriate_words_dict[\"0_books\"][0:10],\n",
    "                          \"C:/Users/Abdo/Project/figures/test_data/inappropriate_words_in_0_books.png\",\n",
    "                          \"inappropriate_words_in_0_books\",\"word\", \"frequency\")"
   ]
  },
  {
   "cell_type": "code",
   "execution_count": 115,
   "metadata": {
    "collapsed": true
   },
   "outputs": [
    {
     "data": {
      "image/png": "[encoded data removed]",
      "text/plain": [
       "<Figure size 720x720 with 1 Axes>"
      ]
     },
     "metadata": {},
     "output_type": "display_data"
    }
   ],
   "source": [
    "plot_bar_char_and_save_it(inappropriate_words_dict[\"1_books\"][0:10],\n",
    "                          \"C:/Users/Abdo/Project/figures/test_data/inappropriate_words_in_1_books.png\",\n",
    "                          \"inappropriate_words_in_1_books\",\"word\", \"frequency\")"
   ]
  },
  {
   "cell_type": "code",
   "execution_count": 116,
   "metadata": {
    "collapsed": true
   },
   "outputs": [
    {
     "data": {
      "image/png": "[encoded data removed]",
      "text/plain": [
       "<Figure size 720x720 with 1 Axes>"
      ]
     },
     "metadata": {},
     "output_type": "display_data"
    }
   ],
   "source": [
    "plot_bar_char_and_save_it(inappropriate_words_dict[\"0_movies\"][0:10],\n",
    "                          \"C:/Users/Abdo/Project/figures/test_data/inappropriate_words_in_0_movies.png\",\n",
    "                          \"inappropriate_words_in_0_movies\",\"word\", \"frequency\")"
   ]
  },
  {
   "cell_type": "code",
   "execution_count": 117,
   "metadata": {
    "collapsed": true
   },
   "outputs": [
    {
     "data": {
      "image/png": "[encoded data removed]",
      "text/plain": [
       "<Figure size 720x720 with 1 Axes>"
      ]
     },
     "metadata": {},
     "output_type": "display_data"
    }
   ],
   "source": [
    "plot_bar_char_and_save_it(inappropriate_words_dict[\"1_movies\"][0:10],\n",
    "                          \"C:/Users/Abdo/Project/figures/test_data/inappropriate_words_in_1_movies.png\",\n",
    "                          \"inappropriate_words_in_1_movies\",\"word\", \"frequency\")"
   ]
  },
  {
   "cell_type": "code",
   "execution_count": 118,
   "metadata": {
    "collapsed": true
   },
   "outputs": [
    {
     "data": {
      "image/png": "[encoded data removed]",
      "text/plain": [
       "<Figure size 720x720 with 1 Axes>"
      ]
     },
     "metadata": {},
     "output_type": "display_data"
    }
   ],
   "source": [
    "plot_bar_char_and_save_it(inappropriate_words_dict[\"not_labeled_0_books\"][0:10],\n",
    "                          \"C:/Users/Abdo/Project/figures/test_data/inappropriate_words_in_not_labeled_0_books.png\",\n",
    "                          \"inappropriate_words_in_not_labeled_0_books\",\"word\", \"frequency\")"
   ]
  },
  {
   "cell_type": "code",
   "execution_count": 119,
   "metadata": {
    "collapsed": true
   },
   "outputs": [
    {
     "data": {
      "image/png": "[encoded data removed]",
      "text/plain": [
       "<Figure size 720x720 with 1 Axes>"
      ]
     },
     "metadata": {},
     "output_type": "display_data"
    }
   ],
   "source": [
    "plot_bar_char_and_save_it(inappropriate_words_dict[\"not_labeled_1_books\"][0:10],\n",
    "                          \"C:/Users/Abdo/Project/figures/test_data/inappropriate_words_in_not_labeled_1_books.png\",\n",
    "                          \"inappropriate_words_in_not_labeled_1_books\",\"word\", \"frequency\")"
   ]
  },
  {
   "cell_type": "heading",
   "metadata": {},
   "level": 2,
   "source": [
    "how many 1 labeled movies that were a false negative have bad words"
   ]
  },
  {
   "cell_type": "code",
   "execution_count": 139,
   "metadata": {},
   "outputs": [],
   "source": [
    "# key : label\n",
    "# value [ (movie_name, prediction),...  ]\n",
    "books_txt_dict = pre.in_pickle(\"C:/Users/Abdo/Project/pickle_files/\",\"predictions_dict_books_txt\")\n",
    "movies_txt_dict = pre.in_pickle(\"C:/Users/Abdo/Project/pickle_files/\",\"predictions_dict_movies_txt\")"
   ]
  },
  {
   "cell_type": "code",
   "execution_count": 140,
   "metadata": {},
   "outputs": [],
   "source": [
    "# has the names of the books that are label 1 and were predicted 0 label\n",
    "false_negative_books = []\n",
    "\n",
    "for book in books_txt_dict[\"1\"]:\n",
    "    if book[1][0] == 0:\n",
    "        false_negative_books.append(book)"
   ]
  },
  {
   "cell_type": "code",
   "execution_count": 141,
   "metadata": {},
   "outputs": [],
   "source": [
    "# has the names of the books that are label 1 and were predicted 0 label\n",
    "false_negative_movies = []\n",
    "\n",
    "for movie in movies_txt_dict[\"1\"]:\n",
    "    if movie[1][0] == 0:\n",
    "        false_negative_movies.append(movie)"
   ]
  },
  {
   "cell_type": "code",
   "execution_count": 130,
   "metadata": {},
   "outputs": [],
   "source": [
    "# key : movie name\n",
    "# value: set of inappropriate words in it\n",
    "inappropriate_words_in_1_movies_dict = {}"
   ]
  },
  {
   "cell_type": "code",
   "execution_count": 146,
   "metadata": {},
   "outputs": [],
   "source": [
    "label_1_movies_directory = directory_path+\"movies_txt/1/\"\n",
    "label_1_movies = os.listdir(label_1_movies_directory)"
   ]
  },
  {
   "cell_type": "code",
   "execution_count": 148,
   "metadata": {},
   "outputs": [],
   "source": [
    "inappropriate_words_set = set(inappropriate_words)"
   ]
  },
  {
   "cell_type": "code",
   "execution_count": 150,
   "metadata": {
    "collapsed": true
   },
   "outputs": [
    {
     "name": "stdout",
     "output_type": "stream",
     "text": [
      "full house0.txt\nfull house0.txt\nfull house1.txt\nfull house10.txt\nfull house11.txt\nfull house11.txt\n"
     ]
    },
    {
     "name": "stdout",
     "output_type": "stream",
     "text": [
      "full house13.txt\nfull house14.txt\nfull house14.txt\nfull house15.txt\nfull house16.txt\n"
     ]
    },
    {
     "name": "stdout",
     "output_type": "stream",
     "text": [
      "full house17.txt\nfull house18.txt\nfull house19.txt\n"
     ]
    },
    {
     "name": "stdout",
     "output_type": "stream",
     "text": [
      "full house2.txt\nfull house20.txt\nfull house3.txt\n"
     ]
    },
    {
     "name": "stdout",
     "output_type": "stream",
     "text": [
      "full house4.txt\nfull house5.txt\nfull house6.txt\nfull house7.txt\n"
     ]
    },
    {
     "name": "stdout",
     "output_type": "stream",
     "text": [
      "full house8.txt\nfull house9.txt\nfuller house0.txt\n"
     ]
    },
    {
     "name": "stdout",
     "output_type": "stream",
     "text": [
      "fuller house1.txt\nfuller house11.txt\nfuller house12.txt\n"
     ]
    },
    {
     "name": "stdout",
     "output_type": "stream",
     "text": [
      "fuller house13.txt\nfuller house14.txt\nfuller house15.txt\n"
     ]
    },
    {
     "name": "stdout",
     "output_type": "stream",
     "text": [
      "fuller house16.txt\nfuller house17.txt\nfuller house18.txt\n"
     ]
    },
    {
     "name": "stdout",
     "output_type": "stream",
     "text": [
      "fuller house19.txt\nfuller house2.txt\nfuller house3.txt\n"
     ]
    },
    {
     "name": "stdout",
     "output_type": "stream",
     "text": [
      "fuller house4.txt\nfuller house5.txt\nfuller house6.txt\n"
     ]
    },
    {
     "name": "stdout",
     "output_type": "stream",
     "text": [
      "fuller house7.txt\nfuller house8.txt\nfuller house9.txt\n"
     ]
    },
    {
     "name": "stdout",
     "output_type": "stream",
     "text": [
      "Sabrina The Teenage Witch0.txt\nSabrina The Teenage Witch1.txt\nSabrina The Teenage Witch11.txt\n"
     ]
    },
    {
     "name": "stdout",
     "output_type": "stream",
     "text": [
      "Sabrina The Teenage Witch12.txt\nSabrina The Teenage Witch13.txt\nSabrina The Teenage Witch14.txt\n"
     ]
    },
    {
     "name": "stdout",
     "output_type": "stream",
     "text": [
      "Sabrina The Teenage Witch15.txt\nSabrina The Teenage Witch16.txt\nSabrina The Teenage Witch17.txt\nSabrina The Teenage Witch17.txt\n"
     ]
    },
    {
     "name": "stdout",
     "output_type": "stream",
     "text": [
      "Sabrina The Teenage Witch18.txt\nSabrina The Teenage Witch19.txt\nSabrina The Teenage Witch2.txt\n"
     ]
    },
    {
     "name": "stdout",
     "output_type": "stream",
     "text": [
      "Sabrina The Teenage Witch20.txt\nSabrina The Teenage Witch3.txt\nSabrina The Teenage Witch4.txt\n"
     ]
    },
    {
     "name": "stdout",
     "output_type": "stream",
     "text": [
      "Sabrina The Teenage Witch5.txt\nSabrina The Teenage Witch6.txt\nSabrina The Teenage Witch7.txt\n"
     ]
    },
    {
     "name": "stdout",
     "output_type": "stream",
     "text": [
      "Sabrina The Teenage Witch8.txt\nSabrina The Teenage Witch9.txt\nsimpsons0.txt\n"
     ]
    },
    {
     "name": "stdout",
     "output_type": "stream",
     "text": [
      "simpsons1.txt\nsimpsons10.txt\nsimpsons11.txt\nsimpsons12.txt\n"
     ]
    },
    {
     "name": "stdout",
     "output_type": "stream",
     "text": [
      "simpsons13.txt\nsimpsons14.txt\nsimpsons15.txt\nsimpsons16.txt\n"
     ]
    },
    {
     "name": "stdout",
     "output_type": "stream",
     "text": [
      "simpsons17.txt\nsimpsons18.txt\nsimpsons19.txt\nsimpsons2.txt\n"
     ]
    },
    {
     "name": "stdout",
     "output_type": "stream",
     "text": [
      "simpsons2.txt\nsimpsons20.txt\nsimpsons21.txt\n"
     ]
    },
    {
     "name": "stdout",
     "output_type": "stream",
     "text": [
      "simpsons22.txt\nsimpsons23.txt\nsimpsons24.txt\nsimpsons25.txt\n"
     ]
    },
    {
     "name": "stdout",
     "output_type": "stream",
     "text": [
      "simpsons26.txt\nsimpsons27.txt\nsimpsons28.txt\nsimpsons29.txt\n"
     ]
    },
    {
     "name": "stdout",
     "output_type": "stream",
     "text": [
      "simpsons3.txt\nsimpsons30.txt\nsimpsons31.txt\nsimpsons32.txt\n"
     ]
    },
    {
     "name": "stdout",
     "output_type": "stream",
     "text": [
      "simpsons33.txt\nsimpsons34.txt\nsimpsons35.txt\nsimpsons36.txt\n"
     ]
    },
    {
     "name": "stdout",
     "output_type": "stream",
     "text": [
      "simpsons37.txt\nsimpsons38.txt\nsimpsons39.txt\nsimpsons4.txt\n"
     ]
    },
    {
     "name": "stdout",
     "output_type": "stream",
     "text": [
      "simpsons40.txt\nsimpsons5.txt\nsimpsons6.txt\n"
     ]
    },
    {
     "name": "stdout",
     "output_type": "stream",
     "text": [
      "simpsons7.txt\nsimpsons8.txt\nsimpsons9.txt\n"
     ]
    },
    {
     "name": "stdout",
     "output_type": "stream",
     "text": [
      "simsons - Copy.txt\nsimsons.txt\nsteven_universe_ep_1.txt\nsteven_universe_ep_10.txt\nsteven_universe_ep_11.txt\n"
     ]
    },
    {
     "name": "stdout",
     "output_type": "stream",
     "text": [
      "steven_universe_ep_12.txt\nsteven_universe_ep_13.txt\nsteven_universe_ep_14.txt\nsteven_universe_ep_15.txt\nsteven_universe_ep_16.txt\nsteven_universe_ep_17.txt\nsteven_universe_ep_18.txt\nsteven_universe_ep_19.txt\nsteven_universe_ep_2.txt\n"
     ]
    },
    {
     "name": "stdout",
     "output_type": "stream",
     "text": [
      "steven_universe_ep_20.txt\nsteven_universe_ep_21.txt\nsteven_universe_ep_22.txt\nsteven_universe_ep_23.txt\nsteven_universe_ep_24.txt\nsteven_universe_ep_25.txt\nsteven_universe_ep_26.txt\nsteven_universe_ep_27.txt\n"
     ]
    },
    {
     "name": "stdout",
     "output_type": "stream",
     "text": [
      "steven_universe_ep_28.txt\nsteven_universe_ep_29.txt\nsteven_universe_ep_3.txt\nsteven_universe_ep_30.txt\nsteven_universe_ep_31.txt\nsteven_universe_ep_32.txt\nsteven_universe_ep_33.txt\nsteven_universe_ep_34.txt\nsteven_universe_ep_35.txt\n"
     ]
    },
    {
     "name": "stdout",
     "output_type": "stream",
     "text": [
      "steven_universe_ep_4.txt\nsteven_universe_ep_41.txt\nsteven_universe_ep_42.txt\nsteven_universe_ep_43.txt\nsteven_universe_ep_44.txt\nsteven_universe_ep_45.txt\nsteven_universe_ep_46.txt\nsteven_universe_ep_47.txt\n"
     ]
    },
    {
     "name": "stdout",
     "output_type": "stream",
     "text": [
      "steven_universe_ep_48.txt\nsteven_universe_ep_49.txt\nsteven_universe_ep_5.txt\nsteven_universe_ep_6.txt\nsteven_universe_ep_7.txt\nsteven_universe_ep_8.txt\nsteven_universe_ep_9.txt\nsteven_universe_op_36.txt\nsteven_universe_op_37.txt\nsteven_universe_op_38.txt\n"
     ]
    },
    {
     "name": "stdout",
     "output_type": "stream",
     "text": [
      "steven_universe_op_39.txt\nsteven_universe_op_40.txt\nthe simpsons - Copy (10).txt\nthe simpsons - Copy (11).txt\nthe simpsons - Copy (12).txt\nthe simpsons - Copy (2).txt\n"
     ]
    },
    {
     "name": "stdout",
     "output_type": "stream",
     "text": [
      "the simpsons - Copy (3).txt\nthe simpsons - Copy (4).txt\nthe simpsons - Copy (5).txt\nthe simpsons - Copy (6).txt\n"
     ]
    },
    {
     "name": "stdout",
     "output_type": "stream",
     "text": [
      "the simpsons - Copy (7).txt\nthe simpsons - Copy (8).txt\nthe simpsons - Copy (9).txt\nthe simpsons - Copy1.txt\n"
     ]
    },
    {
     "name": "stdout",
     "output_type": "stream",
     "text": [
      "the simpsons1.txt\nthomas the engine and friends0.txt\nthomas the engine and friends1.txt\nthomas the engine and friends11.txt\nthomas the engine and friends12.txt\nthomas the engine and friends13.txt\nthomas the engine and friends14.txt\nthomas the engine and friends15.txt\nthomas the engine and friends16.txt\nthomas the engine and friends17.txt\nthomas the engine and friends18.txt\nthomas the engine and friends19.txt\nthomas the engine and friends2.txt\nthomas the engine and friends20.txt\nthomas the engine and friends3.txt\nthomas the engine and friends4.txt\nthomas the engine and friends5.txt\nthomas the engine and friends6.txt\n"
     ]
    },
    {
     "name": "stdout",
     "output_type": "stream",
     "text": [
      "thomas the engine and friends7.txt\nthomas the engine and friends8.txt\nthomas the engine and friends9.txt\n"
     ]
    }
   ],
   "source": [
    "for movie in label_1_movies:\n",
    "    try:\n",
    "        words = pre.preprocess_file(label_1_movies_directory, movie, True)\n",
    "    except:\n",
    "        words = pre.preprocess_file(label_1_movies_directory, movie, False)\n",
    "    \n",
    "    words_set = set(words)\n",
    "    inappropriate_movie_words_set = words_set.intersection(inappropriate_words_set)\n",
    "    if len(inappropriate_movie_words_set) > 0:\n",
    "        inappropriate_words_in_1_movies_dict[movie] = inappropriate_movie_words_set"
   ]
  },
  {
   "cell_type": "code",
   "execution_count": 151,
   "metadata": {
    "collapsed": true
   },
   "outputs": [
    {
     "name": "stdout",
     "output_type": "stream",
     "text": [
      "dict_keys(['full house1.txt', 'full house11.txt', 'full house13.txt', 'full house14.txt', 'full house17.txt', 'full house18.txt', 'full house2.txt', 'full house3.txt', 'full house5.txt', 'full house6.txt', 'full house7.txt', 'fuller house0.txt', 'fuller house11.txt', 'fuller house12.txt', 'fuller house13.txt', 'fuller house18.txt', 'fuller house19.txt', 'fuller house2.txt', 'fuller house3.txt', 'fuller house4.txt', 'fuller house6.txt', 'fuller house8.txt', 'Sabrina The Teenage Witch0.txt', 'Sabrina The Teenage Witch11.txt', 'Sabrina The Teenage Witch16.txt', 'Sabrina The Teenage Witch19.txt', 'Sabrina The Teenage Witch20.txt', 'Sabrina The Teenage Witch5.txt', 'simpsons1.txt', 'simpsons11.txt', 'simpsons12.txt', 'simpsons14.txt', 'simpsons15.txt', 'simpsons16.txt', 'simpsons17.txt', 'simpsons18.txt', 'simpsons19.txt', 'simpsons2.txt', 'simpsons21.txt', 'simpsons22.txt', 'simpsons23.txt', 'simpsons25.txt', 'simpsons26.txt', 'simpsons27.txt', 'simpsons28.txt', 'simpsons29.txt', 'simpsons3.txt', 'simpsons30.txt', 'simpsons31.txt', 'simpsons32.txt', 'simpsons33.txt', 'simpsons34.txt', 'simpsons35.txt', 'simpsons36.txt', 'simpsons37.txt', 'simpsons38.txt', 'simpsons39.txt', 'simpsons4.txt', 'simpsons40.txt', 'simpsons5.txt', 'simpsons7.txt', 'simpsons8.txt', 'simpsons9.txt', 'simsons - Copy.txt', 'simsons.txt', 'steven_universe_ep_10.txt', 'steven_universe_ep_11.txt', 'steven_universe_ep_13.txt', 'steven_universe_ep_14.txt', 'steven_universe_ep_28.txt', 'steven_universe_ep_29.txt', 'steven_universe_ep_3.txt', 'steven_universe_ep_4.txt', 'steven_universe_ep_45.txt', 'steven_universe_ep_46.txt', 'steven_universe_op_39.txt', 'the simpsons - Copy (11).txt', 'the simpsons - Copy (12).txt', 'the simpsons - Copy (2).txt', 'the simpsons - Copy (3).txt', 'the simpsons - Copy (4).txt', 'the simpsons - Copy (5).txt', 'the simpsons - Copy (6).txt', 'the simpsons - Copy (7).txt', 'the simpsons - Copy (8).txt', 'the simpsons - Copy (9).txt'])\n"
     ]
    }
   ],
   "source": [
    "print(inappropriate_words_in_1_movies_dict.keys())"
   ]
  },
  {
   "cell_type": "code",
   "execution_count": 154,
   "metadata": {
    "collapsed": true
   },
   "outputs": [
    {
     "name": "stdout",
     "output_type": "stream",
     "text": [
      "full house1.txt {'kill'}\nfull house11.txt {'kill'}\nfull house13.txt {'kill'}\nfull house14.txt {'sexy'}\nfull house17.txt {'killed'}\nfull house18.txt {'sexy', 'kill'}\nfull house2.txt {'kill'}\nfull house3.txt {'kill'}\nfull house5.txt {'sexy'}\nfull house6.txt {'kill'}\nfull house7.txt {'murder'}\nfuller house0.txt {'sexy'}\nfuller house11.txt {'kill'}\nfuller house12.txt {'sexy', 'lesbians'}\nfuller house13.txt {'sexy'}\nfuller house18.txt {'dick'}\nfuller house19.txt {'gay'}\nfuller house2.txt {'kill'}\nfuller house3.txt {'sexy'}\nfuller house4.txt {'dick'}\nfuller house6.txt {'sexy', 'sex'}\nfuller house8.txt {'sexy'}\nSabrina The Teenage Witch0.txt {'killed', 'dick'}\nSabrina The Teenage Witch11.txt {'killed', 'dick'}\nSabrina The Teenage Witch16.txt {'sexy', 'kill'}\nSabrina The Teenage Witch19.txt {'killed'}\nSabrina The Teenage Witch20.txt {'gay'}\nSabrina The Teenage Witch5.txt {'kill'}\nsimpsons1.txt {'sexy', 'kill'}\nsimpsons11.txt {'sexy', 'gay'}\nsimpsons12.txt {'ass'}\nsimpsons14.txt {'killed'}\nsimpsons15.txt {'gay', 'kill'}\nsimpsons16.txt {'killed', 'sex', 'ass', 'kill'}\nsimpsons17.txt {'kill'}\nsimpsons18.txt {'slut'}\nsimpsons19.txt {'sexy'}\nsimpsons2.txt {'gays', 'ass', 'kill', 'killed', 'gay'}\nsimpsons21.txt {'murder', 'sex'}\nsimpsons22.txt {'killed', 'murder', 'kill'}\nsimpsons23.txt {'ass', 'kill'}\nsimpsons25.txt {'kill'}\nsimpsons26.txt {'killed', 'kill'}\nsimpsons27.txt {'killed', 'porn', 'ass'}\nsimpsons28.txt {'killed', 'gay', 'ass', 'kill'}\nsimpsons29.txt {'kill'}\nsimpsons3.txt {'killed', 'murdered', 'murder', 'kill'}\nsimpsons30.txt {'sex', 'ass', 'kill'}\nsimpsons31.txt {'gay', 'porn', 'ass'}\nsimpsons32.txt {'gay', 'ass'}\nsimpsons33.txt {'kill'}\nsimpsons34.txt {'dick'}\nsimpsons35.txt {'killed'}\nsimpsons36.txt {'murder', 'kill'}\nsimpsons37.txt {'gay', 'kill'}\nsimpsons38.txt {'kill'}\nsimpsons39.txt {'killed', 'kill'}\nsimpsons4.txt {'killed', 'murdered'}\nsimpsons40.txt {'killed', 'kill'}\nsimpsons5.txt {'gays', 'kill'}\nsimpsons7.txt {'murder'}\nsimpsons8.txt {'kill'}\nsimpsons9.txt {'killed'}\nsimsons - Copy.txt {'kill'}\nsimsons.txt {'kill'}\nsteven_universe_ep_10.txt {'kill'}\nsteven_universe_ep_11.txt {'kill'}\nsteven_universe_ep_13.txt {'kill'}\nsteven_universe_ep_14.txt {'kill'}\nsteven_universe_ep_28.txt {'killed'}\nsteven_universe_ep_29.txt {'kill'}\nsteven_universe_ep_3.txt {'kill'}\nsteven_universe_ep_4.txt {'kill'}\nsteven_universe_ep_45.txt {'killed'}\nsteven_universe_ep_46.txt {'killed'}\nsteven_universe_op_39.txt {'kill'}\nthe simpsons - Copy (11).txt {'kill'}\nthe simpsons - Copy (12).txt {'kill'}\nthe simpsons - Copy (2).txt {'kill'}\nthe simpsons - Copy (3).txt {'kill'}\nthe simpsons - Copy (4).txt {'sex'}\nthe simpsons - Copy (5).txt {'kill'}\nthe simpsons - Copy (6).txt {'murdered'}\nthe simpsons - Copy (7).txt {'killed', 'kill'}\nthe simpsons - Copy (8).txt {'gay'}\nthe simpsons - Copy (9).txt {'sexy', 'sex', 'ass'}\n"
     ]
    }
   ],
   "source": [
    "for key in inappropriate_words_in_1_movies_dict:\n",
    "    print(key, inappropriate_words_in_1_movies_dict[key])"
   ]
  },
  {
   "cell_type": "heading",
   "metadata": {},
   "level": 2,
   "source": [
    "test the model individaully"
   ]
  },
  {
   "cell_type": "code",
   "execution_count": 81,
   "metadata": {},
   "outputs": [
    {
     "name": "stdout",
     "output_type": "stream",
     "text": [
      "A Night To Remember by Argus.txt\nA Night To Remember by Argus.txt\n[1]\n"
     ]
    }
   ],
   "source": [
    "try:\n",
    "    tokens = pre.preprocess_file(\"C:/Users/Abdo/Project/test_data/books_txt/0/\",\n",
    "                             \"A Night To Remember by Argus.txt\", True)\n",
    "except:\n",
    "    tokens = pre.preprocess_file(\"C:/Users/Abdo/Project/test_data/books_txt/0/\",\n",
    "                             \"A Night To Remember by Argus.txt\", False)\n",
    "\n",
    "prediction = classifier.classify(tokens)\n",
    "print(prediction)"
   ]
  },
  {
   "cell_type": "code",
   "execution_count": null,
   "metadata": {},
   "outputs": [],
   "source": []
  }
 ],
 "metadata": {
  "kernelspec": {
   "display_name": "Python 2",
   "language": "python",
   "name": "python2"
  },
  "language_info": {
   "codemirror_mode": {
    "name": "ipython",
    "version": 2
   },
   "file_extension": ".py",
   "mimetype": "text/x-python",
   "name": "python",
   "nbconvert_exporter": "python",
   "pygments_lexer": "ipython2",
   "version": "2.7.6"
  }
 },
 "nbformat": 4,
 "nbformat_minor": 0
}
