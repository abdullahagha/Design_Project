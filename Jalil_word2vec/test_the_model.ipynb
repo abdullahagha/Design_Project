{
 "cells": [
  {
   "cell_type": "code",
   "execution_count": 18,
   "metadata": {
    "collapsed": true
   },
   "outputs": [],
   "source": [
    "import pickle\n",
    "import os\n",
    "import data_analysis.preprocessor_end as pre_processer\n",
    "import numpy as np\n",
    "from shutil import copyfile"
   ]
  },
  {
   "cell_type": "code",
   "execution_count": 2,
   "metadata": {},
   "outputs": [],
   "source": [
    "def out_pickle(pickle_path, pick_name, variable_name):\n",
    "    with open(pickle_path + pick_name + \".pkl\", \"wb\") as pkl:\n",
    "        pickle.dump(variable_name, pkl)\n",
    "\n",
    "def in_pickle(pickle_path, pick_name):\n",
    "    with open(pickle_path + pick_name + \".pkl\", \"rb\") as pkl:\n",
    "        return pickle.load(pkl)"
   ]
  },
  {
   "cell_type": "code",
   "execution_count": 3,
   "metadata": {},
   "outputs": [
    {
     "name": "stderr",
     "output_type": "stream",
     "text": [
      "C:\\Users\\Abdo\\PycharmProjects\\final_project_1\\venv\\lib\\site-packages\\gensim\\utils.py:1212: UserWarning: detected Windows; aliasing chunkize to chunkize_serial\n  warnings.warn(\"detected Windows; aliasing chunkize to chunkize_serial\")\n"
     ]
    },
    {
     "name": "stderr",
     "output_type": "stream",
     "text": [
      "C:\\Users\\Abdo\\PycharmProjects\\final_project_1\\venv\\lib\\site-packages\\ipykernel_launcher.py:3: DeprecationWarning: Call to deprecated `wv` (Attribute will be removed in 4.0.0, use self instead).\n  This is separate from the ipykernel package so we can avoid doing imports until\n"
     ]
    }
   ],
   "source": [
    "word2vec_model = in_pickle(\"C:/Users/Abdo/Project/pre-trained word2vec models-compiled/\",\n",
    "                               \"word2vecModel_glove_6b_300d\")\n",
    "vocabulary = set(word2vec_model.wv.vocab)"
   ]
  },
  {
   "cell_type": "code",
   "execution_count": 4,
   "metadata": {},
   "outputs": [],
   "source": [
    "# returns the average, n dimensioned, vector embedding of every word in a given document\n",
    "# it sums all the vector values of every word in the document and then divides them by their count\n",
    "# if a given word is not in the vocabulary of the model, it ignores it\n",
    "def average_word_vectors(words, model, vocabulary, num_features):\n",
    "    feature_vector = np.zeros((num_features,),dtype=\"float64\")\n",
    "    nwords = 0.\n",
    "    for word in words:\n",
    "        if word in vocabulary: \n",
    "            nwords = nwords + 1.\n",
    "            feature_vector = np.add(feature_vector, model[word])\n",
    "    \n",
    "    if nwords:\n",
    "        feature_vector = np.divide(feature_vector, nwords)\n",
    "        \n",
    "    return feature_vector"
   ]
  },
  {
   "cell_type": "code",
   "execution_count": 3,
   "metadata": {},
   "outputs": [],
   "source": [
    "# utf8: true if the file is a .txt file, false otherwise\n",
    "def test_classifier_on_outside_data(classifer, directory_path, txt_file_name, utf8):\n",
    "    txt_data_tokens = pre_processer.preprocess_file(directory_path, txt_file_name, utf8)\n",
    "    #print(txt_data_tokens)\n",
    "    text_vector_representation = average_word_vectors(txt_data_tokens, word2vec_model, vocabulary, 300)\n",
    "    \n",
    "    prediction = classifer.predict([text_vector_representation])\n",
    "    \n",
    "    return prediction\n",
    "\n",
    "def get_metrices(t_p, t_n, f_p, f_n):\n",
    "    precision = t_p / (t_p + f_p)\n",
    "    accuracy = (t_p + t_n) / (t_p + f_p + f_n + t_n)\n",
    "    recall = t_p / (t_p + f_n)\n",
    "    \n",
    "    return (precision, accuracy, recall, t_p, f_p, t_n, f_n)\n",
    "\n",
    "# takes the prediction dict and returns its confusion matrix\n",
    "def get_confusion_matrix(predictions_dict):\n",
    "    t_p = 0\n",
    "    f_p = 0\n",
    "    t_n = 0\n",
    "    f_n = 0\n",
    "    for label in predictions_dict:\n",
    "        for moviename_prediction in predictions_dict[label]:\n",
    "            prediction = moviename_prediction[1]\n",
    "            # if the label is 1\n",
    "            if(label == \"1\"):\n",
    "                # the label is 1 and we predicted 1\n",
    "                if prediction == 1:\n",
    "                    t_p += 1\n",
    "                # the label is 1 and we predicted 0\n",
    "                elif prediction == 0:\n",
    "                    f_n += 1\n",
    "            # if the label is 0\n",
    "            elif label == \"0\":\n",
    "                # the label is 0 and we predicted 1 \n",
    "                if prediction == 1:\n",
    "                    f_p += 1\n",
    "                # the label is 0 and we predicted 0\n",
    "                elif prediction == 0:\n",
    "                    t_n += 1\n",
    "    return t_p, t_n, f_p, f_n"
   ]
  },
  {
   "cell_type": "code",
   "execution_count": 6,
   "metadata": {},
   "outputs": [],
   "source": [
    "clf = in_pickle(\"C:/Users/Abdo/Project/pickle_files/\",\"svm_final_classifier\")"
   ]
  },
  {
   "cell_type": "code",
   "execution_count": 18,
   "metadata": {},
   "outputs": [],
   "source": [
    "# key : label\n",
    "# value [ (movie_name, prediction),...  ]\n",
    "predictions_dict = { \"0\":[], \"1\":[], \"not_labeled\":[]}"
   ]
  },
  {
   "cell_type": "heading",
   "metadata": {},
   "level": 2,
   "source": [
    "loop through the movies test data"
   ]
  },
  {
   "cell_type": "code",
   "execution_count": 19,
   "metadata": {},
   "outputs": [],
   "source": [
    "direcotry_path = \"C:/Users/Abdo/Project/test_data/books_txt/\"\n",
    "direcotry_folders = os.listdir(direcotry_path)"
   ]
  },
  {
   "cell_type": "heading",
   "metadata": {},
   "level": 2,
   "source": [
    "random testing on individual files"
   ]
  },
  {
   "cell_type": "code",
   "execution_count": 45,
   "metadata": {},
   "outputs": [
    {
     "name": "stdout",
     "output_type": "stream",
     "text": [
      "AB-5475 Family Peepers by David Crane.txt\n"
     ]
    },
    {
     "name": "stdout",
     "output_type": "stream",
     "text": [
      "[1]\n"
     ]
    }
   ],
   "source": [
    "try:\n",
    "    prediction = test_classifier_on_outside_data(clf,\n",
    "                            direcotry_path,\n",
    "                            direcotry_folders[10],False)\n",
    "\n",
    "except:\n",
    " prediction = test_classifier_on_outside_data(clf,\n",
    "                            direcotry_path,\n",
    "                            direcotry_folders[10],True)\n",
    "\n",
    "print(prediction)"
   ]
  },
  {
   "cell_type": "code",
   "execution_count": 20,
   "metadata": {
    "collapsed": true
   },
   "outputs": [
    {
     "name": "stdout",
     "output_type": "stream",
     "text": [
      "5042 Voodoo In Haiti by Aubrey Wilder.txt\n"
     ]
    },
    {
     "name": "stdout",
     "output_type": "stream",
     "text": [
      "A Night To Remember by Argus.txt\n"
     ]
    },
    {
     "name": "stdout",
     "output_type": "stream",
     "text": [
      "AB-1609 House of Dark Pleasure by Gloria Day.txt\n"
     ]
    },
    {
     "name": "stdout",
     "output_type": "stream",
     "text": [
      "AB-1676 Beasts Are Better by Richard Long.txt\n"
     ]
    },
    {
     "name": "stdout",
     "output_type": "stream",
     "text": [
      "AB-1680 The Dog Ballers by Don Russell.txt\n"
     ]
    },
    {
     "name": "stdout",
     "output_type": "stream",
     "text": [
      "AB-5247 Incest Wifeby M J Jacobs.txt\n"
     ]
    },
    {
     "name": "stdout",
     "output_type": "stream",
     "text": [
      "AB-5341 Mother With The Hots by Kathy Andrews.txt\n"
     ]
    },
    {
     "name": "stdout",
     "output_type": "stream",
     "text": [
      "AB-5353 Harder! Mom Said by Kathy Andrews.txt\n"
     ]
    },
    {
     "name": "stdout",
     "output_type": "stream",
     "text": [
      "AB-5356 What A Sucking Mother! by Kathy Andrews.txt\n"
     ]
    },
    {
     "name": "stdout",
     "output_type": "stream",
     "text": [
      "AB-5389 Daddy's Naughty Daughters by Bob Wallace.txt\n"
     ]
    },
    {
     "name": "stdout",
     "output_type": "stream",
     "text": [
      "AB-5475 Family Peepers by David Crane.txt\n"
     ]
    },
    {
     "name": "stdout",
     "output_type": "stream",
     "text": [
      "AB-5480 Billy's Hot Mom by Kathy Andrews.txt\n"
     ]
    },
    {
     "name": "stdout",
     "output_type": "stream",
     "text": [
      "AB-5491 Three Sucking Daughters by Dan Reagan.txt\n"
     ]
    },
    {
     "name": "stdout",
     "output_type": "stream",
     "text": [
      "AB-5548 A Wild Family Party by Hank Borden.txt\n"
     ]
    },
    {
     "name": "stdout",
     "output_type": "stream",
     "text": [
      "AB-5557 Pay For Play Cheerleaders by Victoria Parker.txt\n"
     ]
    },
    {
     "name": "stdout",
     "output_type": "stream",
     "text": [
      "AB-5574 Twin Farmgirl Cousins by Ron Taylor.txt\n"
     ]
    },
    {
     "name": "stdout",
     "output_type": "stream",
     "text": [
      "AB-5592 First Time In The Behind by Ron Taylor.txt\n"
     ]
    },
    {
     "name": "stdout",
     "output_type": "stream",
     "text": [
      "AB-5602 When Mom And Dad Are Away by Author Unknown.txt\n"
     ]
    },
    {
     "name": "stdout",
     "output_type": "stream",
     "text": [
      "AB-5617 Brothers Ball Best by Ray Mills.txt\n"
     ]
    },
    {
     "name": "stdout",
     "output_type": "stream",
     "text": [
      "AB-5618 Incest Schoolgirls by Victoria Parker.txt\n"
     ]
    },
    {
     "name": "stdout",
     "output_type": "stream",
     "text": [
      "ACDC-182 Swap Night.txt\n"
     ]
    },
    {
     "name": "stdout",
     "output_type": "stream",
     "text": [
      "All_in_the_Family.txt\n"
     ]
    },
    {
     "name": "stdout",
     "output_type": "stream",
     "text": [
      "ASP-2021 Driven Into Swapping.txt\n"
     ]
    },
    {
     "name": "stdout",
     "output_type": "stream",
     "text": [
      "AudioBook The Gunslinger Chapter - English (auto-generated).txt\n"
     ]
    },
    {
     "name": "stdout",
     "output_type": "stream",
     "text": [
      "AW-103.TXT\n"
     ]
    },
    {
     "name": "stdout",
     "output_type": "stream",
     "text": [
      "A_Mother-Daughter_Twosome.txt\n"
     ]
    },
    {
     "name": "stdout",
     "output_type": "stream",
     "text": [
      "A_Wild_Family_Party.txt\n"
     ]
    },
    {
     "name": "stdout",
     "output_type": "stream",
     "text": [
      "BB-6565 Deep Crotch Mother.txt\n\n\nBB-6565 Deep Crotch Mother.txt\n"
     ]
    },
    {
     "name": "stdout",
     "output_type": "stream",
     "text": [
      "\n\nBDB-1023 Step-Daughter Initiation.txt\n"
     ]
    },
    {
     "name": "stdout",
     "output_type": "stream",
     "text": [
      "Beast Humping by Ron Bywood.txt\n"
     ]
    },
    {
     "name": "stdout",
     "output_type": "stream",
     "text": [
      "Billy's_Hot_Mom.txt\n"
     ]
    },
    {
     "name": "stdout",
     "output_type": "stream",
     "text": [
      "BL-5341 Emily_s Lips By Arthur Alexander.txt\n"
     ]
    },
    {
     "name": "stdout",
     "output_type": "stream",
     "text": [
      "Blackmailed.txt\n"
     ]
    },
    {
     "name": "stdout",
     "output_type": "stream",
     "text": [
      "Brothers_Ball_Best.txt\n"
     ]
    },
    {
     "name": "stdout",
     "output_type": "stream",
     "text": [
      "Carve the Mark Chapter 1 - English (auto-generated).txt\n"
     ]
    },
    {
     "name": "stdout",
     "output_type": "stream",
     "text": [
      "Carve The Mark Chapter 2 - English (auto-generated) (1).txt\nCarve The Mark Chapter 2 - English (auto-generated).txt\n"
     ]
    },
    {
     "name": "stdout",
     "output_type": "stream",
     "text": [
      "Carve the Mark Chapter 4 - English (auto-generated).txt\n"
     ]
    },
    {
     "name": "stdout",
     "output_type": "stream",
     "text": [
      "Carve The Mark Chapter 5 - English (auto-generated).txt\nCC-241 The Family Haven BOOK ONE by Author Unknown.txt\n"
     ]
    },
    {
     "name": "stdout",
     "output_type": "stream",
     "text": [
      "Charles_Wykes.Brothers_and_Sisters.FAM-119.TXT\n"
     ]
    },
    {
     "name": "stdout",
     "output_type": "stream",
     "text": [
      "Cheryl's Cumuppance - Ex-Wives III.txt\n"
     ]
    },
    {
     "name": "stdout",
     "output_type": "stream",
     "text": [
      "CHINA TEEN PHOTO SLAVES by Loren Ryder.txt\n"
     ]
    },
    {
     "name": "stdout",
     "output_type": "stream",
     "text": [
      "Daddy's_Naughty_Daughters.txt\n"
     ]
    },
    {
     "name": "stdout",
     "output_type": "stream",
     "text": [
      "Daughters_In_Heat.txt\n"
     ]
    },
    {
     "name": "stdout",
     "output_type": "stream",
     "text": [
      "Desert Slave by Argus.txt\nDog Lover's Diary by Horst Kepple.txt\n"
     ]
    },
    {
     "name": "stdout",
     "output_type": "stream",
     "text": [
      "Doggie Farm by John Reskin.txt\n"
     ]
    },
    {
     "name": "stdout",
     "output_type": "stream",
     "text": [
      "Eager_Horny_Cousin.txt\n"
     ]
    },
    {
     "name": "stdout",
     "output_type": "stream",
     "text": [
      "EC-1120 Bestiality and a Young Girl by Kathleen Hennessy.txt\n"
     ]
    },
    {
     "name": "stdout",
     "output_type": "stream",
     "text": [
      "EX-WIVES - PART IV DESTINY.txt\n"
     ]
    },
    {
     "name": "stdout",
     "output_type": "stream",
     "text": [
      "EX-WIVES INHERITANCE - PART 1 - JULIA DAWSON.txt\n"
     ]
    },
    {
     "name": "stdout",
     "output_type": "stream",
     "text": [
      "EX-WIVES INHERITANCE - PART 2 - DOMINIQUE'S TAMING.txt\n"
     ]
    },
    {
     "name": "stdout",
     "output_type": "stream",
     "text": [
      "FAM-119 Brothers And Sisters by Charles Wykes.txt\n"
     ]
    },
    {
     "name": "stdout",
     "output_type": "stream",
     "text": [
      "Family_Peepers.txt\n"
     ]
    },
    {
     "name": "stdout",
     "output_type": "stream",
     "text": [
      "First_Time_In_The_Behind.txt\n"
     ]
    },
    {
     "name": "stdout",
     "output_type": "stream",
     "text": [
      "FLP-135 Girl's Camp Counselor by Paul Sutherland.txt\n"
     ]
    },
    {
     "name": "stdout",
     "output_type": "stream",
     "text": [
      "GE-2033 Spouse In Torment by Jason Cannon.txt\n"
     ]
    },
    {
     "name": "stdout",
     "output_type": "stream",
     "text": [
      "GGE-101 Teaching Swapping by Author Unknown.txt\n"
     ]
    },
    {
     "name": "stdout",
     "output_type": "stream",
     "text": [
      "GK-550 The Soldier's Wife by Alex Ayers.txt\n"
     ]
    },
    {
     "name": "stdout",
     "output_type": "stream",
     "text": [
      "gs-59.txt\n"
     ]
    },
    {
     "name": "stdout",
     "output_type": "stream",
     "text": [
      "gsv-133.txt\n"
     ]
    },
    {
     "name": "stdout",
     "output_type": "stream",
     "text": [
      "Hard to tell by Arianne.txt\n"
     ]
    },
    {
     "name": "stdout",
     "output_type": "stream",
     "text": [
      "herbarkingstud.txt\n"
     ]
    },
    {
     "name": "stdout",
     "output_type": "stream",
     "text": [
      "Her_Husband's_Boss.txt\n"
     ]
    },
    {
     "name": "stdout",
     "output_type": "stream",
     "text": [
      "House_Of_Evil.txt\n"
     ]
    },
    {
     "name": "stdout",
     "output_type": "stream",
     "text": [
      "Impossible-Standards.txt\n\n\nImpossible-Standards.txt\n"
     ]
    },
    {
     "name": "stdout",
     "output_type": "stream",
     "text": [
      "\n\nIncest Schoolgirls.txt\n"
     ]
    },
    {
     "name": "stdout",
     "output_type": "stream",
     "text": [
      "Incest_Wife.txt\n"
     ]
    },
    {
     "name": "stdout",
     "output_type": "stream",
     "text": [
      "In_Bondage_Schoolgirl.txt\n"
     ]
    },
    {
     "name": "stdout",
     "output_type": "stream",
     "text": [
      "j-3.txt\n"
     ]
    },
    {
     "name": "stdout",
     "output_type": "stream",
     "text": [
      "kc-126.txt\n"
     ]
    },
    {
     "name": "stdout",
     "output_type": "stream",
     "text": [
      "LB1348 The Family Sucks A Lot .txt\n"
     ]
    },
    {
     "name": "stdout",
     "output_type": "stream",
     "text": [
      "lcs-70003.txt\n"
     ]
    },
    {
     "name": "stdout",
     "output_type": "stream",
     "text": [
      "Legal Briefs by Argus.txt\n"
     ]
    },
    {
     "name": "stdout",
     "output_type": "stream",
     "text": [
      "Little Monsters by Kara Thomas, read by Phoebe Strole _ Brittany Pressley - Audiobook Excerpt - English (auto-generated).txt\nLL-0229 Shack-Ups! by Fran Furnivall.txt\n"
     ]
    },
    {
     "name": "stdout",
     "output_type": "stream",
     "text": [
      "LL-0251 Auntie’s Naughty Boys by Hank Faber.txt\n"
     ]
    },
    {
     "name": "stdout",
     "output_type": "stream",
     "text": [
      "LL-0344 His Sexpot Sis by Robert G. Haill.txt\n"
     ]
    },
    {
     "name": "stdout",
     "output_type": "stream",
     "text": [
      "LLP0101 The Abducted Bride.txt\n"
     ]
    },
    {
     "name": "stdout",
     "output_type": "stream",
     "text": [
      "LLP0102 The Blackmailed Wife.txt\n"
     ]
    },
    {
     "name": "stdout",
     "output_type": "stream",
     "text": [
      "LLP0103 A Neighborhood Party.txt\n"
     ]
    },
    {
     "name": "stdout",
     "output_type": "stream",
     "text": [
      "LLP0171 Honeymoon Hotel.txt\n"
     ]
    },
    {
     "name": "stdout",
     "output_type": "stream",
     "text": [
      "LLP0348 The Motorcyclist_s Wife.txt\n"
     ]
    },
    {
     "name": "stdout",
     "output_type": "stream",
     "text": [
      "LLP0874 A Sister_s Lust by Audrey Gait.txt\n\n\nLLP0874 A Sister_s Lust by Audrey Gait.txt\n"
     ]
    },
    {
     "name": "stdout",
     "output_type": "stream",
     "text": [
      "\n\nm-4006.txt\n"
     ]
    },
    {
     "name": "stdout",
     "output_type": "stream",
     "text": [
      "m-60212.txt\n"
     ]
    },
    {
     "name": "stdout",
     "output_type": "stream",
     "text": [
      "mastlilg.txt\n"
     ]
    },
    {
     "name": "stdout",
     "output_type": "stream",
     "text": [
      "mlp-146.txt\n"
     ]
    },
    {
     "name": "stdout",
     "output_type": "stream",
     "text": [
      "nakedwithherdog.txt\n"
     ]
    },
    {
     "name": "stdout",
     "output_type": "stream",
     "text": [
      "Naked_Wet_Daughter.txt\n"
     ]
    },
    {
     "name": "stdout",
     "output_type": "stream",
     "text": [
      "Naughty Schooling by David Shaw.txt\nNaughty_Wild_Cousin.txt\n"
     ]
    },
    {
     "name": "stdout",
     "output_type": "stream",
     "text": [
      "nd-141.txt\n"
     ]
    },
    {
     "name": "stdout",
     "output_type": "stream",
     "text": [
      "ns-451.txt\n"
     ]
    },
    {
     "name": "stdout",
     "output_type": "stream",
     "text": [
      "oa-117.txt\n"
     ]
    },
    {
     "name": "stdout",
     "output_type": "stream",
     "text": [
      "OES-117 Maggie_s Moist Mouth.txt\n"
     ]
    },
    {
     "name": "stdout",
     "output_type": "stream",
     "text": [
      "OES-138 The Mouth Seducers by Fred Tracy.txt\n"
     ]
    },
    {
     "name": "stdout",
     "output_type": "stream",
     "text": [
      "oph-217.txt\n"
     ]
    },
    {
     "name": "stdout",
     "output_type": "stream",
     "text": [
      "ORL-149 Oral Zone by Otto Gerbert.txt\n"
     ]
    },
    {
     "name": "stdout",
     "output_type": "stream",
     "text": [
      "ORL-155 Oral Nieces by Jim Stacey.txt\n"
     ]
    },
    {
     "name": "stdout",
     "output_type": "stream",
     "text": [
      "p-2064.txt\n"
     ]
    },
    {
     "name": "stdout",
     "output_type": "stream",
     "text": [
      "Passionate_Sister.txt\n"
     ]
    },
    {
     "name": "stdout",
     "output_type": "stream",
     "text": [
      "Paul_Sutherland.Girls_Camp_Counselor.FLP-135.txt\n"
     ]
    },
    {
     "name": "stdout",
     "output_type": "stream",
     "text": [
      "Peeper by Argus.txt\n"
     ]
    },
    {
     "name": "stdout",
     "output_type": "stream",
     "text": [
      "Pirates' Sex Toys by Argus.txt\npp-11.txt\n"
     ]
    },
    {
     "name": "stdout",
     "output_type": "stream",
     "text": [
      "pp-13.txt\n"
     ]
    },
    {
     "name": "stdout",
     "output_type": "stream",
     "text": [
      "pp-7001.txt\n"
     ]
    },
    {
     "name": "stdout",
     "output_type": "stream",
     "text": [
      "pp-7002.txt\n"
     ]
    },
    {
     "name": "stdout",
     "output_type": "stream",
     "text": [
      "pp-7012.txt\n"
     ]
    },
    {
     "name": "stdout",
     "output_type": "stream",
     "text": [
      "pp-7027.txt\n"
     ]
    },
    {
     "name": "stdout",
     "output_type": "stream",
     "text": [
      "pp-7042.txt\n"
     ]
    },
    {
     "name": "stdout",
     "output_type": "stream",
     "text": [
      "pp-7046.txt\n"
     ]
    },
    {
     "name": "stdout",
     "output_type": "stream",
     "text": [
      "pp-7093.txt\n"
     ]
    },
    {
     "name": "stdout",
     "output_type": "stream",
     "text": [
      "pp-7205.txt\n"
     ]
    },
    {
     "name": "stdout",
     "output_type": "stream",
     "text": [
      "pp-7206.txt\n"
     ]
    },
    {
     "name": "stdout",
     "output_type": "stream",
     "text": [
      "pp-7208.txt\n"
     ]
    },
    {
     "name": "stdout",
     "output_type": "stream",
     "text": [
      "pp-7285.txt\n"
     ]
    },
    {
     "name": "stdout",
     "output_type": "stream",
     "text": [
      "pp-7304.txt\n"
     ]
    },
    {
     "name": "stdout",
     "output_type": "stream",
     "text": [
      "pp-7339.txt\n"
     ]
    },
    {
     "name": "stdout",
     "output_type": "stream",
     "text": [
      "pp-7375.txt\n"
     ]
    },
    {
     "name": "stdout",
     "output_type": "stream",
     "text": [
      "pp-7388.txt\n"
     ]
    },
    {
     "name": "stdout",
     "output_type": "stream",
     "text": [
      "pp-7397.txt\n"
     ]
    },
    {
     "name": "stdout",
     "output_type": "stream",
     "text": [
      "pp-7524.txt\n"
     ]
    },
    {
     "name": "stdout",
     "output_type": "stream",
     "text": [
      "pp-7541.txt\n"
     ]
    },
    {
     "name": "stdout",
     "output_type": "stream",
     "text": [
      "pp-8001.txt\n"
     ]
    },
    {
     "name": "stdout",
     "output_type": "stream",
     "text": [
      "pp-8016.txt\n"
     ]
    },
    {
     "name": "stdout",
     "output_type": "stream",
     "text": [
      "pp-8049.txt\n"
     ]
    },
    {
     "name": "stdout",
     "output_type": "stream",
     "text": [
      "pp-8051.txt\n"
     ]
    },
    {
     "name": "stdout",
     "output_type": "stream",
     "text": [
      "pp-8060.txt\n"
     ]
    },
    {
     "name": "stdout",
     "output_type": "stream",
     "text": [
      "Punching Bag by Argus.txt\nras-1405.txt\n"
     ]
    },
    {
     "name": "stdout",
     "output_type": "stream",
     "text": [
      "rcl-216.txt\n"
     ]
    },
    {
     "name": "stdout",
     "output_type": "stream",
     "text": [
      "RCL-228 Little Boys And Laura.txt\n"
     ]
    },
    {
     "name": "stdout",
     "output_type": "stream",
     "text": [
      "sb-206.txt\n"
     ]
    },
    {
     "name": "stdout",
     "output_type": "stream",
     "text": [
      "sc-173.txt\n"
     ]
    },
    {
     "name": "stdout",
     "output_type": "stream",
     "text": [
      "Schoolgirl_Bondage.txt\n"
     ]
    },
    {
     "name": "stdout",
     "output_type": "stream",
     "text": [
      "Seduced_Young_Wife.txt\n"
     ]
    },
    {
     "name": "stdout",
     "output_type": "stream",
     "text": [
      "Servile Sluts by Jay Merson.txt\n"
     ]
    },
    {
     "name": "stdout",
     "output_type": "stream",
     "text": [
      "Sexy Sailors by Frances La Gatta.txt\n"
     ]
    },
    {
     "name": "stdout",
     "output_type": "stream",
     "text": [
      "Sister's_Husband.txt\n"
     ]
    },
    {
     "name": "stdout",
     "output_type": "stream",
     "text": [
      "Sister's_Wet_Panties.txt\n"
     ]
    },
    {
     "name": "stdout",
     "output_type": "stream",
     "text": [
      "Sister_Sucks_Best.txt\n"
     ]
    },
    {
     "name": "stdout",
     "output_type": "stream",
     "text": [
      "Slave_Trader's_Captive.txt\n"
     ]
    },
    {
     "name": "stdout",
     "output_type": "stream",
     "text": [
      "Slut by Argus.txt\n"
     ]
    },
    {
     "name": "stdout",
     "output_type": "stream",
     "text": [
      "Summer Lovers by Argus.txt\n"
     ]
    },
    {
     "name": "stdout",
     "output_type": "stream",
     "text": [
      "Taken By Force by Jay Merson.txt\n"
     ]
    },
    {
     "name": "stdout",
     "output_type": "stream",
     "text": [
      "THE CAPTIVE by Amber Jameson.txt\n"
     ]
    },
    {
     "name": "stdout",
     "output_type": "stream",
     "text": [
      "THE CONTRACT by Sarah Fisher.txt\n"
     ]
    },
    {
     "name": "stdout",
     "output_type": "stream",
     "text": [
      "THE DRIVERS by Henry Morgan.txt\n"
     ]
    },
    {
     "name": "stdout",
     "output_type": "stream",
     "text": [
      "The Secret Fantasies of a Suburban Girl by Laura Jenkins.txt\nThe_Orgiastic_Cult.txt\n"
     ]
    },
    {
     "name": "stdout",
     "output_type": "stream",
     "text": [
      "The_Rancher's_Wife.txt\n"
     ]
    },
    {
     "name": "stdout",
     "output_type": "stream",
     "text": [
      "The_Seductive_Sister-In-Law.txt\n"
     ]
    },
    {
     "name": "stdout",
     "output_type": "stream",
     "text": [
      "The_Tempted_Tourist.txt\n"
     ]
    },
    {
     "name": "stdout",
     "output_type": "stream",
     "text": [
      "The_Unfaithful_Girlfriend.txt\n"
     ]
    },
    {
     "name": "stdout",
     "output_type": "stream",
     "text": [
      "The_Weekend_Captive.txt\n"
     ]
    },
    {
     "name": "stdout",
     "output_type": "stream",
     "text": [
      "Three-Way_Weekend.txt\n"
     ]
    },
    {
     "name": "stdout",
     "output_type": "stream",
     "text": [
      "Three_Sucking_Daughters.txt\n"
     ]
    },
    {
     "name": "stdout",
     "output_type": "stream",
     "text": [
      "Trio.txt\nTween_Sister's_Hot_Thighs.txt\n"
     ]
    },
    {
     "name": "stdout",
     "output_type": "stream",
     "text": [
      "Twin_Farmgirl_Cousins.txt\n"
     ]
    },
    {
     "name": "stdout",
     "output_type": "stream",
     "text": [
      "Wanting_Everyone.txt\n"
     ]
    },
    {
     "name": "stdout",
     "output_type": "stream",
     "text": [
      "What_A_Sucking_Mother.txt\n"
     ]
    },
    {
     "name": "stdout",
     "output_type": "stream",
     "text": [
      "When_Mom_And_Dad_Are_Away.txt\n"
     ]
    },
    {
     "name": "stdout",
     "output_type": "stream",
     "text": [
      "White Girls In Africa by Argus.txt\n"
     ]
    },
    {
     "name": "stdout",
     "output_type": "stream",
     "text": [
      "WOMEN ON THE CHAIN GANG by Jay Merson.txt\n"
     ]
    },
    {
     "name": "stdout",
     "output_type": "stream",
     "text": [
      "YW-118 Ecstasy-Between Young _ Old by Lorna Miller.txt\n"
     ]
    },
    {
     "name": "stdout",
     "output_type": "stream",
     "text": [
      "YW-119 Sex Teaching Teacher.txt\n"
     ]
    },
    {
     "name": "stdout",
     "output_type": "stream",
     "text": [
      "12 Dancing Princesses _ Stories for Kids _ My Pingu Tv - English (auto-generated).txt\n2 Stories _ The Time Princess _ bedtime stories _ Stories _ English Story - English (auto-generated).txt\n20 Best English Stories For Kids Collection _ Story Time _ Moral Stories For Kids In English - English (auto-generated).txt\n"
     ]
    },
    {
     "name": "stdout",
     "output_type": "stream",
     "text": [
      "9825-around-the-world-with-a-chilli-childrens-nonfiction-book.txt\n\n\n9825-around-the-world-with-a-chilli-childrens-nonfiction-book.txt\n\n\nA Little Mouse Who Was Princess _ Stories for Kids _ My Pingu Tv - English (auto-generated).txt\nAnimated Kids Stories - Kids Hut Storytelling (English Stories) Traditional - English (auto-generated).txt\n"
     ]
    },
    {
     "name": "stdout",
     "output_type": "stream",
     "text": [
      "A_Whistling_good_idea_FKB.txt\n\n\nA_Whistling_good_idea_FKB.txt\n\n\nBeauty and the Beast in English _ Story _ English Fairy Tales - English (auto-generated).txt\nBEDTIME STORIES AND FAIRY TALES FOR KIDS - TOP 10 NEW STORIES FOR KIDS __ KIDS STORIES - English (auto-generated).txt\n"
     ]
    },
    {
     "name": "stdout",
     "output_type": "stream",
     "text": [
      "Bob The Train _ Went To The Farm _ Old MacDonald Had A Farm by Bob The Train - English.txt\ncharly and the cocalte facotry.txt\n"
     ]
    },
    {
     "name": "stdout",
     "output_type": "stream",
     "text": [
      "Donkey Stories - Tia and Tofu Storytelling __ Kids Hut Stories - Moral Stories To learn For Kids - English (auto-generated).txt\nElves and The Shoe Maker _ Stories for Kids _ My Pingu Tv - English (auto-generated).txt\nEmperor's New Clothes _ Stories for Kids _ My Pingu Tv - English (auto-generated).txt\nEnglish Kids Stories - Tia and Tofu English Storytelling __ English Story Series - Animated Stories - English (auto-generated).txt\n"
     ]
    },
    {
     "name": "stdout",
     "output_type": "stream",
     "text": [
      "English Stories - Animated Stories For Kids __ Moral Stories and Bedtime Stories For Kids - English (auto-generated).txt\nEnglish Stories For Kids - Kids Hut Stories __ Animated Stories For Kids - Moral Stories - English (auto-generated).txt\n"
     ]
    },
    {
     "name": "stdout",
     "output_type": "stream",
     "text": [
      "faceToFaceWithTheGorillaKing.txt\n\n\nfaceToFaceWithTheGorillaKing.txt\n"
     ]
    },
    {
     "name": "stdout",
     "output_type": "stream",
     "text": [
      "\n\nFairy Tales For Kids - Animated Fairy Tales and Bedtime Stories __ Kids Hut Stories - English (auto-generated).txt\n"
     ]
    },
    {
     "name": "stdout",
     "output_type": "stream",
     "text": [
      "Five Peas In Pod Story _ Stories for Kids _ My Pingu Tv - English (auto-generated).txt\nFlawless Prince in English _ Story _ English Fairy Tales - English (auto-generated).txt\nHansel And Gretel in English _ Story _ English Fairy Tales - English (auto-generated).txt\nHappy Prince Story _ Stories for Kids _ My Pingu Tv - English (auto-generated).txt\nHeidi Story _ Bedtime Stories _ Stories for Kids _ Fairy Tales _ My Pingu Tv - English (auto-generated).txt\n"
     ]
    },
    {
     "name": "stdout",
     "output_type": "stream",
     "text": [
      "invasion-of-the-hazmats.txt\n\n\ninvasion-of-the-hazmats.txt\n"
     ]
    },
    {
     "name": "stdout",
     "output_type": "stream",
     "text": [
      "\n\nJack and The Beanstalk Story _ Bedtime Stories _ Stories for Kids _ Fairy Tales _ My Pingu Tv - English (auto-generated).txt\njataka_tv1.txt\n\n\njataka_tv1.txt\n"
     ]
    },
    {
     "name": "stdout",
     "output_type": "stream",
     "text": [
      "\n\nJorinda And Jorindel Story _ Stories for Kids _ My Pingu Tv - English (auto-generated).txt\nKids Hut Stories - Tia and Tofu Storytelling __ Moral and Learning Stories In English For Kids - English (auto-generated).txt\nKIDS STORIES - ANIMATED STORIES - English (auto-generated).txt\n"
     ]
    },
    {
     "name": "stdout",
     "output_type": "stream",
     "text": [
      "Kids Stories - Animated Stories For Kids __ Bedtime Stories For Kids - Moral To Learn For Kids - English (auto-generated).txt\nKIDS STORIES - ANIMATED STORIES FOR KIDS __ COOL STORIES FOR KIDS - KIDS MORAL STORIES - English (auto-generated).txt\nKIDS STORIES - ANIMATED STORIES FOR KIDS __ MORAL STORIES - TIA AND TOFU STORYTELLING - English (auto-generated).txt\n"
     ]
    },
    {
     "name": "stdout",
     "output_type": "stream",
     "text": [
      "KIDS STORIES - ANIMATED STORIES FOR KIDS __ TIA AND TOFU ANIMATED STORY SERIES - English (auto-generated).txt\nKIDS STORIES - ANIMATED STORIES FOR KIDS __ TIA AND TOFU STORYTELLING - English (auto-generated).txt\n"
     ]
    },
    {
     "name": "stdout",
     "output_type": "stream",
     "text": [
      "KIDS STORIES - BEAUTY AND THE BEAST (Full Version) __ Storytelling By Tia and Tofu - English (auto-generated).txt\nKIDS STORIES - Best Stories For Kids - English (auto-generated).txt\n"
     ]
    },
    {
     "name": "stdout",
     "output_type": "stream",
     "text": [
      "Kids Stories - Kids Hut Stories - English (auto-generated).txt\nKids Stories - Kids Hut Storytelling - English (auto-generated).txt\nKids STORIES - LEARNING STORIES FOR KIDS __ PETER PAN & MORE - English (auto-generated).txt\n"
     ]
    },
    {
     "name": "stdout",
     "output_type": "stream",
     "text": [
      "KIDS STORIES - RACE STORIES __ FABLES FOR KIDS - THE BET STORY __ STORYTELLING - English (auto-generated).txt\nKIDS STORIES - STORIES FOR KIDS __ BEST STORIES FOR KIDS - KIDS HUT STORYTELLING - English (auto-generated).txt\n"
     ]
    },
    {
     "name": "stdout",
     "output_type": "stream",
     "text": [
      "KIDS STORIES - STORIES TO LEARN __ MORAL STORIES - HAPPY PRINCE & MORE - English (auto-generated).txt\nKIDS STORIES - The Christmas Story, Christmas Carol and The Lazy Girl __ Storytelling By Tia & Tofu - English (auto-generated).txt\n"
     ]
    },
    {
     "name": "stdout",
     "output_type": "stream",
     "text": [
      "KIDS STORIES - The Fox and The Crab Full Stories __ Animated Stories For Kids - Tia and Tofu Stories - English (auto-generated).txt\nKids Stories - The Horse & the Snail And The Lazy Horse - Kids Hut Storytelling - English (auto-generated).txt\nKIDS STORIES - The Wolf and The Seven Goats Story, The Fox & The Stork - English (auto-generated).txt\nKids Stories By Kids Hut_ Aladdin and The Beauty & The Beast __ Animated Full Movies - English (auto-generated).txt\n"
     ]
    },
    {
     "name": "stdout",
     "output_type": "stream",
     "text": [
      "Kids Stories _ The Lazy Girl and The Jack and The beanstalk __ Animated Stories For Kids - English (auto-generated).txt\nKids Story Collection _ Hansel and Gretel - 12 Dancing Princesses - English (auto-generated).txt\nKing Midas Touch Story _ Stories for Kids _ My Pingu Tv - English (auto-generated).txt\nPeppa Pig English Episodes - Halloween Party! Peppa Pig Official - English (auto-generated).txt\n"
     ]
    },
    {
     "name": "stdout",
     "output_type": "stream",
     "text": [
      "Peppa Pig English Episodes _ Peppa Pig about Town _ Peppa Pig Official - English (auto-generated).txt\nPied Piper Of Hamelin _ Stories for Kids _ My Pingu Tv - English (auto-generated).txt\nPinocchio & More - KIDS STORIES __ Kids Hut Storytelling - Animated Stories For Kids - English (auto-generated).txt\n"
     ]
    },
    {
     "name": "stdout",
     "output_type": "stream",
     "text": [
      "Pinocchio Story _ Stories for Kids _ My Pingu Tv - English (auto-generated).txt\npisus-revenge-middle-grade-fantasy.txt\n\n\npisus-revenge-middle-grade-fantasy.txt\n"
     ]
    },
    {
     "name": "stdout",
     "output_type": "stream",
     "text": [
      "\n\nPJ Masks Full Episode 7 2016 New - English (auto-generated).txt\nPocahontas and More Stories For Kids - Animated Story Series For Kids __ Tia and Tofu Storytelling - English (auto-generated).txt\n"
     ]
    },
    {
     "name": "stdout",
     "output_type": "stream",
     "text": [
      "Princess fairy tales 2 _ Rumpelstiltskin _ Thumbelina _ Snow White _The Little Mermaid _ My Pingu Tv - English (auto-generated).txt\nPrincess Fairy Tales _ Cinderella _ Rapunzel _ Beauty and the Beast _ Frog Prince _ Sleeping Beauty - English (auto-generated).txt\n"
     ]
    },
    {
     "name": "stdout",
     "output_type": "stream",
     "text": [
      "Puss in Boots Story _ Stories for Kids _ My Pingu Tv - English (auto-generated).txt\nRapunzel in English _ Story _ English Fairy Tales - English (auto-generated).txt\nRapunzel Story _ Bedtime Stories _ Stories for Kids _ Fairy Tales _ My Pingu Tv - English (auto-generated).txt\nRumpelstiltskin Story _ Stories for Kids _ My Pingu Tv - English (auto-generated).txt\nSam-Dragon-FKB-PDF-180831.txt\n\n\nSam-Dragon-FKB-PDF-180831.txt\n"
     ]
    },
    {
     "name": "stdout",
     "output_type": "stream",
     "text": [
      "\n\nSix Animal Stories _ Bedtime Stories _ Stories for Kids _ Fairy Tales _ My Pingu Tv - English (auto-generated).txt\nSnow White story & Snow White songs _ Fairy Tales and Bedtime Stories for Kids - English (auto-generated).txt\nTania-In-A-Winter-Wonderland-Kanika-G.txt\n"
     ]
    },
    {
     "name": "stdout",
     "output_type": "stream",
     "text": [
      "The Ant and the Grasshopper _ Stories for Kids _ My Pingu Tv - English (auto-generated).txt\nThe Fisherman and His Wife _ Bedtime Stories _ My Pingu Tv - English (auto-generated).txt\nThe Four Brahmins Story _ Bedtime Stories _ Stories for Kids _ Fairy Tales _ My Pingu Tv - English (auto-generated).txt\nThe Frog And The Ox Story _ Stories for Kids _ My Pingu Tv - English (auto-generated).txt\nTHE FROG PRINCE - KIDS STORY IN ENGLISH __ ANIMATED MOVIES FOR KIDS - FULL STORY - English (auto-generated).txt\n"
     ]
    },
    {
     "name": "stdout",
     "output_type": "stream",
     "text": [
      "The Giving Tree Story _ Stories for Kids _ My Pingu Tv - English (auto-generated).txt\nThe Golden Bird Story _ Story For Kids _ My Pingu Tv - English (auto-generated).txt\nThe Intelligent Buffalo _ Stories for Kids _ My Pingu Tv - English (auto-generated).txt\nThe Little Match Girl _ Stories for Kids _ My Pingu Tv - English (auto-generated).txt\nThe Little Red Riding Hood & More - Animated Stories For Kids __ Traditional Stories For Kids - English (auto-generated).txt\n"
     ]
    },
    {
     "name": "stdout",
     "output_type": "stream",
     "text": [
      "The Magic Pot Story _ Stories for Kids _ My Pingu Tv - English (auto-generated).txt\nThe Red Shoes Story _ Stories for Kids _ My Pingu Tv - English (auto-generated).txt\nThe Snow Queen Story _ Stories for Kids _ My Pingu Tv - English (auto-generated).txt\nThe Ugly Duckling and the Little Mermaid - HCA - The Fairytaler - English (auto-generated).txt\nThe Wild Swans Story _ Stories for Kids _ My Pingu Tv - English (auto-generated).txt\n"
     ]
    },
    {
     "name": "stdout",
     "output_type": "stream",
     "text": [
      "The Wizard of Oz Story _ Stories for Kids _ My Pingu Tv - English (auto-generated).txt\nTHE WOLF AND SEVEN LITTLE GOATS - ANIMATED STORIES __ KIDS HUT STORYTELLING - TIA AND TOFU STORIES - English (auto-generated).txt\nthe-lion-who-wouldnt-try_english_FKB.txt\n\n\nthe-lion-who-wouldnt-try_english_FKB.txt\n\n\nThe-Little-Alien-Book-1-FKB-180317-Middle-Grade-Science-Fiction.txt\n\n\nThe-Little-Alien-Book-1-FKB-180317-Middle-Grade-Science-Fiction.txt\n"
     ]
    },
    {
     "name": "stdout",
     "output_type": "stream",
     "text": [
      "\n\nThe-New-Kid-Kanika-G.txt\nThree Little Pigs Story _ Stories for Kids _ My Pingu Tv - English (auto-generated).txt\nThumbelina Story _ Bedtime Stories _ Stories for Kids _ Fairy Tales _ My Pingu Tv - English (auto-generated).txt\nTravelling Companion in English _ Story _ English Fairy Tales - English (auto-generated).txt\nWitch and Giant Stories _ Jack and the Beanstalk _ Hansel and Gretel _ Fairy tales - My Pingu Tv - English (auto-generated).txt\n"
     ]
    },
    {
     "name": "stdout",
     "output_type": "stream",
     "text": [
      "Wolf And Seven Little Goats _ Stories for Kids _ My Pingu Tv - English (auto-generated).txt\n11 TRUE SCARY STORIES From Reddit [MEGA COLLABORATION #3] - English (auto-generated).txt\n"
     ]
    },
    {
     "name": "stdout",
     "output_type": "stream",
     "text": [
      "11 TRUE SCARY STORIES From Reddit [MEGA COLLABORATION #4] - English (auto-generated).txt\n"
     ]
    },
    {
     "name": "stdout",
     "output_type": "stream",
     "text": [
      "14 Horror Stories Animated (Compilation of 2015) - English (auto-generated).txt\n"
     ]
    },
    {
     "name": "stdout",
     "output_type": "stream",
     "text": [
      "14 More Horror Stories Animated (Compilation of 2016) - English (auto-generated).txt\n"
     ]
    },
    {
     "name": "stdout",
     "output_type": "stream",
     "text": [
      "16 True Scary Stories [Compilation Vol.14] - English (auto-generated).txt\n"
     ]
    },
    {
     "name": "stdout",
     "output_type": "stream",
     "text": [
      "5 Horror Stories Animated (Compilation of Dec. 2018) - English (auto-generated).txt\nA novel by - Jeffrey Carver ( PDFDrive.com ).txt\n\n\nA novel by - Jeffrey Carver ( PDFDrive.com ).txt\n"
     ]
    },
    {
     "name": "stdout",
     "output_type": "stream",
     "text": [
      "\n\nA Sherlock Holmes Novel_ The Sign of the Four Audiobook - English (United Kingdom).txt\n"
     ]
    },
    {
     "name": "stdout",
     "output_type": "stream",
     "text": [
      "A TALE OF TWO CITIES by Charles Dickens - FULL AudioBook _ Greatest AudioBooks (Book 1 of 3) V2 - English (auto-generated).txt\n"
     ]
    },
    {
     "name": "stdout",
     "output_type": "stream",
     "text": [
      "Audiobooks - The Little Prince - Antoine de Saint-Exupéry - English (auto-generated).txt\n"
     ]
    },
    {
     "name": "stdout",
     "output_type": "stream",
     "text": [
      "Audiobook_ Miss Philura's Wedding Gown by Florence Morse Kingsley _ AudioBooks Classic - English (auto-generated).txt\n"
     ]
    },
    {
     "name": "stdout",
     "output_type": "stream",
     "text": [
      "aufg.txt\n\n\naufg.txt\n"
     ]
    },
    {
     "name": "stdout",
     "output_type": "stream",
     "text": [
      "\n\nCELEBRATED CRIMES_ THE MAN IN THE IRON MASK - FULL AudioBook _ GreatestAudioBooks - English (auto-generated).txt\n"
     ]
    },
    {
     "name": "stdout",
     "output_type": "stream",
     "text": [
      "Chapter 1 - The Boy Who Lived (Harry Potter and the Sorcerer's Stone) - English (auto-generated).txt\nCrime-and-Punishment.txt\n"
     ]
    },
    {
     "name": "stdout",
     "output_type": "stream",
     "text": [
      "CUSTER BATTLEFIELD_ A History And Guide To The Battle Of The Little Bighorn _ Greatest AudioBooks - English (auto-generated).txt\n"
     ]
    },
    {
     "name": "stdout",
     "output_type": "stream",
     "text": [
      "Dead Man's Planet [SF Audiobook] - English (auto-generated).txt\nDead Men Tell No Tales audiobook (FULL Audiobook) - part (1 of 3) - English (auto-generated).txt\n"
     ]
    },
    {
     "name": "stdout",
     "output_type": "stream",
     "text": [
      "elif-safak-esq-kko-eng.txt\n\n\nelif-safak-esq-kko-eng.txt\n"
     ]
    },
    {
     "name": "stdout",
     "output_type": "stream",
     "text": [
      "\n\nEMMA Audiobook by Jane Austen _ Full Audio book with Subtitles _ Part 1 of 2 - English.txt\n\n\nEMMA Audiobook by Jane Austen _ Full Audio book with Subtitles _ Part 1 of 2 - English.txt\n"
     ]
    },
    {
     "name": "stdout",
     "output_type": "stream",
     "text": [
      "\n\nEncyclopedia of Comic Books and Graphic Novels ( PDFDrive.com ).txt\n\n\nEncyclopedia of Comic Books and Graphic Novels ( PDFDrive.com ).txt\n"
     ]
    },
    {
     "name": "stdout",
     "output_type": "stream",
     "text": [
      "\n\nEnglish Learning Audio Book, through picture, story English subtitle 20 - English (auto-generated).txt\nGone Girl by Gillian Flynn ( PDFDrive.com ).txt\n\n\nGone Girl by Gillian Flynn ( PDFDrive.com ).txt\n"
     ]
    },
    {
     "name": "stdout",
     "output_type": "stream",
     "text": [
      "\n\nGood+Morning+Holy+Spirit.txt\n\n\nGood+Morning+Holy+Spirit.txt\n"
     ]
    },
    {
     "name": "stdout",
     "output_type": "stream",
     "text": [
      "\n\nHOLY BIBLE - Book of MARK - Word English Bible (WEB) - FULL AudioBook _ GreatestAudioBooks - English (auto-generated).txt\n"
     ]
    },
    {
     "name": "stdout",
     "output_type": "stream",
     "text": [
      "IMPROVE LISTENING SKILLS VIA GREAT NOVELS - The Adventures of HuckleBerry Finn [Part I] - English (auto-generated).txt\n"
     ]
    },
    {
     "name": "stdout",
     "output_type": "stream",
     "text": [
      "Learn English Through Story - Jane Eyre- Practice Listening English - English (auto-generated).txt\n"
     ]
    },
    {
     "name": "stdout",
     "output_type": "stream",
     "text": [
      "Learn English Through Story - The House On The Hill by Elizabeth Laird - English (auto-generated).txt\nLearn English Through Story - The Stranger by Norman Whitney - English (auto-generated).txt\n"
     ]
    },
    {
     "name": "stdout",
     "output_type": "stream",
     "text": [
      "Learn English Through Story - The Woman Who Disappeared (Elementary) Audiobook with Subtitles - English (auto-generated).txt\n"
     ]
    },
    {
     "name": "stdout",
     "output_type": "stream",
     "text": [
      "Learn English Through Story -The Willing Ghost- Practice Listening English - English (auto-generated).txt\nLearn English with Audio Story - Jane Eyre - English (auto-generated).txt\n"
     ]
    },
    {
     "name": "stdout",
     "output_type": "stream",
     "text": [
      "Learn English with Audio Story - The Adventures of Tom Sawyers - English (auto-generated).txt\n"
     ]
    },
    {
     "name": "stdout",
     "output_type": "stream",
     "text": [
      "Learn English With Story Love or Money level 1 - English (auto-generated).txt\nLearn English With Story White Death subtitled level 1 - English (auto-generated).txt\n"
     ]
    },
    {
     "name": "stdout",
     "output_type": "stream",
     "text": [
      "Loves-Fool.txt\n\n\nLoves-Fool.txt\n"
     ]
    },
    {
     "name": "stdout",
     "output_type": "stream",
     "text": [
      "\n\nMuhammad_ His Life Based on the Earliest Sources ( PDFDrive.com ).txt\n"
     ]
    },
    {
     "name": "stdout",
     "output_type": "stream",
     "text": [
      "pride-and-prejudice.txt\n"
     ]
    },
    {
     "name": "stdout",
     "output_type": "stream",
     "text": [
      "Rose O' The River Full Audiobook by Kate Douglas WIGGIN by General Fiction - English (auto-generated).txt\n"
     ]
    },
    {
     "name": "stdout",
     "output_type": "stream",
     "text": [
      "Sanctuary Full Audiobook by Edith WHARTON by General Fiction Audiobook - English (auto-generated).txt\n"
     ]
    },
    {
     "name": "stdout",
     "output_type": "stream",
     "text": [
      "The Comedy of Errors (Improved Reading) (FULL Audiobook) - English (auto-generated).txt\n"
     ]
    },
    {
     "name": "stdout",
     "output_type": "stream",
     "text": [
      "THE FALL OF THE HOUSE OF USHER by Edgar Allan Poe - FULL AudioBook _ GreatestAudioBooks V1TA - English (auto-generated).txt\nThe Fault in Our Stars ( PDFDrive.com ).txt\n"
     ]
    },
    {
     "name": "stdout",
     "output_type": "stream",
     "text": [
      "\n\nThe Fault in Our Stars ( PDFDrive.com ).txt\n"
     ]
    },
    {
     "name": "stdout",
     "output_type": "stream",
     "text": [
      "\n\nThe Gifts of Imperfection_ Embrace Who You Are ( PDFDrive.com ).txt\n\n\nThe Gifts of Imperfection_ Embrace Who You Are ( PDFDrive.com ).txt\n"
     ]
    },
    {
     "name": "stdout",
     "output_type": "stream",
     "text": [
      "\n\nTHE MAN FROM SNOWY RIVER by Banjo Paterson - FULL AudioBook _ GreatestAudioBooks - English (auto-generated)(1).txt\n"
     ]
    },
    {
     "name": "stdout",
     "output_type": "stream",
     "text": [
      "THE MAN FROM SNOWY RIVER by Banjo Paterson - FULL AudioBook _ GreatestAudioBooks - English (auto-generated).txt\n"
     ]
    },
    {
     "name": "stdout",
     "output_type": "stream",
     "text": [
      "The Metamorphosis by Franz Kafka (Free Audio Book in English Language) - English.txt\n"
     ]
    },
    {
     "name": "stdout",
     "output_type": "stream",
     "text": [
      "The Monk Who Sold His Ferrari ( PDFDrive.com ).txt\n"
     ]
    },
    {
     "name": "stdout",
     "output_type": "stream",
     "text": [
      "The Secret of Dreams - FULL Audio Book - by Yacki Raizizun _ GreatestAudioBooks - English (auto-generated).txt\nTHE STORY OF ATLANTIS - FULL AudioBook _ Greatest Audio Books - English (auto-generated).txt\n"
     ]
    },
    {
     "name": "stdout",
     "output_type": "stream",
     "text": [
      "THE VAMPYRE by John William Polidori - FULL AudioBook _ Greatest AudioBooks - English (auto-generated)(1).txt\n"
     ]
    },
    {
     "name": "stdout",
     "output_type": "stream",
     "text": [
      "THE VAMPYRE by John William Polidori - FULL AudioBook _ Greatest AudioBooks - English (auto-generated).txt\n"
     ]
    },
    {
     "name": "stdout",
     "output_type": "stream",
     "text": [
      "The Watsons by Jane Austen (FULL Audio Book) - English (auto-generated).txt\n"
     ]
    },
    {
     "name": "stdout",
     "output_type": "stream",
     "text": [
      "The Woman Who Tried to be Good Edna Ferber audiobook Short Story - English (auto-generated).txt\nThe-Brothers-Karamazov.txt\n"
     ]
    },
    {
     "name": "stdout",
     "output_type": "stream",
     "text": [
      "the-forgotten-room-a-novel-lincoln-child.txt\n\n\nthe-forgotten-room-a-novel-lincoln-child.txt\n"
     ]
    },
    {
     "name": "stdout",
     "output_type": "stream",
     "text": [
      "\n\nthe-great-gatsby.txt\n"
     ]
    },
    {
     "name": "stdout",
     "output_type": "stream",
     "text": [
      "The-House-of-the-Dead.txt\n\n\nThe-House-of-the-Dead.txt\n"
     ]
    },
    {
     "name": "stdout",
     "output_type": "stream",
     "text": [
      "\n\nThe-Idiot.txt\n"
     ]
    },
    {
     "name": "stdout",
     "output_type": "stream",
     "text": [
      "The-Peasant-Marey.txt\n\n\nThe-Peasant-Marey.txt\n\n\nTo Build a Fire by Jack London a Free Audio Book - English (auto-generated).txt\n"
     ]
    },
    {
     "name": "stdout",
     "output_type": "stream",
     "text": [
      "[Fantasy Tale from the Author of Dracula] The Castle of the King (Bram Stoker Audiobook) - English (auto-generated).txt\n"
     ]
    }
   ],
   "source": [
    "for folder in direcotry_folders:\n",
    "    movies = os.listdir(direcotry_path + folder + \"/\")\n",
    "    for movie_name in movies:\n",
    "        try:\n",
    "            movie_prediction = test_classifier_on_outside_data(clf, direcotry_path + folder + \"/\", movie_name, False)\n",
    "        except:\n",
    "            print(\"\\n\")\n",
    "            movie_prediction = test_classifier_on_outside_data(clf, direcotry_path + folder + \"/\", movie_name, True)\n",
    "            print(\"\\n\")\n",
    "\n",
    "        predictions_dict[folder].append( (movie_name, movie_prediction) )"
   ]
  },
  {
   "cell_type": "heading",
   "metadata": {},
   "level": 2,
   "source": [
    "save the prediction dictionary"
   ]
  },
  {
   "cell_type": "code",
   "execution_count": 21,
   "metadata": {},
   "outputs": [],
   "source": [
    "out_pickle(\"C:/Users/Abdo/Project/pickle_files/\",\"predictions_dict_books_txt\", predictions_dict)"
   ]
  },
  {
   "cell_type": "heading",
   "metadata": {},
   "level": 2,
   "source": [
    "load the results of the previous code ran on the three cases"
   ]
  },
  {
   "cell_type": "heading",
   "metadata": {},
   "level": 2,
   "source": [
    "prediction dict for movies_txt, books_txt"
   ]
  },
  {
   "cell_type": "code",
   "execution_count": 4,
   "metadata": {},
   "outputs": [],
   "source": [
    "movies_txt_dict = in_pickle(\"C:/Users/Abdo/Project/pickle_files/\",\"predictions_dict_movies_txt\")\n",
    "books_txt_dict = in_pickle(\"C:/Users/Abdo/Project/pickle_files/\",\"predictions_dict_books_txt\")"
   ]
  },
  {
   "cell_type": "heading",
   "metadata": {},
   "level": 2,
   "source": [
    "remove the non-lableled key from the books_txt_dict"
   ]
  },
  {
   "cell_type": "code",
   "execution_count": 5,
   "metadata": {
    "collapsed": true
   },
   "outputs": [
    {
     "data": {
      "text/plain": [
       "[('11 TRUE SCARY STORIES From Reddit [MEGA COLLABORATION #3] - English (auto-generated).txt',\n  array([0])),\n ('11 TRUE SCARY STORIES From Reddit [MEGA COLLABORATION #4] - English (auto-generated).txt',\n  array([1])),\n ('14 Horror Stories Animated (Compilation of 2015) - English (auto-generated).txt',\n  array([1])),\n ('14 More Horror Stories Animated (Compilation of 2016) - English (auto-generated).txt',\n  array([1])),\n ('16 True Scary Stories [Compilation Vol.14] - English (auto-generated).txt',\n  array([1])),\n ('5 Horror Stories Animated (Compilation of Dec. 2018) - English (auto-generated).txt',\n  array([1])),\n ('A novel by - Jeffrey Carver ( PDFDrive.com ).txt', array([0])),\n ('A Sherlock Holmes Novel_ The Sign of the Four Audiobook - English (United Kingdom).txt',\n  array([1])),\n ('A TALE OF TWO CITIES by Charles Dickens - FULL AudioBook _ Greatest AudioBooks (Book 1 of 3) V2 - English (auto-generated).txt',\n  array([1])),\n ('Audiobooks - The Little Prince - Antoine de Saint-Exupéry - English (auto-generated).txt',\n  array([1])),\n (\"Audiobook_ Miss Philura's Wedding Gown by Florence Morse Kingsley _ AudioBooks Classic - English (auto-generated).txt\",\n  array([0])),\n ('aufg.txt', array([1])),\n ('CELEBRATED CRIMES_ THE MAN IN THE IRON MASK - FULL AudioBook _ GreatestAudioBooks - English (auto-generated).txt',\n  array([1])),\n (\"Chapter 1 - The Boy Who Lived (Harry Potter and the Sorcerer's Stone) - English (auto-generated).txt\",\n  array([1])),\n ('Crime-and-Punishment.txt', array([0])),\n ('CUSTER BATTLEFIELD_ A History And Guide To The Battle Of The Little Bighorn _ Greatest AudioBooks - English (auto-generated).txt',\n  array([1])),\n (\"Dead Man's Planet [SF Audiobook] - English (auto-generated).txt\",\n  array([0])),\n ('Dead Men Tell No Tales audiobook (FULL Audiobook) - part (1 of 3) - English (auto-generated).txt',\n  array([1])),\n ('elif-safak-esq-kko-eng.txt', array([0])),\n ('EMMA Audiobook by Jane Austen _ Full Audio book with Subtitles _ Part 1 of 2 - English.txt',\n  array([1])),\n ('Encyclopedia of Comic Books and Graphic Novels ( PDFDrive.com ).txt',\n  array([1])),\n ('English Learning Audio Book, through picture, story English subtitle 20 - English (auto-generated).txt',\n  array([1])),\n ('Gone Girl by Gillian Flynn ( PDFDrive.com ).txt', array([0])),\n ('Good+Morning+Holy+Spirit.txt', array([0])),\n ('HOLY BIBLE - Book of MARK - Word English Bible (WEB) - FULL AudioBook _ GreatestAudioBooks - English (auto-generated).txt',\n  array([0])),\n ('IMPROVE LISTENING SKILLS VIA GREAT NOVELS - The Adventures of HuckleBerry Finn [Part I] - English (auto-generated).txt',\n  array([1])),\n ('Learn English Through Story - Jane Eyre- Practice Listening English - English (auto-generated).txt',\n  array([1])),\n ('Learn English Through Story - The House On The Hill by Elizabeth Laird - English (auto-generated).txt',\n  array([1])),\n ('Learn English Through Story - The Stranger by Norman Whitney - English (auto-generated).txt',\n  array([1])),\n ('Learn English Through Story - The Woman Who Disappeared (Elementary) Audiobook with Subtitles - English (auto-generated).txt',\n  array([1])),\n ('Learn English Through Story -The Willing Ghost- Practice Listening English - English (auto-generated).txt',\n  array([1])),\n ('Learn English with Audio Story - Jane Eyre - English (auto-generated).txt',\n  array([0])),\n ('Learn English with Audio Story - The Adventures of Tom Sawyers - English (auto-generated).txt',\n  array([0])),\n ('Learn English With Story Love or Money level 1 - English (auto-generated).txt',\n  array([1])),\n ('Learn English With Story White Death subtitled level 1 - English (auto-generated).txt',\n  array([0])),\n ('Loves-Fool.txt', array([0])),\n ('Muhammad_ His Life Based on the Earliest Sources ( PDFDrive.com ).txt',\n  array([1])),\n ('pride-and-prejudice.txt', array([1])),\n (\"Rose O' The River Full Audiobook by Kate Douglas WIGGIN by General Fiction - English (auto-generated).txt\",\n  array([1])),\n ('Sanctuary Full Audiobook by Edith WHARTON by General Fiction Audiobook - English (auto-generated).txt',\n  array([0])),\n ('The Comedy of Errors (Improved Reading) (FULL Audiobook) - English (auto-generated).txt',\n  array([0])),\n ('THE FALL OF THE HOUSE OF USHER by Edgar Allan Poe - FULL AudioBook _ GreatestAudioBooks V1TA - English (auto-generated).txt',\n  array([1])),\n ('The Fault in Our Stars ( PDFDrive.com ).txt', array([0])),\n ('The Gifts of Imperfection_ Embrace Who You Are ( PDFDrive.com ).txt',\n  array([0])),\n ('THE MAN FROM SNOWY RIVER by Banjo Paterson - FULL AudioBook _ GreatestAudioBooks - English (auto-generated)(1).txt',\n  array([1])),\n ('THE MAN FROM SNOWY RIVER by Banjo Paterson - FULL AudioBook _ GreatestAudioBooks - English (auto-generated).txt',\n  array([1])),\n ('The Metamorphosis by Franz Kafka (Free Audio Book in English Language) - English.txt',\n  array([1])),\n ('The Monk Who Sold His Ferrari ( PDFDrive.com ).txt', array([0])),\n ('The Secret of Dreams - FULL Audio Book - by Yacki Raizizun _ GreatestAudioBooks - English (auto-generated).txt',\n  array([1])),\n ('THE STORY OF ATLANTIS - FULL AudioBook _ Greatest Audio Books - English (auto-generated).txt',\n  array([1])),\n ('THE VAMPYRE by John William Polidori - FULL AudioBook _ Greatest AudioBooks - English (auto-generated)(1).txt',\n  array([0])),\n ('THE VAMPYRE by John William Polidori - FULL AudioBook _ Greatest AudioBooks - English (auto-generated).txt',\n  array([0])),\n ('The Watsons by Jane Austen (FULL Audio Book) - English (auto-generated).txt',\n  array([1])),\n ('The Woman Who Tried to be Good Edna Ferber audiobook Short Story - English (auto-generated).txt',\n  array([1])),\n ('The-Brothers-Karamazov.txt', array([0])),\n ('the-forgotten-room-a-novel-lincoln-child.txt', array([1])),\n ('the-great-gatsby.txt', array([1])),\n ('The-House-of-the-Dead.txt', array([0])),\n ('The-Idiot.txt', array([1])),\n ('The-Peasant-Marey.txt', array([1])),\n ('To Build a Fire by Jack London a Free Audio Book - English (auto-generated).txt',\n  array([1])),\n ('[Fantasy Tale from the Author of Dracula] The Castle of the King (Bram Stoker Audiobook) - English (auto-generated).txt',\n  array([1]))]"
      ]
     },
     "execution_count": 5,
     "metadata": {},
     "output_type": "execute_result"
    }
   ],
   "source": [
    "books_txt_dict.pop('not_labeled', None)"
   ]
  },
  {
   "cell_type": "code",
   "execution_count": 6,
   "metadata": {},
   "outputs": [],
   "source": [
    "# key: movies_txt_dict, books_txt_dict\n",
    "# value: (precision, accuracy, recall, t_p, f_p, t_n, f_n)\n",
    "test_results_dict = { }"
   ]
  },
  {
   "cell_type": "code",
   "execution_count": 7,
   "metadata": {},
   "outputs": [],
   "source": [
    "# get the confusion matrix for each one of the cases\n",
    "movies_txt_confusion_matrix = get_confusion_matrix(movies_txt_dict)\n",
    "books_txt_confusion_matrix = get_confusion_matrix(books_txt_dict)"
   ]
  },
  {
   "cell_type": "code",
   "execution_count": 8,
   "metadata": {},
   "outputs": [],
   "source": [
    "# the movies text case\n",
    "movies_txt_metrics = get_metrices(movies_txt_confusion_matrix[0],\n",
    "                                  movies_txt_confusion_matrix[1],\n",
    "                                  movies_txt_confusion_matrix[2],\n",
    "                                  movies_txt_confusion_matrix[3])"
   ]
  },
  {
   "cell_type": "code",
   "execution_count": 9,
   "metadata": {},
   "outputs": [],
   "source": [
    "# the books text case\n",
    "books_txt_metrics = get_metrices(books_txt_confusion_matrix[0],\n",
    "                                  books_txt_confusion_matrix[1],\n",
    "                                  books_txt_confusion_matrix[2],\n",
    "                                  books_txt_confusion_matrix[3])"
   ]
  },
  {
   "cell_type": "heading",
   "metadata": {},
   "level": 2,
   "source": [
    "save them into a dict"
   ]
  },
  {
   "cell_type": "code",
   "execution_count": 10,
   "metadata": {},
   "outputs": [],
   "source": [
    "test_results_dict[\"movies_txt_dict\"] = movies_txt_metrics\n",
    "test_results_dict[\"books_txt_dict\"] = books_txt_metrics"
   ]
  },
  {
   "cell_type": "code",
   "execution_count": 29,
   "metadata": {},
   "outputs": [],
   "source": [
    "out_pickle(\"C:/Users/Abdo/Project/pickle_files/\",\"test_results_dict\", test_results_dict)"
   ]
  },
  {
   "cell_type": "code",
   "execution_count": 8,
   "metadata": {},
   "outputs": [],
   "source": [
    "test_results_dict = in_pickle(\"C:/Users/Abdo/Project/pickle_files/\",\"test_results_dict\")"
   ]
  },
  {
   "cell_type": "heading",
   "metadata": {},
   "level": 2,
   "source": [
    "( precision, accuracy, recall, t_p, f_p, t_n, f_n )"
   ]
  },
  {
   "cell_type": "code",
   "execution_count": 11,
   "metadata": {},
   "outputs": [
    {
     "name": "stdout",
     "output_type": "stream",
     "text": [
      "(0.36681222707423583, 0.4128787878787879, 0.8936170212765957, 84, 145, 25, 10)\n"
     ]
    }
   ],
   "source": [
    "print(test_results_dict[\"books_txt_dict\"])"
   ]
  },
  {
   "cell_type": "heading",
   "metadata": {},
   "level": 2,
   "source": [
    " test for non lableled data in books_txt"
   ]
  },
  {
   "cell_type": "heading",
   "metadata": {},
   "level": 2,
   "source": [
    "load the predictions_dict_books_txt again, because we removed its not_labeled key"
   ]
  },
  {
   "cell_type": "code",
   "execution_count": 12,
   "metadata": {},
   "outputs": [],
   "source": [
    "books_txt_dict = in_pickle(\"C:/Users/Abdo/Project/pickle_files/\",\"predictions_dict_books_txt\")"
   ]
  },
  {
   "cell_type": "code",
   "execution_count": 13,
   "metadata": {},
   "outputs": [],
   "source": [
    "# key: predicted label\n",
    "# value: [book1_name, ..... ]\n",
    "non_labeled_books_dict = {0: [], 1:[]}"
   ]
  },
  {
   "cell_type": "code",
   "execution_count": 14,
   "metadata": {},
   "outputs": [],
   "source": [
    "for book_name_prediction_pair in books_txt_dict[\"not_labeled\"]:\n",
    "    book_name = book_name_prediction_pair[0]\n",
    "    prediction = book_name_prediction_pair[1][0]\n",
    "    \n",
    "    non_labeled_books_dict[prediction].append(book_name)"
   ]
  },
  {
   "cell_type": "code",
   "execution_count": 20,
   "metadata": {
    "collapsed": true
   },
   "outputs": [],
   "source": [
    "for prediction in non_labeled_books_dict:\n",
    "    for book in non_labeled_books_dict[prediction]:\n",
    "        os.rename(\"C:/Users/Abdo/Project/test_data/books_txt/not_labeled/\"+book,\n",
    "                  \"C:/Users/Abdo/Project/test_data/books_txt/not_labeled/\"+str(prediction)+\"_\"+book)"
   ]
  },
  {
   "cell_type": "heading",
   "metadata": {},
   "level": 2,
   "source": [
    "test the model individaully"
   ]
  }
 ],
 "metadata": {
  "kernelspec": {
   "display_name": "Python 2",
   "language": "python",
   "name": "python2"
  },
  "language_info": {
   "codemirror_mode": {
    "name": "ipython",
    "version": 2
   },
   "file_extension": ".py",
   "mimetype": "text/x-python",
   "name": "python",
   "nbconvert_exporter": "python",
   "pygments_lexer": "ipython2",
   "version": "2.7.6"
  }
 },
 "nbformat": 4,
 "nbformat_minor": 0
}
