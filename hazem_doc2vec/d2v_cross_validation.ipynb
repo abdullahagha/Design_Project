{
 "cells": [
  {
   "cell_type": "heading",
   "metadata": {
    "collapsed": true
   },
   "level": 1,
   "source": [
    "Importing to be used libraries"
   ]
  },
  {
   "cell_type": "code",
   "execution_count": 42,
   "metadata": {},
   "outputs": [],
   "source": [
    "import pandas as pd\n",
    "import numpy as np\n",
    "from hazem_doc2vec.helper_functions import in_pickle, out_pickle\n",
    "import data_analysis.preprocessor_end as pre\n",
    "from sklearn.model_selection import cross_val_score, cross_val_predict\n",
    "from sklearn.metrics import confusion_matrix\n",
    "from sklearn.svm import SVC\n",
    "from sklearn.metrics import classification_report\n",
    "import matplotlib.pyplot as plt\n",
    "import seaborn as sn\n"
   ]
  },
  {
   "cell_type": "code",
   "execution_count": 43,
   "metadata": {},
   "outputs": [],
   "source": [
    "def precision(tp, fp): return tp / (tp + fp)\n",
    "def recall(tp, fn): return tp / (tp + fn)\n",
    "def f1_score(precision, recall): return 2 * ((precision * recall) / (precision + recall))\n",
    "def accuracy(tp, fp, tn, fn): return (tp + tn) / (tp + fp + fn + tn)"
   ]
  },
  {
   "cell_type": "code",
   "execution_count": 44,
   "metadata": {
    "collapsed": false
   },
   "outputs": [
    {
     "name": "stdout",
     "output_type": "stream",
     "text": [
      "Accuracy: 0.72 (+/- 0.04)\nCPU times: user 91.1 ms, sys: 50.6 ms, total: 142 ms\nWall time: 7min\n"
     ]
    }
   ],
   "source": [
    "%%time\n",
    "X = in_pickle('data/X')     # Corpus \"numpy vectors\"\n",
    "Y = in_pickle('data/Y')     # Corpus \"numpy vector\"\n",
    "\n",
    "clf = SVC(C=10, gamma=0.001, probability=True)\n",
    "scores = cross_val_score(clf, X, Y, cv=10, n_jobs=-1)\n",
    "print(\"Accuracy: %0.2f (+/- %0.2f)\" % (scores.mean(), scores.std() * 2))\n"
   ]
  },
  {
   "cell_type": "code",
   "execution_count": 40,
   "metadata": {},
   "outputs": [
    {
     "name": "stdout",
     "output_type": "stream",
     "text": [
      "[[4463  258]\n [1495   78]]\nCPU times: user 1min 35s, sys: 468 ms, total: 1min 36s\nWall time: 9min 59s\n"
     ]
    }
   ],
   "source": [
    "%%time\n",
    "clf.fit(X, Y)\n",
    "out_pickle('data/svm_1', clf)\n",
    "y_pred = clf.predict(X)\n",
    "conf_mat = confusion_matrix(Y, y_pred)\n",
    "print(conf_mat)\n"
   ]
  },
  {
   "cell_type": "code",
   "execution_count": 45,
   "metadata": {},
   "outputs": [
    {
     "name": "stdout",
     "output_type": "stream",
     "text": [
      "CPU times: user 38 µs, sys: 1 µs, total: 39 µs\nWall time: 42.7 µs\n"
     ]
    }
   ],
   "source": [
    "%%time\n",
    "tn, fp, fn, tp = conf_mat.ravel()\n",
    "precision = precision(tp, fp)\n",
    "recall = recall(tp, fn)\n",
    "f1_score = f1_score(precision, recall)\n",
    "accuracy = accuracy(tp, fp, tn, fn)"
   ]
  },
  {
   "cell_type": "code",
   "execution_count": 46,
   "metadata": {},
   "outputs": [
    {
     "data": {
      "text/plain": [
       "(4463, 258, 1495, 78)"
      ]
     },
     "execution_count": 46,
     "metadata": {},
     "output_type": "execute_result"
    }
   ],
   "source": [
    "(tn, fp, fn, tp)"
   ]
  },
  {
   "cell_type": "code",
   "execution_count": 47,
   "metadata": {},
   "outputs": [
    {
     "data": {
      "text/plain": [
       "(0.23214285714285715,\n 0.049586776859504134,\n 0.08171817705605029,\n 0.7214807753415952)"
      ]
     },
     "execution_count": 47,
     "metadata": {},
     "output_type": "execute_result"
    }
   ],
   "source": [
    "(precision, recall, f1_score, accuracy)\n"
   ]
  },
  {
   "cell_type": "code",
   "execution_count": 48,
   "metadata": {},
   "outputs": [
    {
     "name": "stdout",
     "output_type": "stream",
     "text": [
      "              precision    recall  f1-score   support\n\n           0       0.75      0.95      0.84      4721\n           1       0.23      0.05      0.08      1573\n\n   micro avg       0.72      0.72      0.72      6294\n   macro avg       0.49      0.50      0.46      6294\nweighted avg       0.62      0.72      0.65      6294\n\n"
     ]
    }
   ],
   "source": [
    "print(classification_report(Y, y_pred))"
   ]
  },
  {
   "cell_type": "code",
   "execution_count": 49,
   "metadata": {},
   "outputs": [
    {
     "data": {
      "image/png": "[encoded data removed]",
      "text/plain": [
       "<Figure size 720x504 with 2 Axes>"
      ]
     },
     "metadata": {},
     "output_type": "display_data"
    }
   ],
   "source": [
    "df_cm = pd.DataFrame(conf_mat)\n",
    "plt.figure(figsize = (10,7))\n",
    "sn.set(font_scale=1.4)#for label size\n",
    "sn.heatmap(df_cm, annot=True, annot_kws={\"size\": 16})# font size\n",
    "plt.xlabel('Predicted')\n",
    "plt.ylabel('Actual')\n",
    "plt.imshow(df_cm)\n",
    "plt.savefig('1.png')"
   ]
  },
  {
   "cell_type": "code",
   "execution_count": 28,
   "metadata": {},
   "outputs": [],
   "source": [
    ""
   ]
  },
  {
   "cell_type": "code",
   "execution_count": null,
   "metadata": {},
   "outputs": [],
   "source": []
  }
 ],
 "metadata": {
  "kernelspec": {
   "display_name": "Python 2",
   "language": "python",
   "name": "python2"
  },
  "language_info": {
   "codemirror_mode": {
    "name": "ipython",
    "version": 2
   },
   "file_extension": ".py",
   "mimetype": "text/x-python",
   "name": "python",
   "nbconvert_exporter": "python",
   "pygments_lexer": "ipython2",
   "version": "2.7.6"
  }
 },
 "nbformat": 4,
 "nbformat_minor": 0
}
