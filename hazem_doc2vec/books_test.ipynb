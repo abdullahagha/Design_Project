{
 "cells": [
  {
   "cell_type": "code",
   "execution_count": 185,
   "metadata": {
    "collapsed": true
   },
   "outputs": [],
   "source": [
    "import pandas as pd\n",
    "import numpy as np\n",
    "from hazem_doc2vec.helper_functions import in_pickle, out_pickle\n",
    "import data_analysis.preprocessor_end as pre\n",
    "from sklearn.metrics import confusion_matrix\n",
    "from sklearn.svm import SVC\n",
    "from sklearn.metrics import classification_report\n",
    "import random\n",
    "import matplotlib.pyplot as plt\n",
    "import seaborn as sn\n",
    "import os\n",
    "from gensim.models.doc2vec import Doc2Vec, TaggedDocument\n"
   ]
  },
  {
   "cell_type": "code",
   "execution_count": 186,
   "metadata": {},
   "outputs": [],
   "source": [
    "def precision(tp, fp): return tp / (tp + fp)\n",
    "def recall(tp, fn): return tp / (tp + fn)\n",
    "def f1_score(precision, recall): return 2 * ((precision * recall) / (precision + recall))\n",
    "def accuracy(tp, fp, tn, fn): return (tp + tn) / (tp + fp + fn + tn)"
   ]
  },
  {
   "cell_type": "code",
   "execution_count": 162,
   "metadata": {},
   "outputs": [
    {
     "name": "stdout",
     "output_type": "stream",
     "text": [
      "CPU times: user 1.25 s, sys: 75.5 ms, total: 1.33 s\nWall time: 1.33 s\n"
     ]
    }
   ],
   "source": [
    "%%time\n",
    "# Loading the saved doc2vec model\n",
    "model = Doc2Vec.load('d2v.model')"
   ]
  },
  {
   "cell_type": "code",
   "execution_count": 157,
   "metadata": {},
   "outputs": [
    {
     "name": "stdout",
     "output_type": "stream",
     "text": [
      "CPU times: user 36.4 s, sys: 199 ms, total: 36.6 s\nWall time: 36.6 s\n"
     ]
    }
   ],
   "source": [
    "%%time\n",
    "books = in_pickle('data/list_of_words_labels_books')\n",
    "random.shuffle(books)\n",
    "\n",
    "books_vectors = np.empty([len(books), 300])\n",
    "books_labels = np.empty(len(books), dtype=np.int)\n",
    "for i in range(len(books)):\n",
    "    books_vectors[i] = model.infer_vector(books[i][0])\n",
    "    books_labels[i] = books[i][1]\n",
    "\n",
    "out_pickle('data/books_vectors', books_vectors)\n",
    "out_pickle('data/books_labels', books_labels)"
   ]
  },
  {
   "cell_type": "heading",
   "metadata": {},
   "level": 1,
   "source": [
    "Test using SVM_2 generated from second approach"
   ]
  },
  {
   "cell_type": "code",
   "execution_count": 163,
   "metadata": {},
   "outputs": [
    {
     "name": "stdout",
     "output_type": "stream",
     "text": [
      "[[ 12 158]\n [ 87   7]]\nCPU times: user 322 ms, sys: 3.61 ms, total: 325 ms\nWall time: 324 ms\n"
     ]
    }
   ],
   "source": [
    "%%time\n",
    "books_vectors = in_pickle('data/books_vectors')\n",
    "books_labels = in_pickle('data/books_labels')\n",
    "\n",
    "clf = in_pickle('data/svm_2')        # load the SVM trained on movies\n",
    "\n",
    "y_pred_books = clf.predict(books_vectors)\n",
    "\n",
    "cm = confusion_matrix(books_labels, y_pred_books)\n",
    "tn, fp, fn, tp = cm.ravel()\n",
    "precision = precision(tp, fp)\n",
    "recall = recall(tp, fn)\n",
    "f1_score = f1_score(precision, recall)\n",
    "accuracy = accuracy(tp, fp, tn, fn)\n",
    "print(cm)\n"
   ]
  },
  {
   "cell_type": "code",
   "execution_count": 164,
   "metadata": {},
   "outputs": [
    {
     "data": {
      "text/plain": [
       "(12, 158, 87, 7)"
      ]
     },
     "execution_count": 164,
     "metadata": {},
     "output_type": "execute_result"
    }
   ],
   "source": [
    "(tn, fp, fn, tp)    "
   ]
  },
  {
   "cell_type": "code",
   "execution_count": 165,
   "metadata": {},
   "outputs": [
    {
     "data": {
      "text/plain": [
       "(0.04242424242424243,\n 0.07446808510638298,\n 0.05405405405405406,\n 0.07196969696969698)"
      ]
     },
     "execution_count": 165,
     "metadata": {},
     "output_type": "execute_result"
    }
   ],
   "source": [
    "(precision, recall, f1_score, accuracy)"
   ]
  },
  {
   "cell_type": "code",
   "execution_count": 166,
   "metadata": {},
   "outputs": [
    {
     "data": {
      "image/png": "[encoded data removed]",
      "text/plain": [
       "<Figure size 720x504 with 2 Axes>"
      ]
     },
     "metadata": {},
     "output_type": "display_data"
    }
   ],
   "source": [
    "df_cm = pd.DataFrame(cm)\n",
    "plt.figure(figsize = (10,7))\n",
    "sn.set(font_scale=1.4)#for label size\n",
    "sn.heatmap(df_cm, annot=True, annot_kws={\"size\": 16})# font size\n",
    "plt.xlabel('Predicted')\n",
    "plt.ylabel('Actual')\n",
    "plt.imshow(df_cm)\n",
    "plt.savefig('books_test_svm_2.png')"
   ]
  },
  {
   "cell_type": "code",
   "execution_count": 167,
   "metadata": {
    "collapsed": true
   },
   "outputs": [
    {
     "data": {
      "text/plain": [
       "264"
      ]
     },
     "execution_count": 167,
     "metadata": {},
     "output_type": "execute_result"
    }
   ],
   "source": [
    "books = in_pickle('data/list_of_words_labels_books')\n",
    "len(books)"
   ]
  },
  {
   "cell_type": "code",
   "execution_count": 168,
   "metadata": {
    "collapsed": true
   },
   "outputs": [
    {
     "data": {
      "text/plain": [
       "([0, 0, 0], array([0, 1, 1]), array([[0.7839134 , 0.2160866 ],\n        [0.31829129, 0.68170871],\n        [0.17222768, 0.82777232]]))"
      ]
     },
     "execution_count": 168,
     "metadata": {},
     "output_type": "execute_result"
    }
   ],
   "source": [
    "doc = [books_vectors[1], books_vectors[-1], books_vectors[3]]\n",
    "lab = [books_labels[1], books_labels[-1], books_labels[3]]\n",
    "(lab, clf.predict(doc), clf.predict_proba(doc))"
   ]
  },
  {
   "cell_type": "code",
   "execution_count": 188,
   "metadata": {},
   "outputs": [
    {
     "data": {
      "text/plain": [
       "(161, 9, 93, 1)"
      ]
     },
     "execution_count": 188,
     "metadata": {},
     "output_type": "execute_result"
    }
   ],
   "source": [
    "(tn, fp, fn, tp)    "
   ]
  },
  {
   "cell_type": "code",
   "execution_count": 187,
   "metadata": {},
   "outputs": [
    {
     "name": "stdout",
     "output_type": "stream",
     "text": [
      "[[161   9]\n [ 93   1]]\nCPU times: user 706 ms, sys: 3.81 ms, total: 710 ms\nWall time: 710 ms\n"
     ]
    }
   ],
   "source": [
    "%%time\n",
    "books_vectors = in_pickle('data/books_vectors')\n",
    "books_labels = in_pickle('data/books_labels')\n",
    "\n",
    "clf = in_pickle('data/svm_1')        # load the SVM trained on movies\n",
    "\n",
    "y_pred_books = clf.predict(books_vectors)\n",
    "\n",
    "cm = confusion_matrix(books_labels, y_pred_books)\n",
    "tn, fp, fn, tp = cm.ravel()\n",
    "precision = precision(tp, fp)\n",
    "recall = recall(tp, fn)\n",
    "f1_score = f1_score(precision, recall)\n",
    "accuracy = accuracy(tp, fp, tn, fn)\n",
    "print(cm)"
   ]
  },
  {
   "cell_type": "code",
   "execution_count": 188,
   "metadata": {},
   "outputs": [
    {
     "data": {
      "text/plain": [
       "(161, 9, 93, 1)"
      ]
     },
     "execution_count": 188,
     "metadata": {},
     "output_type": "execute_result"
    }
   ],
   "source": [
    "(tn, fp, fn, tp)    "
   ]
  },
  {
   "cell_type": "code",
   "execution_count": 189,
   "metadata": {},
   "outputs": [
    {
     "data": {
      "text/plain": [
       "(0.1, 0.010638297872340425, 0.01923076923076923, 0.6136363636363636)"
      ]
     },
     "execution_count": 189,
     "metadata": {},
     "output_type": "execute_result"
    }
   ],
   "source": [
    "(precision, recall, f1_score, accuracy)"
   ]
  },
  {
   "cell_type": "code",
   "execution_count": 190,
   "metadata": {},
   "outputs": [
    {
     "data": {
      "image/png": "[encoded data removed]",
      "text/plain": [
       "<Figure size 720x504 with 2 Axes>"
      ]
     },
     "metadata": {},
     "output_type": "display_data"
    }
   ],
   "source": [
    "df_cm = pd.DataFrame(cm)\n",
    "plt.figure(figsize = (10,7))\n",
    "sn.set(font_scale=1.4)#for label size\n",
    "sn.heatmap(df_cm, annot=True, annot_kws={\"size\": 16})# font size\n",
    "plt.xlabel('Predicted')\n",
    "plt.ylabel('Actual')\n",
    "plt.imshow(df_cm)\n",
    "plt.savefig('books_test_svm_1.png')"
   ]
  },
  {
   "cell_type": "code",
   "execution_count": null,
   "metadata": {},
   "outputs": [],
   "source": []
  }
 ],
 "metadata": {
  "kernelspec": {
   "display_name": "Python 2",
   "language": "python",
   "name": "python2"
  },
  "language_info": {
   "codemirror_mode": {
    "name": "ipython",
    "version": 2
   },
   "file_extension": ".py",
   "mimetype": "text/x-python",
   "name": "python",
   "nbconvert_exporter": "python",
   "pygments_lexer": "ipython2",
   "version": "2.7.6"
  }
 },
 "nbformat": 4,
 "nbformat_minor": 0
}
