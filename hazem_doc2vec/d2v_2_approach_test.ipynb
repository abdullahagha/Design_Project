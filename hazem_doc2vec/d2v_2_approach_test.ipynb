{
 "cells": [
  {
   "cell_type": "heading",
   "metadata": {
    "collapsed": true
   },
   "level": 1,
   "source": [
    "Importing to be used libraries"
   ]
  },
  {
   "cell_type": "code",
   "execution_count": 56,
   "metadata": {},
   "outputs": [],
   "source": [
    "import pandas as pd\n",
    "import numpy as np\n",
    "from hazem_doc2vec.helper_functions import in_pickle, out_pickle\n",
    "import data_analysis.preprocessor_end as pre\n",
    "from sklearn.model_selection import cross_val_score, cross_val_predict\n",
    "from sklearn.metrics import confusion_matrix, accuracy_score\n",
    "from sklearn.svm import SVC\n",
    "from sklearn.metrics import classification_report\n",
    "import random\n",
    "import matplotlib.pyplot as plt\n",
    "import seaborn as sn\n",
    "import os\n",
    "from gensim.models.doc2vec import Doc2Vec, TaggedDocument\n"
   ]
  },
  {
   "cell_type": "code",
   "execution_count": 57,
   "metadata": {},
   "outputs": [],
   "source": [
    "def precision(tp, fp): return tp / (tp + fp)\n",
    "def recall(tp, fn): return tp / (tp + fn)\n",
    "def f1_score(precision, recall): return 2 * ((precision * recall) / (precision + recall))\n",
    "def accuracy(tp, fp, tn, fn): return (tp + tn) / (tp + fp + fn + tn)"
   ]
  },
  {
   "cell_type": "code",
   "execution_count": 27,
   "metadata": {},
   "outputs": [
    {
     "name": "stdout",
     "output_type": "stream",
     "text": [
      "CPU times: user 8.58 ms, sys: 28 µs, total: 8.61 ms\nWall time: 25.6 ms\n"
     ]
    }
   ],
   "source": [
    "%%time\n",
    "X = in_pickle('data/X')     \n",
    "Y = in_pickle('data/Y')     "
   ]
  },
  {
   "cell_type": "code",
   "execution_count": 54,
   "metadata": {},
   "outputs": [
    {
     "name": "stdout",
     "output_type": "stream",
     "text": [
      "Number of positive docs:  1573\nNumber of negative docs:  4721\nPercentage of positive docs:  0.24992055926278997\nPercentage of negative docs:  0.75007944073721\nCPU times: user 10.2 ms, sys: 0 ns, total: 10.2 ms\nWall time: 9.68 ms\n"
     ]
    }
   ],
   "source": [
    "%%time\n",
    "# of the form [ [[vec_1], label_1], ..]\n",
    "pos_docs = []\n",
    "neg_docs = []\n",
    "\n",
    "for i in range(len(X)):\n",
    "    if Y[i] == 0:\n",
    "        neg_docs.append([X[i], 0])\n",
    "    else: \n",
    "        pos_docs.append([X[i], 1])\n",
    "\n",
    "pos_num = len(pos_docs)\n",
    "neg_num = len(neg_docs)\n",
    "total = pos_num + neg_num\n",
    "\n",
    "print(\"Number of positive docs: \", pos_num)\n",
    "print(\"Number of negative docs: \", neg_num)\n",
    "print(\"Percentage of positive docs: \", pos_num / total)\n",
    "print(\"Percentage of negative docs: \", neg_num / total)\n"
   ]
  },
  {
   "cell_type": "heading",
   "metadata": {},
   "level": 1,
   "source": [
    "Now, as the percentage of the negative docs = 0.25 the positive docs = 0.75\n",
    "\n",
    "We take all the negative docs and a similar number of ngative docs and the rest of the \n",
    "negative docs as the test set "
   ]
  },
  {
   "cell_type": "code",
   "execution_count": 81,
   "metadata": {},
   "outputs": [
    {
     "name": "stdout",
     "output_type": "stream",
     "text": [
      "# of test docs:  3149\n# of train docs 3146\nCPU times: user 1.01 ms, sys: 54 µs, total: 1.06 ms\nWall time: 997 µs\n"
     ]
    }
   ],
   "source": [
    "%%time\n",
    "train_pos = list(pos_docs)\n",
    "train_neg = []\n",
    "i = 0\n",
    "for i in range(len(train_pos)):\n",
    "    train_neg.append(neg_docs[i])\n",
    "\n",
    "test = neg_docs[i:]\n",
    "\n",
    "print(\"# of test docs: \", len(test))\n",
    "print(\"# of train docs\", 2 * len(train_pos))"
   ]
  },
  {
   "cell_type": "code",
   "execution_count": 99,
   "metadata": {
    "collapsed": true
   },
   "outputs": [
    {
     "name": "stdout",
     "output_type": "stream",
     "text": [
      "CPU times: user 17.6 ms, sys: 16 ms, total: 33.5 ms\nWall time: 31.8 ms\n"
     ]
    }
   ],
   "source": [
    "%%time\n",
    "temp_train_x = train_neg + train_pos\n",
    "\n",
    "random.shuffle(temp_train_x)\n",
    "\n",
    "# train doc vectors\n",
    "train_x = np.empty([len(temp_train_x), 300], dtype=np.float)\n",
    "# train labels\n",
    "train_y = np.empty(len(temp_train_x), dtype=np.int)\n",
    "for i in range(len(temp_train_x)):\n",
    "    train_x[i] = temp_train_x[i][0]     # vector\n",
    "    train_y[i] = temp_train_x[i][1]     # label\n",
    "\n",
    "\n",
    "test_x = np.empty([len(test), 300], dtype=np.float)     # vectors\n",
    "test_y = np.empty(len(test), dtype=np.int)              # labels\n",
    "for i in range(len(test)):\n",
    "    test_x[i] = test[i][0]\n",
    "    test_y[i] = test[i][1]\n"
   ]
  },
  {
   "cell_type": "code",
   "execution_count": 58,
   "metadata": {},
   "outputs": [
    {
     "name": "stdout",
     "output_type": "stream",
     "text": [
      "CPU times: user 8.66 ms, sys: 19.9 ms, total: 28.5 ms\nWall time: 36.3 ms\n"
     ]
    }
   ],
   "source": [
    "%%time\n",
    "train_x = in_pickle('data/sec_approach/train_x')\n",
    "train_y = in_pickle('data/sec_approach/train_y')\n",
    "test_x = in_pickle('data/sec_approach/test_x')\n",
    "test_y = in_pickle('data/sec_approach/test_y')"
   ]
  },
  {
   "cell_type": "code",
   "execution_count": 59,
   "metadata": {},
   "outputs": [
    {
     "name": "stdout",
     "output_type": "stream",
     "text": [
      "CPU times: user 40.9 s, sys: 114 ms, total: 41 s\nWall time: 42.3 s\n"
     ]
    }
   ],
   "source": [
    "%%time\n",
    "clf = SVC(C=20, gamma=0.001, probability=True)\n",
    "clf.fit(train_x, train_y)"
   ]
  },
  {
   "cell_type": "code",
   "execution_count": 60,
   "metadata": {},
   "outputs": [
    {
     "name": "stdout",
     "output_type": "stream",
     "text": [
      "[[ 524 2625]\n [   0    0]]\nCPU times: user 5.79 s, sys: 0 ns, total: 5.79 s\nWall time: 5.94 s\n"
     ]
    }
   ],
   "source": [
    "%%time\n",
    "y_pred = clf.predict(test_x)\n",
    "conf_mat = confusion_matrix(test_y, y_pred)\n",
    "print(conf_mat)\n"
   ]
  },
  {
   "cell_type": "code",
   "execution_count": 61,
   "metadata": {},
   "outputs": [
    {
     "name": "stdout",
     "output_type": "stream",
     "text": [
      "CPU times: user 2.11 ms, sys: 0 ns, total: 2.11 ms\nWall time: 3.75 ms\n"
     ]
    }
   ],
   "source": [
    "%%time\n",
    "tn, fp, fn, tp = conf_mat.ravel()\n",
    "precision = precision(tp, fp)\n",
    "recall = recall(tp, fn)\n",
    "f1_score = f1_score(precision, recall)\n",
    "accuracy = accuracy(tp, fp, tn, fn)"
   ]
  },
  {
   "cell_type": "code",
   "execution_count": 63,
   "metadata": {},
   "outputs": [
    {
     "data": {
      "text/plain": [
       "(524, 2625, 0, 0)"
      ]
     },
     "execution_count": 63,
     "metadata": {},
     "output_type": "execute_result"
    }
   ],
   "source": [
    "(tn, fp, fn, tp)"
   ]
  },
  {
   "cell_type": "code",
   "execution_count": 67,
   "metadata": {},
   "outputs": [
    {
     "data": {
      "text/plain": [
       "(0.0, nan, nan, 0.1664020323912353)"
      ]
     },
     "execution_count": 67,
     "metadata": {},
     "output_type": "execute_result"
    }
   ],
   "source": [
    "(precision, recall, f1_score, accuracy)\n"
   ]
  },
  {
   "cell_type": "code",
   "execution_count": 68,
   "metadata": {},
   "outputs": [
    {
     "name": "stdout",
     "output_type": "stream",
     "text": [
      "              precision    recall  f1-score   support\n\n           0       1.00      0.17      0.29      3149\n           1       0.00      0.00      0.00         0\n\n   micro avg       0.17      0.17      0.17      3149\n   macro avg       0.50      0.08      0.14      3149\nweighted avg       1.00      0.17      0.29      3149\n\n"
     ]
    }
   ],
   "source": [
    "print(classification_report(test_y, y_pred))"
   ]
  },
  {
   "cell_type": "code",
   "execution_count": 69,
   "metadata": {},
   "outputs": [
    {
     "data": {
      "image/png": "[encoded data removed]",
      "text/plain": [
       "<Figure size 720x504 with 2 Axes>"
      ]
     },
     "metadata": {},
     "output_type": "display_data"
    }
   ],
   "source": [
    "df_cm = pd.DataFrame(conf_mat)\n",
    "plt.figure(figsize = (10,7))\n",
    "sn.set(font_scale=1.4)#for label size\n",
    "sn.heatmap(df_cm, annot=True, annot_kws={\"size\": 16})# font size\n",
    "plt.xlabel('Predicted')\n",
    "plt.ylabel('Actual')\n",
    "plt.imshow(df_cm)\n",
    "plt.savefig('2_approach_15_folds.png')"
   ]
  }
 ],
 "metadata": {
  "kernelspec": {
   "display_name": "Python 2",
   "language": "python",
   "name": "python2"
  },
  "language_info": {
   "codemirror_mode": {
    "name": "ipython",
    "version": 2
   },
   "file_extension": ".py",
   "mimetype": "text/x-python",
   "name": "python",
   "nbconvert_exporter": "python",
   "pygments_lexer": "ipython2",
   "version": "2.7.6"
  }
 },
 "nbformat": 4,
 "nbformat_minor": 0
}
