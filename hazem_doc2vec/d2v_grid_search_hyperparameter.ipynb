{
 "cells": [
  {
   "cell_type": "heading",
   "metadata": {
    "collapsed": true
   },
   "level": 1,
   "source": [
    "1. Importing to be used libraries"
   ]
  },
  {
   "cell_type": "code",
   "execution_count": 9,
   "metadata": {},
   "outputs": [],
   "source": [
    "import pandas as pd\n",
    "import numpy as np\n",
    "from helper_fucntions.helper_functions import in_pickle, out_pickle\n",
    "from sklearn.model_selection import train_test_split\n",
    "from sklearn import linear_model\n",
    "from sklearn.metrics import confusion_matrix\n",
    "from sklearn.model_selection import GridSearchCV\n",
    "from sklearn.svm import SVC\n",
    "from sklearn.metrics import classification_report"
   ]
  },
  {
   "cell_type": "heading",
   "metadata": {},
   "level": 1,
   "source": [
    "2. Importing the dataset"
   ]
  },
  {
   "cell_type": "code",
   "execution_count": 10,
   "metadata": {},
   "outputs": [
    {
     "name": "stdout",
     "output_type": "stream",
     "text": [
      "CPU times: user 5.35 ms, sys: 4.16 ms, total: 9.51 ms\nWall time: 30.2 ms\n"
     ]
    }
   ],
   "source": [
    "%%time\n",
    "train_x = in_pickle('data/train_x')\n",
    "train_y = in_pickle('data/train_y')\n",
    "test_x = in_pickle('data/test_x')\n",
    "test_y = in_pickle('data/test_y')"
   ]
  },
  {
   "cell_type": "heading",
   "metadata": {},
   "level": 1,
   "source": [
    "3. Pickle in the corpus and the labels "
   ]
  },
  {
   "cell_type": "code",
   "execution_count": 11,
   "metadata": {},
   "outputs": [
    {
     "name": "stdout",
     "output_type": "stream",
     "text": [
      "CPU times: user 0 ns, sys: 18.5 ms, total: 18.5 ms\nWall time: 44.2 ms\n"
     ]
    }
   ],
   "source": [
    "%%time\n",
    "x = in_pickle('data/x')\n",
    "y = in_pickle('data/y')"
   ]
  },
  {
   "cell_type": "heading",
   "metadata": {},
   "level": 1,
   "source": [
    "4. Data Preprocessing"
   ]
  },
  {
   "cell_type": "code",
   "execution_count": 12,
   "metadata": {},
   "outputs": [
    {
     "name": "stdout",
     "output_type": "stream",
     "text": [
      "CPU times: user 7.46 ms, sys: 102 µs, total: 7.56 ms\nWall time: 7.3 ms\n"
     ]
    }
   ],
   "source": [
    "%%time\n",
    "train_x, test_x, train_y, test_y = train_test_split(x, y, test_size=0.5, random_state=0)\n"
   ]
  },
  {
   "cell_type": "heading",
   "metadata": {},
   "level": 1,
   "source": [
    "5. Training and Cross Validation"
   ]
  },
  {
   "cell_type": "code",
   "execution_count": 14,
   "metadata": {
    "collapsed": false
   },
   "outputs": [
    {
     "name": "stdout",
     "output_type": "stream",
     "text": [
      "# Tuning hyper-parameters for recall\n\n"
     ]
    },
    {
     "name": "stdout",
     "output_type": "stream",
     "text": [
      "Best parameters set found on development set:\n\n{'C': 1000, 'gamma': 0.0001, 'kernel': 'rbf'}\n\nGrid scores on development set:\n\n0.501 (+/-0.003) for {'C': 1, 'gamma': 0.001, 'kernel': 'rbf'}\n0.500 (+/-0.000) for {'C': 1, 'gamma': 0.0001, 'kernel': 'rbf'}\n0.547 (+/-0.029) for {'C': 10, 'gamma': 0.001, 'kernel': 'rbf'}\n0.500 (+/-0.000) for {'C': 10, 'gamma': 0.0001, 'kernel': 'rbf'}\n0.548 (+/-0.018) for {'C': 100, 'gamma': 0.001, 'kernel': 'rbf'}\n0.534 (+/-0.026) for {'C': 100, 'gamma': 0.0001, 'kernel': 'rbf'}\n0.548 (+/-0.018) for {'C': 1000, 'gamma': 0.001, 'kernel': 'rbf'}\n0.557 (+/-0.030) for {'C': 1000, 'gamma': 0.0001, 'kernel': 'rbf'}\n0.504 (+/-0.022) for {'C': 1, 'kernel': 'poly'}\n0.508 (+/-0.014) for {'C': 10, 'kernel': 'poly'}\n0.518 (+/-0.014) for {'C': 100, 'kernel': 'poly'}\n0.518 (+/-0.014) for {'C': 1000, 'kernel': 'poly'}\n\nDetailed classification report:\n\nThe model is trained on the full development set.\nThe scores are computed on the full evaluation set.\n\n"
     ]
    },
    {
     "name": "stdout",
     "output_type": "stream",
     "text": [
      "              precision    recall  f1-score   support\n\n           0       0.76      0.85      0.80      2331\n           1       0.35      0.22      0.27       816\n\n   micro avg       0.69      0.69      0.69      3147\n   macro avg       0.55      0.54      0.54      3147\nweighted avg       0.65      0.69      0.67      3147\n\n\n# Tuning hyper-parameters for precision\n\n"
     ]
    },
    {
     "name": "stdout",
     "output_type": "stream",
     "text": [
      "Best parameters set found on development set:\n\n{'C': 10, 'gamma': 0.001, 'kernel': 'rbf'}\n\nGrid scores on development set:\n\n0.480 (+/-0.401) for {'C': 1, 'gamma': 0.001, 'kernel': 'rbf'}\n0.380 (+/-0.000) for {'C': 1, 'gamma': 0.0001, 'kernel': 'rbf'}\n0.615 (+/-0.072) for {'C': 10, 'gamma': 0.001, 'kernel': 'rbf'}\n0.380 (+/-0.000) for {'C': 10, 'gamma': 0.0001, 'kernel': 'rbf'}\n0.615 (+/-0.050) for {'C': 100, 'gamma': 0.001, 'kernel': 'rbf'}\n0.556 (+/-0.035) for {'C': 100, 'gamma': 0.0001, 'kernel': 'rbf'}\n0.615 (+/-0.050) for {'C': 1000, 'gamma': 0.001, 'kernel': 'rbf'}\n0.571 (+/-0.038) for {'C': 1000, 'gamma': 0.0001, 'kernel': 'rbf'}\n0.507 (+/-0.055) for {'C': 1, 'kernel': 'poly'}\n0.517 (+/-0.033) for {'C': 10, 'kernel': 'poly'}\n0.536 (+/-0.026) for {'C': 100, 'kernel': 'poly'}\n0.536 (+/-0.026) for {'C': 1000, 'kernel': 'poly'}\n\nDetailed classification report:\n\nThe model is trained on the full development set.\nThe scores are computed on the full evaluation set.\n\n"
     ]
    },
    {
     "name": "stdout",
     "output_type": "stream",
     "text": [
      "              precision    recall  f1-score   support\n\n           0       0.76      0.95      0.84      2331\n           1       0.48      0.14      0.22       816\n\n   micro avg       0.74      0.74      0.74      3147\n   macro avg       0.62      0.54      0.53      3147\nweighted avg       0.69      0.74      0.68      3147\n\n\nCPU times: user 17.2 s, sys: 66.6 ms, total: 17.3 s\nWall time: 5min 36s\n"
     ]
    }
   ],
   "source": [
    "%%time\n",
    "# Set the parameters by cross-validation\n",
    "tuned_parameters = [{'kernel': ['rbf'], 'gamma': [1e-3, 1e-4], 'C': [1, 10, 100, 1000]},\n",
    "                    {'kernel': ['poly'], 'C': [1, 10, 100, 1000]}]\n",
    "\n",
    "scores = ['recall', 'precision']\n",
    "\n",
    "\n",
    "for score in scores:\n",
    "    print(\"# Tuning hyper-parameters for %s\" % score)\n",
    "    print()\n",
    "\n",
    "    clf = GridSearchCV(SVC(), tuned_parameters, cv=5,\n",
    "                       scoring='%s_macro' % score, n_jobs=-1)\n",
    "    clf.fit(train_x, train_y)\n",
    "\n",
    "    print(\"Best parameters set found on development set:\")\n",
    "    print()\n",
    "    print(clf.best_params_)\n",
    "    print()\n",
    "    print(\"Grid scores on development set:\")\n",
    "    print()\n",
    "    means = clf.cv_results_['mean_test_score']\n",
    "    stds = clf.cv_results_['std_test_score']\n",
    "    for mean, std, params in zip(means, stds, clf.cv_results_['params']):\n",
    "        print(\"%0.3f (+/-%0.03f) for %r\"\n",
    "              % (mean, std * 2, params))\n",
    "    print()\n",
    "\n",
    "    print(\"Detailed classification report:\")\n",
    "    print()\n",
    "    print(\"The model is trained on the full development set.\")\n",
    "    print(\"The scores are computed on the full evaluation set.\")\n",
    "    print()\n",
    "    y_true, y_pred = test_y, clf.predict(test_x)\n",
    "    print(classification_report(y_true, y_pred))\n",
    "    print()"
   ]
  },
  {
   "cell_type": "code",
   "execution_count": null,
   "metadata": {},
   "outputs": [],
   "source": []
  }
 ],
 "metadata": {
  "kernelspec": {
   "display_name": "Python 2",
   "language": "python",
   "name": "python2"
  },
  "language_info": {
   "codemirror_mode": {
    "name": "ipython",
    "version": 2
   },
   "file_extension": ".py",
   "mimetype": "text/x-python",
   "name": "python",
   "nbconvert_exporter": "python",
   "pygments_lexer": "ipython2",
   "version": "2.7.6"
  }
 },
 "nbformat": 4,
 "nbformat_minor": 0
}
