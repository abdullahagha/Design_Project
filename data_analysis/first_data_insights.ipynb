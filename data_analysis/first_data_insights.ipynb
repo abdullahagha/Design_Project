{
 "cells": [
  {
   "cell_type": "code",
   "execution_count": 1,
   "metadata": {},
   "outputs": [],
   "source": [
    "import pickle\n",
    "import pandas as pd\n",
    "import numpy as np\n",
    "import os\n",
    "import matplotlib.pyplot as plt\n",
    "import matplotlib\n",
    "import pandas.plotting"
   ]
  },
  {
   "cell_type": "code",
   "execution_count": 2,
   "metadata": {
    "scrolled": false
   },
   "outputs": [],
   "source": [
    "#Read the whole dataset ( which is in pikcle format for each tokenized translation file ) into a dictionary\n",
    "movies_dic = {\n",
    "   \"rating\" : [],\n",
    "   \"movie_words\" : []\n",
    "}\n",
    "\n",
    "for file_name in os.listdir(\"./pickle_files_1\"):\n",
    "    rating = file_name.split(\"_\")[0]\n",
    "    pickle_object = open(\"./pickle_files_1/\" + file_name, \"rb\")\n",
    "    movie_dic = pickle.load(pickle_object)\n",
    "    sentence_list = [movie_dic[key] for key in movie_dic.keys()]\n",
    "    word_list = []\n",
    "    \n",
    "    for sentence in sentence_list:    \n",
    "        word_list = word_list + sentence\n",
    "        \n",
    "    if rating == \"G\" or rating == \"PG\" or rating == \"PG-13\" or rating == \"R\" or rating == \"NC-17\":\n",
    "        movies_dic[\"rating\"].append(rating)\n",
    "        movies_dic[\"movie_words\"].append(word_list)\n",
    "    else: \n",
    "        #Any film without rating, or rated with different rating system\n",
    "        #or even a series(We foucs just on films right now) will be considered \"OTHER\"\n",
    "        movies_dic[\"rating\"].append(\"OTHER\")       \n",
    "        movies_dic[\"movie_words\"].append(word_list)"
   ]
  },
  {
   "cell_type": "code",
   "execution_count": 3,
   "metadata": {},
   "outputs": [
    {
     "name": "stdout",
     "output_type": "stream",
     "text": [
      "  rating                                        movie_words\n",
      "0      R  [time, get, back, vermont, wan, na, know, wort...\n",
      "1      G  [sir, main, level, please, right, see, way, ba...\n",
      "2     PG  [looks, like, paradise, fact, treacherous, des...\n",
      "3  PG-13  [damn, fighters, going, gone, chasing, scalps,...\n",
      "4  PG-13  [unbelievable, look, city, like, world, never,...\n"
     ]
    }
   ],
   "source": [
    "#imorting the data into Pandas DataFrame\n",
    "movies_table = pd.DataFrame(movies_dic)\n",
    "\n",
    "print(movies_table.head())"
   ]
  },
  {
   "cell_type": "code",
   "execution_count": 4,
   "metadata": {},
   "outputs": [
    {
     "data": {
      "image/png": "[encoded data removed]",
      "text/plain": [
       "<Figure size 432x288 with 1 Axes>"
      ]
     },
     "metadata": {},
     "output_type": "display_data"
    }
   ],
   "source": [
    "#calcuate the total film number\n",
    "film_count = (len(movies_table.index) + 1)\n",
    "\n",
    "#calcuate the total film number for each rating categorey\n",
    "G_number = len(movies_table.loc[movies_table[\"rating\"] == \"G\"])\n",
    "PG_number = len(movies_table.loc[movies_table[\"rating\"] == \"PG\"])\n",
    "PG_13_number = len(movies_table.loc[movies_table[\"rating\"] == \"PG-13\"])\n",
    "R_number = len(movies_table.loc[movies_table[\"rating\"] == \"R\"])\n",
    "NC_17_number = len(movies_table.loc[movies_table[\"rating\"] == \"NC-17\"])\n",
    "OTHER_number = len(movies_table.loc[movies_table[\"rating\"] == \"OTHER\"])\n",
    "\n",
    "#Plot the movies number against their rating\n",
    "plt.bar(np.arange(6),[G_number, PG_number, PG_13_number, R_number, NC_17_number, OTHER_number])\n",
    "plt.xlabel('Genre', fontsize=10)\n",
    "plt.ylabel('No of Movies', fontsize=10)\n",
    "plt.xticks(np.arange(6), [\"G\", \"PG\", \"PG-13\",\"R\",\"NC-17\",\"OTHER\"], fontsize=8, rotation=30)\n",
    "plt.title('Dataset Analysis - 1')\n",
    "\n",
    "plt.savefig(\"Dataset Analysis-1.png\")"
   ]
  },
  {
   "cell_type": "code",
   "execution_count": 5,
   "metadata": {},
   "outputs": [
    {
     "name": "stdout",
     "output_type": "stream",
     "text": [
      "oh                 7498\n",
      "get                6025\n",
      "know               5857\n",
      "go                 5689\n",
      "well               5515\n",
      "like               5369\n",
      "come               5345\n",
      "right              5234\n",
      "one                4879\n",
      "got                4667\n",
      "see                4011\n",
      "yes                3767\n",
      "good               3746\n",
      "let                3742\n",
      "think              3258\n",
      "look               3079\n",
      "yeah               3072\n",
      "would              3000\n",
      "time               2962\n",
      "back               2957\n",
      "hey                2923\n",
      "us                 2877\n",
      "going              2783\n",
      "little             2739\n",
      "na                 2702\n",
      "ca                 2589\n",
      "could              2588\n",
      "want               2546\n",
      "take               2542\n",
      "way                2483\n",
      "                   ... \n",
      "horribleness          1\n",
      "rahan                 1\n",
      "commodity             1\n",
      "electroshock          1\n",
      "scorch                1\n",
      "elaine                1\n",
      "basing                1\n",
      "widened               1\n",
      "incentive             1\n",
      "pretzels              1\n",
      "scathing              1\n",
      "joystick              1\n",
      "stalagmites           1\n",
      "abre                  1\n",
      "demostrars            1\n",
      "pretense              1\n",
      "objecting             1\n",
      "teamed                1\n",
      "loitering             1\n",
      "cottontail            1\n",
      "terrorized            1\n",
      "eaves                 1\n",
      "invincibie            1\n",
      "burial                1\n",
      "evaporation           1\n",
      "burrows               1\n",
      "procrastinating       1\n",
      "dished                1\n",
      "empowering            1\n",
      "cosmothropic          1\n",
      "Length: 32719, dtype: int64\n"
     ]
    }
   ],
   "source": [
    "#Calcuate the frequency of words for each rating categorey\n",
    "\n",
    "def calcuate_word_frequency(movies_table, rating):\n",
    "    rated_movies_table = movies_table.loc[movies_table[\"rating\"] == rating][\"movie_words\"]\n",
    "    movies_word_list = []\n",
    "    for index in rated_movies_table.index:\n",
    "        movies_word_list = movies_word_list + rated_movies_table[index]\n",
    "\n",
    "    movies_word_Series = pd.Series(movies_word_list)\n",
    "    movies_words_frequency = movies_word_Series.value_counts()\n",
    "    \n",
    "    return movies_words_frequency\n",
    "\n",
    "\n",
    "print(calcuate_word_frequency(movies_table, \"G\"))\n"
   ]
  },
  {
   "cell_type": "code",
   "execution_count": 6,
   "metadata": {},
   "outputs": [],
   "source": [
    "#Delete most frequent n words\n",
    "def delete_most_frequent(movies_table, rating, n):\n",
    "    top_words = calcuate_word_frequency(movies_table, rating)\n",
    "    top_10_words = set(top_words.head(n).keys().tolist())\n",
    "    \n",
    "    new_words = []\n",
    "    \n",
    "    \n",
    "    for words_list in movies_table[movies_table[\"rating\"] == rating][\"movie_words\"]:\n",
    "        new_words_list = [i for i in words_list if not i in top_10_words]\n",
    "        new_words.append(new_words_list)\n",
    "    \n",
    "    movies_table.loc[movies_table[\"rating\"] == rating,\"movie_words\"] = new_words.copy()\n",
    "    \n",
    "       \n",
    "delete_most_frequent(movies_table, \"G\", 20)\n",
    "delete_most_frequent(movies_table, \"PG\", 20)\n",
    "delete_most_frequent(movies_table, \"PG-13\", 20)\n",
    "delete_most_frequent(movies_table, \"R\", 20)\n",
    "delete_most_frequent(movies_table, \"NC-17\", 20)"
   ]
  },
  {
   "cell_type": "code",
   "execution_count": 7,
   "metadata": {},
   "outputs": [],
   "source": [
    "#Delete words with count equal to \"count\"\n",
    "def delete_rare_words(movie_table, rating, count):\n",
    "    freq = calcuate_word_frequency(movies_table, rating).to_dict()\n",
    "    rare_words_list = {key for key in freq.keys() if freq[key] == count}\n",
    "    \n",
    "    new_words = []\n",
    "    \n",
    "    for words_list in movies_table[movies_table[\"rating\"] == rating][\"movie_words\"]:\n",
    "        new_words_list = [i for i in words_list if not i in rare_words_list]\n",
    "        new_words.append(new_words_list)\n",
    "    \n",
    "    movies_table.loc[movies_table[\"rating\"] == rating,\"movie_words\"] = new_words.copy()\n",
    "    \n",
    "delete_rare_words(movies_table, \"G\", 1)\n",
    "delete_rare_words(movies_table, \"PG\", 1)\n",
    "delete_rare_words(movies_table, \"PG-13\", 1)\n",
    "delete_rare_words(movies_table, \"R\", 1)\n",
    "delete_rare_words(movies_table, \"NC-17\", 1)"
   ]
  },
  {
   "cell_type": "code",
   "execution_count": 8,
   "metadata": {},
   "outputs": [],
   "source": [
    "# calcuate the word frequency for each rating categorey after the changes\n",
    "G_frequency = calcuate_word_frequency(movies_table, \"G\")\n",
    "PG_frequency = calcuate_word_frequency(movies_table, \"PG\")\n",
    "PG_13_frequency = calcuate_word_frequency(movies_table, \"PG-13\")\n",
    "R_frequency = calcuate_word_frequency(movies_table, \"R\")\n",
    "NC_17_frequency = calcuate_word_frequency(movies_table, \"NC-17\")\n"
   ]
  },
  {
   "cell_type": "code",
   "execution_count": 9,
   "metadata": {
    "scrolled": true
   },
   "outputs": [
    {
     "data": {
      "text/html": [
       "<div>\n",
       "<style scoped>\n",
       "    .dataframe tbody tr th:only-of-type {\n",
       "        vertical-align: middle;\n",
       "    }\n",
       "\n",
       "    .dataframe tbody tr th {\n",
       "        vertical-align: top;\n",
       "    }\n",
       "\n",
       "    .dataframe thead th {\n",
       "        text-align: right;\n",
       "    }\n",
       "</style>\n",
       "<table border=\"1\" class=\"dataframe\">\n",
       "  <thead>\n",
       "    <tr style=\"text-align: right;\">\n",
       "      <th></th>\n",
       "      <th>rating</th>\n",
       "      <th>top_10_words</th>\n",
       "    </tr>\n",
       "  </thead>\n",
       "  <tbody>\n",
       "    <tr>\n",
       "      <th>0</th>\n",
       "      <td>G</td>\n",
       "      <td>[hey, us, going, little, na, ca, could, want, take, way, say, never, gon, tell, man, okay, make, sir, something, really]</td>\n",
       "    </tr>\n",
       "    <tr>\n",
       "      <th>1</th>\n",
       "      <td>PG</td>\n",
       "      <td>[back, gon, look, would, time, going, us, could, take, man, ca, little, way, say, really, tell, never, something, make, thank]</td>\n",
       "    </tr>\n",
       "    <tr>\n",
       "      <th>2</th>\n",
       "      <td>PG-13</td>\n",
       "      <td>[back, would, going, man, look, us, time, yes, take, could, ca, need, really, say, tell, way, something, sorry, make, never]</td>\n",
       "    </tr>\n",
       "    <tr>\n",
       "      <th>3</th>\n",
       "      <td>R</td>\n",
       "      <td>[see, back, going, look, would, take, fuck, time, us, yes, ca, fucking, could, tell, really, shit, need, say, something, god]</td>\n",
       "    </tr>\n",
       "    <tr>\n",
       "      <th>4</th>\n",
       "      <td>NC-17</td>\n",
       "      <td>[well, look, love, yes, ca, fuck, going, could, really, fucking, take, tell, back, man, say, us, little, something, time, mean]</td>\n",
       "    </tr>\n",
       "  </tbody>\n",
       "</table>\n",
       "</div>"
      ],
      "text/plain": [
       "  rating  \\\n",
       "0  G       \n",
       "1  PG      \n",
       "2  PG-13   \n",
       "3  R       \n",
       "4  NC-17   \n",
       "\n",
       "                                                                                                                      top_10_words  \n",
       "0  [hey, us, going, little, na, ca, could, want, take, way, say, never, gon, tell, man, okay, make, sir, something, really]         \n",
       "1  [back, gon, look, would, time, going, us, could, take, man, ca, little, way, say, really, tell, never, something, make, thank]   \n",
       "2  [back, would, going, man, look, us, time, yes, take, could, ca, need, really, say, tell, way, something, sorry, make, never]     \n",
       "3  [see, back, going, look, would, take, fuck, time, us, yes, ca, fucking, could, tell, really, shit, need, say, something, god]    \n",
       "4  [well, look, love, yes, ca, fuck, going, could, really, fucking, take, tell, back, man, say, us, little, something, time, mean]  "
      ]
     },
     "metadata": {},
     "output_type": "display_data"
    }
   ],
   "source": [
    "#Display the most frequent 20 words for each rating\n",
    "top_words_dic = {\n",
    "    \"rating\" : [\"G\", \"PG\", \"PG-13\", \"R\", \"NC-17\"],\n",
    "    \"top_10_words\" : []\n",
    "}\n",
    "\n",
    "top_words_dic[\"top_10_words\"].append(G_frequency.head(20).keys().tolist())\n",
    "top_words_dic[\"top_10_words\"].append(PG_frequency.head(20).keys().tolist())\n",
    "top_words_dic[\"top_10_words\"].append(PG_13_frequency.head(20).keys().tolist())\n",
    "top_words_dic[\"top_10_words\"].append(R_frequency.head(20).keys().tolist())\n",
    "top_words_dic[\"top_10_words\"].append(NC_17_frequency.head(20).keys().tolist())\n",
    "\n",
    "\n",
    "top_words_table = pd.DataFrame(top_words_dic)\n",
    "pd.set_option('display.max_colwidth', -1)\n",
    "display(top_words_table)\n",
    "\n",
    "#save the table as html format\n",
    "top_words_table.to_html('top_words_table.html')"
   ]
  },
  {
   "cell_type": "code",
   "execution_count": 10,
   "metadata": {},
   "outputs": [
    {
     "data": {
      "image/png": "[encoded data removed]",
      "text/plain": [
       "<Figure size 432x288 with 1 Axes>"
      ]
     },
     "metadata": {},
     "output_type": "display_data"
    }
   ],
   "source": [
    "#Plot the unique word count for each rating\n",
    "rating_categories = [\"G\", \"PG\", \"PG-13\", \"R\", \"NC-17\"]\n",
    "\n",
    "G_movies_words_count = len(G_frequency)\n",
    "PG_movies_words_count = len(PG_frequency)\n",
    "PG_13_movies_words_count = len(PG_13_frequency)\n",
    "R_movies_words_count = len(R_frequency)\n",
    "NC_17_movies_words_count = len(NC_17_frequency)\n",
    "\n",
    "colors = [name for name,hex in matplotlib.colors.cnames.items()]\n",
    "bars_colors = colors[8:13]\n",
    "\n",
    "plt.bar(np.arange(len(rating_categories)),[G_movies_words_count, PG_movies_words_count,PG_13_movies_words_count, R_movies_words_count, NC_17_movies_words_count], color= bars_colors)\n",
    "plt.xlabel('Genre', fontsize=10, fontweight = \"bold\")\n",
    "plt.ylabel('Unique Word Count', fontsize=10, fontweight = \"bold\")\n",
    "plt.xticks(np.arange(len(rating_categories)),rating_categories, fontsize=10, rotation=60)\n",
    "plt.title('Dataset Analysis - 2', fontweight = \"bold\")\n",
    "                                           \n",
    "plt.savefig(\"Dataset Analysis-2.png\")"
   ]
  },
  {
   "cell_type": "code",
   "execution_count": 11,
   "metadata": {},
   "outputs": [
    {
     "data": {
      "image/png": "[encoded data removed]",
      "text/plain": [
       "<Figure size 432x288 with 1 Axes>"
      ]
     },
     "metadata": {},
     "output_type": "display_data"
    }
   ],
   "source": [
    "#Plot the histogram for the most frequent 20 words for the whole corpus\n",
    "movies_words = []\n",
    "for rating in rating_categories:\n",
    "    rated_movies_table = movies_table.loc[movies_table[\"rating\"] == rating][\"movie_words\"]\n",
    "    for index in rated_movies_table.index:\n",
    "        movies_words = movies_words + rated_movies_table[index]\n",
    "        \n",
    "movies_words = pd.Series(movies_words)\n",
    "movies_words_frequency = movies_words.value_counts()\n",
    "movies_words_top_20 = movies_words_frequency.head(20)\n",
    "\n",
    "movies_words_top_20 = movies_words_top_20.to_dict()\n",
    "\n",
    "movies_top_20_words = movies_words_top_20.keys()  \n",
    "movies_top_20_frequecies = movies_words_top_20.values()\n",
    "\n",
    "bars_colors = colors[3:23]\n",
    "\n",
    "plt.bar(np.arange(len(movies_top_20_words)), movies_top_20_frequecies, color= bars_colors)\n",
    "plt.xlabel('Words', fontsize=10, fontweight = \"bold\")\n",
    "plt.ylabel('Count', fontsize=10, fontweight = \"bold\")\n",
    "plt.xticks(np.arange(len(movies_top_20_words)),movies_top_20_words, fontsize=10, rotation=60)\n",
    "plt.title('Dataset Analysis - 3', fontweight = \"bold\")\n",
    "\n",
    "plt.savefig(\"Dataset Analysis-3.png\")"
   ]
  },
  {
   "cell_type": "code",
   "execution_count": 56,
   "metadata": {},
   "outputs": [
    {
     "name": "stdout",
     "output_type": "stream",
     "text": [
      "Postive words count :  70125\n",
      "Negative words count :  74396\n",
      "Common words count :  47112\n",
      "Percentage of the common words 48.3651407980782 %\n"
     ]
    }
   ],
   "source": [
    "#Count the common words accros categories and print its percentage to the total unique words\n",
    "total_unique_words = set(movies_words_frequency.keys().tolist())\n",
    "G_unique_words = set(G_frequency.keys().tolist())\n",
    "PG_uique_words = set(PG_frequency.keys().tolist())\n",
    "PG_13_unique_words = set(PG_13_frequency.keys().tolist())\n",
    "R_unique_words = set(R_frequency.keys().tolist())\n",
    "NC_17_unique_words = set(NC_17_frequency.keys().tolist())\n",
    "\n",
    "\n",
    "postive_words = G_unique_words | PG_uique_words | PG_13_unique_words\n",
    "\n",
    "negative_words = R_unique_words | NC_17_unique_words\n",
    "\n",
    "print(\"Postive words count : \" , len(postive_words))\n",
    "print(\"Negative words count : \" ,len(negative_words))\n",
    "\n",
    "common_words = negative_words.intersection(postive_words)\n",
    "\n",
    "print(\"Common words count : \" , len(common_words))\n",
    "\n",
    "print (\"Percentage of the common words\" ,len(common_words) / len(total_unique_words)  * 100, \"%\")\n"
   ]
  },
  {
   "cell_type": "code",
   "execution_count": 22,
   "metadata": {},
   "outputs": [],
   "source": [
    "with open(\"dataset.picle\", \"wb\") as output:\n",
    "    pickle.dump(movies_table.to_dict, )"
   ]
  }
 ],
 "metadata": {
  "kernelspec": {
   "display_name": "Python 3",
   "language": "python",
   "name": "python3"
  },
  "language_info": {
   "codemirror_mode": {
    "name": "ipython",
    "version": 3
   },
   "file_extension": ".py",
   "mimetype": "text/x-python",
   "name": "python",
   "nbconvert_exporter": "python",
   "pygments_lexer": "ipython3",
   "version": "3.6.5"
  }
 },
 "nbformat": 4,
 "nbformat_minor": 2
}
