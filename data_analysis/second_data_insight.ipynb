{
 "cells": [
  {
   "cell_type": "code",
   "execution_count": 1,
   "metadata": {},
   "outputs": [],
   "source": [
    "import data_analysis\n",
    "import os\n",
    "from shutil import copy\n",
    "import pickle\n",
    "import pandas as pd\n",
    "import numpy as np\n",
    "import matplotlib.pyplot as plt"
   ]
  },
  {
   "cell_type": "heading",
   "metadata": {},
   "level": 1,
   "source": [
    "Functions Defintions"
   ]
  },
  {
   "cell_type": "code",
   "execution_count": 2,
   "metadata": {},
   "outputs": [],
   "source": [
    "# 0_label: suitable for children\n",
    "# 1_label: not suitable for children \n",
    "\n",
    "def get_percentage_of_labeled_data(labeled_0_words_count, labeled_1_words_count):\n",
    "    \"\"\"\n",
    "    Function to get the percentage of a labeled dataset out of the total corpus\n",
    "    :param labeled_0_words_count: count of words in label_0 docs\n",
    "    :param labeled_1_words_count: count of words in label_1 docs\n",
    "    :return: percentage_labeled_0, percentage_labeled_1\n",
    "    \"\"\"\n",
    "    total = labeled_0_words_count + labeled_1_words_count\n",
    "    return float(\"%.3f\" % (labeled_0_words_count / total)), \\\n",
    "           float(\"%.3f\" % (labeled_1_words_count / total))\n",
    "\n",
    "\n",
    "def get_average_docs_length(docs_info_lst):\n",
    "    \"\"\"\n",
    "    Function to get the average length of 0, 1 labeled docs in terms of words\n",
    "    :param docs_info_lst: lst of tuples of the form [(words_count, movie_id, rating), ..]\n",
    "    :return: average_docs_length \n",
    "    \"\"\"\n",
    "    total = 0\n",
    "    for file in docs_info_lst:\n",
    "        total += file[0]\n",
    "    return int(total / len(docs_info_lst))\n",
    "\n",
    "\n",
    "def get_dict_of_words_totalCount_docsCount(data_dictionary, label):\n",
    "    \"\"\" \n",
    "    Function to make a dict that represents words in each labeled data\n",
    "    :param data_dictionary: dict of the form {\"label_#: {\"movie_id\": [\"w_0\", \"w_1\", ...]}, .. }\n",
    "           label: string, 0_label or 1_label\n",
    "    :return: words_dict: a dict of the form: \n",
    "                        {word_0: [number_of_total_occurrence_in_a_labeled_data, \n",
    "                                 {movie_0: [number_of_occurrence_in_movie_0, \n",
    "                                  ... }\n",
    "                                ]\n",
    "                         ...\n",
    "                         }         \n",
    "    \"\"\"\n",
    "    words_dict = {}\n",
    "    # For each movie\n",
    "    for movie_name in data_dictionary[label]:\n",
    "        # For each word in this movie\n",
    "        for word in data_dictionary[label][movie_name]:\n",
    "            # If word is already exists in the dict\n",
    "            if word in words_dict:\n",
    "                # Increase the count of this word in teh total count among all docs\n",
    "                words_dict[word][0] += 1\n",
    "\n",
    "                # Increasing the count of this word in each doc, \"{movie_0: [doc_1_count, ..], ..}\"\n",
    "                if movie_name in words_dict[word][1]:\n",
    "                    #\n",
    "                    (words_dict[word][1])[movie_name] += 1\n",
    "                else:\n",
    "                    # Initialize\n",
    "                    (words_dict[word][1])[movie_name] = 1\n",
    "            # If word is not found in the dict before, initialize\n",
    "            else:\n",
    "                words_dict[word] = [1, {movie_name: 1}]\n",
    "    return words_dict\n",
    "\n",
    "def out_pickle(pickle_path, pick_name, variable_name):\n",
    "    \"\"\"\n",
    "    Function that pickles out a variable\n",
    "    :param pickle_path: in pickle's path\n",
    "    :param pick_name: in pickle's name 'without .pkl extension'\n",
    "    :param variable_name: the variable to be pickled out\n",
    "    :return: nothing\n",
    "    \"\"\"\n",
    "    with open(pickle_path + pick_name + \".pkl\", \"wb\") as pkl:\n",
    "        pickle.dump(variable_name, pkl)\n",
    "\n",
    "def in_pickle(pickle_path, pick_name):\n",
    "    \"\"\"\n",
    "    Function that pickles in a variable\n",
    "    :param pickle_path: in pickle's path\n",
    "    :param pick_name: in pickle's name 'without .pkl extension'\n",
    "    :return: the variable that contains pickled in data\n",
    "    \"\"\"\n",
    "    with open(pickle_path + pick_name + \".pkl\", \"rb\") as pkl:\n",
    "        return pickle.load(pkl)\n",
    "    \n",
    "#plots\n",
    "def plot_bar_char_and_save_it(list_of_slice_values, list_of_slice_names, \n",
    "                              file_path_name, figure_title, \n",
    "                              x_axis_label, y_axis_label):\n",
    "    plt.figure(figsize=(10,10))\n",
    "    index = np.arange(len(list_of_slice_names))\n",
    "    plt.bar(index, list_of_slice_values) # y axis\n",
    "    plt.xticks(index, list_of_slice_names, fontsize=10, rotation=30)\n",
    "    plt.title(figure_title)\n",
    "    plt.xlabel(x_axis_label, fontsize=15)\n",
    "    plt.ylabel(y_axis_label, fontsize=15)\n",
    "    plt.savefig(file_path_name)\n",
    "    plt.show()\n",
    "\n",
    "\n",
    "#used for the pie chart \n",
    "# returns the highest n values from the given list as two lists if passed high = true\n",
    "# returns the lowest n value if high = false\n",
    "# first: slice_values_of_chart\n",
    "# second: slice_names_of_chart\n",
    "def get_highest_or_lowest_n_value_from_list(list_, n, high):\n",
    "    slice_values_of_chart = []\n",
    "    slice_names_of_chart = []\n",
    "    if high:\n",
    "        for x,y in list_[-n:]:\n",
    "            slice_values_of_chart.append(x)\n",
    "            slice_names_of_chart.append(y)\n",
    "    else:\n",
    "        for x,y in list_[:n]:\n",
    "            slice_values_of_chart.append(x)\n",
    "            slice_names_of_chart.append(y)\n",
    "            \n",
    "    return slice_values_of_chart, slice_names_of_chart\n",
    "\n",
    "\n",
    "def get_slang_reference_dict(slangCount_wordCount_percentageSlang_rating_movieId, movieId_slang_dict):\n",
    "    # list of tuples for slang words in each doc: \n",
    "    # [(slangCount_wordCount_rating_movieId), ...]\n",
    "\n",
    "    # dictionary of slang words: {slang_0: [totalCount, { movie_0: [rating, movie_slang_count], ..}, ...],\n",
    "    #                            ... }\n",
    "    slang_reference_dict = {}\n",
    "\n",
    "    for doc in slangCount_wordCount_percentageSlang_rating_movieId:\n",
    "        movie_id = doc[4]\n",
    "        rating = doc[3]\n",
    "        doc_slang_list = movieId_slang_dict[movie_id][0]\n",
    "        sw_set =set(doc_slang_list)\n",
    "        for sw in sw_set:\n",
    "            sw_doc_count = doc_slang_list.count(sw)\n",
    "            if sw not in slang_reference_dict:\n",
    "                slang_reference_dict[sw] = [sw_doc_count, {movie_id: [rating, sw_doc_count]}]\n",
    "            else:\n",
    "                slang_reference_dict[sw][0] += sw_doc_count\n",
    "                slang_reference_dict[sw][1][movie_id] = [rating, doc_slang_count]\n",
    "    return slang_reference_dict\n",
    "\n",
    "\n",
    "def get_negative_words_lst(file_path):\n",
    "    \"\"\"\n",
    "    Function used to get the list of negative words from a text file\n",
    "    :param file_path: str, the path of the text file that contains the keywords\n",
    "    :return: list, the keywords list\n",
    "    \"\"\"\n",
    "    negative_w_lst = []\n",
    "    with open(file_path, 'r') as f:\n",
    "        for word in f.readlines():\n",
    "            negative_w_lst.append(word.replace(\"\\n\", \"\"))\n",
    "    return negative_w_lst\n",
    "\n",
    "def get_slang_dictionary(file_path):\n",
    "    \"\"\"\n",
    "    Function used to get the slang words list from the text file\n",
    "    :param file_path: str, the file path\n",
    "    :return: set, the slang words\n",
    "    \"\"\"\n",
    "    slang_words_set = set()\n",
    "    with open(file_path, 'r') as file:\n",
    "        lines = file.readlines()\n",
    "    lines = [line.strip('\\n') for line in lines]\n",
    "    for line in lines:\n",
    "        slang_words_set.add(line)\n",
    "    return slang_words_set\n",
    "\n",
    "def get_slang_words_count(doc_words, slang_words_set):\n",
    "    \"\"\"\n",
    "    Function used to get the total count of slangs in each document and the slang words themsleves\n",
    "    :param doc_words: list of string, the doc words\n",
    "    :param slang_words_set: set, the slang words in English\n",
    "    :return: total_count: int, the total count of slang words in the passed doc\n",
    "    :return: slang_words_in_doc: list, the slang words in the passed doc\n",
    "    \"\"\"\n",
    "    total_count = 0\n",
    "    slang_words_in_doc = []\n",
    "    # For each word in teh document\n",
    "    for word in doc_words:\n",
    "        # If this word is slang\n",
    "        if word in slang_words_set:\n",
    "            # Increase teh total count of slang words in the total document\n",
    "            total_count += 1\n",
    "            # Add the slang word to the list\n",
    "            slang_words_in_doc.append(word)\n",
    "    return total_count, slang_words_in_doc"
   ]
  },
  {
   "cell_type": "heading",
   "metadata": {},
   "level": 1,
   "source": [
    "Laod the English slang words"
   ]
  },
  {
   "cell_type": "code",
   "execution_count": 19,
   "metadata": {},
   "outputs": [],
   "source": [
    "english_slang_words_set = in_pickle('data/', 'english_slang_words_set')"
   ]
  },
  {
   "cell_type": "code",
   "execution_count": 4,
   "metadata": {
    "collapsed": true
   },
   "outputs": [
    {
     "name": "stdout",
     "output_type": "stream",
     "text": [
      "Wall time: 5.24 s\n"
     ]
    }
   ],
   "source": [
    "%%time\n",
    "# {\"label_#: {\"movie_id\": [\"w_0\", \"w_1\", ...]}, .. }\n",
    "data_dictionary = in_pickle('C:/Users/Abdo/Project/pickle_files/', 'data_dictionary_before_removing_frequent_words')"
   ]
  },
  {
   "cell_type": "code",
   "execution_count": 6,
   "metadata": {},
   "outputs": [],
   "source": [
    "'''{word_0: [number_of_total_occurrence_in_a_labeled_data, \n",
    "                                 {movie_0: [number_of_occurrence_in_movie_0, \n",
    "                                  ... }\n",
    "                                ]\n",
    "                         ...\n",
    "                         }'''\n",
    "dict_of_0_label_words = get_dict_of_words_totalCount_docsCount(data_dictionary, \"0_label\")\n",
    "dict_of_1_label_words = get_dict_of_words_totalCount_docsCount(data_dictionary, \"1_label\")"
   ]
  },
  {
   "cell_type": "code",
   "execution_count": 9,
   "metadata": {
    "collapsed": true
   },
   "outputs": [],
   "source": [
    "pandas_dict = {}\n",
    "\n",
    "pandas_dict[\"rating\"] = []\n",
    "pandas_dict [\"movie_id\"] = []\n",
    "pandas_dict [\"movie_words\"] = []"
   ]
  },
  {
   "cell_type": "code",
   "execution_count": 10,
   "metadata": {},
   "outputs": [
    {
     "name": "stdout",
     "output_type": "stream",
     "text": [
      "Wall time: 9.97 ms\n"
     ]
    }
   ],
   "source": [
    "%%time\n",
    "for label in list(data_dictionary.keys())[:2]:\n",
    "    for movie_name in data_dictionary[label]:\n",
    "        pandas_dict[\"rating\"].append(label)\n",
    "        pandas_dict[\"movie_words\"].append(data_dictionary[label][movie_name])\n",
    "        pandas_dict[\"movie_id\"].append(movie_name)"
   ]
  },
  {
   "cell_type": "code",
   "execution_count": 7,
   "metadata": {},
   "outputs": [
    {
     "data": {
      "text/plain": [
       "'\\ndata_frames = pd.DataFrame(data=pandas_dict,\\n                           columns=[\"rating\", \"movie_id\", \"movie_words\"])\\n'"
      ]
     },
     "execution_count": 7,
     "metadata": {},
     "output_type": "execute_result"
    }
   ],
   "source": [
    "# row: index\n",
    "# columns : rating, movie_id, [word_1, word_2, ...]\n",
    "'''\n",
    "data_frames = pd.DataFrame(data=pandas_dict,\n",
    "                           columns=[\"rating\", \"movie_id\", \"movie_words\"])\n",
    "'''"
   ]
  },
  {
   "cell_type": "heading",
   "metadata": {},
   "level": 1,
   "source": [
    "Pickling out dict_of_0_label_words, dict_of_1_label_words, data_frames"
   ]
  },
  {
   "cell_type": "code",
   "execution_count": 9,
   "metadata": {},
   "outputs": [
    {
     "name": "stdout",
     "output_type": "stream",
     "text": [
      "CPU times: user 8.18 s, sys: 892 ms, total: 9.07 s\nWall time: 10.8 s\n"
     ]
    }
   ],
   "source": [
    "%%time\n",
    "out_pickle('C:/Users/Abdo/Project/pickle_files/', 'dict_of_0_label_words', dict_of_0_label_words)\n",
    "out_pickle('C:/Users/Abdo/Project/pickle_files/', 'dict_of_1_label_words', dict_of_1_label_words)\n",
    "out_pickle('C:/Users/Abdo/Project/pickle_files/', 'pandas_data_frame', data_frames)"
   ]
  },
  {
   "cell_type": "heading",
   "metadata": {},
   "level": 1,
   "source": [
    "Loading the pandas_data_frame,dict_of_1_label_words, dict_of_0_label_words  pickle object"
   ]
  },
  {
   "cell_type": "code",
   "execution_count": 5,
   "metadata": {},
   "outputs": [],
   "source": [
    "data_frames = in_pickle('C:/Users/Abdo/Project/pickle_files/', 'pandas_data_frame')\n",
    "dict_of_0_label_words = in_pickle('C:/Users/Abdo/Project/pickle_files/', 'dict_of_0_label_words')\n",
    "dict_of_1_label_words = in_pickle('C:/Users/Abdo/Project/pickle_files/', 'dict_of_1_label_words')"
   ]
  },
  {
   "cell_type": "heading",
   "metadata": {},
   "level": 1,
   "source": [
    "Loading the W2V model as a picke object"
   ]
  },
  {
   "cell_type": "code",
   "execution_count": 8,
   "metadata": {},
   "outputs": [],
   "source": [
    "'''\n",
    "model = in_pickle('C:/Users/Abdo/Documents/word2vec models/', 'word2vecModel_glove_6b_200d')\n",
    "'''"
   ]
  },
  {
   "cell_type": "heading",
   "metadata": {},
   "level": 1,
   "source": [
    "Loading the pandas_data_frame pickle object"
   ]
  },
  {
   "cell_type": "code",
   "execution_count": 3,
   "metadata": {},
   "outputs": [
    {
     "name": "stdout",
     "output_type": "stream",
     "text": [
      "Wall time: 12.6 s\n"
     ]
    }
   ],
   "source": [
    "%%time\n",
    "data_frames = in_pickle('C:/Users/Abdo/Project/pickle_files/', 'pandas_data_frame')"
   ]
  },
  {
   "cell_type": "heading",
   "metadata": {},
   "level": 1,
   "source": [
    "Extracting the information from data_frame into a list of tuples and doing Slang words job"
   ]
  },
  {
   "cell_type": "heading",
   "metadata": {
    "collapsed": false
   },
   "level": 1,
   "source": [
    "Data Statistics"
   ]
  },
  {
   "cell_type": "code",
   "execution_count": 6,
   "metadata": {
    "collapsed": true
   },
   "outputs": [
    {
     "ename": "NameError",
     "evalue": "name 'english_slang_words_set' is not defined",
     "traceback": [
      "\u001b[0;31m---------------------------------------------------------------------------\u001b[0m",
      "\u001b[0;31mNameError\u001b[0m                                 Traceback (most recent call last)",
      "\u001b[0;32m<ipython-input-6-48738a06d8a7>\u001b[0m in \u001b[0;36m<module>\u001b[0;34m()\u001b[0m\n\u001b[0;32m----> 1\u001b[0;31m \u001b[0mget_ipython\u001b[0m\u001b[0;34m(\u001b[0m\u001b[0;34m)\u001b[0m\u001b[0;34m.\u001b[0m\u001b[0mrun_cell_magic\u001b[0m\u001b[0;34m(\u001b[0m\u001b[0;34m'time'\u001b[0m\u001b[0;34m,\u001b[0m \u001b[0;34m''\u001b[0m\u001b[0;34m,\u001b[0m \u001b[0;34m'# wCount_movieId_rating_lst: list of tuples: [ (words_count, movie_id, rating), ..... ] of the corpus \"both labels\"\\nwordCount_movieId_rating_lst = []\\n\\n# list of tuples for slang words in each doc: \\n# [(slangCount_wordCount_percentageSlang_rating_movieId), ...]\\nslangCount_wordCount_percentageSlang_rating_movieId = []\\n\\n# Total slang count\\nslang_words_count_corpus = 0\\n\\n# {movie_0: [sw_0, ..], .. }\\nmovieId_slang_dict = {}\\n\\n# dictionary of slang words: {slang_0: [totalCount, { movie_0: [movie_slang_count], ..}, ...],\\n#                            ... }\\nslang_reference_dict = {}\\n\\ntotal_slang_count = 0\\n\\ntotal_words_count = 0\\nwords_count_o_label = 0\\nwords_count_1_label = 0\\n\\nslangs_in_0_label = 0\\nslangs_in_1_label = 0\\n\\nfor index, row in data_frames.iterrows():\\n    movie_id = row[\"movie_id\"]\\n    rating = row[\"rating\"]\\n    movie_words = row[\"movie_words\"]\\n    length = len(movie_words)\\n    \\n    \\n\\n    if rating != \\'no_label\\':\\n        \\n        total_words_count += length\\n\\n        wordCount_movieId_rating_lst.append((length, movie_id, rating))\\n        wordCount_movieId_rating_lst.sort()\\n\\n        # Doing slang business\\n        doc_slang_count, doc_slang_list = get_slang_words_count(movie_words, english_slang_words_set)\\n\\n        lst = list(english_slang_words_set)\\n        slang_words_count_corpus += doc_slang_count\\n        slangCount_wordCount_percentageSlang_rating_movieId.append((doc_slang_count, length, \\n                                                                    float(\"%.3f\" % (doc_slang_count/length)),      \\n                                                                    rating, movie_id))\\n        movieId_slang_dict[movie_id] = [doc_slang_list]\\n        total_slang_count += doc_slang_count\\n        \\n        if rating == \\'0_label\\':\\n            slangs_in_0_label += doc_slang_count\\n            words_count_o_label += length\\n        else:\\n            slangs_in_1_label += doc_slang_count\\n            words_count_1_label += length\\n    else:\\n        print(movie_id)\\n\\nslang_reference_dict = get_slang_reference_dict(slangCount_wordCount_percentageSlang_rating_movieId,\\n                                                movieId_slang_dict)\\n'\u001b[0m\u001b[0;34m)\u001b[0m\u001b[0;34m\u001b[0m\u001b[0m\n\u001b[0m",
      "\u001b[0;32mC:\\Users\\Abdo\\PycharmProjects\\final_project_1\\venv\\lib\\site-packages\\IPython\\core\\interactiveshell.py\u001b[0m in \u001b[0;36mrun_cell_magic\u001b[0;34m(self, magic_name, line, cell)\u001b[0m\n\u001b[1;32m   2101\u001b[0m             \u001b[0mmagic_arg_s\u001b[0m \u001b[0;34m=\u001b[0m \u001b[0mself\u001b[0m\u001b[0;34m.\u001b[0m\u001b[0mvar_expand\u001b[0m\u001b[0;34m(\u001b[0m\u001b[0mline\u001b[0m\u001b[0;34m,\u001b[0m \u001b[0mstack_depth\u001b[0m\u001b[0;34m)\u001b[0m\u001b[0;34m\u001b[0m\u001b[0m\n\u001b[1;32m   2102\u001b[0m             \u001b[0;32mwith\u001b[0m \u001b[0mself\u001b[0m\u001b[0;34m.\u001b[0m\u001b[0mbuiltin_trap\u001b[0m\u001b[0;34m:\u001b[0m\u001b[0;34m\u001b[0m\u001b[0m\n\u001b[0;32m-> 2103\u001b[0;31m                 \u001b[0mresult\u001b[0m \u001b[0;34m=\u001b[0m \u001b[0mfn\u001b[0m\u001b[0;34m(\u001b[0m\u001b[0mmagic_arg_s\u001b[0m\u001b[0;34m,\u001b[0m \u001b[0mcell\u001b[0m\u001b[0;34m)\u001b[0m\u001b[0;34m\u001b[0m\u001b[0m\n\u001b[0m\u001b[1;32m   2104\u001b[0m             \u001b[0;32mreturn\u001b[0m \u001b[0mresult\u001b[0m\u001b[0;34m\u001b[0m\u001b[0m\n\u001b[1;32m   2105\u001b[0m \u001b[0;34m\u001b[0m\u001b[0m\n",
      "\u001b[0;32m<decorator-gen-60>\u001b[0m in \u001b[0;36mtime\u001b[0;34m(self, line, cell, local_ns)\u001b[0m\n",
      "\u001b[0;32mC:\\Users\\Abdo\\PycharmProjects\\final_project_1\\venv\\lib\\site-packages\\IPython\\core\\magic.py\u001b[0m in \u001b[0;36m<lambda>\u001b[0;34m(f, *a, **k)\u001b[0m\n\u001b[1;32m    186\u001b[0m     \u001b[0;31m# but it's overkill for just that one bit of state.\u001b[0m\u001b[0;34m\u001b[0m\u001b[0;34m\u001b[0m\u001b[0m\n\u001b[1;32m    187\u001b[0m     \u001b[0;32mdef\u001b[0m \u001b[0mmagic_deco\u001b[0m\u001b[0;34m(\u001b[0m\u001b[0marg\u001b[0m\u001b[0;34m)\u001b[0m\u001b[0;34m:\u001b[0m\u001b[0;34m\u001b[0m\u001b[0m\n\u001b[0;32m--> 188\u001b[0;31m         \u001b[0mcall\u001b[0m \u001b[0;34m=\u001b[0m \u001b[0;32mlambda\u001b[0m \u001b[0mf\u001b[0m\u001b[0;34m,\u001b[0m \u001b[0;34m*\u001b[0m\u001b[0ma\u001b[0m\u001b[0;34m,\u001b[0m \u001b[0;34m**\u001b[0m\u001b[0mk\u001b[0m\u001b[0;34m:\u001b[0m \u001b[0mf\u001b[0m\u001b[0;34m(\u001b[0m\u001b[0;34m*\u001b[0m\u001b[0ma\u001b[0m\u001b[0;34m,\u001b[0m \u001b[0;34m**\u001b[0m\u001b[0mk\u001b[0m\u001b[0;34m)\u001b[0m\u001b[0;34m\u001b[0m\u001b[0m\n\u001b[0m\u001b[1;32m    189\u001b[0m \u001b[0;34m\u001b[0m\u001b[0m\n\u001b[1;32m    190\u001b[0m         \u001b[0;32mif\u001b[0m \u001b[0mcallable\u001b[0m\u001b[0;34m(\u001b[0m\u001b[0marg\u001b[0m\u001b[0;34m)\u001b[0m\u001b[0;34m:\u001b[0m\u001b[0;34m\u001b[0m\u001b[0m\n",
      "\u001b[0;32mC:\\Users\\Abdo\\PycharmProjects\\final_project_1\\venv\\lib\\site-packages\\IPython\\core\\magics\\execution.py\u001b[0m in \u001b[0;36mtime\u001b[0;34m(self, line, cell, local_ns)\u001b[0m\n\u001b[1;32m   1174\u001b[0m         \u001b[0;32melse\u001b[0m\u001b[0;34m:\u001b[0m\u001b[0;34m\u001b[0m\u001b[0m\n\u001b[1;32m   1175\u001b[0m             \u001b[0mst\u001b[0m \u001b[0;34m=\u001b[0m \u001b[0mclock2\u001b[0m\u001b[0;34m(\u001b[0m\u001b[0;34m)\u001b[0m\u001b[0;34m\u001b[0m\u001b[0m\n\u001b[0;32m-> 1176\u001b[0;31m             \u001b[0mexec\u001b[0m\u001b[0;34m(\u001b[0m\u001b[0mcode\u001b[0m\u001b[0;34m,\u001b[0m \u001b[0mglob\u001b[0m\u001b[0;34m,\u001b[0m \u001b[0mlocal_ns\u001b[0m\u001b[0;34m)\u001b[0m\u001b[0;34m\u001b[0m\u001b[0m\n\u001b[0m\u001b[1;32m   1177\u001b[0m             \u001b[0mend\u001b[0m \u001b[0;34m=\u001b[0m \u001b[0mclock2\u001b[0m\u001b[0;34m(\u001b[0m\u001b[0;34m)\u001b[0m\u001b[0;34m\u001b[0m\u001b[0m\n\u001b[1;32m   1178\u001b[0m             \u001b[0mout\u001b[0m \u001b[0;34m=\u001b[0m \u001b[0;32mNone\u001b[0m\u001b[0;34m\u001b[0m\u001b[0m\n",
      "\u001b[0;32m<timed exec>\u001b[0m in \u001b[0;36m<module>\u001b[0;34m()\u001b[0m\n",
      "\u001b[0;31mNameError\u001b[0m: name 'english_slang_words_set' is not defined"
     ],
     "output_type": "error"
    }
   ],
   "source": [
    "%%time\n",
    "# wCount_movieId_rating_lst: list of tuples: [ (words_count, movie_id, rating), ..... ] of the corpus \"both labels\"\n",
    "wordCount_movieId_rating_lst = []\n",
    "\n",
    "# list of tuples for slang words in each doc: \n",
    "# [(slangCount_wordCount_percentageSlang_rating_movieId), ...]\n",
    "slangCount_wordCount_percentageSlang_rating_movieId = []\n",
    "\n",
    "# Total slang count\n",
    "slang_words_count_corpus = 0\n",
    "\n",
    "# {movie_0: [sw_0, ..], .. }\n",
    "movieId_slang_dict = {}\n",
    "\n",
    "# dictionary of slang words: {slang_0: [totalCount, { movie_0: [movie_slang_count], ..}, ...],\n",
    "#                            ... }\n",
    "slang_reference_dict = {}\n",
    "\n",
    "total_slang_count = 0\n",
    "\n",
    "total_words_count = 0\n",
    "words_count_o_label = 0\n",
    "words_count_1_label = 0\n",
    "\n",
    "slangs_in_0_label = 0\n",
    "slangs_in_1_label = 0\n",
    "\n",
    "for index, row in data_frames.iterrows():\n",
    "    movie_id = row[\"movie_id\"]\n",
    "    rating = row[\"rating\"]\n",
    "    movie_words = row[\"movie_words\"]\n",
    "    length = len(movie_words)\n",
    "\n",
    "    if rating != 'no_label':\n",
    "        \n",
    "        total_words_count += length\n",
    "\n",
    "        wordCount_movieId_rating_lst.append((length, movie_id, rating))\n",
    "        wordCount_movieId_rating_lst.sort()\n",
    "\n",
    "        # Doing slang business\n",
    "        doc_slang_count, doc_slang_list = get_slang_words_count(movie_words, english_slang_words_set)\n",
    "\n",
    "        lst = list(english_slang_words_set)\n",
    "        slang_words_count_corpus += doc_slang_count\n",
    "        slangCount_wordCount_percentageSlang_rating_movieId.append((doc_slang_count, length, \n",
    "                                                                    float(\"%.3f\" % (doc_slang_count/length)),      \n",
    "                                                                    rating, movie_id))\n",
    "        movieId_slang_dict[movie_id] = [doc_slang_list]\n",
    "        total_slang_count += doc_slang_count\n",
    "        \n",
    "        if rating == '0_label':\n",
    "            slangs_in_0_label += doc_slang_count\n",
    "            words_count_o_label += length\n",
    "        else:\n",
    "            slangs_in_1_label += doc_slang_count\n",
    "            words_count_1_label += length\n",
    "    \n",
    "\n",
    "slang_reference_dict = get_slang_reference_dict(slangCount_wordCount_percentageSlang_rating_movieId,\n",
    "                                                movieId_slang_dict)\n",
    "\n"
   ]
  },
  {
   "cell_type": "code",
   "execution_count": 54,
   "metadata": {},
   "outputs": [
    {
     "name": "stdout",
     "output_type": "stream",
     "text": [
      "[(1395, 7080, 0.197, '1_label', 'R_4132'), (601, 6092, 0.099, '1_label', 'R_2168'), (544, 4371, 0.124, '1_label', 'MA15+_5248'), (530, 6221, 0.085, '1_label', 'PG-13_1876'), (487, 6107, 0.08, '1_label', 'R_2669'), (472, 3955, 0.119, '1_label', 'R_566'), (464, 4098, 0.113, '1_label', 'R_2656'), (447, 3450, 0.13, '1_label', 'PG-13_498'), (324, 8650, 0.037, '1_label', 'R_3912'), (303, 7437, 0.041, '1_label', 'R_5943'), (296, 11465, 0.026, '1_label', 'R_3247'), (296, 5262, 0.056, '1_label', 'R_4866'), (278, 5399, 0.051, '1_label', 'PG-13_2650'), (270, 6766, 0.04, '1_label', 'R_4935'), (260, 5728, 0.045, '1_label', 'R_4834')] \n\n\n[(40803, 'uh'), (8339, 'hmm'), (7765, 'lt'), (6971, 'charlie'), (6561, 'fuckin'), (5060, 'mmm'), (4677, 'shh'), (3287, 'goin'), (2779, 'bro'), (2694, 'heh'), (2330, 'richard'), (2161, 'axl'), (2003, 'ohh'), (1772, 'somethin'), (1570, 'talkin')]\nCPU times: user 447 ms, sys: 7.87 ms, total: 454 ms\nWall time: 456 ms\n"
     ]
    }
   ],
   "source": [
    "%%time\n",
    "slangCount_wordCount_percentageSlang_rating_movieId = \\\n",
    "    in_pickle('data/', 'slangs_in_each_doc')\n",
    "slang_reference_dict = in_pickle('data/', 'slang_reference_dict')\n",
    "most_15_freq_docs_contain_slang = in_pickle('data/', 'most_15_freq_docs_contain_slang')\n",
    "\n",
    "top_15_slang_words = in_pickle('data/', 'top_15_slang_words')\n",
    "print(most_15_freq_docs_contain_slang,'\\n\\n')\n",
    "print(top_15_slang_words)\n"
   ]
  },
  {
   "cell_type": "code",
   "execution_count": 14,
   "metadata": {
    "collapsed": true
   },
   "outputs": [
    {
     "ename": "NameError",
     "evalue": "name 'data_dictionary' is not defined",
     "traceback": [
      "\u001b[0;31m---------------------------------------------------------------------------\u001b[0m",
      "\u001b[0;31mNameError\u001b[0m                                 Traceback (most recent call last)",
      "\u001b[0;32m<ipython-input-14-9d5c4f7becaf>\u001b[0m in \u001b[0;36m<module>\u001b[0;34m\u001b[0m\n\u001b[1;32m      1\u001b[0m \u001b[0;31m# Number of 0 & 1 labeled docs\u001b[0m\u001b[0;34m\u001b[0m\u001b[0;34m\u001b[0m\u001b[0m\n\u001b[0;32m----> 2\u001b[0;31m \u001b[0mnumber_of_0_label_docs\u001b[0m \u001b[0;34m=\u001b[0m \u001b[0mlen\u001b[0m\u001b[0;34m(\u001b[0m\u001b[0mdata_dictionary\u001b[0m\u001b[0;34m[\u001b[0m\u001b[0;34m\"0_label\"\u001b[0m\u001b[0;34m]\u001b[0m\u001b[0;34m)\u001b[0m\u001b[0;34m\u001b[0m\u001b[0m\n\u001b[0m\u001b[1;32m      3\u001b[0m \u001b[0mnumber_of_1_label_docs\u001b[0m \u001b[0;34m=\u001b[0m \u001b[0mlen\u001b[0m\u001b[0;34m(\u001b[0m\u001b[0mdata_dictionary\u001b[0m\u001b[0;34m[\u001b[0m\u001b[0;34m\"1_label\"\u001b[0m\u001b[0;34m]\u001b[0m\u001b[0;34m)\u001b[0m\u001b[0;34m\u001b[0m\u001b[0m\n\u001b[1;32m      4\u001b[0m \u001b[0;34m\u001b[0m\u001b[0m\n\u001b[1;32m      5\u001b[0m \u001b[0;31m# percentage of 0, 1 labeled docs among the whole corpus\u001b[0m\u001b[0;34m\u001b[0m\u001b[0;34m\u001b[0m\u001b[0m\n",
      "\u001b[0;31mNameError\u001b[0m: name 'data_dictionary' is not defined"
     ],
     "output_type": "error"
    }
   ],
   "source": [
    "# Number of 0 & 1 labeled docs\n",
    "number_of_0_label_docs = len(data_dictionary[\"0_label\"])\n",
    "number_of_1_label_docs = len(data_dictionary[\"1_label\"])\n",
    "\n",
    "# percentage of 0, 1 labeled docs among the whole corpus\n",
    "percentage_0_labeled_docs, percentage_1_labeled_docs = \\\n",
    "    get_percentage_of_labeled_data(number_of_0_label_docs, number_of_1_label_docs)\n",
    "\n",
    "# find the max, and min number of words among all documents\n",
    "min_number_of_words = wordCount_movieId_rating_lst[0]\n",
    "max_number_of_words = wordCount_movieId_rating_lst[-1]\n",
    "\n",
    "# average docs length in terms of words \n",
    "average_docs_length = get_average_docs_length(wordCount_movieId_rating_lst)\n",
    "\n",
    "print(\"number_of_0_label_docs \",number_of_0_label_docs)\n",
    "print(\"number_of_1_label_docs \",number_of_1_label_docs)\n",
    "print(\"percentage_0_labeled_docs \",percentage_0_labeled_docs)\n",
    "print(\"percentage_1_labeled_docs \",percentage_1_labeled_docs)\n",
    "print(\"average_docs_length \",average_docs_length)\n",
    "print(\"min_number_of_words \", min_number_of_words)\n",
    "print(\"max_number_of_words \", max_number_of_words)\n"
   ]
  },
  {
   "cell_type": "code",
   "execution_count": 17,
   "metadata": {},
   "outputs": [
    {
     "data": {
      "text/plain": [
       "'\\n\\n# from the word2vec model\\nvocabulary = set(model.wv.vocab)\\n'"
      ]
     },
     "execution_count": 17,
     "metadata": {},
     "output_type": "execute_result"
    }
   ],
   "source": [
    "'''\n",
    "\n",
    "# from the word2vec model\n",
    "vocabulary = set(model.wv.vocab)\n",
    "'''"
   ]
  },
  {
   "cell_type": "code",
   "execution_count": 10,
   "metadata": {},
   "outputs": [],
   "source": [
    "label_0_keys = list(dict_of_0_label_words.keys())\n",
    "label_1_keys = list(dict_of_1_label_words.keys())"
   ]
  },
  {
   "cell_type": "code",
   "execution_count": 11,
   "metadata": {
    "collapsed": false
   },
   "outputs": [
    {
     "data": {
      "text/plain": [
       "(76587, 148973)"
      ]
     },
     "execution_count": 11,
     "metadata": {},
     "output_type": "execute_result"
    }
   ],
   "source": [
    "(len(label_0_keys), len(label_1_keys))"
   ]
  },
  {
   "cell_type": "code",
   "execution_count": 12,
   "metadata": {},
   "outputs": [],
   "source": [
    "inappropriate_words = []\n",
    "# key : inappropriate_word\n",
    "#value : [total_occurences, {movie_id: occurenes_in_movie,movie_id: occurenes_in_movie,.....}]\n",
    "inappropriate_words_in_0_label_movies = {}"
   ]
  },
  {
   "cell_type": "heading",
   "metadata": {},
   "level": 2,
   "source": [
    "load the inappropriate_words from a text file "
   ]
  },
  {
   "cell_type": "code",
   "execution_count": 13,
   "metadata": {},
   "outputs": [],
   "source": [
    "file = open(\"C:/Users/Abdo/Project/Notes/inappropriate_words.txt\",\"r\")\n",
    "for word in file.readlines():\n",
    "    inappropriate_words.append(word.replace(\"\\n\",\"\"))"
   ]
  },
  {
   "cell_type": "code",
   "execution_count": 29,
   "metadata": {},
   "outputs": [],
   "source": [
    "#fill the values \n",
    "for inappropriate_word in inappropriate_words:\n",
    "    # if word exist in dict\n",
    "    if inappropriate_word in dict_of_0_label_words:\n",
    "        # [0,[]] = [total_occurrence_of_word, {movie_name:occurrences_of_word_in_it, ...}]\n",
    "        inappropriate_words_in_0_label_movies[inappropriate_word] = dict_of_0_label_words[inappropriate_word]\n",
    "    else:\n",
    "        #initialize the value \n",
    "        inappropriate_words_in_0_label_movies[inappropriate_word] = [0,[]]"
   ]
  },
  {
   "cell_type": "heading",
   "metadata": {},
   "level": 2,
   "source": [
    "pickle out the inappropriate_words_in_0_label_movies dictionary"
   ]
  },
  {
   "cell_type": "code",
   "execution_count": 17,
   "metadata": {},
   "outputs": [],
   "source": [
    "\n",
    "out_pickle('C:/Users/Abdo/Project/pickle_files/', 'inappropriate_words_in_0_label_movies', inappropriate_words_in_0_label_movies)"
   ]
  },
  {
   "cell_type": "heading",
   "metadata": {},
   "level": 2,
   "source": [
    "read the inappropriate_words_in_0_label_movies pickle"
   ]
  },
  {
   "cell_type": "code",
   "execution_count": 14,
   "metadata": {},
   "outputs": [],
   "source": [
    "inappropriate_words_in_0_label_movies = in_pickle('C:/Users/Abdo/Project/pickle_files/', 'inappropriate_words_in_0_label_movies')"
   ]
  },
  {
   "cell_type": "code",
   "execution_count": 15,
   "metadata": {},
   "outputs": [],
   "source": [
    "#total_words_in_all_movies\n",
    "all_text_words = set(dict_of_1_label_words.keys())\n",
    "all_text_words.update(set(dict_of_0_label_words.keys()))"
   ]
  },
  {
   "cell_type": "code",
   "execution_count": 16,
   "metadata": {},
   "outputs": [],
   "source": [
    "common_words = set(dict_of_1_label_words.keys()).intersection(set(dict_of_0_label_words.keys()))"
   ]
  },
  {
   "cell_type": "code",
   "execution_count": 17,
   "metadata": {},
   "outputs": [],
   "source": [
    "percentage_of_common_words = len(common_words)/len(all_text_words)"
   ]
  },
  {
   "cell_type": "code",
   "execution_count": 18,
   "metadata": {},
   "outputs": [],
   "source": [
    "unique_words_in_0_label = set(dict_of_0_label_words.keys()).difference(common_words)\n",
    "unique_words_in_1_label = set(dict_of_1_label_words.keys()).difference(common_words)"
   ]
  },
  {
   "cell_type": "code",
   "execution_count": 19,
   "metadata": {},
   "outputs": [],
   "source": [
    "# key : word\n",
    "# value : [ [total frequency, {movie_name: frequency_of_word_in_movie},..] , .... ] \n",
    "frequency_of_unique_words_in_0_label = {}\n",
    "frequency_of_unique_words_in_1_label = {}"
   ]
  },
  {
   "cell_type": "code",
   "execution_count": 20,
   "metadata": {},
   "outputs": [],
   "source": [
    "# takes the label name and a dictionary of the shape, to fill:\n",
    "# key : word\n",
    "# value : [ [total frequency, {movie_name: frequency_of_word_in_movie},..] , .... ] \n",
    "def get_frequency_of_uinque_words_in_labeled_documents(label_name, unique_words_of_label,frequency_of_unique_words_of_label):\n",
    "    for movie_name in data_dictionary[label_name]:\n",
    "        for word in data_dictionary[label_name][movie_name]:\n",
    "            # if this word is a unique of word of this label, else continue to next iteration\n",
    "            if word in unique_words_of_label:\n",
    "                # if it already exist, update its value\n",
    "                if word in frequency_of_unique_words_of_label:\n",
    "                    # increase the total frequency by one\n",
    "                    frequency_of_unique_words_of_label[word][0] += 1\n",
    "                    # if the movie_name exist in the frequency_of_unique_words_of_label[1] dict\n",
    "                    if movie_name in frequency_of_unique_words_of_label[word][1]:\n",
    "                        frequency_of_unique_words_of_label[word][1][movie_name] +=1\n",
    "                    # if not, initialize it to 1\n",
    "                    else:\n",
    "                        frequency_of_unique_words_of_label[word][1][movie_name] = 1\n",
    "                # add the word to dict if it doesn't exist\n",
    "                else:\n",
    "                    frequency_of_unique_words_of_label[word] = [1, {movie_name:1}]"
   ]
  },
  {
   "cell_type": "code",
   "execution_count": 21,
   "metadata": {},
   "outputs": [],
   "source": [
    "get_frequency_of_uinque_words_in_labeled_documents(\"0_label\", unique_words_in_0_label, frequency_of_unique_words_in_0_label)\n",
    "get_frequency_of_uinque_words_in_labeled_documents(\"1_label\", unique_words_in_1_label, frequency_of_unique_words_in_1_label)"
   ]
  },
  {
   "cell_type": "heading",
   "metadata": {},
   "level": 2,
   "source": [
    "pickle out frequency_of_unique_words_in_0_label,frequency_of_unique_words_in_1_label"
   ]
  },
  {
   "cell_type": "code",
   "execution_count": null,
   "metadata": {},
   "outputs": [],
   "source": [
    "out_pickle('C:/Users/Abdo/Project/pickle_files/', 'frequency_of_unique_words_in_0_label', frequency_of_unique_words_in_0_label)\n",
    "out_pickle('C:/Users/Abdo/Project/pickle_files/', 'frequency_of_unique_words_in_1_label', frequency_of_unique_words_in_1_label)"
   ]
  },
  {
   "cell_type": "heading",
   "metadata": {},
   "level": 2,
   "source": [
    "read in the frequency_of_unique_words_in_0_label, frequency_of_unique_words_in_1_label"
   ]
  },
  {
   "cell_type": "code",
   "execution_count": 74,
   "metadata": {},
   "outputs": [],
   "source": [
    "frequency_of_unique_words_in_0_label = in_pickle('C:/Users/Abdo/Project/pickle_files/', 'frequency_of_unique_words_in_0_label')\n",
    "frequency_of_unique_words_in_1_label = in_pickle('C:/Users/Abdo/Project/pickle_files/', 'frequency_of_unique_words_in_1_label')"
   ]
  },
  {
   "cell_type": "heading",
   "metadata": {},
   "level": 2,
   "source": [
    "turn the dictionary into list to be able to sort them"
   ]
  },
  {
   "cell_type": "code",
   "execution_count": 25,
   "metadata": {},
   "outputs": [],
   "source": [
    "# [(frequency, word), ....]\n",
    "list_of_uinque_0_label_words_and_frequencies = []\n",
    "list_of_uinque_1_label_words_and_frequencies = []"
   ]
  },
  {
   "cell_type": "code",
   "execution_count": 26,
   "metadata": {},
   "outputs": [],
   "source": [
    "for word in frequency_of_unique_words_in_0_label:\n",
    "    list_of_uinque_0_label_words_and_frequencies.append( (frequency_of_unique_words_in_0_label[word][0], word) )\n",
    "    \n",
    "for word in frequency_of_unique_words_in_1_label:\n",
    "    list_of_uinque_1_label_words_and_frequencies.append( (frequency_of_unique_words_in_1_label[word][0], word) )"
   ]
  },
  {
   "cell_type": "code",
   "execution_count": 27,
   "metadata": {},
   "outputs": [],
   "source": [
    "list_of_uinque_0_label_words_and_frequencies.sort()\n",
    "list_of_uinque_1_label_words_and_frequencies.sort()"
   ]
  },
  {
   "cell_type": "heading",
   "metadata": {},
   "level": 2,
   "source": [
    "pickle out the list_of_uinque_0_label_words_and_frequencies, list_of_uinque_1_label_words_and_frequencies"
   ]
  },
  {
   "cell_type": "code",
   "execution_count": 81,
   "metadata": {},
   "outputs": [],
   "source": [
    "out_pickle('C:/Users/Abdo/Project/pickle_files/', 'list_of_uinque_0_label_words_and_frequencies', list_of_uinque_0_label_words_and_frequencies)\n",
    "out_pickle('C:/Users/Abdo/Project/pickle_files/', 'list_of_uinque_1_label_words_and_frequencies', list_of_uinque_1_label_words_and_frequencies)"
   ]
  },
  {
   "cell_type": "heading",
   "metadata": {},
   "level": 2,
   "source": [
    "read in the list_of_uinque_0_label_words_and_frequencies, list_of_uinque_1_label_words_and_frequencies"
   ]
  },
  {
   "cell_type": "code",
   "execution_count": null,
   "metadata": {},
   "outputs": [],
   "source": [
    "list_of_uinque_0_label_words_and_frequencies = in_pickle('C:/Users/Abdo/Project/pickle_files/', 'list_of_uinque_0_label_words_and_frequencies')\n",
    "list_of_uinque_1_label_words_and_frequencies = in_pickle('C:/Users/Abdo/Project/pickle_files/', 'list_of_uinque_1_label_words_and_frequencies')"
   ]
  },
  {
   "cell_type": "code",
   "execution_count": 28,
   "metadata": {},
   "outputs": [],
   "source": [
    "# the percentage of bad words in every 0_labeled movie\n",
    "# key : movie_id\n",
    "# value : percentage_of_bad_words\n",
    "percentage_of_bad_words_in_0_labeld_movies = {}"
   ]
  },
  {
   "cell_type": "code",
   "execution_count": 29,
   "metadata": {},
   "outputs": [],
   "source": [
    "# find the number of bad words in each 0_label movie\n",
    "for movie_name in data_dictionary[\"0_label\"]:\n",
    "    movie_words_count = len(data_dictionary[\"0_label\"][movie_name])\n",
    "    number_of_bad_words = 0\n",
    "    for bad_word in inappropriate_words_in_0_label_movies:\n",
    "        # if the movie has this bad word\n",
    "        if movie_name in inappropriate_words_in_0_label_movies[bad_word][1]:\n",
    "            # increase the movie total number of bad words by how many time this bad word occurred in this movie\n",
    "            number_of_bad_words += inappropriate_words_in_0_label_movies[bad_word][1][movie_name]\n",
    "    percentage_of_bad_words_in_0_labeld_movies[movie_name] = number_of_bad_words/movie_words_count"
   ]
  },
  {
   "cell_type": "heading",
   "metadata": {},
   "level": 2,
   "source": [
    "pickle out the percentage_of_bad_words_in_0_labeld_movies"
   ]
  },
  {
   "cell_type": "code",
   "execution_count": 99,
   "metadata": {},
   "outputs": [],
   "source": [
    "out_pickle('C:/Users/Abdo/Project/pickle_files/', 'percentage_of_bad_words_in_0_labeld_movies', percentage_of_bad_words_in_0_labeld_movies)"
   ]
  },
  {
   "cell_type": "code",
   "execution_count": 26,
   "metadata": {},
   "outputs": [],
   "source": [
    "percentage_of_bad_words_in_0_labeld_movies = in_pickle('C:/Users/Abdo/Project/pickle_files/', 'percentage_of_bad_words_in_0_labeld_movies')"
   ]
  },
  {
   "cell_type": "code",
   "execution_count": 30,
   "metadata": {},
   "outputs": [],
   "source": [
    "# turn the dictionary into list to sort it\n",
    "# [ (percentage_of_bad_words_in_movie, movie_name) ]\n",
    "percentage_of_bad_words_in_0_labeld_movies_list = []\n",
    "for movie_name in percentage_of_bad_words_in_0_labeld_movies:\n",
    "    percentage_of_bad_words_in_0_labeld_movies_list.append\\\n",
    "        ( (percentage_of_bad_words_in_0_labeld_movies[movie_name], movie_name) )"
   ]
  },
  {
   "cell_type": "code",
   "execution_count": 31,
   "metadata": {},
   "outputs": [],
   "source": [
    "percentage_of_bad_words_in_0_labeld_movies_list.sort()"
   ]
  },
  {
   "cell_type": "code",
   "execution_count": 34,
   "metadata": {},
   "outputs": [],
   "source": [
    "non_english_words = all_text_words.difference(vocabulary)"
   ]
  },
  {
   "cell_type": "code",
   "execution_count": 35,
   "metadata": {},
   "outputs": [],
   "source": [
    "# key : label\n",
    "# value : {movie_id : percentage_of_non_english_words, ..} \n",
    "percentage_of_non_english_words_in_movies = {\"0_label\":{}, \"1_label\":{}}"
   ]
  },
  {
   "cell_type": "code",
   "execution_count": 36,
   "metadata": {},
   "outputs": [],
   "source": [
    "#initlize all keys' values to zero\n",
    "for movie_name in data_dictionary[\"0_label\"]:\n",
    "    percentage_of_non_english_words_in_movies[\"0_label\"][movie_name] = 0\n",
    "\n",
    "for movie_name in data_dictionary[\"1_label\"]:\n",
    "    percentage_of_non_english_words_in_movies[\"1_label\"][movie_name] = 0"
   ]
  },
  {
   "cell_type": "code",
   "execution_count": 39,
   "metadata": {},
   "outputs": [],
   "source": [
    "# takes the label as input\n",
    "# fills dict_of_label_words with movie_id : percentage_of_non_english_words in it\n",
    "def count_non_english_words_in_label(label, dict_of_label_words):\n",
    "    # for every word in the label's dictionary\n",
    "    for word in dict_of_label_words:\n",
    "        if word in non_english_words:\n",
    "            # for each movie in this label that has this word\n",
    "            for movie_name in (dict_of_label_words[word][1]).keys():\n",
    "                percentage_of_non_english_words_in_movies[label][movie_name] += dict_of_label_words[word][1][movie_name]\n",
    "    \n",
    "    #divide the count of non-english words on the total number of words in the movie\n",
    "    for movie_name in data_dictionary[label]:\n",
    "        percentage_of_non_english_words_in_movies[label][movie_name] /= (len(data_dictionary[label][movie_name]))"
   ]
  },
  {
   "cell_type": "code",
   "execution_count": 40,
   "metadata": {},
   "outputs": [],
   "source": [
    "count_non_english_words_in_label(\"0_label\", dict_of_0_label_words)\n",
    "count_non_english_words_in_label(\"1_label\", dict_of_1_label_words)"
   ]
  },
  {
   "cell_type": "code",
   "execution_count": 41,
   "metadata": {},
   "outputs": [],
   "source": [
    "# [ (percentage_of_non_english_words, label, movie_name), ......]\n",
    "percentage_of_non_english_words_list = []"
   ]
  },
  {
   "cell_type": "code",
   "execution_count": 42,
   "metadata": {},
   "outputs": [],
   "source": [
    "# turn the percentage_of_non_english_words_in_movies dictionary to a list to be able to sort it\n",
    "for label in percentage_of_non_english_words_in_movies.keys():\n",
    "    for movie_name in percentage_of_non_english_words_in_movies[label]:\n",
    "        percentage_of_non_english_words_list.append( \n",
    "            (percentage_of_non_english_words_in_movies[label][movie_name],\n",
    "            label, movie_name)\n",
    "        )"
   ]
  },
  {
   "cell_type": "code",
   "execution_count": 92,
   "metadata": {},
   "outputs": [],
   "source": [
    "percentage_of_non_english_words_list.sort()"
   ]
  },
  {
   "cell_type": "heading",
   "metadata": {},
   "level": 2,
   "source": [
    "pickle out the percentage_of_non_english_words_list"
   ]
  },
  {
   "cell_type": "code",
   "execution_count": 93,
   "metadata": {},
   "outputs": [],
   "source": [
    "out_pickle('C:/Users/Abdo/Project/pickle_files/', 'percentage_of_non_english_words_list', percentage_of_non_english_words_list)"
   ]
  },
  {
   "cell_type": "heading",
   "metadata": {},
   "level": 2,
   "source": [
    "read in the percentage_of_non_english_words_list pickle"
   ]
  },
  {
   "cell_type": "code",
   "execution_count": null,
   "metadata": {},
   "outputs": [],
   "source": [
    "percentage_of_non_english_words_list = in_pickle('C:/Users/Abdo/Project/pickle_files/', 'percentage_of_non_english_words_list')"
   ]
  },
  {
   "cell_type": "heading",
   "metadata": {},
   "level": 2,
   "source": [
    "plots"
   ]
  },
  {
   "cell_type": "heading",
   "metadata": {},
   "level": 2,
   "source": [
    "pie chart"
   ]
  },
  {
   "cell_type": "heading",
   "metadata": {},
   "level": 2,
   "source": [
    "most_frequent_15_words_in_1_label_after_removing_common_words"
   ]
  },
  {
   "cell_type": "code",
   "execution_count": 115,
   "metadata": {
    "collapsed": true
   },
   "outputs": [
    {
     "data": {
      "image/png": "[encoded data removed]",
      "text/plain": [
       "<Figure size 720x720 with 1 Axes>"
      ]
     },
     "metadata": {},
     "output_type": "display_data"
    }
   ],
   "source": [
    "slice_values_of_chart, slice_names_of_chart= get_highest_or_lowest_n_value_from_list(list_of_uinque_1_label_words_and_frequencies, 15, True)\n",
    "plot_bar_char_and_save_it(slice_values_of_chart,\n",
    "                          slice_names_of_chart,\n",
    "                           \"C:/Users/Abdo/Project/figures/most_frequent_15_words_in_1_label_after_removing_common_words.png\"\n",
    "                          ,\"most_frequent_15_words_in_1_label_after_removing_common_words\",\n",
    "                          \"word\", \"frequency_of_word\")"
   ]
  },
  {
   "cell_type": "heading",
   "metadata": {},
   "level": 2,
   "source": [
    "most_frequent_15_words_in_0_label_after_removing_common_words"
   ]
  },
  {
   "cell_type": "code",
   "execution_count": 116,
   "metadata": {
    "collapsed": true
   },
   "outputs": [
    {
     "data": {
      "image/png": "[encoded data removed]",
      "text/plain": [
       "<Figure size 720x720 with 1 Axes>"
      ]
     },
     "metadata": {},
     "output_type": "display_data"
    }
   ],
   "source": [
    "slice_values_of_chart, slice_names_of_chart= get_highest_or_lowest_n_value_from_list(list_of_uinque_0_label_words_and_frequencies, 15, True)\n",
    "plot_bar_char_and_save_it(slice_values_of_chart,\n",
    "                          slice_names_of_chart,\n",
    "                           \"C:/Users/Abdo/Project/figures/most_frequent_15_words_in_0_label_after_removing_common_words.png\"\n",
    "                          ,\"most_frequent_15_words_in_0_label_after_removing_common_words\",\n",
    "                          \"word\", \"frequency_of_word\")"
   ]
  },
  {
   "cell_type": "heading",
   "metadata": {},
   "level": 2,
   "source": [
    "least_frequent_15_words_in_0_label_after_removing_common_words"
   ]
  },
  {
   "cell_type": "code",
   "execution_count": 117,
   "metadata": {
    "collapsed": true
   },
   "outputs": [
    {
     "data": {
      "image/png": "[encoded data removed]",
      "text/plain": [
       "<Figure size 720x720 with 1 Axes>"
      ]
     },
     "metadata": {},
     "output_type": "display_data"
    }
   ],
   "source": [
    "slice_values_of_chart, slice_names_of_chart= get_highest_or_lowest_n_value_from_list(list_of_uinque_0_label_words_and_frequencies, 15, False)\n",
    "plot_bar_char_and_save_it(slice_values_of_chart,\n",
    "                          slice_names_of_chart,\n",
    "                           \"C:/Users/Abdo/Project/figures/least_frequent_15_words_in_0_label_after_removing_common_words.png\"\n",
    "                          ,\"least_frequent_15_words_in_0_label_after_removing_common_words\",\n",
    "                          \"word\", \"frequency_of_word\")"
   ]
  },
  {
   "cell_type": "heading",
   "metadata": {},
   "level": 2,
   "source": [
    "least_frequent_15_words_in_1_label_after_removing_common_words"
   ]
  },
  {
   "cell_type": "code",
   "execution_count": 118,
   "metadata": {
    "collapsed": true
   },
   "outputs": [
    {
     "data": {
      "image/png": "[encoded data removed]",
      "text/plain": [
       "<Figure size 720x720 with 1 Axes>"
      ]
     },
     "metadata": {},
     "output_type": "display_data"
    }
   ],
   "source": [
    "slice_values_of_chart, slice_names_of_chart= get_highest_or_lowest_n_value_from_list(list_of_uinque_1_label_words_and_frequencies, 15, False)\n",
    "plot_bar_char_and_save_it(slice_values_of_chart,\n",
    "                          slice_names_of_chart,\n",
    "                           \"C:/Users/Abdo/Project/figures/least_frequent_15_words_in_1_label_after_removing_common_words.png\"\n",
    "                          ,\"least_frequent_15_words_in_1_label_after_removing_common_words\",\n",
    "                          \"word\", \"frequency_of_word\")"
   ]
  },
  {
   "cell_type": "heading",
   "metadata": {},
   "level": 2,
   "source": [
    "highest_15_movies_with_bad_words"
   ]
  },
  {
   "cell_type": "code",
   "execution_count": 119,
   "metadata": {
    "collapsed": true
   },
   "outputs": [
    {
     "data": {
      "image/png": "[encoded data removed]",
      "text/plain": [
       "<Figure size 720x720 with 1 Axes>"
      ]
     },
     "metadata": {},
     "output_type": "display_data"
    }
   ],
   "source": [
    "slice_values_of_chart, slice_names_of_chart= get_highest_or_lowest_n_value_from_list(percentage_of_bad_words_in_0_labeld_movies_list, 15, True)\n",
    "plot_bar_char_and_save_it(slice_values_of_chart,\n",
    "                          slice_names_of_chart,\n",
    "                           \"C:/Users/Abdo/Project/figures/highest_15_movies_with_bad_words.png\"\n",
    "                          ,\"highest_15_movies_with_bad_words\",\n",
    "                          \"movie_id\", \"percentage_of_bad_words\")"
   ]
  },
  {
   "cell_type": "code",
   "execution_count": 120,
   "metadata": {
    "collapsed": true
   },
   "outputs": [
    {
     "data": {
      "image/png": "[encoded data removed]",
      "text/plain": [
       "<Figure size 720x720 with 1 Axes>"
      ]
     },
     "metadata": {},
     "output_type": "display_data"
    }
   ],
   "source": [
    "# here we create a modified list to fit the sturcture of the get_highest_or_lowest_n_value_from_list function\n",
    "# turn this [(percentage_of_non_english_words, label, movie_name), ......] into -> [ (percentage_of_non_english_words, label + movie_name ),...]\n",
    "modified_list = []\n",
    "for x in percentage_of_non_english_words_list[-15:]:\n",
    "    modified_list.append( (x[0], x[1]+\" \"+x[2]) )\n",
    "\n",
    "slice_values_of_chart, slice_names_of_chart= get_highest_or_lowest_n_value_from_list(modified_list, 15, True)\n",
    "plot_bar_char_and_save_it(slice_values_of_chart,\n",
    "                          slice_names_of_chart,\n",
    "                           \"C:/Users/Abdo/Project/figures/highest_15_movies_with_non_english_words.png\"\n",
    "                          ,\"highest_15_movies_with_non_english_words\",\n",
    "                          \"movie_id\", \"percentage_of_non_english_words\")"
   ]
  },
  {
   "cell_type": "code",
   "execution_count": null,
   "metadata": {},
   "outputs": [],
   "source": []
  }
 ],
 "metadata": {
  "kernelspec": {
   "display_name": "Python 3",
   "language": "python",
   "name": "python3"
  },
  "language_info": {
   "codemirror_mode": {
    "name": "ipython",
    "version": 3
   },
   "file_extension": ".py",
   "mimetype": "text/x-python",
   "name": "python",
   "nbconvert_exporter": "python",
   "pygments_lexer": "ipython3",
   "version": "3.6.5"
  }
 },
 "nbformat": 4,
 "nbformat_minor": 2
}
